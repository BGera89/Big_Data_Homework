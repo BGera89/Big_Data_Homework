{
 "cells": [
  {
   "cell_type": "code",
   "execution_count": 1,
   "metadata": {},
   "outputs": [],
   "source": [
    "import pandas as pd\n",
    "import numpy as np\n",
    "from zipfile import ZipFile"
   ]
  },
  {
   "cell_type": "code",
   "execution_count": 2,
   "metadata": {},
   "outputs": [],
   "source": [
    "data = 'gtfs.zip'"
   ]
  },
  {
   "cell_type": "code",
   "execution_count": 3,
   "metadata": {},
   "outputs": [
    {
     "name": "stdout",
     "output_type": "stream",
     "text": [
      "File Name                                             Modified             Size\n",
      "feed_info.txt                                  2022-11-06 19:19:00          233\n",
      "agency.txt                                     2022-11-06 19:19:00          206\n",
      "shapes.txt                                     2022-11-06 19:19:00     23341860\n",
      "routes.txt                                     2022-11-06 19:19:02        30197\n",
      "stops.txt                                      2022-11-06 19:19:02       343892\n",
      "trips.txt                                      2022-11-06 19:19:04     26665037\n",
      "stop_times.txt                                 2022-11-06 19:19:10    397922429\n",
      "calendar_dates.txt                             2022-11-06 19:19:32       397191\n",
      "pathways.txt                                   2022-11-06 19:19:32        12541\n",
      "Extracting all the files now...\n",
      "Done!\n"
     ]
    }
   ],
   "source": [
    "# opening the zip file in READ mode\n",
    "with ZipFile(data, 'r') as zip:\n",
    "    # printing all the contents of the zip file\n",
    "    zip.printdir()\n",
    "  \n",
    "    # extracting all the files\n",
    "    print('Extracting all the files now...')\n",
    "    zip.extractall()\n",
    "    print('Done!')"
   ]
  },
  {
   "cell_type": "code",
   "execution_count": 4,
   "metadata": {},
   "outputs": [],
   "source": [
    "feed_info='feed_info.txt'\n",
    "agency = 'agency.txt'\n",
    "shapes = 'shapes.txt'\n",
    "routes = 'routes.txt'\n",
    "stops = 'stops.txt'\n",
    "trips = 'trips.txt'\n",
    "stop_times = 'stop_times.txt'\n",
    "calendar_dates = 'calendar_dates.txt'\n",
    "pathways = 'pathways.txt'"
   ]
  },
  {
   "cell_type": "code",
   "execution_count": null,
   "metadata": {},
   "outputs": [],
   "source": []
  }
 ],
 "metadata": {
  "kernelspec": {
   "display_name": "Python 3.8.8 ('base')",
   "language": "python",
   "name": "python3"
  },
  "language_info": {
   "codemirror_mode": {
    "name": "ipython",
    "version": 3
   },
   "file_extension": ".py",
   "mimetype": "text/x-python",
   "name": "python",
   "nbconvert_exporter": "python",
   "pygments_lexer": "ipython3",
   "version": "3.8.8"
  },
  "orig_nbformat": 4,
  "vscode": {
   "interpreter": {
    "hash": "9d9be76ec7d086f6bda9dc089f92a760bd9fb437db38ffec338b3072b25c5712"
   }
  }
 },
 "nbformat": 4,
 "nbformat_minor": 2
}
