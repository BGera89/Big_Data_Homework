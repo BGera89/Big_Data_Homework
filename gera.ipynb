{
 "cells": [
  {
   "cell_type": "code",
   "execution_count": 1,
   "metadata": {},
   "outputs": [
    {
     "name": "stdout",
     "output_type": "stream",
     "text": [
      "Collecting gtfs-kit\n",
      "  Downloading gtfs_kit-5.2.3-py3-none-any.whl (63 kB)\n",
      "Requirement already satisfied: requests>=2 in c:\\users\\user\\anaconda3\\envs\\normal\\lib\\site-packages (from gtfs-kit) (2.27.1)\n",
      "Collecting json2html>=1\n",
      "  Downloading json2html-1.3.0.tar.gz (7.0 kB)\n",
      "  Preparing metadata (setup.py): started\n",
      "  Preparing metadata (setup.py): finished with status 'done'\n",
      "Collecting pycountry>=19\n",
      "  Downloading pycountry-22.3.5.tar.gz (10.1 MB)\n",
      "  Installing build dependencies: started\n",
      "  Installing build dependencies: finished with status 'done'\n",
      "  Getting requirements to build wheel: started"
     ]
    },
    {
     "name": "stderr",
     "output_type": "stream",
     "text": [
      "WARNING: You are using pip version 21.3.1; however, version 22.3.1 is available.\n",
      "You should consider upgrading via the 'C:\\Users\\User\\anaconda3\\envs\\normal\\python.exe -m pip install --upgrade pip' command.\n"
     ]
    },
    {
     "name": "stdout",
     "output_type": "stream",
     "text": [
      "\n",
      "  Getting requirements to build wheel: finished with status 'done'\n",
      "  Preparing metadata (pyproject.toml): started\n",
      "  Preparing metadata (pyproject.toml): finished with status 'done'\n",
      "Requirement already satisfied: pandas>=1 in c:\\users\\user\\anaconda3\\envs\\normal\\lib\\site-packages (from gtfs-kit) (1.3.4)\n",
      "Collecting rtree>=0\n",
      "  Downloading Rtree-1.0.1-cp39-cp39-win_amd64.whl (433 kB)\n",
      "Collecting utm>=0\n",
      "  Downloading utm-0.7.0.tar.gz (8.7 kB)\n",
      "  Preparing metadata (setup.py): started\n",
      "  Preparing metadata (setup.py): finished with status 'done'\n",
      "Collecting shapely>=1\n",
      "  Downloading Shapely-1.8.5.post1-cp39-cp39-win_amd64.whl (1.3 MB)\n",
      "Collecting geopandas>=0\n",
      "  Downloading geopandas-0.12.1-py3-none-any.whl (1.1 MB)\n",
      "Collecting folium>=0\n",
      "  Downloading folium-0.13.0-py2.py3-none-any.whl (96 kB)\n",
      "Requirement already satisfied: jinja2>=2.9 in c:\\users\\user\\anaconda3\\envs\\normal\\lib\\site-packages (from folium>=0->gtfs-kit) (3.0.1)\n",
      "Collecting branca>=0.3.0\n",
      "  Downloading branca-0.6.0-py3-none-any.whl (24 kB)\n",
      "Requirement already satisfied: numpy in c:\\users\\user\\anaconda3\\envs\\normal\\lib\\site-packages (from folium>=0->gtfs-kit) (1.21.3)\n",
      "Collecting fiona>=1.8\n",
      "  Downloading Fiona-1.8.22-cp39-cp39-win_amd64.whl (21.7 MB)\n",
      "Requirement already satisfied: packaging in c:\\users\\user\\anaconda3\\envs\\normal\\lib\\site-packages (from geopandas>=0->gtfs-kit) (21.3)\n",
      "Collecting pyproj>=2.6.1.post1\n",
      "  Downloading pyproj-3.4.0-cp39-cp39-win_amd64.whl (4.8 MB)\n",
      "Requirement already satisfied: pytz>=2017.3 in c:\\users\\user\\anaconda3\\envs\\normal\\lib\\site-packages (from pandas>=1->gtfs-kit) (2021.3)\n",
      "Requirement already satisfied: python-dateutil>=2.7.3 in c:\\users\\user\\anaconda3\\envs\\normal\\lib\\site-packages (from pandas>=1->gtfs-kit) (2.8.2)\n",
      "Requirement already satisfied: setuptools in c:\\users\\user\\anaconda3\\envs\\normal\\lib\\site-packages (from pycountry>=19->gtfs-kit) (60.5.0)\n",
      "Requirement already satisfied: idna<4,>=2.5 in c:\\users\\user\\anaconda3\\envs\\normal\\lib\\site-packages (from requests>=2->gtfs-kit) (3.3)\n",
      "Requirement already satisfied: urllib3<1.27,>=1.21.1 in c:\\users\\user\\anaconda3\\envs\\normal\\lib\\site-packages (from requests>=2->gtfs-kit) (1.26.8)\n",
      "Requirement already satisfied: certifi>=2017.4.17 in c:\\users\\user\\anaconda3\\envs\\normal\\lib\\site-packages (from requests>=2->gtfs-kit) (2021.10.8)\n",
      "Requirement already satisfied: charset-normalizer~=2.0.0 in c:\\users\\user\\anaconda3\\envs\\normal\\lib\\site-packages (from requests>=2->gtfs-kit) (2.0.10)\n",
      "Collecting cligj>=0.5\n",
      "  Downloading cligj-0.7.2-py3-none-any.whl (7.1 kB)\n",
      "Collecting click>=4.0\n",
      "  Downloading click-8.1.3-py3-none-any.whl (96 kB)\n",
      "Requirement already satisfied: six>=1.7 in c:\\users\\user\\anaconda3\\envs\\normal\\lib\\site-packages (from fiona>=1.8->geopandas>=0->gtfs-kit) (1.16.0)\n",
      "Collecting click-plugins>=1.0\n",
      "  Downloading click_plugins-1.1.1-py2.py3-none-any.whl (7.5 kB)\n",
      "Requirement already satisfied: attrs>=17 in c:\\users\\user\\anaconda3\\envs\\normal\\lib\\site-packages (from fiona>=1.8->geopandas>=0->gtfs-kit) (21.2.0)\n",
      "Collecting munch\n",
      "  Downloading munch-2.5.0-py2.py3-none-any.whl (10 kB)\n",
      "Requirement already satisfied: MarkupSafe>=2.0 in c:\\users\\user\\anaconda3\\envs\\normal\\lib\\site-packages (from jinja2>=2.9->folium>=0->gtfs-kit) (2.0.1)\n",
      "Requirement already satisfied: pyparsing!=3.0.5,>=2.0.2 in c:\\users\\user\\anaconda3\\envs\\normal\\lib\\site-packages (from packaging->geopandas>=0->gtfs-kit) (2.4.7)\n",
      "Requirement already satisfied: colorama in c:\\users\\user\\anaconda3\\envs\\normal\\lib\\site-packages (from click>=4.0->fiona>=1.8->geopandas>=0->gtfs-kit) (0.4.4)\n",
      "Building wheels for collected packages: json2html, pycountry, utm\n",
      "  Building wheel for json2html (setup.py): started\n",
      "  Building wheel for json2html (setup.py): finished with status 'done'\n",
      "  Created wheel for json2html: filename=json2html-1.3.0-py3-none-any.whl size=7609 sha256=1cce03e9afdcea9aa6477566a299ef3f5004006b9943d912c757d1a392405cab\n",
      "  Stored in directory: c:\\users\\user\\appdata\\local\\pip\\cache\\wheels\\b9\\56\\a2\\f610a5e8a635d74d27c9971d6099b2521d2155169ff2d99b89\n",
      "  Building wheel for pycountry (pyproject.toml): started\n",
      "  Building wheel for pycountry (pyproject.toml): finished with status 'done'\n",
      "  Created wheel for pycountry: filename=pycountry-22.3.5-py2.py3-none-any.whl size=10681896 sha256=7f10be7ad398ff634a6030ed6f80815d5f92eeca807f13fea7d4858ced83ef00\n",
      "  Stored in directory: c:\\users\\user\\appdata\\local\\pip\\cache\\wheels\\47\\15\\92\\e6dc85fcb0686c82e1edbcfdf80cfe4808c058813fed0baa8f\n",
      "  Building wheel for utm (setup.py): started\n",
      "  Building wheel for utm (setup.py): finished with status 'done'\n",
      "  Created wheel for utm: filename=utm-0.7.0-py3-none-any.whl size=6109 sha256=f8e1caa9ecef1c2978cab5848471fb0ee2b23b39775c97ecee8d8a60b13768b2"
     ]
    },
    {
     "name": "stdout",
     "output_type": "stream",
     "text": [
      "\n",
      "  Stored in directory: c:\\users\\user\\appdata\\local\\pip\\cache\\wheels\\75\\f0\\dd\\39dfc9436520412399934d4a8566fe5c0cb8cc2568a1196057\n",
      "Successfully built json2html pycountry utm\n",
      "Installing collected packages: click, munch, cligj, click-plugins, shapely, pyproj, fiona, branca, utm, rtree, pycountry, json2html, geopandas, folium, gtfs-kit\n",
      "Successfully installed branca-0.6.0 click-8.1.3 click-plugins-1.1.1 cligj-0.7.2 fiona-1.8.22 folium-0.13.0 geopandas-0.12.1 gtfs-kit-5.2.3 json2html-1.3.0 munch-2.5.0 pycountry-22.3.5 pyproj-3.4.0 rtree-1.0.1 shapely-1.8.5.post1 utm-0.7.0\n"
     ]
    }
   ],
   "source": [
    "!pip install gtfs-kit"
   ]
  },
  {
   "cell_type": "code",
   "execution_count": 9,
   "metadata": {},
   "outputs": [
    {
     "name": "stdout",
     "output_type": "stream",
     "text": [
      "Collecting gtfs_functions\n",
      "  Downloading gtfs_functions-1.0.1-py3-none-any.whl (187 kB)\n",
      "Installing collected packages: gtfs-functions\n",
      "Successfully installed gtfs-functions-1.0.1\n"
     ]
    },
    {
     "name": "stderr",
     "output_type": "stream",
     "text": [
      "WARNING: You are using pip version 21.3.1; however, version 22.3.1 is available.\n",
      "You should consider upgrading via the 'C:\\Users\\User\\anaconda3\\envs\\normal\\python.exe -m pip install --upgrade pip' command.\n"
     ]
    }
   ],
   "source": [
    "!pip install gtfs_functions "
   ]
  },
  {
   "cell_type": "code",
   "execution_count": 14,
   "metadata": {},
   "outputs": [
    {
     "name": "stdout",
     "output_type": "stream",
     "text": [
      "Collecting keplergl\n",
      "  Downloading keplergl-0.3.2.tar.gz (9.7 MB)\n",
      "  Installing build dependencies: started\n",
      "  Installing build dependencies: still running...\n",
      "  Installing build dependencies: finished with status 'done'\n",
      "  Getting requirements to build wheel: started\n",
      "  Getting requirements to build wheel: finished with status 'done'\n",
      "  Preparing metadata (pyproject.toml): started\n",
      "  Preparing metadata (pyproject.toml): finished with status 'done'\n",
      "Requirement already satisfied: Shapely>=1.6.4.post2 in c:\\users\\user\\anaconda3\\envs\\normal\\lib\\site-packages (from keplergl) (1.8.5.post1)\n",
      "Requirement already satisfied: geopandas>=0.5.0 in c:\\users\\user\\anaconda3\\envs\\normal\\lib\\site-packages (from keplergl) (0.12.1)\n",
      "Requirement already satisfied: pandas>=0.23.0 in c:\\users\\user\\anaconda3\\envs\\normal\\lib\\site-packages (from keplergl) (1.3.4)\n",
      "Collecting traittypes>=0.2.1\n",
      "  Downloading traittypes-0.2.1-py2.py3-none-any.whl (8.6 kB)\n",
      "Requirement already satisfied: ipywidgets<8,>=7.0.0 in c:\\users\\user\\anaconda3\\envs\\normal\\lib\\site-packages (from keplergl) (7.6.5)\n",
      "Requirement already satisfied: packaging in c:\\users\\user\\anaconda3\\envs\\normal\\lib\\site-packages (from geopandas>=0.5.0->keplergl) (21.3)\n",
      "Requirement already satisfied: pyproj>=2.6.1.post1 in c:\\users\\user\\anaconda3\\envs\\normal\\lib\\site-packages (from geopandas>=0.5.0->keplergl) (3.4.0)\n",
      "Requirement already satisfied: fiona>=1.8 in c:\\users\\user\\anaconda3\\envs\\normal\\lib\\site-packages (from geopandas>=0.5.0->keplergl) (1.8.22)\n",
      "Requirement already satisfied: ipython-genutils~=0.2.0 in c:\\users\\user\\anaconda3\\envs\\normal\\lib\\site-packages (from ipywidgets<8,>=7.0.0->keplergl) (0.2.0)\n",
      "Requirement already satisfied: nbformat>=4.2.0 in c:\\users\\user\\anaconda3\\envs\\normal\\lib\\site-packages (from ipywidgets<8,>=7.0.0->keplergl) (5.1.3)\n",
      "Requirement already satisfied: ipython>=4.0.0 in c:\\users\\user\\anaconda3\\envs\\normal\\lib\\site-packages (from ipywidgets<8,>=7.0.0->keplergl) (7.27.0)\n",
      "Requirement already satisfied: jupyterlab-widgets>=1.0.0 in c:\\users\\user\\anaconda3\\envs\\normal\\lib\\site-packages (from ipywidgets<8,>=7.0.0->keplergl) (1.0.0)\n",
      "Requirement already satisfied: traitlets>=4.3.1 in c:\\users\\user\\anaconda3\\envs\\normal\\lib\\site-packages (from ipywidgets<8,>=7.0.0->keplergl) (5.1.0)\n",
      "Requirement already satisfied: ipykernel>=4.5.1 in c:\\users\\user\\anaconda3\\envs\\normal\\lib\\site-packages (from ipywidgets<8,>=7.0.0->keplergl) (6.4.1)\n",
      "Requirement already satisfied: widgetsnbextension~=3.5.0 in c:\\users\\user\\anaconda3\\envs\\normal\\lib\\site-packages (from ipywidgets<8,>=7.0.0->keplergl) (3.5.1)\n",
      "Requirement already satisfied: python-dateutil>=2.7.3 in c:\\users\\user\\anaconda3\\envs\\normal\\lib\\site-packages (from pandas>=0.23.0->keplergl) (2.8.2)\n",
      "Requirement already satisfied: numpy>=1.17.3 in c:\\users\\user\\anaconda3\\envs\\normal\\lib\\site-packages (from pandas>=0.23.0->keplergl) (1.21.3)\n",
      "Requirement already satisfied: pytz>=2017.3 in c:\\users\\user\\anaconda3\\envs\\normal\\lib\\site-packages (from pandas>=0.23.0->keplergl) (2021.3)\n",
      "Requirement already satisfied: certifi in c:\\users\\user\\anaconda3\\envs\\normal\\lib\\site-packages (from fiona>=1.8->geopandas>=0.5.0->keplergl) (2021.10.8)\n",
      "Requirement already satisfied: click-plugins>=1.0 in c:\\users\\user\\anaconda3\\envs\\normal\\lib\\site-packages (from fiona>=1.8->geopandas>=0.5.0->keplergl) (1.1.1)\n",
      "Requirement already satisfied: click>=4.0 in c:\\users\\user\\anaconda3\\envs\\normal\\lib\\site-packages (from fiona>=1.8->geopandas>=0.5.0->keplergl) (8.1.3)\n",
      "Requirement already satisfied: attrs>=17 in c:\\users\\user\\anaconda3\\envs\\normal\\lib\\site-packages (from fiona>=1.8->geopandas>=0.5.0->keplergl) (21.2.0)\n",
      "Requirement already satisfied: cligj>=0.5 in c:\\users\\user\\anaconda3\\envs\\normal\\lib\\site-packages (from fiona>=1.8->geopandas>=0.5.0->keplergl) (0.7.2)\n",
      "Requirement already satisfied: setuptools in c:\\users\\user\\anaconda3\\envs\\normal\\lib\\site-packages (from fiona>=1.8->geopandas>=0.5.0->keplergl) (60.5.0)\n",
      "Requirement already satisfied: munch in c:\\users\\user\\anaconda3\\envs\\normal\\lib\\site-packages (from fiona>=1.8->geopandas>=0.5.0->keplergl) (2.5.0)\n",
      "Requirement already satisfied: six>=1.7 in c:\\users\\user\\anaconda3\\envs\\normal\\lib\\site-packages (from fiona>=1.8->geopandas>=0.5.0->keplergl) (1.16.0)\n",
      "Requirement already satisfied: matplotlib-inline<0.2.0,>=0.1.0 in c:\\users\\user\\anaconda3\\envs\\normal\\lib\\site-packages (from ipykernel>=4.5.1->ipywidgets<8,>=7.0.0->keplergl) (0.1.2)\n",
      "Requirement already satisfied: tornado<7.0,>=4.2 in c:\\users\\user\\anaconda3\\envs\\normal\\lib\\site-packages (from ipykernel>=4.5.1->ipywidgets<8,>=7.0.0->keplergl) (6.1)\n",
      "Requirement already satisfied: debugpy<2.0,>=1.0.0 in c:\\users\\user\\anaconda3\\envs\\normal\\lib\\site-packages (from ipykernel>=4.5.1->ipywidgets<8,>=7.0.0->keplergl) (1.4.1)\n",
      "Requirement already satisfied: jupyter-client<8.0 in c:\\users\\user\\anaconda3\\envs\\normal\\lib\\site-packages (from ipykernel>=4.5.1->ipywidgets<8,>=7.0.0->keplergl) (7.0.1)\n",
      "Requirement already satisfied: prompt-toolkit!=3.0.0,!=3.0.1,<3.1.0,>=2.0.0 in c:\\users\\user\\anaconda3\\envs\\normal\\lib\\site-packages (from ipython>=4.0.0->ipywidgets<8,>=7.0.0->keplergl) (3.0.20)\n",
      "Requirement already satisfied: pygments in c:\\users\\user\\anaconda3\\envs\\normal\\lib\\site-packages (from ipython>=4.0.0->ipywidgets<8,>=7.0.0->keplergl) (2.10.0)\n",
      "Requirement already satisfied: pickleshare in c:\\users\\user\\anaconda3\\envs\\normal\\lib\\site-packages (from ipython>=4.0.0->ipywidgets<8,>=7.0.0->keplergl) (0.7.5)\n",
      "Requirement already satisfied: backcall in c:\\users\\user\\anaconda3\\envs\\normal\\lib\\site-packages (from ipython>=4.0.0->ipywidgets<8,>=7.0.0->keplergl) (0.2.0)\n",
      "Requirement already satisfied: colorama in c:\\users\\user\\anaconda3\\envs\\normal\\lib\\site-packages (from ipython>=4.0.0->ipywidgets<8,>=7.0.0->keplergl) (0.4.4)\n",
      "Requirement already satisfied: decorator in c:\\users\\user\\anaconda3\\envs\\normal\\lib\\site-packages (from ipython>=4.0.0->ipywidgets<8,>=7.0.0->keplergl) (5.1.0)\n",
      "Requirement already satisfied: jedi>=0.16 in c:\\users\\user\\anaconda3\\envs\\normal\\lib\\site-packages (from ipython>=4.0.0->ipywidgets<8,>=7.0.0->keplergl) (0.18.0)\n",
      "Requirement already satisfied: jsonschema!=2.5.0,>=2.4 in c:\\users\\user\\anaconda3\\envs\\normal\\lib\\site-packages (from nbformat>=4.2.0->ipywidgets<8,>=7.0.0->keplergl) (3.2.0)\n",
      "Requirement already satisfied: jupyter-core in c:\\users\\user\\anaconda3\\envs\\normal\\lib\\site-packages (from nbformat>=4.2.0->ipywidgets<8,>=7.0.0->keplergl) (4.8.1)\n",
      "Requirement already satisfied: notebook>=4.4.1 in c:\\users\\user\\anaconda3\\envs\\normal\\lib\\site-packages (from widgetsnbextension~=3.5.0->ipywidgets<8,>=7.0.0->keplergl) (6.4.5)\n",
      "Requirement already satisfied: pyparsing!=3.0.5,>=2.0.2 in c:\\users\\user\\anaconda3\\envs\\normal\\lib\\site-packages (from packaging->geopandas>=0.5.0->keplergl) (2.4.7)\n",
      "Requirement already satisfied: parso<0.9.0,>=0.8.0 in c:\\users\\user\\anaconda3\\envs\\normal\\lib\\site-packages (from jedi>=0.16->ipython>=4.0.0->ipywidgets<8,>=7.0.0->keplergl) (0.8.2)\n",
      "Requirement already satisfied: pyrsistent>=0.14.0 in c:\\users\\user\\anaconda3\\envs\\normal\\lib\\site-packages (from jsonschema!=2.5.0,>=2.4->nbformat>=4.2.0->ipywidgets<8,>=7.0.0->keplergl) (0.18.0)\n",
      "Requirement already satisfied: entrypoints in c:\\users\\user\\anaconda3\\envs\\normal\\lib\\site-packages (from jupyter-client<8.0->ipykernel>=4.5.1->ipywidgets<8,>=7.0.0->keplergl) (0.3)\n",
      "Requirement already satisfied: pyzmq>=13 in c:\\users\\user\\anaconda3\\envs\\normal\\lib\\site-packages (from jupyter-client<8.0->ipykernel>=4.5.1->ipywidgets<8,>=7.0.0->keplergl) (22.2.1)\n",
      "Requirement already satisfied: nest-asyncio>=1.5 in c:\\users\\user\\anaconda3\\envs\\normal\\lib\\site-packages (from jupyter-client<8.0->ipykernel>=4.5.1->ipywidgets<8,>=7.0.0->keplergl) (1.5.1)\n",
      "Requirement already satisfied: pywin32>=1.0 in c:\\users\\user\\anaconda3\\envs\\normal\\lib\\site-packages (from jupyter-core->nbformat>=4.2.0->ipywidgets<8,>=7.0.0->keplergl) (228)\n",
      "Requirement already satisfied: argon2-cffi in c:\\users\\user\\anaconda3\\envs\\normal\\lib\\site-packages (from notebook>=4.4.1->widgetsnbextension~=3.5.0->ipywidgets<8,>=7.0.0->keplergl) (20.1.0)\n",
      "Requirement already satisfied: prometheus-client in c:\\users\\user\\anaconda3\\envs\\normal\\lib\\site-packages (from notebook>=4.4.1->widgetsnbextension~=3.5.0->ipywidgets<8,>=7.0.0->keplergl) (0.11.0)\n",
      "Requirement already satisfied: jinja2 in c:\\users\\user\\anaconda3\\envs\\normal\\lib\\site-packages (from notebook>=4.4.1->widgetsnbextension~=3.5.0->ipywidgets<8,>=7.0.0->keplergl) (3.0.1)\n",
      "Requirement already satisfied: nbconvert in c:\\users\\user\\anaconda3\\envs\\normal\\lib\\site-packages (from notebook>=4.4.1->widgetsnbextension~=3.5.0->ipywidgets<8,>=7.0.0->keplergl) (6.1.0)\n",
      "Requirement already satisfied: terminado>=0.8.3 in c:\\users\\user\\anaconda3\\envs\\normal\\lib\\site-packages (from notebook>=4.4.1->widgetsnbextension~=3.5.0->ipywidgets<8,>=7.0.0->keplergl) (0.9.4)\n",
      "Requirement already satisfied: Send2Trash>=1.5.0 in c:\\users\\user\\anaconda3\\envs\\normal\\lib\\site-packages (from notebook>=4.4.1->widgetsnbextension~=3.5.0->ipywidgets<8,>=7.0.0->keplergl) (1.8.0)\n",
      "Requirement already satisfied: wcwidth in c:\\users\\user\\anaconda3\\envs\\normal\\lib\\site-packages (from prompt-toolkit!=3.0.0,!=3.0.1,<3.1.0,>=2.0.0->ipython>=4.0.0->ipywidgets<8,>=7.0.0->keplergl) (0.2.5)\n",
      "Requirement already satisfied: pywinpty>=0.5 in c:\\users\\user\\anaconda3\\envs\\normal\\lib\\site-packages (from terminado>=0.8.3->notebook>=4.4.1->widgetsnbextension~=3.5.0->ipywidgets<8,>=7.0.0->keplergl) (0.5.7)\n",
      "Requirement already satisfied: cffi>=1.0.0 in c:\\users\\user\\anaconda3\\envs\\normal\\lib\\site-packages (from argon2-cffi->notebook>=4.4.1->widgetsnbextension~=3.5.0->ipywidgets<8,>=7.0.0->keplergl) (1.14.6)\n",
      "Requirement already satisfied: MarkupSafe>=2.0 in c:\\users\\user\\anaconda3\\envs\\normal\\lib\\site-packages (from jinja2->notebook>=4.4.1->widgetsnbextension~=3.5.0->ipywidgets<8,>=7.0.0->keplergl) (2.0.1)\n",
      "Requirement already satisfied: bleach in c:\\users\\user\\anaconda3\\envs\\normal\\lib\\site-packages (from nbconvert->notebook>=4.4.1->widgetsnbextension~=3.5.0->ipywidgets<8,>=7.0.0->keplergl) (4.0.0)\n",
      "Requirement already satisfied: testpath in c:\\users\\user\\anaconda3\\envs\\normal\\lib\\site-packages (from nbconvert->notebook>=4.4.1->widgetsnbextension~=3.5.0->ipywidgets<8,>=7.0.0->keplergl) (0.5.0)\n",
      "Requirement already satisfied: pandocfilters>=1.4.1 in c:\\users\\user\\anaconda3\\envs\\normal\\lib\\site-packages (from nbconvert->notebook>=4.4.1->widgetsnbextension~=3.5.0->ipywidgets<8,>=7.0.0->keplergl) (1.4.3)\n",
      "Requirement already satisfied: jupyterlab-pygments in c:\\users\\user\\anaconda3\\envs\\normal\\lib\\site-packages (from nbconvert->notebook>=4.4.1->widgetsnbextension~=3.5.0->ipywidgets<8,>=7.0.0->keplergl) (0.1.2)\n",
      "Requirement already satisfied: nbclient<0.6.0,>=0.5.0 in c:\\users\\user\\anaconda3\\envs\\normal\\lib\\site-packages (from nbconvert->notebook>=4.4.1->widgetsnbextension~=3.5.0->ipywidgets<8,>=7.0.0->keplergl) (0.5.3)\n",
      "Requirement already satisfied: defusedxml in c:\\users\\user\\anaconda3\\envs\\normal\\lib\\site-packages (from nbconvert->notebook>=4.4.1->widgetsnbextension~=3.5.0->ipywidgets<8,>=7.0.0->keplergl) (0.7.1)\n",
      "Requirement already satisfied: mistune<2,>=0.8.1 in c:\\users\\user\\anaconda3\\envs\\normal\\lib\\site-packages (from nbconvert->notebook>=4.4.1->widgetsnbextension~=3.5.0->ipywidgets<8,>=7.0.0->keplergl) (0.8.4)\n",
      "Requirement already satisfied: pycparser in c:\\users\\user\\anaconda3\\envs\\normal\\lib\\site-packages (from cffi>=1.0.0->argon2-cffi->notebook>=4.4.1->widgetsnbextension~=3.5.0->ipywidgets<8,>=7.0.0->keplergl) (2.20)\n",
      "Requirement already satisfied: async-generator in c:\\users\\user\\anaconda3\\envs\\normal\\lib\\site-packages (from nbclient<0.6.0,>=0.5.0->nbconvert->notebook>=4.4.1->widgetsnbextension~=3.5.0->ipywidgets<8,>=7.0.0->keplergl) (1.10)\n",
      "Requirement already satisfied: webencodings in c:\\users\\user\\anaconda3\\envs\\normal\\lib\\site-packages (from bleach->nbconvert->notebook>=4.4.1->widgetsnbextension~=3.5.0->ipywidgets<8,>=7.0.0->keplergl) (0.5.1)\n",
      "Building wheels for collected packages: keplergl\n",
      "  Building wheel for keplergl (pyproject.toml): started\n",
      "  Building wheel for keplergl (pyproject.toml): finished with status 'done'\n",
      "  Created wheel for keplergl: filename=keplergl-0.3.2-py2.py3-none-any.whl size=17922327 sha256=7a7a0ac95189af48e40398ea8c53a6919533cdf52ee6de1ce85117edf19ca91f\n",
      "  Stored in directory: c:\\users\\user\\appdata\\local\\pip\\cache\\wheels\\15\\7f\\48\\aa4980536f7c9fbc783b2a191a579e73e7f74c41afc3f33c61\n",
      "Successfully built keplergl\n",
      "Installing collected packages: traittypes, keplergl\n",
      "Successfully installed keplergl-0.3.2 traittypes-0.2.1\n"
     ]
    },
    {
     "name": "stderr",
     "output_type": "stream",
     "text": [
      "WARNING: You are using pip version 21.3.1; however, version 22.3.1 is available.\n",
      "You should consider upgrading via the 'C:\\Users\\User\\anaconda3\\envs\\normal\\python.exe -m pip install --upgrade pip' command.\n"
     ]
    }
   ],
   "source": [
    "!pip install keplergl"
   ]
  },
  {
   "cell_type": "code",
   "execution_count": 1,
   "metadata": {},
   "outputs": [
    {
     "name": "stdout",
     "output_type": "stream",
     "text": [
      "Collecting datashader\n",
      "  Downloading datashader-0.14.2-py2.py3-none-any.whl (18.2 MB)\n",
      "Requirement already satisfied: numba>=0.51 in c:\\users\\user\\anaconda3\\envs\\normal\\lib\\site-packages (from datashader) (0.55.1)\n",
      "Collecting datashape>=0.5.1\n",
      "  Downloading datashape-0.5.2.tar.gz (76 kB)\n",
      "  Preparing metadata (setup.py): started\n",
      "  Preparing metadata (setup.py): finished with status 'done'\n",
      "Requirement already satisfied: requests in c:\\users\\user\\anaconda3\\envs\\normal\\lib\\site-packages (from datashader) (2.27.1)\n",
      "Collecting colorcet>=0.9.0\n",
      "  Downloading colorcet-3.0.1-py2.py3-none-any.whl (1.7 MB)\n",
      "Collecting pyct>=0.4.5\n",
      "  Downloading pyct-0.4.8-py2.py3-none-any.whl (15 kB)\n",
      "Collecting xarray>=0.9.6\n",
      "  Downloading xarray-2022.11.0-py3-none-any.whl (963 kB)\n",
      "Collecting dask[complete]\n",
      "  Downloading dask-2022.10.2-py3-none-any.whl (1.1 MB)\n",
      "Collecting param>=1.6.1\n",
      "  Downloading param-1.12.2-py2.py3-none-any.whl (86 kB)\n",
      "Requirement already satisfied: scipy in c:\\users\\user\\anaconda3\\envs\\normal\\lib\\site-packages (from datashader) (1.7.2)\n",
      "Requirement already satisfied: pandas>=0.24.1 in c:\\users\\user\\anaconda3\\envs\\normal\\lib\\site-packages (from datashader) (1.3.4)\n",
      "Requirement already satisfied: pillow>=3.1.1 in c:\\users\\user\\anaconda3\\envs\\normal\\lib\\site-packages (from datashader) (8.4.0)\n",
      "Requirement already satisfied: numpy>=1.7 in c:\\users\\user\\anaconda3\\envs\\normal\\lib\\site-packages (from datashape>=0.5.1->datashader) (1.21.3)\n",
      "Collecting multipledispatch>=0.4.7\n",
      "  Downloading multipledispatch-0.6.0-py3-none-any.whl (11 kB)\n",
      "Requirement already satisfied: python-dateutil in c:\\users\\user\\anaconda3\\envs\\normal\\lib\\site-packages (from datashape>=0.5.1->datashader) (2.8.2)\n",
      "Requirement already satisfied: llvmlite<0.39,>=0.38.0rc1 in c:\\users\\user\\anaconda3\\envs\\normal\\lib\\site-packages (from numba>=0.51->datashader) (0.38.1)\n",
      "Requirement already satisfied: setuptools in c:\\users\\user\\anaconda3\\envs\\normal\\lib\\site-packages (from numba>=0.51->datashader) (60.5.0)\n",
      "Requirement already satisfied: pytz>=2017.3 in c:\\users\\user\\anaconda3\\envs\\normal\\lib\\site-packages (from pandas>=0.24.1->datashader) (2021.3)\n",
      "Requirement already satisfied: packaging>=21.0 in c:\\users\\user\\anaconda3\\envs\\normal\\lib\\site-packages (from xarray>=0.9.6->datashader) (21.3)\n",
      "Requirement already satisfied: click>=7.0 in c:\\users\\user\\anaconda3\\envs\\normal\\lib\\site-packages (from dask[complete]->datashader) (8.1.3)\n",
      "Collecting fsspec>=0.6.0\n",
      "  Downloading fsspec-2022.11.0-py3-none-any.whl (139 kB)\n",
      "Collecting cloudpickle>=1.1.1\n",
      "  Downloading cloudpickle-2.2.0-py3-none-any.whl (25 kB)\n",
      "Collecting partd>=0.3.10\n",
      "  Downloading partd-1.3.0-py3-none-any.whl (18 kB)\n",
      "Requirement already satisfied: pyyaml>=5.3.1 in c:\\users\\user\\anaconda3\\envs\\normal\\lib\\site-packages (from dask[complete]->datashader) (6.0)\n",
      "Collecting toolz>=0.8.2\n",
      "  Downloading toolz-0.12.0-py3-none-any.whl (55 kB)\n",
      "Requirement already satisfied: jinja2 in c:\\users\\user\\anaconda3\\envs\\normal\\lib\\site-packages (from dask[complete]->datashader) (3.0.1)\n",
      "Collecting distributed==2022.10.2\n",
      "  Downloading distributed-2022.10.2-py3-none-any.whl (918 kB)\n",
      "Collecting bokeh<3,>=2.4.2\n",
      "  Downloading bokeh-2.4.3-py3-none-any.whl (18.5 MB)\n",
      "Requirement already satisfied: tornado<6.2,>=6.0.3 in c:\\users\\user\\anaconda3\\envs\\normal\\lib\\site-packages (from distributed==2022.10.2->dask[complete]->datashader) (6.1)\n",
      "Requirement already satisfied: urllib3 in c:\\users\\user\\anaconda3\\envs\\normal\\lib\\site-packages (from distributed==2022.10.2->dask[complete]->datashader) (1.26.8)\n",
      "Collecting locket>=1.0.0\n",
      "  Downloading locket-1.0.0-py2.py3-none-any.whl (4.4 kB)\n",
      "Collecting zict>=0.1.3\n",
      "  Downloading zict-2.2.0-py2.py3-none-any.whl (23 kB)\n",
      "Requirement already satisfied: psutil>=5.0 in c:\\users\\user\\anaconda3\\envs\\normal\\lib\\site-packages (from distributed==2022.10.2->dask[complete]->datashader) (5.9.4)\n",
      "Collecting tblib>=1.6.0\n",
      "  Downloading tblib-1.7.0-py2.py3-none-any.whl (12 kB)\n",
      "Collecting msgpack>=0.6.0\n",
      "  Downloading msgpack-1.0.4-cp39-cp39-win_amd64.whl (62 kB)\n",
      "Collecting sortedcontainers!=2.0.0,!=2.0.1\n",
      "  Downloading sortedcontainers-2.4.0-py2.py3-none-any.whl (29 kB)\n",
      "Requirement already satisfied: charset-normalizer~=2.0.0 in c:\\users\\user\\anaconda3\\envs\\normal\\lib\\site-packages (from requests->datashader) (2.0.10)\n",
      "Requirement already satisfied: idna<4,>=2.5 in c:\\users\\user\\anaconda3\\envs\\normal\\lib\\site-packages (from requests->datashader) (3.3)\n",
      "Requirement already satisfied: certifi>=2017.4.17 in c:\\users\\user\\anaconda3\\envs\\normal\\lib\\site-packages (from requests->datashader) (2021.10.8)\n",
      "Collecting typing-extensions>=3.10.0\n",
      "  Downloading typing_extensions-4.4.0-py3-none-any.whl (26 kB)\n",
      "Requirement already satisfied: colorama in c:\\users\\user\\anaconda3\\envs\\normal\\lib\\site-packages (from click>=7.0->dask[complete]->datashader) (0.4.4)\n",
      "Requirement already satisfied: MarkupSafe>=2.0 in c:\\users\\user\\anaconda3\\envs\\normal\\lib\\site-packages (from jinja2->dask[complete]->datashader) (2.0.1)\n",
      "Requirement already satisfied: six in c:\\users\\user\\anaconda3\\envs\\normal\\lib\\site-packages (from multipledispatch>=0.4.7->datashape>=0.5.1->datashader) (1.16.0)\n",
      "Requirement already satisfied: pyparsing!=3.0.5,>=2.0.2 in c:\\users\\user\\anaconda3\\envs\\normal\\lib\\site-packages (from packaging>=21.0->xarray>=0.9.6->datashader) (2.4.7)\n",
      "Collecting heapdict\n",
      "  Downloading HeapDict-1.0.1-py3-none-any.whl (3.9 kB)\n",
      "Building wheels for collected packages: datashape\n",
      "  Building wheel for datashape (setup.py): started\n",
      "  Building wheel for datashape (setup.py): finished with status 'done'\n",
      "  Created wheel for datashape: filename=datashape-0.5.2-py3-none-any.whl size=59454 sha256=6bd5c6ff9c8743af488dc0f9b8f6e10fab0ee13c574363e123953d566fafa70c\n",
      "  Stored in directory: c:\\users\\user\\appdata\\local\\pip\\cache\\wheels\\42\\ef\\d7\\781cf80d4146d76b3d2ed2510113d78c2643c842cc6c22918d\n",
      "Successfully built datashape\n",
      "Installing collected packages: toolz, locket, partd, heapdict, fsspec, cloudpickle, zict, typing-extensions, tblib, sortedcontainers, param, msgpack, dask, pyct, multipledispatch, distributed, bokeh, xarray, datashape, colorcet, datashader\n",
      "Successfully installed bokeh-2.4.3 cloudpickle-2.2.0 colorcet-3.0.1 dask-2022.10.2 datashader-0.14.2 datashape-0.5.2 distributed-2022.10.2 fsspec-2022.11.0 heapdict-1.0.1 locket-1.0.0 msgpack-1.0.4 multipledispatch-0.6.0 param-1.12.2 partd-1.3.0 pyct-0.4.8 sortedcontainers-2.4.0 tblib-1.7.0 toolz-0.12.0 typing-extensions-4.4.0 xarray-2022.11.0 zict-2.2.0\n"
     ]
    },
    {
     "name": "stderr",
     "output_type": "stream",
     "text": [
      "WARNING: You are using pip version 21.3.1; however, version 22.3.1 is available.\n",
      "You should consider upgrading via the 'C:\\Users\\User\\anaconda3\\envs\\normal\\python.exe -m pip install --upgrade pip' command.\n"
     ]
    }
   ],
   "source": [
    "!pip install datashader"
   ]
  },
  {
   "cell_type": "code",
   "execution_count": 62,
   "metadata": {},
   "outputs": [],
   "source": [
    "import matplotlib.pyplot as plt\n",
    "import numpy as np\n",
    "import math\n",
    "import geopy.distance"
   ]
  },
  {
   "cell_type": "code",
   "execution_count": 2,
   "metadata": {},
   "outputs": [
    {
     "name": "stderr",
     "output_type": "stream",
     "text": [
      "c:\\Users\\User\\anaconda3\\envs\\normal\\lib\\site-packages\\pkg_resources\\__init__.py:116: PkgResourcesDeprecationWarning: R2021b is an invalid version and will not be supported in a future release\n",
      "  warnings.warn(\n"
     ]
    }
   ],
   "source": [
    "import gtfs_kit as gk\n",
    "\n",
    "trans=(gk.read_feed(\"gtfs.zip\", dist_units=\"km\"))"
   ]
  },
  {
   "cell_type": "code",
   "execution_count": 3,
   "metadata": {},
   "outputs": [
    {
     "data": {
      "text/html": [
       "<div>\n",
       "<style scoped>\n",
       "    .dataframe tbody tr th:only-of-type {\n",
       "        vertical-align: middle;\n",
       "    }\n",
       "\n",
       "    .dataframe tbody tr th {\n",
       "        vertical-align: top;\n",
       "    }\n",
       "\n",
       "    .dataframe thead th {\n",
       "        text-align: right;\n",
       "    }\n",
       "</style>\n",
       "<table border=\"1\" class=\"dataframe\">\n",
       "  <thead>\n",
       "    <tr style=\"text-align: right;\">\n",
       "      <th></th>\n",
       "      <th>type</th>\n",
       "      <th>message</th>\n",
       "      <th>table</th>\n",
       "      <th>rows</th>\n",
       "    </tr>\n",
       "  </thead>\n",
       "  <tbody>\n",
       "    <tr>\n",
       "      <th>3</th>\n",
       "      <td>error</td>\n",
       "      <td>Invalid route_type; maybe has extra space char...</td>\n",
       "      <td>routes</td>\n",
       "      <td>[281, 282, 283, 284, 285, 286, 287, 288, 289, ...</td>\n",
       "    </tr>\n",
       "    <tr>\n",
       "      <th>0</th>\n",
       "      <td>warning</td>\n",
       "      <td>Unrecognized column feed_id</td>\n",
       "      <td>feed_info</td>\n",
       "      <td>[]</td>\n",
       "    </tr>\n",
       "    <tr>\n",
       "      <th>1</th>\n",
       "      <td>warning</td>\n",
       "      <td>Unrecognized column feed_ext_version</td>\n",
       "      <td>feed_info</td>\n",
       "      <td>[]</td>\n",
       "    </tr>\n",
       "    <tr>\n",
       "      <th>2</th>\n",
       "      <td>warning</td>\n",
       "      <td>Unrecognized column route_sort_order</td>\n",
       "      <td>routes</td>\n",
       "      <td>[]</td>\n",
       "    </tr>\n",
       "    <tr>\n",
       "      <th>4</th>\n",
       "      <td>warning</td>\n",
       "      <td>Repeated pair (route_short_name, route_long_name)</td>\n",
       "      <td>routes</td>\n",
       "      <td>[299, 319, 356, 357, 358, 360, 361, 363, 365, ...</td>\n",
       "    </tr>\n",
       "    <tr>\n",
       "      <th>5</th>\n",
       "      <td>warning</td>\n",
       "      <td>Route has no trips</td>\n",
       "      <td>routes</td>\n",
       "      <td>[280, 358, 359]</td>\n",
       "    </tr>\n",
       "    <tr>\n",
       "      <th>9</th>\n",
       "      <td>warning</td>\n",
       "      <td>Repeated pair (trip_id, departure_time)</td>\n",
       "      <td>stop_times</td>\n",
       "      <td>[24, 45, 113, 173, 291, 349, 409, 527, 645, 76...</td>\n",
       "    </tr>\n",
       "    <tr>\n",
       "      <th>6</th>\n",
       "      <td>warning</td>\n",
       "      <td>Unrecognized column location_sub_type</td>\n",
       "      <td>stops</td>\n",
       "      <td>[]</td>\n",
       "    </tr>\n",
       "    <tr>\n",
       "      <th>7</th>\n",
       "      <td>warning</td>\n",
       "      <td>Unrecognized column stop_direction</td>\n",
       "      <td>stops</td>\n",
       "      <td>[]</td>\n",
       "    </tr>\n",
       "    <tr>\n",
       "      <th>8</th>\n",
       "      <td>warning</td>\n",
       "      <td>Stop has no stop times</td>\n",
       "      <td>stops</td>\n",
       "      <td>[0, 1, 2, 3, 4, 6, 8, 9, 11, 13, 18, 27, 58, 6...</td>\n",
       "    </tr>\n",
       "    <tr>\n",
       "      <th>10</th>\n",
       "      <td>warning</td>\n",
       "      <td>Unrecognized column boarding_door</td>\n",
       "      <td>trips</td>\n",
       "      <td>[]</td>\n",
       "    </tr>\n",
       "  </tbody>\n",
       "</table>\n",
       "</div>"
      ],
      "text/plain": [
       "       type                                            message       table  \\\n",
       "3     error  Invalid route_type; maybe has extra space char...      routes   \n",
       "0   warning                        Unrecognized column feed_id   feed_info   \n",
       "1   warning               Unrecognized column feed_ext_version   feed_info   \n",
       "2   warning               Unrecognized column route_sort_order      routes   \n",
       "4   warning  Repeated pair (route_short_name, route_long_name)      routes   \n",
       "5   warning                                 Route has no trips      routes   \n",
       "9   warning            Repeated pair (trip_id, departure_time)  stop_times   \n",
       "6   warning              Unrecognized column location_sub_type       stops   \n",
       "7   warning                 Unrecognized column stop_direction       stops   \n",
       "8   warning                             Stop has no stop times       stops   \n",
       "10  warning                  Unrecognized column boarding_door       trips   \n",
       "\n",
       "                                                 rows  \n",
       "3   [281, 282, 283, 284, 285, 286, 287, 288, 289, ...  \n",
       "0                                                  []  \n",
       "1                                                  []  \n",
       "2                                                  []  \n",
       "4   [299, 319, 356, 357, 358, 360, 361, 363, 365, ...  \n",
       "5                                     [280, 358, 359]  \n",
       "9   [24, 45, 113, 173, 291, 349, 409, 527, 645, 76...  \n",
       "6                                                  []  \n",
       "7                                                  []  \n",
       "8   [0, 1, 2, 3, 4, 6, 8, 9, 11, 13, 18, 27, 58, 6...  \n",
       "10                                                 []  "
      ]
     },
     "execution_count": 3,
     "metadata": {},
     "output_type": "execute_result"
    }
   ],
   "source": [
    "trans.validate()"
   ]
  },
  {
   "cell_type": "code",
   "execution_count": 8,
   "metadata": {},
   "outputs": [
    {
     "data": {
      "text/html": [
       "<div>\n",
       "<style scoped>\n",
       "    .dataframe tbody tr th:only-of-type {\n",
       "        vertical-align: middle;\n",
       "    }\n",
       "\n",
       "    .dataframe tbody tr th {\n",
       "        vertical-align: top;\n",
       "    }\n",
       "\n",
       "    .dataframe thead th {\n",
       "        text-align: right;\n",
       "    }\n",
       "</style>\n",
       "<table border=\"1\" class=\"dataframe\">\n",
       "  <thead>\n",
       "    <tr style=\"text-align: right;\">\n",
       "      <th></th>\n",
       "      <th>indicator</th>\n",
       "      <th>value</th>\n",
       "    </tr>\n",
       "  </thead>\n",
       "  <tbody>\n",
       "    <tr>\n",
       "      <th>0</th>\n",
       "      <td>agencies</td>\n",
       "      <td>[BKK, MÁV-HÉV]</td>\n",
       "    </tr>\n",
       "    <tr>\n",
       "      <th>1</th>\n",
       "      <td>timezone</td>\n",
       "      <td>Europe/Budapest</td>\n",
       "    </tr>\n",
       "    <tr>\n",
       "      <th>2</th>\n",
       "      <td>start_date</td>\n",
       "      <td>20221106</td>\n",
       "    </tr>\n",
       "    <tr>\n",
       "      <th>3</th>\n",
       "      <td>end_date</td>\n",
       "      <td>20230101</td>\n",
       "    </tr>\n",
       "    <tr>\n",
       "      <th>4</th>\n",
       "      <td>num_routes</td>\n",
       "      <td>372</td>\n",
       "    </tr>\n",
       "    <tr>\n",
       "      <th>5</th>\n",
       "      <td>num_trips</td>\n",
       "      <td>304359</td>\n",
       "    </tr>\n",
       "    <tr>\n",
       "      <th>6</th>\n",
       "      <td>num_stops</td>\n",
       "      <td>6090</td>\n",
       "    </tr>\n",
       "    <tr>\n",
       "      <th>7</th>\n",
       "      <td>num_shapes</td>\n",
       "      <td>1965</td>\n",
       "    </tr>\n",
       "    <tr>\n",
       "      <th>8</th>\n",
       "      <td>sample_date</td>\n",
       "      <td>20221110</td>\n",
       "    </tr>\n",
       "    <tr>\n",
       "      <th>9</th>\n",
       "      <td>num_routes_active_on_sample_date</td>\n",
       "      <td>351</td>\n",
       "    </tr>\n",
       "    <tr>\n",
       "      <th>10</th>\n",
       "      <td>num_trips_active_on_sample_date</td>\n",
       "      <td>42354</td>\n",
       "    </tr>\n",
       "    <tr>\n",
       "      <th>11</th>\n",
       "      <td>num_stops_active_on_sample_date</td>\n",
       "      <td>5345</td>\n",
       "    </tr>\n",
       "  </tbody>\n",
       "</table>\n",
       "</div>"
      ],
      "text/plain": [
       "                           indicator            value\n",
       "0                           agencies   [BKK, MÁV-HÉV]\n",
       "1                           timezone  Europe/Budapest\n",
       "2                         start_date         20221106\n",
       "3                           end_date         20230101\n",
       "4                         num_routes              372\n",
       "5                          num_trips           304359\n",
       "6                          num_stops             6090\n",
       "7                         num_shapes             1965\n",
       "8                        sample_date         20221110\n",
       "9   num_routes_active_on_sample_date              351\n",
       "10   num_trips_active_on_sample_date            42354\n",
       "11   num_stops_active_on_sample_date             5345"
      ]
     },
     "execution_count": 8,
     "metadata": {},
     "output_type": "execute_result"
    }
   ],
   "source": [
    "trans.describe()"
   ]
  },
  {
   "cell_type": "code",
   "execution_count": 6,
   "metadata": {},
   "outputs": [],
   "source": [
    "import gtfs_functions as gtfs\n",
    "routes, stops, stop_times, trips, shapes = gtfs.import_gtfs(\"GTFS.zip\")"
   ]
  },
  {
   "cell_type": "code",
   "execution_count": 35,
   "metadata": {},
   "outputs": [],
   "source": [
    "x=[]\n",
    "y=[]\n",
    "for i in range(len(stops)):\n",
    "    x.append(stops[\"geometry\"][i].y)\n",
    "    y.append(stops[\"geometry\"][i].x)"
   ]
  },
  {
   "cell_type": "code",
   "execution_count": 33,
   "metadata": {},
   "outputs": [],
   "source": [
    "y=stops[\"geometry\"][0].x"
   ]
  },
  {
   "cell_type": "code",
   "execution_count": 34,
   "metadata": {},
   "outputs": [
    {
     "data": {
      "text/plain": [
       "19.039318"
      ]
     },
     "execution_count": 34,
     "metadata": {},
     "output_type": "execute_result"
    }
   ],
   "source": []
  },
  {
   "cell_type": "code",
   "execution_count": 21,
   "metadata": {},
   "outputs": [
    {
     "data": {
      "text/html": [
       "<div>\n",
       "<style scoped>\n",
       "    .dataframe tbody tr th:only-of-type {\n",
       "        vertical-align: middle;\n",
       "    }\n",
       "\n",
       "    .dataframe tbody tr th {\n",
       "        vertical-align: top;\n",
       "    }\n",
       "\n",
       "    .dataframe thead th {\n",
       "        text-align: right;\n",
       "    }\n",
       "</style>\n",
       "<table border=\"1\" class=\"dataframe\">\n",
       "  <thead>\n",
       "    <tr style=\"text-align: right;\">\n",
       "      <th></th>\n",
       "      <th>stop_id</th>\n",
       "      <th>stop_name</th>\n",
       "      <th>stop_code</th>\n",
       "      <th>location_type</th>\n",
       "      <th>location_sub_type</th>\n",
       "      <th>parent_station</th>\n",
       "      <th>wheelchair_boarding</th>\n",
       "      <th>stop_direction</th>\n",
       "      <th>geometry</th>\n",
       "    </tr>\n",
       "  </thead>\n",
       "  <tbody>\n",
       "    <tr>\n",
       "      <th>0</th>\n",
       "      <td>003209</td>\n",
       "      <td>Batthyány tér</td>\n",
       "      <td>09001</td>\n",
       "      <td>NaN</td>\n",
       "      <td>NaN</td>\n",
       "      <td>09001</td>\n",
       "      <td>NaN</td>\n",
       "      <td>NaN</td>\n",
       "      <td>POINT (19.03932 47.50678)</td>\n",
       "    </tr>\n",
       "    <tr>\n",
       "      <th>1</th>\n",
       "      <td>004903</td>\n",
       "      <td>Örs vezér tere</td>\n",
       "      <td>19795</td>\n",
       "      <td>NaN</td>\n",
       "      <td>NaN</td>\n",
       "      <td>19795</td>\n",
       "      <td>NaN</td>\n",
       "      <td>NaN</td>\n",
       "      <td>POINT (19.13719 47.50359)</td>\n",
       "    </tr>\n",
       "    <tr>\n",
       "      <th>2</th>\n",
       "      <td>007736</td>\n",
       "      <td>Gödöllő</td>\n",
       "      <td>19870</td>\n",
       "      <td>NaN</td>\n",
       "      <td>NaN</td>\n",
       "      <td>19870</td>\n",
       "      <td>NaN</td>\n",
       "      <td>NaN</td>\n",
       "      <td>POINT (19.35779 47.59334)</td>\n",
       "    </tr>\n",
       "    <tr>\n",
       "      <th>3</th>\n",
       "      <td>007817</td>\n",
       "      <td>Márta utca</td>\n",
       "      <td>NaN</td>\n",
       "      <td>NaN</td>\n",
       "      <td>NaN</td>\n",
       "      <td>NaN</td>\n",
       "      <td>2.0</td>\n",
       "      <td>160</td>\n",
       "      <td>POINT (18.92950 47.42918)</td>\n",
       "    </tr>\n",
       "    <tr>\n",
       "      <th>4</th>\n",
       "      <td>007877</td>\n",
       "      <td>Bíróság</td>\n",
       "      <td>NaN</td>\n",
       "      <td>NaN</td>\n",
       "      <td>NaN</td>\n",
       "      <td>NaN</td>\n",
       "      <td>1.0</td>\n",
       "      <td>-78</td>\n",
       "      <td>POINT (18.97806 47.51954)</td>\n",
       "    </tr>\n",
       "    <tr>\n",
       "      <th>...</th>\n",
       "      <td>...</td>\n",
       "      <td>...</td>\n",
       "      <td>...</td>\n",
       "      <td>...</td>\n",
       "      <td>...</td>\n",
       "      <td>...</td>\n",
       "      <td>...</td>\n",
       "      <td>...</td>\n",
       "      <td>...</td>\n",
       "    </tr>\n",
       "    <tr>\n",
       "      <th>5383</th>\n",
       "      <td>F04834</td>\n",
       "      <td>Tetra Pak</td>\n",
       "      <td>NaN</td>\n",
       "      <td>NaN</td>\n",
       "      <td>NaN</td>\n",
       "      <td>NaN</td>\n",
       "      <td>2.0</td>\n",
       "      <td>-49</td>\n",
       "      <td>POINT (18.90352 47.45783)</td>\n",
       "    </tr>\n",
       "    <tr>\n",
       "      <th>5384</th>\n",
       "      <td>F04835</td>\n",
       "      <td>Budaörsi lakótelep</td>\n",
       "      <td>NaN</td>\n",
       "      <td>NaN</td>\n",
       "      <td>NaN</td>\n",
       "      <td>NaN</td>\n",
       "      <td>1.0</td>\n",
       "      <td>56</td>\n",
       "      <td>POINT (18.94090 47.45569)</td>\n",
       "    </tr>\n",
       "    <tr>\n",
       "      <th>5385</th>\n",
       "      <td>F04836</td>\n",
       "      <td>Budaörsi lakótelep</td>\n",
       "      <td>NaN</td>\n",
       "      <td>NaN</td>\n",
       "      <td>NaN</td>\n",
       "      <td>NaN</td>\n",
       "      <td>1.0</td>\n",
       "      <td>72</td>\n",
       "      <td>POINT (18.94063 47.45564)</td>\n",
       "    </tr>\n",
       "    <tr>\n",
       "      <th>5386</th>\n",
       "      <td>F04837</td>\n",
       "      <td>Lejtő utca</td>\n",
       "      <td>NaN</td>\n",
       "      <td>NaN</td>\n",
       "      <td>NaN</td>\n",
       "      <td>NaN</td>\n",
       "      <td>1.0</td>\n",
       "      <td>-81</td>\n",
       "      <td>POINT (18.93061 47.45961)</td>\n",
       "    </tr>\n",
       "    <tr>\n",
       "      <th>5387</th>\n",
       "      <td>F04838</td>\n",
       "      <td>Lejtő utca</td>\n",
       "      <td>NaN</td>\n",
       "      <td>NaN</td>\n",
       "      <td>NaN</td>\n",
       "      <td>NaN</td>\n",
       "      <td>1.0</td>\n",
       "      <td>86</td>\n",
       "      <td>POINT (18.93158 47.45942)</td>\n",
       "    </tr>\n",
       "  </tbody>\n",
       "</table>\n",
       "<p>5388 rows × 9 columns</p>\n",
       "</div>"
      ],
      "text/plain": [
       "     stop_id           stop_name stop_code  location_type location_sub_type  \\\n",
       "0     003209       Batthyány tér     09001            NaN               NaN   \n",
       "1     004903      Örs vezér tere     19795            NaN               NaN   \n",
       "2     007736             Gödöllő     19870            NaN               NaN   \n",
       "3     007817          Márta utca       NaN            NaN               NaN   \n",
       "4     007877             Bíróság       NaN            NaN               NaN   \n",
       "...      ...                 ...       ...            ...               ...   \n",
       "5383  F04834           Tetra Pak       NaN            NaN               NaN   \n",
       "5384  F04835  Budaörsi lakótelep       NaN            NaN               NaN   \n",
       "5385  F04836  Budaörsi lakótelep       NaN            NaN               NaN   \n",
       "5386  F04837          Lejtő utca       NaN            NaN               NaN   \n",
       "5387  F04838          Lejtő utca       NaN            NaN               NaN   \n",
       "\n",
       "     parent_station  wheelchair_boarding stop_direction  \\\n",
       "0             09001                  NaN            NaN   \n",
       "1             19795                  NaN            NaN   \n",
       "2             19870                  NaN            NaN   \n",
       "3               NaN                  2.0            160   \n",
       "4               NaN                  1.0            -78   \n",
       "...             ...                  ...            ...   \n",
       "5383            NaN                  2.0            -49   \n",
       "5384            NaN                  1.0             56   \n",
       "5385            NaN                  1.0             72   \n",
       "5386            NaN                  1.0            -81   \n",
       "5387            NaN                  1.0             86   \n",
       "\n",
       "                       geometry  \n",
       "0     POINT (19.03932 47.50678)  \n",
       "1     POINT (19.13719 47.50359)  \n",
       "2     POINT (19.35779 47.59334)  \n",
       "3     POINT (18.92950 47.42918)  \n",
       "4     POINT (18.97806 47.51954)  \n",
       "...                         ...  \n",
       "5383  POINT (18.90352 47.45783)  \n",
       "5384  POINT (18.94090 47.45569)  \n",
       "5385  POINT (18.94063 47.45564)  \n",
       "5386  POINT (18.93061 47.45961)  \n",
       "5387  POINT (18.93158 47.45942)  \n",
       "\n",
       "[5388 rows x 9 columns]"
      ]
     },
     "execution_count": 21,
     "metadata": {},
     "output_type": "execute_result"
    }
   ],
   "source": [
    "stops"
   ]
  },
  {
   "cell_type": "code",
   "execution_count": 5,
   "metadata": {},
   "outputs": [
    {
     "data": {
      "image/png": "[encoded data removed]",
      "text/plain": [
       "<Figure size 432x288 with 1 Axes>"
      ]
     },
     "metadata": {
      "needs_background": "light"
     },
     "output_type": "display_data"
    }
   ],
   "source": [
    "%matplotlib inline\n",
    "for i in range(1300):\n",
    "    x,y=shapes[\"geometry\"][i].coords.xy\n",
    "    plt.plot(x,y)\n",
    "plt.show()"
   ]
  },
  {
   "cell_type": "code",
   "execution_count": 68,
   "metadata": {},
   "outputs": [],
   "source": [
    "y,x=stops[\"geometry\"][1].xy"
   ]
  },
  {
   "cell_type": "code",
   "execution_count": 72,
   "metadata": {},
   "outputs": [
    {
     "name": "stdout",
     "output_type": "stream",
     "text": [
      "array('d', [47.503585]) array('d', [19.137192])\n"
     ]
    }
   ],
   "source": [
    "print(x,y)"
   ]
  },
  {
   "cell_type": "code",
   "execution_count": 78,
   "metadata": {},
   "outputs": [
    {
     "data": {
      "text/plain": [
       "19.039318"
      ]
     },
     "execution_count": 78,
     "metadata": {},
     "output_type": "execute_result"
    }
   ],
   "source": [
    "stops[\"geometry\"][0].x"
   ]
  },
  {
   "cell_type": "code",
   "execution_count": 71,
   "metadata": {},
   "outputs": [
    {
     "data": {
      "text/plain": [
       "6744.051581397762"
      ]
     },
     "execution_count": 71,
     "metadata": {},
     "output_type": "execute_result"
    }
   ],
   "source": [
    "geopy.distance.geodesic(I_building, (x[0],y[0])).m"
   ]
  },
  {
   "cell_type": "code",
   "execution_count": 83,
   "metadata": {},
   "outputs": [
    {
     "name": "stdout",
     "output_type": "stream",
     "text": [
      "stops that are in a 600m radius of Building I at BME: \n",
      "\t- 008280\n",
      "\t- 009179\n",
      "\t- 049597\n",
      "\t- 062607\n",
      "\t- 062608\n",
      "\t- 062620\n",
      "\t- 062621\n",
      "\t- 062622\n",
      "\t- 066451\n",
      "\t- 066452\n",
      "\t- 066453\n",
      "\t- 066454\n",
      "\t- 071262\n",
      "\t- F01986\n",
      "\t- F01988\n",
      "\t- F01989\n",
      "\t- F01990\n",
      "\t- F01991\n",
      "\t- F01992\n",
      "\t- F02153\n",
      "\t- F02155\n",
      "\t- F02222\n",
      "\t- F02224\n",
      "\t- F02225\n"
     ]
    }
   ],
   "source": [
    "print(\"stops that are in a 600m radius of Building I at BME: \")\n",
    "stops_600=[]\n",
    "for i,k in enumerate(stops[\"geometry\"]):\n",
    "    if geopy.distance.geodesic(I_building, (k.y,k.x)).m <600.0:\n",
    "        print(\"\\t-\",stops[\"stop_id\"][i])\n",
    "        stops_600.append(stops[\"stop_id\"][i])"
   ]
  },
  {
   "cell_type": "code",
   "execution_count": 97,
   "metadata": {},
   "outputs": [
    {
     "data": {
      "text/html": [
       "<div>\n",
       "<style scoped>\n",
       "    .dataframe tbody tr th:only-of-type {\n",
       "        vertical-align: middle;\n",
       "    }\n",
       "\n",
       "    .dataframe tbody tr th {\n",
       "        vertical-align: top;\n",
       "    }\n",
       "\n",
       "    .dataframe thead th {\n",
       "        text-align: right;\n",
       "    }\n",
       "</style>\n",
       "<table border=\"1\" class=\"dataframe\">\n",
       "  <thead>\n",
       "    <tr style=\"text-align: right;\">\n",
       "      <th></th>\n",
       "      <th>stop_id</th>\n",
       "      <th>stop_name</th>\n",
       "      <th>stop_code</th>\n",
       "      <th>location_type</th>\n",
       "      <th>location_sub_type</th>\n",
       "      <th>parent_station</th>\n",
       "      <th>wheelchair_boarding</th>\n",
       "      <th>stop_direction</th>\n",
       "      <th>geometry</th>\n",
       "    </tr>\n",
       "  </thead>\n",
       "  <tbody>\n",
       "    <tr>\n",
       "      <th>125</th>\n",
       "      <td>008280</td>\n",
       "      <td>Infopark (Pázmány Péter sétány)</td>\n",
       "      <td>NaN</td>\n",
       "      <td>NaN</td>\n",
       "      <td>NaN</td>\n",
       "      <td>NaN</td>\n",
       "      <td>1.0</td>\n",
       "      <td>179</td>\n",
       "      <td>POINT (19.06433 47.46924)</td>\n",
       "    </tr>\n",
       "    <tr>\n",
       "      <th>388</th>\n",
       "      <td>009179</td>\n",
       "      <td>Petőfi híd, budai hídfő</td>\n",
       "      <td>NaN</td>\n",
       "      <td>NaN</td>\n",
       "      <td>NaN</td>\n",
       "      <td>NaN</td>\n",
       "      <td>1.0</td>\n",
       "      <td>-125</td>\n",
       "      <td>POINT (19.05892 47.47680)</td>\n",
       "    </tr>\n",
       "    <tr>\n",
       "      <th>744</th>\n",
       "      <td>049597</td>\n",
       "      <td>BudaPart</td>\n",
       "      <td>NaN</td>\n",
       "      <td>NaN</td>\n",
       "      <td>NaN</td>\n",
       "      <td>NaN</td>\n",
       "      <td>1.0</td>\n",
       "      <td>103</td>\n",
       "      <td>POINT (19.05716 47.46844)</td>\n",
       "    </tr>\n",
       "    <tr>\n",
       "      <th>834</th>\n",
       "      <td>062607</td>\n",
       "      <td>Infopark (Pázmány Péter sétány)</td>\n",
       "      <td>NaN</td>\n",
       "      <td>NaN</td>\n",
       "      <td>NaN</td>\n",
       "      <td>NaN</td>\n",
       "      <td>1.0</td>\n",
       "      <td>-83</td>\n",
       "      <td>POINT (19.06299 47.46985)</td>\n",
       "    </tr>\n",
       "    <tr>\n",
       "      <th>835</th>\n",
       "      <td>062608</td>\n",
       "      <td>Magyar tudósok körútja</td>\n",
       "      <td>NaN</td>\n",
       "      <td>NaN</td>\n",
       "      <td>NaN</td>\n",
       "      <td>NaN</td>\n",
       "      <td>1.0</td>\n",
       "      <td>81</td>\n",
       "      <td>POINT (19.06367 47.47147)</td>\n",
       "    </tr>\n",
       "    <tr>\n",
       "      <th>836</th>\n",
       "      <td>062620</td>\n",
       "      <td>Egyetemváros - A38 hajóállomás</td>\n",
       "      <td>NaN</td>\n",
       "      <td>NaN</td>\n",
       "      <td>NaN</td>\n",
       "      <td>NaN</td>\n",
       "      <td>1.0</td>\n",
       "      <td>167</td>\n",
       "      <td>POINT (19.06354 47.47329)</td>\n",
       "    </tr>\n",
       "    <tr>\n",
       "      <th>837</th>\n",
       "      <td>062621</td>\n",
       "      <td>Egyetemváros - A38 hajóállomás</td>\n",
       "      <td>NaN</td>\n",
       "      <td>NaN</td>\n",
       "      <td>NaN</td>\n",
       "      <td>NaN</td>\n",
       "      <td>1.0</td>\n",
       "      <td>-13</td>\n",
       "      <td>POINT (19.06359 47.47373)</td>\n",
       "    </tr>\n",
       "    <tr>\n",
       "      <th>838</th>\n",
       "      <td>062622</td>\n",
       "      <td>Magyar tudósok körútja</td>\n",
       "      <td>NaN</td>\n",
       "      <td>NaN</td>\n",
       "      <td>NaN</td>\n",
       "      <td>NaN</td>\n",
       "      <td>1.0</td>\n",
       "      <td>168</td>\n",
       "      <td>POINT (19.06386 47.47218)</td>\n",
       "    </tr>\n",
       "    <tr>\n",
       "      <th>897</th>\n",
       "      <td>066451</td>\n",
       "      <td>Infopark</td>\n",
       "      <td>NaN</td>\n",
       "      <td>NaN</td>\n",
       "      <td>NaN</td>\n",
       "      <td>NaN</td>\n",
       "      <td>1.0</td>\n",
       "      <td>-85</td>\n",
       "      <td>POINT (19.05972 47.46917)</td>\n",
       "    </tr>\n",
       "    <tr>\n",
       "      <th>898</th>\n",
       "      <td>066452</td>\n",
       "      <td>Infopark</td>\n",
       "      <td>NaN</td>\n",
       "      <td>NaN</td>\n",
       "      <td>NaN</td>\n",
       "      <td>NaN</td>\n",
       "      <td>1.0</td>\n",
       "      <td>96</td>\n",
       "      <td>POINT (19.06050 47.46907)</td>\n",
       "    </tr>\n",
       "    <tr>\n",
       "      <th>899</th>\n",
       "      <td>066453</td>\n",
       "      <td>Budafoki út / Dombóvári út</td>\n",
       "      <td>NaN</td>\n",
       "      <td>NaN</td>\n",
       "      <td>NaN</td>\n",
       "      <td>NaN</td>\n",
       "      <td>1.0</td>\n",
       "      <td>-75</td>\n",
       "      <td>POINT (19.05365 47.46981)</td>\n",
       "    </tr>\n",
       "    <tr>\n",
       "      <th>900</th>\n",
       "      <td>066454</td>\n",
       "      <td>Budafoki út / Dombóvári út</td>\n",
       "      <td>NaN</td>\n",
       "      <td>NaN</td>\n",
       "      <td>NaN</td>\n",
       "      <td>NaN</td>\n",
       "      <td>1.0</td>\n",
       "      <td>104</td>\n",
       "      <td>POINT (19.05438 47.46965)</td>\n",
       "    </tr>\n",
       "    <tr>\n",
       "      <th>948</th>\n",
       "      <td>071262</td>\n",
       "      <td>BudaPart</td>\n",
       "      <td>NaN</td>\n",
       "      <td>NaN</td>\n",
       "      <td>NaN</td>\n",
       "      <td>NaN</td>\n",
       "      <td>1.0</td>\n",
       "      <td>-72</td>\n",
       "      <td>POINT (19.05794 47.46855)</td>\n",
       "    </tr>\n",
       "    <tr>\n",
       "      <th>2820</th>\n",
       "      <td>F01986</td>\n",
       "      <td>Budafoki út / Szerémi sor</td>\n",
       "      <td>NaN</td>\n",
       "      <td>NaN</td>\n",
       "      <td>NaN</td>\n",
       "      <td>NaN</td>\n",
       "      <td>1.0</td>\n",
       "      <td>-169</td>\n",
       "      <td>POINT (19.05262 47.47436)</td>\n",
       "    </tr>\n",
       "    <tr>\n",
       "      <th>2821</th>\n",
       "      <td>F01988</td>\n",
       "      <td>Budafoki út / Szerémi sor</td>\n",
       "      <td>NaN</td>\n",
       "      <td>NaN</td>\n",
       "      <td>NaN</td>\n",
       "      <td>NaN</td>\n",
       "      <td>1.0</td>\n",
       "      <td>58</td>\n",
       "      <td>POINT (19.05318 47.47362)</td>\n",
       "    </tr>\n",
       "    <tr>\n",
       "      <th>2822</th>\n",
       "      <td>F01989</td>\n",
       "      <td>Budafoki út / Szerémi sor</td>\n",
       "      <td>NaN</td>\n",
       "      <td>NaN</td>\n",
       "      <td>NaN</td>\n",
       "      <td>NaN</td>\n",
       "      <td>1.0</td>\n",
       "      <td>-118</td>\n",
       "      <td>POINT (19.05281 47.47368)</td>\n",
       "    </tr>\n",
       "    <tr>\n",
       "      <th>2823</th>\n",
       "      <td>F01990</td>\n",
       "      <td>Budafoki út / Szerémi sor</td>\n",
       "      <td>NaN</td>\n",
       "      <td>NaN</td>\n",
       "      <td>NaN</td>\n",
       "      <td>NaN</td>\n",
       "      <td>1.0</td>\n",
       "      <td>-125</td>\n",
       "      <td>POINT (19.05285 47.47387)</td>\n",
       "    </tr>\n",
       "    <tr>\n",
       "      <th>2824</th>\n",
       "      <td>F01991</td>\n",
       "      <td>Budafoki út / Szerémi sor</td>\n",
       "      <td>NaN</td>\n",
       "      <td>NaN</td>\n",
       "      <td>NaN</td>\n",
       "      <td>NaN</td>\n",
       "      <td>1.0</td>\n",
       "      <td>-1</td>\n",
       "      <td>POINT (19.05257 47.47282)</td>\n",
       "    </tr>\n",
       "    <tr>\n",
       "      <th>2825</th>\n",
       "      <td>F01992</td>\n",
       "      <td>Budafoki út / Szerémi sor</td>\n",
       "      <td>NaN</td>\n",
       "      <td>NaN</td>\n",
       "      <td>NaN</td>\n",
       "      <td>NaN</td>\n",
       "      <td>1.0</td>\n",
       "      <td>55</td>\n",
       "      <td>POINT (19.05374 47.47409)</td>\n",
       "    </tr>\n",
       "    <tr>\n",
       "      <th>2975</th>\n",
       "      <td>F02153</td>\n",
       "      <td>Budafoki út / Karinthy Frigyes út</td>\n",
       "      <td>NaN</td>\n",
       "      <td>NaN</td>\n",
       "      <td>NaN</td>\n",
       "      <td>NaN</td>\n",
       "      <td>1.0</td>\n",
       "      <td>114</td>\n",
       "      <td>POINT (19.05411 47.47583)</td>\n",
       "    </tr>\n",
       "    <tr>\n",
       "      <th>2977</th>\n",
       "      <td>F02155</td>\n",
       "      <td>Budafoki út / Karinthy Frigyes út</td>\n",
       "      <td>NaN</td>\n",
       "      <td>NaN</td>\n",
       "      <td>NaN</td>\n",
       "      <td>NaN</td>\n",
       "      <td>2.0</td>\n",
       "      <td>11</td>\n",
       "      <td>POINT (19.05316 47.47541)</td>\n",
       "    </tr>\n",
       "    <tr>\n",
       "      <th>3023</th>\n",
       "      <td>F02222</td>\n",
       "      <td>Petőfi híd, budai hídfő</td>\n",
       "      <td>NaN</td>\n",
       "      <td>NaN</td>\n",
       "      <td>NaN</td>\n",
       "      <td>NaN</td>\n",
       "      <td>1.0</td>\n",
       "      <td>55</td>\n",
       "      <td>POINT (19.05927 47.47657)</td>\n",
       "    </tr>\n",
       "    <tr>\n",
       "      <th>3024</th>\n",
       "      <td>F02224</td>\n",
       "      <td>Petőfi híd, budai hídfő</td>\n",
       "      <td>NaN</td>\n",
       "      <td>NaN</td>\n",
       "      <td>NaN</td>\n",
       "      <td>NaN</td>\n",
       "      <td>1.0</td>\n",
       "      <td>-128</td>\n",
       "      <td>POINT (19.05896 47.47667)</td>\n",
       "    </tr>\n",
       "    <tr>\n",
       "      <th>3025</th>\n",
       "      <td>F02225</td>\n",
       "      <td>Petőfi híd, budai hídfő</td>\n",
       "      <td>NaN</td>\n",
       "      <td>NaN</td>\n",
       "      <td>NaN</td>\n",
       "      <td>NaN</td>\n",
       "      <td>1.0</td>\n",
       "      <td>54</td>\n",
       "      <td>POINT (19.05959 47.47693)</td>\n",
       "    </tr>\n",
       "  </tbody>\n",
       "</table>\n",
       "</div>"
      ],
      "text/plain": [
       "     stop_id                          stop_name stop_code  location_type  \\\n",
       "125   008280    Infopark (Pázmány Péter sétány)       NaN            NaN   \n",
       "388   009179            Petőfi híd, budai hídfő       NaN            NaN   \n",
       "744   049597                           BudaPart       NaN            NaN   \n",
       "834   062607    Infopark (Pázmány Péter sétány)       NaN            NaN   \n",
       "835   062608             Magyar tudósok körútja       NaN            NaN   \n",
       "836   062620     Egyetemváros - A38 hajóállomás       NaN            NaN   \n",
       "837   062621     Egyetemváros - A38 hajóállomás       NaN            NaN   \n",
       "838   062622             Magyar tudósok körútja       NaN            NaN   \n",
       "897   066451                           Infopark       NaN            NaN   \n",
       "898   066452                           Infopark       NaN            NaN   \n",
       "899   066453         Budafoki út / Dombóvári út       NaN            NaN   \n",
       "900   066454         Budafoki út / Dombóvári út       NaN            NaN   \n",
       "948   071262                           BudaPart       NaN            NaN   \n",
       "2820  F01986          Budafoki út / Szerémi sor       NaN            NaN   \n",
       "2821  F01988          Budafoki út / Szerémi sor       NaN            NaN   \n",
       "2822  F01989          Budafoki út / Szerémi sor       NaN            NaN   \n",
       "2823  F01990          Budafoki út / Szerémi sor       NaN            NaN   \n",
       "2824  F01991          Budafoki út / Szerémi sor       NaN            NaN   \n",
       "2825  F01992          Budafoki út / Szerémi sor       NaN            NaN   \n",
       "2975  F02153  Budafoki út / Karinthy Frigyes út       NaN            NaN   \n",
       "2977  F02155  Budafoki út / Karinthy Frigyes út       NaN            NaN   \n",
       "3023  F02222            Petőfi híd, budai hídfő       NaN            NaN   \n",
       "3024  F02224            Petőfi híd, budai hídfő       NaN            NaN   \n",
       "3025  F02225            Petőfi híd, budai hídfő       NaN            NaN   \n",
       "\n",
       "     location_sub_type parent_station  wheelchair_boarding stop_direction  \\\n",
       "125                NaN            NaN                  1.0            179   \n",
       "388                NaN            NaN                  1.0           -125   \n",
       "744                NaN            NaN                  1.0            103   \n",
       "834                NaN            NaN                  1.0            -83   \n",
       "835                NaN            NaN                  1.0             81   \n",
       "836                NaN            NaN                  1.0            167   \n",
       "837                NaN            NaN                  1.0            -13   \n",
       "838                NaN            NaN                  1.0            168   \n",
       "897                NaN            NaN                  1.0            -85   \n",
       "898                NaN            NaN                  1.0             96   \n",
       "899                NaN            NaN                  1.0            -75   \n",
       "900                NaN            NaN                  1.0            104   \n",
       "948                NaN            NaN                  1.0            -72   \n",
       "2820               NaN            NaN                  1.0           -169   \n",
       "2821               NaN            NaN                  1.0             58   \n",
       "2822               NaN            NaN                  1.0           -118   \n",
       "2823               NaN            NaN                  1.0           -125   \n",
       "2824               NaN            NaN                  1.0             -1   \n",
       "2825               NaN            NaN                  1.0             55   \n",
       "2975               NaN            NaN                  1.0            114   \n",
       "2977               NaN            NaN                  2.0             11   \n",
       "3023               NaN            NaN                  1.0             55   \n",
       "3024               NaN            NaN                  1.0           -128   \n",
       "3025               NaN            NaN                  1.0             54   \n",
       "\n",
       "                       geometry  \n",
       "125   POINT (19.06433 47.46924)  \n",
       "388   POINT (19.05892 47.47680)  \n",
       "744   POINT (19.05716 47.46844)  \n",
       "834   POINT (19.06299 47.46985)  \n",
       "835   POINT (19.06367 47.47147)  \n",
       "836   POINT (19.06354 47.47329)  \n",
       "837   POINT (19.06359 47.47373)  \n",
       "838   POINT (19.06386 47.47218)  \n",
       "897   POINT (19.05972 47.46917)  \n",
       "898   POINT (19.06050 47.46907)  \n",
       "899   POINT (19.05365 47.46981)  \n",
       "900   POINT (19.05438 47.46965)  \n",
       "948   POINT (19.05794 47.46855)  \n",
       "2820  POINT (19.05262 47.47436)  \n",
       "2821  POINT (19.05318 47.47362)  \n",
       "2822  POINT (19.05281 47.47368)  \n",
       "2823  POINT (19.05285 47.47387)  \n",
       "2824  POINT (19.05257 47.47282)  \n",
       "2825  POINT (19.05374 47.47409)  \n",
       "2975  POINT (19.05411 47.47583)  \n",
       "2977  POINT (19.05316 47.47541)  \n",
       "3023  POINT (19.05927 47.47657)  \n",
       "3024  POINT (19.05896 47.47667)  \n",
       "3025  POINT (19.05959 47.47693)  "
      ]
     },
     "execution_count": 97,
     "metadata": {},
     "output_type": "execute_result"
    }
   ],
   "source": [
    "#Stops that are in a 600m radius\n",
    "stops_I=stops[stops[\"stop_id\"].isin(stops_600)]\n",
    "stops_I"
   ]
  },
  {
   "cell_type": "code",
   "execution_count": null,
   "metadata": {},
   "outputs": [],
   "source": [
    "for i,k in enumerate(stops_I[\"geometry\"]):\n",
    "    if "
   ]
  },
  {
   "cell_type": "code",
   "execution_count": 93,
   "metadata": {},
   "outputs": [
    {
     "data": {
      "text/html": [
       "<div>\n",
       "<style scoped>\n",
       "    .dataframe tbody tr th:only-of-type {\n",
       "        vertical-align: middle;\n",
       "    }\n",
       "\n",
       "    .dataframe tbody tr th {\n",
       "        vertical-align: top;\n",
       "    }\n",
       "\n",
       "    .dataframe thead th {\n",
       "        text-align: right;\n",
       "    }\n",
       "</style>\n",
       "<table border=\"1\" class=\"dataframe\">\n",
       "  <thead>\n",
       "    <tr style=\"text-align: right;\">\n",
       "      <th></th>\n",
       "      <th>agency_id</th>\n",
       "      <th>route_id</th>\n",
       "      <th>route_short_name</th>\n",
       "      <th>route_long_name</th>\n",
       "      <th>route_type</th>\n",
       "      <th>route_desc</th>\n",
       "      <th>route_color</th>\n",
       "      <th>route_text_color</th>\n",
       "      <th>route_sort_order</th>\n",
       "    </tr>\n",
       "  </thead>\n",
       "  <tbody>\n",
       "    <tr>\n",
       "      <th>0</th>\n",
       "      <td>BKK</td>\n",
       "      <td>0050</td>\n",
       "      <td>5</td>\n",
       "      <td>NaN</td>\n",
       "      <td>3</td>\n",
       "      <td>Pasaréti tér / Rákospalota, Kossuth utca</td>\n",
       "      <td>009EE3</td>\n",
       "      <td>FFFFFF</td>\n",
       "      <td>23</td>\n",
       "    </tr>\n",
       "    <tr>\n",
       "      <th>1</th>\n",
       "      <td>BKK</td>\n",
       "      <td>0070</td>\n",
       "      <td>7</td>\n",
       "      <td>NaN</td>\n",
       "      <td>3</td>\n",
       "      <td>Albertfalva vasútállomás / Újpalota, Nyírpalot...</td>\n",
       "      <td>009EE3</td>\n",
       "      <td>FFFFFF</td>\n",
       "      <td>25</td>\n",
       "    </tr>\n",
       "    <tr>\n",
       "      <th>2</th>\n",
       "      <td>BKK</td>\n",
       "      <td>0075</td>\n",
       "      <td>7E</td>\n",
       "      <td>NaN</td>\n",
       "      <td>3</td>\n",
       "      <td>Blaha Lujza tér M / Újpalota, Nyírpalota út</td>\n",
       "      <td>009EE3</td>\n",
       "      <td>FFFFFF</td>\n",
       "      <td>26</td>\n",
       "    </tr>\n",
       "    <tr>\n",
       "      <th>3</th>\n",
       "      <td>BKK</td>\n",
       "      <td>0078</td>\n",
       "      <td>7G</td>\n",
       "      <td>NaN</td>\n",
       "      <td>3</td>\n",
       "      <td>Cinkotai autóbuszgarázs / Újpalota, Nyírpalota út</td>\n",
       "      <td>009EE3</td>\n",
       "      <td>FFFFFF</td>\n",
       "      <td>27</td>\n",
       "    </tr>\n",
       "    <tr>\n",
       "      <th>4</th>\n",
       "      <td>BKK</td>\n",
       "      <td>0085</td>\n",
       "      <td>8E</td>\n",
       "      <td>NaN</td>\n",
       "      <td>3</td>\n",
       "      <td>Kelenföld vasútállomás M / Újpalota, Nyírpalot...</td>\n",
       "      <td>009EE3</td>\n",
       "      <td>FFFFFF</td>\n",
       "      <td>28</td>\n",
       "    </tr>\n",
       "    <tr>\n",
       "      <th>...</th>\n",
       "      <td>...</td>\n",
       "      <td>...</td>\n",
       "      <td>...</td>\n",
       "      <td>...</td>\n",
       "      <td>...</td>\n",
       "      <td>...</td>\n",
       "      <td>...</td>\n",
       "      <td>...</td>\n",
       "      <td>...</td>\n",
       "    </tr>\n",
       "    <tr>\n",
       "      <th>345</th>\n",
       "      <td>HEV</td>\n",
       "      <td>H9</td>\n",
       "      <td>H9</td>\n",
       "      <td>NaN</td>\n",
       "      <td>109</td>\n",
       "      <td>Örs vezér tere / Csömör</td>\n",
       "      <td>ED6E86</td>\n",
       "      <td>FFFFFF</td>\n",
       "      <td>9</td>\n",
       "    </tr>\n",
       "    <tr>\n",
       "      <th>346</th>\n",
       "      <td>BKK</td>\n",
       "      <td>MP53</td>\n",
       "      <td>M3</td>\n",
       "      <td>NaN</td>\n",
       "      <td>3</td>\n",
       "      <td>Göncz Árpád városközpont M / Kálvin tér M</td>\n",
       "      <td>009EE3</td>\n",
       "      <td>FFFFFF</td>\n",
       "      <td>322</td>\n",
       "    </tr>\n",
       "    <tr>\n",
       "      <th>347</th>\n",
       "      <td>BKK</td>\n",
       "      <td>MP531</td>\n",
       "      <td>M3A</td>\n",
       "      <td>NaN</td>\n",
       "      <td>3</td>\n",
       "      <td>Göncz Árpád városközpont M / Nyugati pályaudvar M</td>\n",
       "      <td>009EE3</td>\n",
       "      <td>FFFFFF</td>\n",
       "      <td>323</td>\n",
       "    </tr>\n",
       "    <tr>\n",
       "      <th>348</th>\n",
       "      <td>BKK</td>\n",
       "      <td>MP533</td>\n",
       "      <td>M3</td>\n",
       "      <td>NaN</td>\n",
       "      <td>3</td>\n",
       "      <td>Göncz Árpád városközpont M / Kőbánya-Kispest M</td>\n",
       "      <td>009EE3</td>\n",
       "      <td>FFFFFF</td>\n",
       "      <td>321</td>\n",
       "    </tr>\n",
       "    <tr>\n",
       "      <th>349</th>\n",
       "      <td>BKK</td>\n",
       "      <td>MP536</td>\n",
       "      <td>M30</td>\n",
       "      <td>NaN</td>\n",
       "      <td>3</td>\n",
       "      <td>Nagyvárad tér M / Népliget M</td>\n",
       "      <td>4CA22F</td>\n",
       "      <td>FFFFFF</td>\n",
       "      <td>324</td>\n",
       "    </tr>\n",
       "  </tbody>\n",
       "</table>\n",
       "<p>350 rows × 9 columns</p>\n",
       "</div>"
      ],
      "text/plain": [
       "    agency_id route_id route_short_name route_long_name  route_type  \\\n",
       "0         BKK     0050                5             NaN           3   \n",
       "1         BKK     0070                7             NaN           3   \n",
       "2         BKK     0075               7E             NaN           3   \n",
       "3         BKK     0078               7G             NaN           3   \n",
       "4         BKK     0085               8E             NaN           3   \n",
       "..        ...      ...              ...             ...         ...   \n",
       "345       HEV       H9               H9             NaN         109   \n",
       "346       BKK     MP53               M3             NaN           3   \n",
       "347       BKK    MP531              M3A             NaN           3   \n",
       "348       BKK    MP533               M3             NaN           3   \n",
       "349       BKK    MP536              M30             NaN           3   \n",
       "\n",
       "                                            route_desc route_color  \\\n",
       "0             Pasaréti tér / Rákospalota, Kossuth utca      009EE3   \n",
       "1    Albertfalva vasútállomás / Újpalota, Nyírpalot...      009EE3   \n",
       "2          Blaha Lujza tér M / Újpalota, Nyírpalota út      009EE3   \n",
       "3    Cinkotai autóbuszgarázs / Újpalota, Nyírpalota út      009EE3   \n",
       "4    Kelenföld vasútállomás M / Újpalota, Nyírpalot...      009EE3   \n",
       "..                                                 ...         ...   \n",
       "345                            Örs vezér tere / Csömör      ED6E86   \n",
       "346          Göncz Árpád városközpont M / Kálvin tér M      009EE3   \n",
       "347  Göncz Árpád városközpont M / Nyugati pályaudvar M      009EE3   \n",
       "348     Göncz Árpád városközpont M / Kőbánya-Kispest M      009EE3   \n",
       "349                       Nagyvárad tér M / Népliget M      4CA22F   \n",
       "\n",
       "    route_text_color route_sort_order  \n",
       "0             FFFFFF               23  \n",
       "1             FFFFFF               25  \n",
       "2             FFFFFF               26  \n",
       "3             FFFFFF               27  \n",
       "4             FFFFFF               28  \n",
       "..               ...              ...  \n",
       "345           FFFFFF                9  \n",
       "346           FFFFFF              322  \n",
       "347           FFFFFF              323  \n",
       "348           FFFFFF              321  \n",
       "349           FFFFFF              324  \n",
       "\n",
       "[350 rows x 9 columns]"
      ]
     },
     "execution_count": 93,
     "metadata": {},
     "output_type": "execute_result"
    }
   ],
   "source": [
    "routes"
   ]
  },
  {
   "cell_type": "code",
   "execution_count": 94,
   "metadata": {},
   "outputs": [
    {
     "data": {
      "text/html": [
       "<div>\n",
       "<style scoped>\n",
       "    .dataframe tbody tr th:only-of-type {\n",
       "        vertical-align: middle;\n",
       "    }\n",
       "\n",
       "    .dataframe tbody tr th {\n",
       "        vertical-align: top;\n",
       "    }\n",
       "\n",
       "    .dataframe thead th {\n",
       "        text-align: right;\n",
       "    }\n",
       "</style>\n",
       "<table border=\"1\" class=\"dataframe\">\n",
       "  <thead>\n",
       "    <tr style=\"text-align: right;\">\n",
       "      <th></th>\n",
       "      <th>trip_id</th>\n",
       "      <th>route_id</th>\n",
       "      <th>service_id</th>\n",
       "      <th>direction_id</th>\n",
       "      <th>shape_id</th>\n",
       "    </tr>\n",
       "  </thead>\n",
       "  <tbody>\n",
       "    <tr>\n",
       "      <th>0</th>\n",
       "      <td>C0418310</td>\n",
       "      <td>8140</td>\n",
       "      <td>C04183AHPMAA-011</td>\n",
       "      <td>0</td>\n",
       "      <td>Y701</td>\n",
       "    </tr>\n",
       "    <tr>\n",
       "      <th>1</th>\n",
       "      <td>C0418311</td>\n",
       "      <td>8140</td>\n",
       "      <td>C04183AHPMAA-011</td>\n",
       "      <td>1</td>\n",
       "      <td>Y702</td>\n",
       "    </tr>\n",
       "    <tr>\n",
       "      <th>2</th>\n",
       "      <td>C0418312</td>\n",
       "      <td>8140</td>\n",
       "      <td>C04183AHPMAA-011</td>\n",
       "      <td>0</td>\n",
       "      <td>Y701</td>\n",
       "    </tr>\n",
       "    <tr>\n",
       "      <th>3</th>\n",
       "      <td>C0418313</td>\n",
       "      <td>8140</td>\n",
       "      <td>C04183AHPMAA-011</td>\n",
       "      <td>1</td>\n",
       "      <td>Y702</td>\n",
       "    </tr>\n",
       "    <tr>\n",
       "      <th>4</th>\n",
       "      <td>C0418314</td>\n",
       "      <td>8140</td>\n",
       "      <td>C04183AHPMAA-011</td>\n",
       "      <td>0</td>\n",
       "      <td>Y701</td>\n",
       "    </tr>\n",
       "    <tr>\n",
       "      <th>...</th>\n",
       "      <td>...</td>\n",
       "      <td>...</td>\n",
       "      <td>...</td>\n",
       "      <td>...</td>\n",
       "      <td>...</td>\n",
       "    </tr>\n",
       "    <tr>\n",
       "      <th>42373</th>\n",
       "      <td>H550214_1312</td>\n",
       "      <td>H9</td>\n",
       "      <td>20858</td>\n",
       "      <td>0</td>\n",
       "      <td>1312</td>\n",
       "    </tr>\n",
       "    <tr>\n",
       "      <th>42374</th>\n",
       "      <td>H550716_1313</td>\n",
       "      <td>H9</td>\n",
       "      <td>20858</td>\n",
       "      <td>1</td>\n",
       "      <td>1313</td>\n",
       "    </tr>\n",
       "    <tr>\n",
       "      <th>42375</th>\n",
       "      <td>H55125_1312</td>\n",
       "      <td>H9</td>\n",
       "      <td>20858</td>\n",
       "      <td>0</td>\n",
       "      <td>1312</td>\n",
       "    </tr>\n",
       "    <tr>\n",
       "      <th>42376</th>\n",
       "      <td>H55179_1313</td>\n",
       "      <td>H9</td>\n",
       "      <td>20858</td>\n",
       "      <td>1</td>\n",
       "      <td>1313</td>\n",
       "    </tr>\n",
       "    <tr>\n",
       "      <th>42377</th>\n",
       "      <td>H8000_22</td>\n",
       "      <td>H5</td>\n",
       "      <td>20858</td>\n",
       "      <td>0</td>\n",
       "      <td>22</td>\n",
       "    </tr>\n",
       "  </tbody>\n",
       "</table>\n",
       "<p>42378 rows × 5 columns</p>\n",
       "</div>"
      ],
      "text/plain": [
       "            trip_id route_id        service_id  direction_id shape_id\n",
       "0          C0418310     8140  C04183AHPMAA-011             0     Y701\n",
       "1          C0418311     8140  C04183AHPMAA-011             1     Y702\n",
       "2          C0418312     8140  C04183AHPMAA-011             0     Y701\n",
       "3          C0418313     8140  C04183AHPMAA-011             1     Y702\n",
       "4          C0418314     8140  C04183AHPMAA-011             0     Y701\n",
       "...             ...      ...               ...           ...      ...\n",
       "42373  H550214_1312       H9             20858             0     1312\n",
       "42374  H550716_1313       H9             20858             1     1313\n",
       "42375   H55125_1312       H9             20858             0     1312\n",
       "42376   H55179_1313       H9             20858             1     1313\n",
       "42377      H8000_22       H5             20858             0       22\n",
       "\n",
       "[42378 rows x 5 columns]"
      ]
     },
     "execution_count": 94,
     "metadata": {},
     "output_type": "execute_result"
    }
   ],
   "source": [
    "trips"
   ]
  },
  {
   "cell_type": "code",
   "execution_count": 95,
   "metadata": {},
   "outputs": [
    {
     "data": {
      "text/html": [
       "<div>\n",
       "<style scoped>\n",
       "    .dataframe tbody tr th:only-of-type {\n",
       "        vertical-align: middle;\n",
       "    }\n",
       "\n",
       "    .dataframe tbody tr th {\n",
       "        vertical-align: top;\n",
       "    }\n",
       "\n",
       "    .dataframe thead th {\n",
       "        text-align: right;\n",
       "    }\n",
       "</style>\n",
       "<table border=\"1\" class=\"dataframe\">\n",
       "  <thead>\n",
       "    <tr style=\"text-align: right;\">\n",
       "      <th></th>\n",
       "      <th>shape_id</th>\n",
       "      <th>geometry</th>\n",
       "    </tr>\n",
       "  </thead>\n",
       "  <tbody>\n",
       "    <tr>\n",
       "      <th>0</th>\n",
       "      <td>0285</td>\n",
       "      <td>LINESTRING (19.14833 47.51965, 19.14831 47.519...</td>\n",
       "    </tr>\n",
       "    <tr>\n",
       "      <th>1</th>\n",
       "      <td>0803</td>\n",
       "      <td>LINESTRING (19.08235 47.55962, 19.08243 47.559...</td>\n",
       "    </tr>\n",
       "    <tr>\n",
       "      <th>2</th>\n",
       "      <td>0976</td>\n",
       "      <td>LINESTRING (19.04686 47.47404, 19.04688 47.474...</td>\n",
       "    </tr>\n",
       "    <tr>\n",
       "      <th>3</th>\n",
       "      <td>0977</td>\n",
       "      <td>LINESTRING (19.02519 47.50723, 19.02518 47.507...</td>\n",
       "    </tr>\n",
       "    <tr>\n",
       "      <th>4</th>\n",
       "      <td>1</td>\n",
       "      <td>LINESTRING (19.03942 47.50667, 19.03941 47.507...</td>\n",
       "    </tr>\n",
       "    <tr>\n",
       "      <th>...</th>\n",
       "      <td>...</td>\n",
       "      <td>...</td>\n",
       "    </tr>\n",
       "    <tr>\n",
       "      <th>1295</th>\n",
       "      <td>Z545</td>\n",
       "      <td>LINESTRING (19.01851 47.46434, 19.01864 47.464...</td>\n",
       "    </tr>\n",
       "    <tr>\n",
       "      <th>1296</th>\n",
       "      <td>Z546</td>\n",
       "      <td>LINESTRING (18.92367 47.51776, 18.92387 47.517...</td>\n",
       "    </tr>\n",
       "    <tr>\n",
       "      <th>1297</th>\n",
       "      <td>Z895</td>\n",
       "      <td>LINESTRING (18.99852 47.49470, 18.99843 47.494...</td>\n",
       "    </tr>\n",
       "    <tr>\n",
       "      <th>1298</th>\n",
       "      <td>Z962</td>\n",
       "      <td>LINESTRING (19.04937 47.51389, 19.04941 47.513...</td>\n",
       "    </tr>\n",
       "    <tr>\n",
       "      <th>1299</th>\n",
       "      <td>a-1203</td>\n",
       "      <td>LINESTRING (19.03917 47.42709, 19.03914 47.427...</td>\n",
       "    </tr>\n",
       "  </tbody>\n",
       "</table>\n",
       "<p>1300 rows × 2 columns</p>\n",
       "</div>"
      ],
      "text/plain": [
       "     shape_id                                           geometry\n",
       "0        0285  LINESTRING (19.14833 47.51965, 19.14831 47.519...\n",
       "1        0803  LINESTRING (19.08235 47.55962, 19.08243 47.559...\n",
       "2        0976  LINESTRING (19.04686 47.47404, 19.04688 47.474...\n",
       "3        0977  LINESTRING (19.02519 47.50723, 19.02518 47.507...\n",
       "4           1  LINESTRING (19.03942 47.50667, 19.03941 47.507...\n",
       "...       ...                                                ...\n",
       "1295     Z545  LINESTRING (19.01851 47.46434, 19.01864 47.464...\n",
       "1296     Z546  LINESTRING (18.92367 47.51776, 18.92387 47.517...\n",
       "1297     Z895  LINESTRING (18.99852 47.49470, 18.99843 47.494...\n",
       "1298     Z962  LINESTRING (19.04937 47.51389, 19.04941 47.513...\n",
       "1299   a-1203  LINESTRING (19.03917 47.42709, 19.03914 47.427...\n",
       "\n",
       "[1300 rows x 2 columns]"
      ]
     },
     "execution_count": 95,
     "metadata": {},
     "output_type": "execute_result"
    }
   ],
   "source": [
    "shapes"
   ]
  },
  {
   "cell_type": "code",
   "execution_count": 59,
   "metadata": {},
   "outputs": [],
   "source": [
    "I_building=(47.47282880598328, 19.060057869533754)\n",
    "radius=(47.46980543001353, 19.05407442774218)\n",
    "\n",
    "def distance(x1,x2,y1,y2):\n",
    "    a=math.sqrt((x2 - x1)**2 + (y2 - y1)**2)\n",
    "    return a"
   ]
  },
  {
   "cell_type": "code",
   "execution_count": 60,
   "metadata": {},
   "outputs": [
    {
     "data": {
      "text/plain": [
       "40.183819140054325"
      ]
     },
     "execution_count": 60,
     "metadata": {},
     "output_type": "execute_result"
    }
   ],
   "source": [
    "distance(I_building[1],I_building[0],radius[1],radius[0])"
   ]
  },
  {
   "cell_type": "code",
   "execution_count": 43,
   "metadata": {},
   "outputs": [
    {
     "data": {
      "image/png": "[encoded data removed]",
      "text/plain": [
       "<Figure size 640x480 with 1 Axes>"
      ]
     },
     "metadata": {},
     "output_type": "display_data"
    }
   ],
   "source": [
    "%matplotlib inline\n",
    "circle2 = plt.Circle((I_building[1], I_building[0]), 0.00670390766103, color='b', fill=False)\n",
    "\n",
    "ax = plt.gca()\n",
    "ax.cla() # clear things for fresh plot\n",
    "ax.scatter(I_building[1], I_building[0])\n",
    "ax.scatter(y,x)\n",
    "\n",
    "\n",
    "ax.add_patch(circle2)\n",
    "plt.show()"
   ]
  },
  {
   "cell_type": "code",
   "execution_count": 46,
   "metadata": {},
   "outputs": [],
   "source": [
    "import plotly.express as px"
   ]
  },
  {
   "cell_type": "code",
   "execution_count": 55,
   "metadata": {},
   "outputs": [
    {
     "data": {
      "application/vnd.plotly.v1+json": {
       "config": {
        "plotlyServerURL": "https://plot.ly"
       },
       "data": [
        {
         "hovertemplate": "x=%{x}<br>y=%{y}<extra></extra>",
         "legendgroup": "",
         "marker": {
          "color": "#636efa",
          "symbol": "circle"
         },
         "mode": "markers",
         "name": "",
         "orientation": "v",
         "showlegend": false,
         "type": "scatter",
         "x": [
          5,
          7,
          3,
          6,
          1,
          9,
          2
         ],
         "xaxis": "x",
         "y": [
          2,
          6,
          2,
          1,
          4,
          1,
          6
         ],
         "yaxis": "y"
        }
       ],
       "layout": {
        "legend": {
         "tracegroupgap": 0
        },
        "margin": {
         "t": 60
        },
        "template": {
         "data": {
          "bar": [
           {
            "error_x": {
             "color": "#2a3f5f"
            },
            "error_y": {
             "color": "#2a3f5f"
            },
            "marker": {
             "line": {
              "color": "#E5ECF6",
              "width": 0.5
             },
             "pattern": {
              "fillmode": "overlay",
              "size": 10,
              "solidity": 0.2
             }
            },
            "type": "bar"
           }
          ],
          "barpolar": [
           {
            "marker": {
             "line": {
              "color": "#E5ECF6",
              "width": 0.5
             },
             "pattern": {
              "fillmode": "overlay",
              "size": 10,
              "solidity": 0.2
             }
            },
            "type": "barpolar"
           }
          ],
          "carpet": [
           {
            "aaxis": {
             "endlinecolor": "#2a3f5f",
             "gridcolor": "white",
             "linecolor": "white",
             "minorgridcolor": "white",
             "startlinecolor": "#2a3f5f"
            },
            "baxis": {
             "endlinecolor": "#2a3f5f",
             "gridcolor": "white",
             "linecolor": "white",
             "minorgridcolor": "white",
             "startlinecolor": "#2a3f5f"
            },
            "type": "carpet"
           }
          ],
          "choropleth": [
           {
            "colorbar": {
             "outlinewidth": 0,
             "ticks": ""
            },
            "type": "choropleth"
           }
          ],
          "contour": [
           {
            "colorbar": {
             "outlinewidth": 0,
             "ticks": ""
            },
            "colorscale": [
             [
              0,
              "#0d0887"
             ],
             [
              0.1111111111111111,
              "#46039f"
             ],
             [
              0.2222222222222222,
              "#7201a8"
             ],
             [
              0.3333333333333333,
              "#9c179e"
             ],
             [
              0.4444444444444444,
              "#bd3786"
             ],
             [
              0.5555555555555556,
              "#d8576b"
             ],
             [
              0.6666666666666666,
              "#ed7953"
             ],
             [
              0.7777777777777778,
              "#fb9f3a"
             ],
             [
              0.8888888888888888,
              "#fdca26"
             ],
             [
              1,
              "#f0f921"
             ]
            ],
            "type": "contour"
           }
          ],
          "contourcarpet": [
           {
            "colorbar": {
             "outlinewidth": 0,
             "ticks": ""
            },
            "type": "contourcarpet"
           }
          ],
          "heatmap": [
           {
            "colorbar": {
             "outlinewidth": 0,
             "ticks": ""
            },
            "colorscale": [
             [
              0,
              "#0d0887"
             ],
             [
              0.1111111111111111,
              "#46039f"
             ],
             [
              0.2222222222222222,
              "#7201a8"
             ],
             [
              0.3333333333333333,
              "#9c179e"
             ],
             [
              0.4444444444444444,
              "#bd3786"
             ],
             [
              0.5555555555555556,
              "#d8576b"
             ],
             [
              0.6666666666666666,
              "#ed7953"
             ],
             [
              0.7777777777777778,
              "#fb9f3a"
             ],
             [
              0.8888888888888888,
              "#fdca26"
             ],
             [
              1,
              "#f0f921"
             ]
            ],
            "type": "heatmap"
           }
          ],
          "heatmapgl": [
           {
            "colorbar": {
             "outlinewidth": 0,
             "ticks": ""
            },
            "colorscale": [
             [
              0,
              "#0d0887"
             ],
             [
              0.1111111111111111,
              "#46039f"
             ],
             [
              0.2222222222222222,
              "#7201a8"
             ],
             [
              0.3333333333333333,
              "#9c179e"
             ],
             [
              0.4444444444444444,
              "#bd3786"
             ],
             [
              0.5555555555555556,
              "#d8576b"
             ],
             [
              0.6666666666666666,
              "#ed7953"
             ],
             [
              0.7777777777777778,
              "#fb9f3a"
             ],
             [
              0.8888888888888888,
              "#fdca26"
             ],
             [
              1,
              "#f0f921"
             ]
            ],
            "type": "heatmapgl"
           }
          ],
          "histogram": [
           {
            "marker": {
             "pattern": {
              "fillmode": "overlay",
              "size": 10,
              "solidity": 0.2
             }
            },
            "type": "histogram"
           }
          ],
          "histogram2d": [
           {
            "colorbar": {
             "outlinewidth": 0,
             "ticks": ""
            },
            "colorscale": [
             [
              0,
              "#0d0887"
             ],
             [
              0.1111111111111111,
              "#46039f"
             ],
             [
              0.2222222222222222,
              "#7201a8"
             ],
             [
              0.3333333333333333,
              "#9c179e"
             ],
             [
              0.4444444444444444,
              "#bd3786"
             ],
             [
              0.5555555555555556,
              "#d8576b"
             ],
             [
              0.6666666666666666,
              "#ed7953"
             ],
             [
              0.7777777777777778,
              "#fb9f3a"
             ],
             [
              0.8888888888888888,
              "#fdca26"
             ],
             [
              1,
              "#f0f921"
             ]
            ],
            "type": "histogram2d"
           }
          ],
          "histogram2dcontour": [
           {
            "colorbar": {
             "outlinewidth": 0,
             "ticks": ""
            },
            "colorscale": [
             [
              0,
              "#0d0887"
             ],
             [
              0.1111111111111111,
              "#46039f"
             ],
             [
              0.2222222222222222,
              "#7201a8"
             ],
             [
              0.3333333333333333,
              "#9c179e"
             ],
             [
              0.4444444444444444,
              "#bd3786"
             ],
             [
              0.5555555555555556,
              "#d8576b"
             ],
             [
              0.6666666666666666,
              "#ed7953"
             ],
             [
              0.7777777777777778,
              "#fb9f3a"
             ],
             [
              0.8888888888888888,
              "#fdca26"
             ],
             [
              1,
              "#f0f921"
             ]
            ],
            "type": "histogram2dcontour"
           }
          ],
          "mesh3d": [
           {
            "colorbar": {
             "outlinewidth": 0,
             "ticks": ""
            },
            "type": "mesh3d"
           }
          ],
          "parcoords": [
           {
            "line": {
             "colorbar": {
              "outlinewidth": 0,
              "ticks": ""
             }
            },
            "type": "parcoords"
           }
          ],
          "pie": [
           {
            "automargin": true,
            "type": "pie"
           }
          ],
          "scatter": [
           {
            "fillpattern": {
             "fillmode": "overlay",
             "size": 10,
             "solidity": 0.2
            },
            "type": "scatter"
           }
          ],
          "scatter3d": [
           {
            "line": {
             "colorbar": {
              "outlinewidth": 0,
              "ticks": ""
             }
            },
            "marker": {
             "colorbar": {
              "outlinewidth": 0,
              "ticks": ""
             }
            },
            "type": "scatter3d"
           }
          ],
          "scattercarpet": [
           {
            "marker": {
             "colorbar": {
              "outlinewidth": 0,
              "ticks": ""
             }
            },
            "type": "scattercarpet"
           }
          ],
          "scattergeo": [
           {
            "marker": {
             "colorbar": {
              "outlinewidth": 0,
              "ticks": ""
             }
            },
            "type": "scattergeo"
           }
          ],
          "scattergl": [
           {
            "marker": {
             "colorbar": {
              "outlinewidth": 0,
              "ticks": ""
             }
            },
            "type": "scattergl"
           }
          ],
          "scattermapbox": [
           {
            "marker": {
             "colorbar": {
              "outlinewidth": 0,
              "ticks": ""
             }
            },
            "type": "scattermapbox"
           }
          ],
          "scatterpolar": [
           {
            "marker": {
             "colorbar": {
              "outlinewidth": 0,
              "ticks": ""
             }
            },
            "type": "scatterpolar"
           }
          ],
          "scatterpolargl": [
           {
            "marker": {
             "colorbar": {
              "outlinewidth": 0,
              "ticks": ""
             }
            },
            "type": "scatterpolargl"
           }
          ],
          "scatterternary": [
           {
            "marker": {
             "colorbar": {
              "outlinewidth": 0,
              "ticks": ""
             }
            },
            "type": "scatterternary"
           }
          ],
          "surface": [
           {
            "colorbar": {
             "outlinewidth": 0,
             "ticks": ""
            },
            "colorscale": [
             [
              0,
              "#0d0887"
             ],
             [
              0.1111111111111111,
              "#46039f"
             ],
             [
              0.2222222222222222,
              "#7201a8"
             ],
             [
              0.3333333333333333,
              "#9c179e"
             ],
             [
              0.4444444444444444,
              "#bd3786"
             ],
             [
              0.5555555555555556,
              "#d8576b"
             ],
             [
              0.6666666666666666,
              "#ed7953"
             ],
             [
              0.7777777777777778,
              "#fb9f3a"
             ],
             [
              0.8888888888888888,
              "#fdca26"
             ],
             [
              1,
              "#f0f921"
             ]
            ],
            "type": "surface"
           }
          ],
          "table": [
           {
            "cells": {
             "fill": {
              "color": "#EBF0F8"
             },
             "line": {
              "color": "white"
             }
            },
            "header": {
             "fill": {
              "color": "#C8D4E3"
             },
             "line": {
              "color": "white"
             }
            },
            "type": "table"
           }
          ]
         },
         "layout": {
          "annotationdefaults": {
           "arrowcolor": "#2a3f5f",
           "arrowhead": 0,
           "arrowwidth": 1
          },
          "autotypenumbers": "strict",
          "coloraxis": {
           "colorbar": {
            "outlinewidth": 0,
            "ticks": ""
           }
          },
          "colorscale": {
           "diverging": [
            [
             0,
             "#8e0152"
            ],
            [
             0.1,
             "#c51b7d"
            ],
            [
             0.2,
             "#de77ae"
            ],
            [
             0.3,
             "#f1b6da"
            ],
            [
             0.4,
             "#fde0ef"
            ],
            [
             0.5,
             "#f7f7f7"
            ],
            [
             0.6,
             "#e6f5d0"
            ],
            [
             0.7,
             "#b8e186"
            ],
            [
             0.8,
             "#7fbc41"
            ],
            [
             0.9,
             "#4d9221"
            ],
            [
             1,
             "#276419"
            ]
           ],
           "sequential": [
            [
             0,
             "#0d0887"
            ],
            [
             0.1111111111111111,
             "#46039f"
            ],
            [
             0.2222222222222222,
             "#7201a8"
            ],
            [
             0.3333333333333333,
             "#9c179e"
            ],
            [
             0.4444444444444444,
             "#bd3786"
            ],
            [
             0.5555555555555556,
             "#d8576b"
            ],
            [
             0.6666666666666666,
             "#ed7953"
            ],
            [
             0.7777777777777778,
             "#fb9f3a"
            ],
            [
             0.8888888888888888,
             "#fdca26"
            ],
            [
             1,
             "#f0f921"
            ]
           ],
           "sequentialminus": [
            [
             0,
             "#0d0887"
            ],
            [
             0.1111111111111111,
             "#46039f"
            ],
            [
             0.2222222222222222,
             "#7201a8"
            ],
            [
             0.3333333333333333,
             "#9c179e"
            ],
            [
             0.4444444444444444,
             "#bd3786"
            ],
            [
             0.5555555555555556,
             "#d8576b"
            ],
            [
             0.6666666666666666,
             "#ed7953"
            ],
            [
             0.7777777777777778,
             "#fb9f3a"
            ],
            [
             0.8888888888888888,
             "#fdca26"
            ],
            [
             1,
             "#f0f921"
            ]
           ]
          },
          "colorway": [
           "#636efa",
           "#EF553B",
           "#00cc96",
           "#ab63fa",
           "#FFA15A",
           "#19d3f3",
           "#FF6692",
           "#B6E880",
           "#FF97FF",
           "#FECB52"
          ],
          "font": {
           "color": "#2a3f5f"
          },
          "geo": {
           "bgcolor": "white",
           "lakecolor": "white",
           "landcolor": "#E5ECF6",
           "showlakes": true,
           "showland": true,
           "subunitcolor": "white"
          },
          "hoverlabel": {
           "align": "left"
          },
          "hovermode": "closest",
          "mapbox": {
           "style": "light"
          },
          "paper_bgcolor": "white",
          "plot_bgcolor": "#E5ECF6",
          "polar": {
           "angularaxis": {
            "gridcolor": "white",
            "linecolor": "white",
            "ticks": ""
           },
           "bgcolor": "#E5ECF6",
           "radialaxis": {
            "gridcolor": "white",
            "linecolor": "white",
            "ticks": ""
           }
          },
          "scene": {
           "xaxis": {
            "backgroundcolor": "#E5ECF6",
            "gridcolor": "white",
            "gridwidth": 2,
            "linecolor": "white",
            "showbackground": true,
            "ticks": "",
            "zerolinecolor": "white"
           },
           "yaxis": {
            "backgroundcolor": "#E5ECF6",
            "gridcolor": "white",
            "gridwidth": 2,
            "linecolor": "white",
            "showbackground": true,
            "ticks": "",
            "zerolinecolor": "white"
           },
           "zaxis": {
            "backgroundcolor": "#E5ECF6",
            "gridcolor": "white",
            "gridwidth": 2,
            "linecolor": "white",
            "showbackground": true,
            "ticks": "",
            "zerolinecolor": "white"
           }
          },
          "shapedefaults": {
           "line": {
            "color": "#2a3f5f"
           }
          },
          "ternary": {
           "aaxis": {
            "gridcolor": "white",
            "linecolor": "white",
            "ticks": ""
           },
           "baxis": {
            "gridcolor": "white",
            "linecolor": "white",
            "ticks": ""
           },
           "bgcolor": "#E5ECF6",
           "caxis": {
            "gridcolor": "white",
            "linecolor": "white",
            "ticks": ""
           }
          },
          "title": {
           "x": 0.05
          },
          "xaxis": {
           "automargin": true,
           "gridcolor": "white",
           "linecolor": "white",
           "ticks": "",
           "title": {
            "standoff": 15
           },
           "zerolinecolor": "white",
           "zerolinewidth": 2
          },
          "yaxis": {
           "automargin": true,
           "gridcolor": "white",
           "linecolor": "white",
           "ticks": "",
           "title": {
            "standoff": 15
           },
           "zerolinecolor": "white",
           "zerolinewidth": 2
          }
         }
        },
        "xaxis": {
         "anchor": "y",
         "domain": [
          0,
          1
         ],
         "title": {
          "text": "x"
         }
        },
        "yaxis": {
         "anchor": "x",
         "domain": [
          0,
          1
         ],
         "title": {
          "text": "y"
         }
        }
       }
      }
     },
     "metadata": {},
     "output_type": "display_data"
    }
   ],
   "source": [
    "fig = px.scatter(x = [5, 7, 3, 6, 1, 9, 2],\n",
    "                 y = [2, 6, 2, 1, 4, 1, 6],)\n",
    "fig.show()"
   ]
  },
  {
   "cell_type": "code",
   "execution_count": 11,
   "metadata": {},
   "outputs": [],
   "source": [
    "segments_gdf = gtfs.cut_gtfs(stop_times, stops, shapes)"
   ]
  },
  {
   "cell_type": "code",
   "execution_count": 12,
   "metadata": {},
   "outputs": [
    {
     "data": {
      "text/html": [
       "<div>\n",
       "<style scoped>\n",
       "    .dataframe tbody tr th:only-of-type {\n",
       "        vertical-align: middle;\n",
       "    }\n",
       "\n",
       "    .dataframe tbody tr th {\n",
       "        vertical-align: top;\n",
       "    }\n",
       "\n",
       "    .dataframe thead th {\n",
       "        text-align: right;\n",
       "    }\n",
       "</style>\n",
       "<table border=\"1\" class=\"dataframe\">\n",
       "  <thead>\n",
       "    <tr style=\"text-align: right;\">\n",
       "      <th></th>\n",
       "      <th>route_id</th>\n",
       "      <th>direction_id</th>\n",
       "      <th>stop_sequence</th>\n",
       "      <th>start_stop_name</th>\n",
       "      <th>end_stop_name</th>\n",
       "      <th>start_stop_id</th>\n",
       "      <th>end_stop_id</th>\n",
       "      <th>segment_id</th>\n",
       "      <th>shape_id</th>\n",
       "      <th>geometry</th>\n",
       "      <th>distance_m</th>\n",
       "    </tr>\n",
       "  </thead>\n",
       "  <tbody>\n",
       "    <tr>\n",
       "      <th>0</th>\n",
       "      <td>H5</td>\n",
       "      <td>0</td>\n",
       "      <td>1</td>\n",
       "      <td>Batthyány tér</td>\n",
       "      <td>Margit híd, budai hídfő</td>\n",
       "      <td>008485</td>\n",
       "      <td>F00185</td>\n",
       "      <td>008485-F00185</td>\n",
       "      <td>1</td>\n",
       "      <td>LINESTRING (19.03942 47.50667, 19.03941 47.507...</td>\n",
       "      <td>1021.462320</td>\n",
       "    </tr>\n",
       "    <tr>\n",
       "      <th>1</th>\n",
       "      <td>H5</td>\n",
       "      <td>0</td>\n",
       "      <td>2</td>\n",
       "      <td>Margit híd, budai hídfő</td>\n",
       "      <td>Szépvölgyi út</td>\n",
       "      <td>F00185</td>\n",
       "      <td>F00139</td>\n",
       "      <td>F00185-F00139</td>\n",
       "      <td>1</td>\n",
       "      <td>LINESTRING (19.03946 47.51585, 19.03947 47.515...</td>\n",
       "      <td>1285.218661</td>\n",
       "    </tr>\n",
       "    <tr>\n",
       "      <th>2</th>\n",
       "      <td>H5</td>\n",
       "      <td>0</td>\n",
       "      <td>3</td>\n",
       "      <td>Szépvölgyi út</td>\n",
       "      <td>Tímár utca</td>\n",
       "      <td>F00139</td>\n",
       "      <td>F00632</td>\n",
       "      <td>F00139-F00632</td>\n",
       "      <td>1</td>\n",
       "      <td>LINESTRING (19.04014 47.52721, 19.04016 47.527...</td>\n",
       "      <td>884.510231</td>\n",
       "    </tr>\n",
       "    <tr>\n",
       "      <th>3</th>\n",
       "      <td>H5</td>\n",
       "      <td>0</td>\n",
       "      <td>4</td>\n",
       "      <td>Tímár utca</td>\n",
       "      <td>Szentlélek tér</td>\n",
       "      <td>F00632</td>\n",
       "      <td>F00624</td>\n",
       "      <td>F00632-F00624</td>\n",
       "      <td>1</td>\n",
       "      <td>LINESTRING (19.04504 47.53436, 19.04509 47.534...</td>\n",
       "      <td>619.849337</td>\n",
       "    </tr>\n",
       "    <tr>\n",
       "      <th>4</th>\n",
       "      <td>H5</td>\n",
       "      <td>0</td>\n",
       "      <td>5</td>\n",
       "      <td>Szentlélek tér</td>\n",
       "      <td>Filatorigát</td>\n",
       "      <td>F00624</td>\n",
       "      <td>F00578</td>\n",
       "      <td>F00624-F00578</td>\n",
       "      <td>1</td>\n",
       "      <td>LINESTRING (19.04718 47.53954, 19.04717 47.539...</td>\n",
       "      <td>1397.771094</td>\n",
       "    </tr>\n",
       "    <tr>\n",
       "      <th>...</th>\n",
       "      <td>...</td>\n",
       "      <td>...</td>\n",
       "      <td>...</td>\n",
       "      <td>...</td>\n",
       "      <td>...</td>\n",
       "      <td>...</td>\n",
       "      <td>...</td>\n",
       "      <td>...</td>\n",
       "      <td>...</td>\n",
       "      <td>...</td>\n",
       "      <td>...</td>\n",
       "    </tr>\n",
       "    <tr>\n",
       "      <th>24337</th>\n",
       "      <td>1360</td>\n",
       "      <td>0</td>\n",
       "      <td>1</td>\n",
       "      <td>Baross utca</td>\n",
       "      <td>Fiatalság utca</td>\n",
       "      <td>F03763</td>\n",
       "      <td>F03765</td>\n",
       "      <td>F03763-F03765</td>\n",
       "      <td>WY25</td>\n",
       "      <td>LINESTRING (19.17176 47.43986, 19.17184 47.439...</td>\n",
       "      <td>594.748766</td>\n",
       "    </tr>\n",
       "    <tr>\n",
       "      <th>24338</th>\n",
       "      <td>3022</td>\n",
       "      <td>1</td>\n",
       "      <td>0</td>\n",
       "      <td>Ferencváros vá. - Málenkij Robot Eh.</td>\n",
       "      <td>Mester utca / Könyves Kálmán körút</td>\n",
       "      <td>F01503</td>\n",
       "      <td>008152</td>\n",
       "      <td>F01503-008152</td>\n",
       "      <td>XG89</td>\n",
       "      <td>LINESTRING (19.09142 47.47069, 19.09139 47.470...</td>\n",
       "      <td>607.027671</td>\n",
       "    </tr>\n",
       "    <tr>\n",
       "      <th>24339</th>\n",
       "      <td>3022</td>\n",
       "      <td>1</td>\n",
       "      <td>1</td>\n",
       "      <td>Mester utca / Könyves Kálmán körút</td>\n",
       "      <td>Mester utca / Könyves Kálmán körút</td>\n",
       "      <td>008152</td>\n",
       "      <td>F01507</td>\n",
       "      <td>008152-F01507</td>\n",
       "      <td>XG89</td>\n",
       "      <td>LINESTRING (19.08373 47.46960, 19.08371 47.469...</td>\n",
       "      <td>119.969316</td>\n",
       "    </tr>\n",
       "    <tr>\n",
       "      <th>24340</th>\n",
       "      <td>3690</td>\n",
       "      <td>0</td>\n",
       "      <td>0</td>\n",
       "      <td>Kerékgyártó utca</td>\n",
       "      <td>Nagy Lajos király útja / Czobor utca</td>\n",
       "      <td>F02967</td>\n",
       "      <td>F02869</td>\n",
       "      <td>F02967-F02869</td>\n",
       "      <td>EZ07</td>\n",
       "      <td>LINESTRING (19.11258 47.51891, 19.11257 47.518...</td>\n",
       "      <td>884.320863</td>\n",
       "    </tr>\n",
       "    <tr>\n",
       "      <th>24341</th>\n",
       "      <td>3170</td>\n",
       "      <td>0</td>\n",
       "      <td>0</td>\n",
       "      <td>Savoya Park</td>\n",
       "      <td>Budafok kocsiszín</td>\n",
       "      <td>008802</td>\n",
       "      <td>091799</td>\n",
       "      <td>008802-091799</td>\n",
       "      <td>NP04</td>\n",
       "      <td>LINESTRING (19.04238 47.43585, 19.04240 47.435...</td>\n",
       "      <td>951.002817</td>\n",
       "    </tr>\n",
       "  </tbody>\n",
       "</table>\n",
       "<p>24342 rows × 11 columns</p>\n",
       "</div>"
      ],
      "text/plain": [
       "      route_id  direction_id  stop_sequence  \\\n",
       "0           H5             0              1   \n",
       "1           H5             0              2   \n",
       "2           H5             0              3   \n",
       "3           H5             0              4   \n",
       "4           H5             0              5   \n",
       "...        ...           ...            ...   \n",
       "24337     1360             0              1   \n",
       "24338     3022             1              0   \n",
       "24339     3022             1              1   \n",
       "24340     3690             0              0   \n",
       "24341     3170             0              0   \n",
       "\n",
       "                            start_stop_name  \\\n",
       "0                             Batthyány tér   \n",
       "1                   Margit híd, budai hídfő   \n",
       "2                             Szépvölgyi út   \n",
       "3                                Tímár utca   \n",
       "4                            Szentlélek tér   \n",
       "...                                     ...   \n",
       "24337                           Baross utca   \n",
       "24338  Ferencváros vá. - Málenkij Robot Eh.   \n",
       "24339    Mester utca / Könyves Kálmán körút   \n",
       "24340                      Kerékgyártó utca   \n",
       "24341                           Savoya Park   \n",
       "\n",
       "                              end_stop_name start_stop_id end_stop_id  \\\n",
       "0                   Margit híd, budai hídfő        008485      F00185   \n",
       "1                             Szépvölgyi út        F00185      F00139   \n",
       "2                                Tímár utca        F00139      F00632   \n",
       "3                            Szentlélek tér        F00632      F00624   \n",
       "4                               Filatorigát        F00624      F00578   \n",
       "...                                     ...           ...         ...   \n",
       "24337                        Fiatalság utca        F03763      F03765   \n",
       "24338    Mester utca / Könyves Kálmán körút        F01503      008152   \n",
       "24339    Mester utca / Könyves Kálmán körút        008152      F01507   \n",
       "24340  Nagy Lajos király útja / Czobor utca        F02967      F02869   \n",
       "24341                     Budafok kocsiszín        008802      091799   \n",
       "\n",
       "          segment_id shape_id  \\\n",
       "0      008485-F00185        1   \n",
       "1      F00185-F00139        1   \n",
       "2      F00139-F00632        1   \n",
       "3      F00632-F00624        1   \n",
       "4      F00624-F00578        1   \n",
       "...              ...      ...   \n",
       "24337  F03763-F03765     WY25   \n",
       "24338  F01503-008152     XG89   \n",
       "24339  008152-F01507     XG89   \n",
       "24340  F02967-F02869     EZ07   \n",
       "24341  008802-091799     NP04   \n",
       "\n",
       "                                                geometry   distance_m  \n",
       "0      LINESTRING (19.03942 47.50667, 19.03941 47.507...  1021.462320  \n",
       "1      LINESTRING (19.03946 47.51585, 19.03947 47.515...  1285.218661  \n",
       "2      LINESTRING (19.04014 47.52721, 19.04016 47.527...   884.510231  \n",
       "3      LINESTRING (19.04504 47.53436, 19.04509 47.534...   619.849337  \n",
       "4      LINESTRING (19.04718 47.53954, 19.04717 47.539...  1397.771094  \n",
       "...                                                  ...          ...  \n",
       "24337  LINESTRING (19.17176 47.43986, 19.17184 47.439...   594.748766  \n",
       "24338  LINESTRING (19.09142 47.47069, 19.09139 47.470...   607.027671  \n",
       "24339  LINESTRING (19.08373 47.46960, 19.08371 47.469...   119.969316  \n",
       "24340  LINESTRING (19.11258 47.51891, 19.11257 47.518...   884.320863  \n",
       "24341  LINESTRING (19.04238 47.43585, 19.04240 47.435...   951.002817  \n",
       "\n",
       "[24342 rows x 11 columns]"
      ]
     },
     "execution_count": 12,
     "metadata": {},
     "output_type": "execute_result"
    }
   ],
   "source": [
    "segments_gdf"
   ]
  },
  {
   "cell_type": "code",
   "execution_count": 13,
   "metadata": {},
   "outputs": [
    {
     "data": {
      "text/html": [
       "<div>\n",
       "<style scoped>\n",
       "    .dataframe tbody tr th:only-of-type {\n",
       "        vertical-align: middle;\n",
       "    }\n",
       "\n",
       "    .dataframe tbody tr th {\n",
       "        vertical-align: top;\n",
       "    }\n",
       "\n",
       "    .dataframe thead th {\n",
       "        text-align: right;\n",
       "    }\n",
       "</style>\n",
       "<table border=\"1\" class=\"dataframe\">\n",
       "  <thead>\n",
       "    <tr style=\"text-align: right;\">\n",
       "      <th></th>\n",
       "      <th>route_id</th>\n",
       "      <th>route_name</th>\n",
       "      <th>dir_id</th>\n",
       "      <th>segment_id</th>\n",
       "      <th>window</th>\n",
       "      <th>frequency</th>\n",
       "      <th>ntrips</th>\n",
       "      <th>s_st_id</th>\n",
       "      <th>s_st_name</th>\n",
       "      <th>e_st_name</th>\n",
       "      <th>max_freq</th>\n",
       "      <th>max_trips</th>\n",
       "      <th>geometry</th>\n",
       "    </tr>\n",
       "  </thead>\n",
       "  <tbody>\n",
       "    <tr>\n",
       "      <th>57502</th>\n",
       "      <td>3410</td>\n",
       "      <td>41</td>\n",
       "      <td>Inbound</td>\n",
       "      <td>F02014-F02241</td>\n",
       "      <td>9:00-15:00</td>\n",
       "      <td>360</td>\n",
       "      <td>1</td>\n",
       "      <td>F02014</td>\n",
       "      <td>Andor utca</td>\n",
       "      <td>Kalotaszeg utca</td>\n",
       "      <td>30</td>\n",
       "      <td>2</td>\n",
       "      <td>LINESTRING (19.03984 47.45571, 19.03982 47.455...</td>\n",
       "    </tr>\n",
       "    <tr>\n",
       "      <th>38929</th>\n",
       "      <td>1885</td>\n",
       "      <td>188E</td>\n",
       "      <td>Inbound</td>\n",
       "      <td>044383-044381</td>\n",
       "      <td>0:00-6:00</td>\n",
       "      <td>360</td>\n",
       "      <td>1</td>\n",
       "      <td>044383</td>\n",
       "      <td>Budakeszi, Tiefenweg utca</td>\n",
       "      <td>Dózsa György tér</td>\n",
       "      <td>15</td>\n",
       "      <td>4</td>\n",
       "      <td>LINESTRING (18.92117 47.50356, 18.92117 47.503...</td>\n",
       "    </tr>\n",
       "    <tr>\n",
       "      <th>2355</th>\n",
       "      <td>0130</td>\n",
       "      <td>13</td>\n",
       "      <td>Inbound</td>\n",
       "      <td>008479-009094</td>\n",
       "      <td>0:00-6:00</td>\n",
       "      <td>360</td>\n",
       "      <td>1</td>\n",
       "      <td>008479</td>\n",
       "      <td>Homokbánya utca</td>\n",
       "      <td>Petőfi Sándor utca</td>\n",
       "      <td>30</td>\n",
       "      <td>2</td>\n",
       "      <td>LINESTRING (18.94103 47.39956, 18.94100 47.399...</td>\n",
       "    </tr>\n",
       "    <tr>\n",
       "      <th>38930</th>\n",
       "      <td>1885</td>\n",
       "      <td>188E</td>\n",
       "      <td>Inbound</td>\n",
       "      <td>044383-F04790</td>\n",
       "      <td>0:00-6:00</td>\n",
       "      <td>360</td>\n",
       "      <td>1</td>\n",
       "      <td>044383</td>\n",
       "      <td>Budakeszi, Tiefenweg utca</td>\n",
       "      <td>Budakeszi, Dózsa György tér</td>\n",
       "      <td>15</td>\n",
       "      <td>4</td>\n",
       "      <td>LINESTRING (18.92117 47.50356, 18.92117 47.503...</td>\n",
       "    </tr>\n",
       "    <tr>\n",
       "      <th>59244</th>\n",
       "      <td>3560</td>\n",
       "      <td>56</td>\n",
       "      <td>Inbound</td>\n",
       "      <td>F01905-091799</td>\n",
       "      <td>9:00-15:00</td>\n",
       "      <td>360</td>\n",
       "      <td>1</td>\n",
       "      <td>F01905</td>\n",
       "      <td>Budafoki elágazás</td>\n",
       "      <td>Budafok kocsiszín</td>\n",
       "      <td>15</td>\n",
       "      <td>4</td>\n",
       "      <td>LINESTRING (19.03643 47.43546, 19.03637 47.435...</td>\n",
       "    </tr>\n",
       "  </tbody>\n",
       "</table>\n",
       "</div>"
      ],
      "text/plain": [
       "      route_id route_name   dir_id     segment_id      window  frequency  \\\n",
       "57502     3410         41  Inbound  F02014-F02241  9:00-15:00        360   \n",
       "38929     1885       188E  Inbound  044383-044381   0:00-6:00        360   \n",
       "2355      0130         13  Inbound  008479-009094   0:00-6:00        360   \n",
       "38930     1885       188E  Inbound  044383-F04790   0:00-6:00        360   \n",
       "59244     3560         56  Inbound  F01905-091799  9:00-15:00        360   \n",
       "\n",
       "       ntrips s_st_id                  s_st_name                    e_st_name  \\\n",
       "57502       1  F02014                 Andor utca              Kalotaszeg utca   \n",
       "38929       1  044383  Budakeszi, Tiefenweg utca             Dózsa György tér   \n",
       "2355        1  008479            Homokbánya utca           Petőfi Sándor utca   \n",
       "38930       1  044383  Budakeszi, Tiefenweg utca  Budakeszi, Dózsa György tér   \n",
       "59244       1  F01905          Budafoki elágazás            Budafok kocsiszín   \n",
       "\n",
       "       max_freq  max_trips                                           geometry  \n",
       "57502        30          2  LINESTRING (19.03984 47.45571, 19.03982 47.455...  \n",
       "38929        15          4  LINESTRING (18.92117 47.50356, 18.92117 47.503...  \n",
       "2355         30          2  LINESTRING (18.94103 47.39956, 18.94100 47.399...  \n",
       "38930        15          4  LINESTRING (18.92117 47.50356, 18.92117 47.503...  \n",
       "59244        15          4  LINESTRING (19.03643 47.43546, 19.03637 47.435...  "
      ]
     },
     "execution_count": 13,
     "metadata": {},
     "output_type": "execute_result"
    }
   ],
   "source": [
    "cutoffs = [0,6,9,15,19,22,24]\n",
    "seg_freq = gtfs.segments_freq(segments_gdf, stop_times, routes, cutoffs = cutoffs)\n",
    "seg_freq.head()"
   ]
  },
  {
   "cell_type": "code",
   "execution_count": 16,
   "metadata": {},
   "outputs": [
    {
     "name": "stdout",
     "output_type": "stream",
     "text": [
      "User Guide: https://docs.kepler.gl/docs/keplergl-jupyter\n"
     ]
    }
   ],
   "source": [
    "import keplergl as kp\n",
    "\n",
    "m=kp.KeplerGl(data=dict(data=seg_freq, name=\"Segment Frequency\"), height=400)"
   ]
  },
  {
   "cell_type": "code",
   "execution_count": null,
   "metadata": {},
   "outputs": [],
   "source": []
  }
 ],
 "metadata": {
  "kernelspec": {
   "display_name": "Python 3.9.7 ('normal')",
   "language": "python",
   "name": "python3"
  },
  "language_info": {
   "codemirror_mode": {
    "name": "ipython",
    "version": 3
   },
   "file_extension": ".py",
   "mimetype": "text/x-python",
   "name": "python",
   "nbconvert_exporter": "python",
   "pygments_lexer": "ipython3",
   "version": "3.9.7"
  },
  "orig_nbformat": 4,
  "vscode": {
   "interpreter": {
    "hash": "8038cdc23f41cee8615fd8842763c2512c73bc7422dce11a29daf2d2b007f171"
   }
  }
 },
 "nbformat": 4,
 "nbformat_minor": 2
}
