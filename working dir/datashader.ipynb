{
 "cells": [
  {
   "cell_type": "code",
   "execution_count": 1,
   "metadata": {},
   "outputs": [],
   "source": [
    "#!pip install geopy\n",
    "import matplotlib.pyplot as plt\n",
    "import numpy as np\n",
    "import math\n",
    "import geopy.distance"
   ]
  },
  {
   "cell_type": "code",
   "execution_count": 2,
   "metadata": {},
   "outputs": [],
   "source": [
    "import gtfs_kit  as gk\n",
    "\n",
    "trans=(gk.read_feed(\"gtfs.zip\", dist_units=\"km\"))"
   ]
  },
  {
   "cell_type": "code",
   "execution_count": 3,
   "metadata": {},
   "outputs": [
    {
     "data": {
      "text/html": [
       "<div>\n",
       "<style scoped>\n",
       "    .dataframe tbody tr th:only-of-type {\n",
       "        vertical-align: middle;\n",
       "    }\n",
       "\n",
       "    .dataframe tbody tr th {\n",
       "        vertical-align: top;\n",
       "    }\n",
       "\n",
       "    .dataframe thead th {\n",
       "        text-align: right;\n",
       "    }\n",
       "</style>\n",
       "<table border=\"1\" class=\"dataframe\">\n",
       "  <thead>\n",
       "    <tr style=\"text-align: right;\">\n",
       "      <th></th>\n",
       "      <th>type</th>\n",
       "      <th>message</th>\n",
       "      <th>table</th>\n",
       "      <th>rows</th>\n",
       "    </tr>\n",
       "  </thead>\n",
       "  <tbody>\n",
       "    <tr>\n",
       "      <th>3</th>\n",
       "      <td>error</td>\n",
       "      <td>Invalid route_type; maybe has extra space char...</td>\n",
       "      <td>routes</td>\n",
       "      <td>[281, 282, 283, 284, 285, 286, 287, 288, 289, ...</td>\n",
       "    </tr>\n",
       "    <tr>\n",
       "      <th>0</th>\n",
       "      <td>warning</td>\n",
       "      <td>Unrecognized column feed_id</td>\n",
       "      <td>feed_info</td>\n",
       "      <td>[]</td>\n",
       "    </tr>\n",
       "    <tr>\n",
       "      <th>1</th>\n",
       "      <td>warning</td>\n",
       "      <td>Unrecognized column feed_ext_version</td>\n",
       "      <td>feed_info</td>\n",
       "      <td>[]</td>\n",
       "    </tr>\n",
       "    <tr>\n",
       "      <th>2</th>\n",
       "      <td>warning</td>\n",
       "      <td>Unrecognized column route_sort_order</td>\n",
       "      <td>routes</td>\n",
       "      <td>[]</td>\n",
       "    </tr>\n",
       "    <tr>\n",
       "      <th>4</th>\n",
       "      <td>warning</td>\n",
       "      <td>Repeated pair (route_short_name, route_long_name)</td>\n",
       "      <td>routes</td>\n",
       "      <td>[299, 319, 356, 357, 358, 360, 361, 363, 365, ...</td>\n",
       "    </tr>\n",
       "    <tr>\n",
       "      <th>5</th>\n",
       "      <td>warning</td>\n",
       "      <td>Route has no trips</td>\n",
       "      <td>routes</td>\n",
       "      <td>[280, 358, 359]</td>\n",
       "    </tr>\n",
       "    <tr>\n",
       "      <th>9</th>\n",
       "      <td>warning</td>\n",
       "      <td>Repeated pair (trip_id, departure_time)</td>\n",
       "      <td>stop_times</td>\n",
       "      <td>[24, 45, 113, 173, 291, 349, 409, 527, 645, 76...</td>\n",
       "    </tr>\n",
       "    <tr>\n",
       "      <th>6</th>\n",
       "      <td>warning</td>\n",
       "      <td>Unrecognized column location_sub_type</td>\n",
       "      <td>stops</td>\n",
       "      <td>[]</td>\n",
       "    </tr>\n",
       "    <tr>\n",
       "      <th>7</th>\n",
       "      <td>warning</td>\n",
       "      <td>Unrecognized column stop_direction</td>\n",
       "      <td>stops</td>\n",
       "      <td>[]</td>\n",
       "    </tr>\n",
       "    <tr>\n",
       "      <th>8</th>\n",
       "      <td>warning</td>\n",
       "      <td>Stop has no stop times</td>\n",
       "      <td>stops</td>\n",
       "      <td>[0, 1, 2, 3, 4, 6, 8, 9, 11, 13, 18, 27, 58, 6...</td>\n",
       "    </tr>\n",
       "    <tr>\n",
       "      <th>10</th>\n",
       "      <td>warning</td>\n",
       "      <td>Unrecognized column boarding_door</td>\n",
       "      <td>trips</td>\n",
       "      <td>[]</td>\n",
       "    </tr>\n",
       "  </tbody>\n",
       "</table>\n",
       "</div>"
      ],
      "text/plain": [
       "       type                                            message       table  \\\n",
       "3     error  Invalid route_type; maybe has extra space char...      routes   \n",
       "0   warning                        Unrecognized column feed_id   feed_info   \n",
       "1   warning               Unrecognized column feed_ext_version   feed_info   \n",
       "2   warning               Unrecognized column route_sort_order      routes   \n",
       "4   warning  Repeated pair (route_short_name, route_long_name)      routes   \n",
       "5   warning                                 Route has no trips      routes   \n",
       "9   warning            Repeated pair (trip_id, departure_time)  stop_times   \n",
       "6   warning              Unrecognized column location_sub_type       stops   \n",
       "7   warning                 Unrecognized column stop_direction       stops   \n",
       "8   warning                             Stop has no stop times       stops   \n",
       "10  warning                  Unrecognized column boarding_door       trips   \n",
       "\n",
       "                                                 rows  \n",
       "3   [281, 282, 283, 284, 285, 286, 287, 288, 289, ...  \n",
       "0                                                  []  \n",
       "1                                                  []  \n",
       "2                                                  []  \n",
       "4   [299, 319, 356, 357, 358, 360, 361, 363, 365, ...  \n",
       "5                                     [280, 358, 359]  \n",
       "9   [24, 45, 113, 173, 291, 349, 409, 527, 645, 76...  \n",
       "6                                                  []  \n",
       "7                                                  []  \n",
       "8   [0, 1, 2, 3, 4, 6, 8, 9, 11, 13, 18, 27, 58, 6...  \n",
       "10                                                 []  "
      ]
     },
     "execution_count": 3,
     "metadata": {},
     "output_type": "execute_result"
    }
   ],
   "source": [
    "trans.validate()"
   ]
  },
  {
   "cell_type": "code",
   "execution_count": 4,
   "metadata": {},
   "outputs": [
    {
     "data": {
      "text/html": [
       "<div>\n",
       "<style scoped>\n",
       "    .dataframe tbody tr th:only-of-type {\n",
       "        vertical-align: middle;\n",
       "    }\n",
       "\n",
       "    .dataframe tbody tr th {\n",
       "        vertical-align: top;\n",
       "    }\n",
       "\n",
       "    .dataframe thead th {\n",
       "        text-align: right;\n",
       "    }\n",
       "</style>\n",
       "<table border=\"1\" class=\"dataframe\">\n",
       "  <thead>\n",
       "    <tr style=\"text-align: right;\">\n",
       "      <th></th>\n",
       "      <th>indicator</th>\n",
       "      <th>value</th>\n",
       "    </tr>\n",
       "  </thead>\n",
       "  <tbody>\n",
       "    <tr>\n",
       "      <th>0</th>\n",
       "      <td>agencies</td>\n",
       "      <td>[BKK, MÁV-HÉV]</td>\n",
       "    </tr>\n",
       "    <tr>\n",
       "      <th>1</th>\n",
       "      <td>timezone</td>\n",
       "      <td>Europe/Budapest</td>\n",
       "    </tr>\n",
       "    <tr>\n",
       "      <th>2</th>\n",
       "      <td>start_date</td>\n",
       "      <td>20221106</td>\n",
       "    </tr>\n",
       "    <tr>\n",
       "      <th>3</th>\n",
       "      <td>end_date</td>\n",
       "      <td>20230101</td>\n",
       "    </tr>\n",
       "    <tr>\n",
       "      <th>4</th>\n",
       "      <td>num_routes</td>\n",
       "      <td>372</td>\n",
       "    </tr>\n",
       "    <tr>\n",
       "      <th>5</th>\n",
       "      <td>num_trips</td>\n",
       "      <td>304359</td>\n",
       "    </tr>\n",
       "    <tr>\n",
       "      <th>6</th>\n",
       "      <td>num_stops</td>\n",
       "      <td>6090</td>\n",
       "    </tr>\n",
       "    <tr>\n",
       "      <th>7</th>\n",
       "      <td>num_shapes</td>\n",
       "      <td>1965</td>\n",
       "    </tr>\n",
       "    <tr>\n",
       "      <th>8</th>\n",
       "      <td>sample_date</td>\n",
       "      <td>20221110</td>\n",
       "    </tr>\n",
       "    <tr>\n",
       "      <th>9</th>\n",
       "      <td>num_routes_active_on_sample_date</td>\n",
       "      <td>351</td>\n",
       "    </tr>\n",
       "    <tr>\n",
       "      <th>10</th>\n",
       "      <td>num_trips_active_on_sample_date</td>\n",
       "      <td>42354</td>\n",
       "    </tr>\n",
       "    <tr>\n",
       "      <th>11</th>\n",
       "      <td>num_stops_active_on_sample_date</td>\n",
       "      <td>5345</td>\n",
       "    </tr>\n",
       "  </tbody>\n",
       "</table>\n",
       "</div>"
      ],
      "text/plain": [
       "                           indicator            value\n",
       "0                           agencies   [BKK, MÁV-HÉV]\n",
       "1                           timezone  Europe/Budapest\n",
       "2                         start_date         20221106\n",
       "3                           end_date         20230101\n",
       "4                         num_routes              372\n",
       "5                          num_trips           304359\n",
       "6                          num_stops             6090\n",
       "7                         num_shapes             1965\n",
       "8                        sample_date         20221110\n",
       "9   num_routes_active_on_sample_date              351\n",
       "10   num_trips_active_on_sample_date            42354\n",
       "11   num_stops_active_on_sample_date             5345"
      ]
     },
     "execution_count": 4,
     "metadata": {},
     "output_type": "execute_result"
    }
   ],
   "source": [
    "trans.describe()"
   ]
  },
  {
   "cell_type": "code",
   "execution_count": 5,
   "metadata": {},
   "outputs": [],
   "source": [
    "import gtfs_functions as gtfs\n",
    "routes, stops, stop_times, trips, shapes = gtfs.import_gtfs(\"GTFS.zip\")"
   ]
  },
  {
   "cell_type": "code",
   "execution_count": 6,
   "metadata": {},
   "outputs": [],
   "source": [
    "x=[]\n",
    "y=[]\n",
    "for i in range(len(stops)):\n",
    "    x.append(stops[\"geometry\"][i].y)\n",
    "    y.append(stops[\"geometry\"][i].x)"
   ]
  },
  {
   "cell_type": "code",
   "execution_count": 7,
   "metadata": {},
   "outputs": [],
   "source": [
    "y=stops[\"geometry\"][0].x"
   ]
  },
  {
   "cell_type": "code",
   "execution_count": 8,
   "metadata": {},
   "outputs": [
    {
     "data": {
      "image/png": "[encoded data removed]",
      "text/plain": [
       "<Figure size 432x288 with 1 Axes>"
      ]
     },
     "metadata": {
      "needs_background": "light"
     },
     "output_type": "display_data"
    }
   ],
   "source": [
    "import matplotlib.pyplot as plt\n",
    "%matplotlib inline\n",
    "for i in range(1300):\n",
    "    x,y=shapes[\"geometry\"][i].coords.xy\n",
    "    plt.plot(x,y)\n",
    "plt.show()"
   ]
  },
  {
   "cell_type": "code",
   "execution_count": 9,
   "metadata": {},
   "outputs": [],
   "source": [
    "I_building=(47.47282880598328, 19.060057869533754)\n",
    "radius=(47.46980543001353, 19.05407442774218)"
   ]
  },
  {
   "cell_type": "code",
   "execution_count": 10,
   "metadata": {},
   "outputs": [
    {
     "data": {
      "text/plain": [
       "Distance(4068.9079236653174)"
      ]
     },
     "execution_count": 10,
     "metadata": {},
     "output_type": "execute_result"
    }
   ],
   "source": [
    "geopy.distance.geodesic(I_building, (x[0],y[0]))"
   ]
  },
  {
   "cell_type": "code",
   "execution_count": 11,
   "metadata": {},
   "outputs": [
    {
     "name": "stdout",
     "output_type": "stream",
     "text": [
      "stops that are in a 600m radius of Building I at BME: \n",
      "\t- 008280\n",
      "\t- 009179\n",
      "\t- 049597\n",
      "\t- 062607\n",
      "\t- 062608\n",
      "\t- 062620\n",
      "\t- 062621\n",
      "\t- 062622\n",
      "\t- 066451\n",
      "\t- 066452\n",
      "\t- 066453\n",
      "\t- 066454\n",
      "\t- 071262\n",
      "\t- F01986\n",
      "\t- F01988\n",
      "\t- F01989\n",
      "\t- F01990\n",
      "\t- F01991\n",
      "\t- F01992\n",
      "\t- F02153\n",
      "\t- F02155\n",
      "\t- F02222\n",
      "\t- F02224\n",
      "\t- F02225\n"
     ]
    }
   ],
   "source": [
    "print(\"stops that are in a 600m radius of Building I at BME: \")\n",
    "stops_600=[]\n",
    "for i,k in enumerate(stops[\"geometry\"]):\n",
    "    if geopy.distance.geodesic(I_building, (k.y,k.x)).m <600.0:\n",
    "        print(\"\\t-\",stops[\"stop_id\"][i])\n",
    "        stops_600.append(stops[\"stop_id\"][i])"
   ]
  },
  {
   "cell_type": "code",
   "execution_count": 12,
   "metadata": {},
   "outputs": [],
   "source": [
    "#Stops that are in a 600m radius\n",
    "stops_I=stops[stops[\"stop_id\"].isin(stops_600)]\n",
    "stops_I.reset_index(drop=True, inplace=True)"
   ]
  },
  {
   "cell_type": "code",
   "execution_count": 13,
   "metadata": {},
   "outputs": [],
   "source": [
    "#stops_I"
   ]
  },
  {
   "cell_type": "code",
   "execution_count": 14,
   "metadata": {},
   "outputs": [],
   "source": [
    "#19.200299 in shapes[\"geometry\"][0].coords.xy[0]\n"
   ]
  },
  {
   "cell_type": "code",
   "execution_count": 15,
   "metadata": {},
   "outputs": [],
   "source": [
    "#stops_I[\"geometry\"][0].x"
   ]
  },
  {
   "cell_type": "code",
   "execution_count": 16,
   "metadata": {},
   "outputs": [
    {
     "name": "stdout",
     "output_type": "stream",
     "text": [
      "ez az útvonal jó\n",
      "ez az útvonal jó\n",
      "ez az útvonal jó\n",
      "ez az útvonal jó\n",
      "ez az útvonal jó\n",
      "ez az útvonal jó\n",
      "ez az útvonal jó\n",
      "ez az útvonal jó\n",
      "ez az útvonal jó\n",
      "ez az útvonal jó\n",
      "ez az útvonal jó\n",
      "ez az útvonal jó\n",
      "ez az útvonal jó\n",
      "ez az útvonal jó\n",
      "ez az útvonal jó\n",
      "ez az útvonal jó\n",
      "ez az útvonal jó\n",
      "ez az útvonal jó\n",
      "ez az útvonal jó\n",
      "ez az útvonal jó\n",
      "ez az útvonal jó\n",
      "ez az útvonal jó\n",
      "ez az útvonal jó\n",
      "ez az útvonal jó\n",
      "ez az útvonal jó\n",
      "ez az útvonal jó\n",
      "ez az útvonal jó\n",
      "ez az útvonal jó\n",
      "ez az útvonal jó\n",
      "ez az útvonal jó\n",
      "ez az útvonal jó\n",
      "ez az útvonal jó\n",
      "ez az útvonal jó\n",
      "ez az útvonal jó\n",
      "ez az útvonal jó\n",
      "ez az útvonal jó\n",
      "ez az útvonal jó\n",
      "ez az útvonal jó\n",
      "ez az útvonal jó\n",
      "ez az útvonal jó\n",
      "ez az útvonal jó\n",
      "ez az útvonal jó\n",
      "ez az útvonal jó\n",
      "ez az útvonal jó\n",
      "ez az útvonal jó\n",
      "ez az útvonal jó\n",
      "ez az útvonal jó\n",
      "ez az útvonal jó\n",
      "ez az útvonal jó\n",
      "ez az útvonal jó\n",
      "ez az útvonal jó\n",
      "ez az útvonal jó\n",
      "ez az útvonal jó\n",
      "ez az útvonal jó\n",
      "ez az útvonal jó\n",
      "ez az útvonal jó\n",
      "ez az útvonal jó\n",
      "ez az útvonal jó\n",
      "ez az útvonal jó\n",
      "ez az útvonal jó\n",
      "ez az útvonal jó\n",
      "ez az útvonal jó\n",
      "ez az útvonal jó\n",
      "ez az útvonal jó\n",
      "ez az útvonal jó\n",
      "ez az útvonal jó\n",
      "ez az útvonal jó\n",
      "ez az útvonal jó\n",
      "ez az útvonal jó\n",
      "ez az útvonal jó\n",
      "ez az útvonal jó\n",
      "ez az útvonal jó\n",
      "ez az útvonal jó\n",
      "ez az útvonal jó\n",
      "ez az útvonal jó\n",
      "ez az útvonal jó\n",
      "ez az útvonal jó\n",
      "ez az útvonal jó\n",
      "ez az útvonal jó\n",
      "ez az útvonal jó\n",
      "ez az útvonal jó\n",
      "ez az útvonal jó\n",
      "ez az útvonal jó\n",
      "ez az útvonal jó\n",
      "ez az útvonal jó\n",
      "ez az útvonal jó\n",
      "ez az útvonal jó\n",
      "ez az útvonal jó\n",
      "ez az útvonal jó\n",
      "ez az útvonal jó\n",
      "ez az útvonal jó\n",
      "ez az útvonal jó\n",
      "ez az útvonal jó\n",
      "ez az útvonal jó\n",
      "ez az útvonal jó\n",
      "ez az útvonal jó\n",
      "ez az útvonal jó\n",
      "ez az útvonal jó\n",
      "ez az útvonal jó\n",
      "ez az útvonal jó\n",
      "ez az útvonal jó\n",
      "ez az útvonal jó\n",
      "ez az útvonal jó\n",
      "ez az útvonal jó\n",
      "ez az útvonal jó\n",
      "ez az útvonal jó\n",
      "ez az útvonal jó\n",
      "ez az útvonal jó\n",
      "ez az útvonal jó\n",
      "ez az útvonal jó\n",
      "ez az útvonal jó\n",
      "ez az útvonal jó\n"
     ]
    }
   ],
   "source": [
    "shapes_within_i=[]\n",
    "for j,i in enumerate(shapes[\"geometry\"]):\n",
    "    for k in stops_I[\"geometry\"]:\n",
    "        if k.x in i.coords.xy[0] and k.y in i.coords.xy[1]:\n",
    "            shapes_within_i.append(shapes[\"shape_id\"][j])\n",
    "            print(\"ez az útvonal jó\")"
   ]
  },
  {
   "cell_type": "code",
   "execution_count": 17,
   "metadata": {},
   "outputs": [
    {
     "data": {
      "text/plain": [
       "58"
      ]
     },
     "execution_count": 17,
     "metadata": {},
     "output_type": "execute_result"
    }
   ],
   "source": [
    "len(set(shapes_within_i))"
   ]
  },
  {
   "cell_type": "code",
   "execution_count": 18,
   "metadata": {},
   "outputs": [
    {
     "data": {
      "text/html": [
       "<div>\n",
       "<style scoped>\n",
       "    .dataframe tbody tr th:only-of-type {\n",
       "        vertical-align: middle;\n",
       "    }\n",
       "\n",
       "    .dataframe tbody tr th {\n",
       "        vertical-align: top;\n",
       "    }\n",
       "\n",
       "    .dataframe thead th {\n",
       "        text-align: right;\n",
       "    }\n",
       "</style>\n",
       "<table border=\"1\" class=\"dataframe\">\n",
       "  <thead>\n",
       "    <tr style=\"text-align: right;\">\n",
       "      <th></th>\n",
       "      <th>shape_id</th>\n",
       "      <th>geometry</th>\n",
       "    </tr>\n",
       "  </thead>\n",
       "  <tbody>\n",
       "    <tr>\n",
       "      <th>0</th>\n",
       "      <td>0976</td>\n",
       "      <td>LINESTRING (19.04686 47.47404, 19.04688 47.474...</td>\n",
       "    </tr>\n",
       "    <tr>\n",
       "      <th>1</th>\n",
       "      <td>0977</td>\n",
       "      <td>LINESTRING (19.02519 47.50723, 19.02518 47.507...</td>\n",
       "    </tr>\n",
       "    <tr>\n",
       "      <th>2</th>\n",
       "      <td>2064</td>\n",
       "      <td>LINESTRING (19.07132 47.49604, 19.07127 47.496...</td>\n",
       "    </tr>\n",
       "    <tr>\n",
       "      <th>3</th>\n",
       "      <td>AH19</td>\n",
       "      <td>LINESTRING (19.06299 47.46985, 19.06299 47.469...</td>\n",
       "    </tr>\n",
       "    <tr>\n",
       "      <th>4</th>\n",
       "      <td>B692</td>\n",
       "      <td>LINESTRING (19.04835 47.47750, 19.04834 47.477...</td>\n",
       "    </tr>\n",
       "    <tr>\n",
       "      <th>5</th>\n",
       "      <td>B693</td>\n",
       "      <td>LINESTRING (19.02519 47.50723, 19.02518 47.507...</td>\n",
       "    </tr>\n",
       "    <tr>\n",
       "      <th>6</th>\n",
       "      <td>B824</td>\n",
       "      <td>LINESTRING (19.07134 47.49607, 19.07132 47.496...</td>\n",
       "    </tr>\n",
       "    <tr>\n",
       "      <th>7</th>\n",
       "      <td>BM08</td>\n",
       "      <td>LINESTRING (19.08126 47.50041, 19.08131 47.500...</td>\n",
       "    </tr>\n",
       "    <tr>\n",
       "      <th>8</th>\n",
       "      <td>BM09</td>\n",
       "      <td>LINESTRING (19.05793 47.46850, 19.05737 47.468...</td>\n",
       "    </tr>\n",
       "    <tr>\n",
       "      <th>9</th>\n",
       "      <td>DO19</td>\n",
       "      <td>LINESTRING (19.04686 47.47404, 19.04688 47.474...</td>\n",
       "    </tr>\n",
       "    <tr>\n",
       "      <th>10</th>\n",
       "      <td>DX77</td>\n",
       "      <td>LINESTRING (18.99254 47.47332, 18.99258 47.473...</td>\n",
       "    </tr>\n",
       "    <tr>\n",
       "      <th>11</th>\n",
       "      <td>EJ39</td>\n",
       "      <td>LINESTRING (19.04686 47.47404, 19.04688 47.474...</td>\n",
       "    </tr>\n",
       "    <tr>\n",
       "      <th>12</th>\n",
       "      <td>EJ40</td>\n",
       "      <td>LINESTRING (19.04835 47.47750, 19.04834 47.477...</td>\n",
       "    </tr>\n",
       "    <tr>\n",
       "      <th>13</th>\n",
       "      <td>IJ60</td>\n",
       "      <td>LINESTRING (19.02339 47.46447, 19.02341 47.464...</td>\n",
       "    </tr>\n",
       "    <tr>\n",
       "      <th>14</th>\n",
       "      <td>IJ62</td>\n",
       "      <td>LINESTRING (19.10815 47.50039, 19.10813 47.500...</td>\n",
       "    </tr>\n",
       "    <tr>\n",
       "      <th>15</th>\n",
       "      <td>IL26</td>\n",
       "      <td>LINESTRING (19.14204 47.54704, 19.14223 47.546...</td>\n",
       "    </tr>\n",
       "    <tr>\n",
       "      <th>16</th>\n",
       "      <td>IL59</td>\n",
       "      <td>LINESTRING (19.05310 47.46442, 19.05302 47.464...</td>\n",
       "    </tr>\n",
       "    <tr>\n",
       "      <th>17</th>\n",
       "      <td>L755</td>\n",
       "      <td>LINESTRING (19.02339 47.46447, 19.02341 47.464...</td>\n",
       "    </tr>\n",
       "    <tr>\n",
       "      <th>18</th>\n",
       "      <td>N087</td>\n",
       "      <td>LINESTRING (19.02341 47.46447, 19.02343 47.464...</td>\n",
       "    </tr>\n",
       "    <tr>\n",
       "      <th>19</th>\n",
       "      <td>N088</td>\n",
       "      <td>LINESTRING (19.02937 47.54877, 19.02937 47.548...</td>\n",
       "    </tr>\n",
       "    <tr>\n",
       "      <th>20</th>\n",
       "      <td>N092</td>\n",
       "      <td>LINESTRING (19.04336 47.46225, 19.04336 47.462...</td>\n",
       "    </tr>\n",
       "    <tr>\n",
       "      <th>21</th>\n",
       "      <td>NQ46</td>\n",
       "      <td>LINESTRING (19.10815 47.50039, 19.10813 47.500...</td>\n",
       "    </tr>\n",
       "    <tr>\n",
       "      <th>22</th>\n",
       "      <td>NU04</td>\n",
       "      <td>LINESTRING (19.06787 47.47950, 19.06801 47.479...</td>\n",
       "    </tr>\n",
       "    <tr>\n",
       "      <th>23</th>\n",
       "      <td>O350</td>\n",
       "      <td>LINESTRING (19.02937 47.54877, 19.02937 47.548...</td>\n",
       "    </tr>\n",
       "    <tr>\n",
       "      <th>24</th>\n",
       "      <td>PJ53</td>\n",
       "      <td>LINESTRING (19.11237 47.51975, 19.11207 47.519...</td>\n",
       "    </tr>\n",
       "    <tr>\n",
       "      <th>25</th>\n",
       "      <td>QH60</td>\n",
       "      <td>LINESTRING (19.03593 47.47628, 19.03596 47.476...</td>\n",
       "    </tr>\n",
       "    <tr>\n",
       "      <th>26</th>\n",
       "      <td>QZ99</td>\n",
       "      <td>LINESTRING (19.02957 47.54837, 19.02964 47.548...</td>\n",
       "    </tr>\n",
       "    <tr>\n",
       "      <th>27</th>\n",
       "      <td>RA01</td>\n",
       "      <td>LINESTRING (19.10785 47.50065, 19.10796 47.500...</td>\n",
       "    </tr>\n",
       "    <tr>\n",
       "      <th>28</th>\n",
       "      <td>RA02</td>\n",
       "      <td>LINESTRING (19.02298 47.46480, 19.02318 47.464...</td>\n",
       "    </tr>\n",
       "    <tr>\n",
       "      <th>29</th>\n",
       "      <td>RA04</td>\n",
       "      <td>LINESTRING (19.02298 47.46480, 19.02318 47.464...</td>\n",
       "    </tr>\n",
       "    <tr>\n",
       "      <th>30</th>\n",
       "      <td>RA05</td>\n",
       "      <td>LINESTRING (19.02298 47.46480, 19.02318 47.464...</td>\n",
       "    </tr>\n",
       "    <tr>\n",
       "      <th>31</th>\n",
       "      <td>RA99</td>\n",
       "      <td>LINESTRING (19.02298 47.46480, 19.02318 47.464...</td>\n",
       "    </tr>\n",
       "    <tr>\n",
       "      <th>32</th>\n",
       "      <td>RL95</td>\n",
       "      <td>LINESTRING (19.05793 47.46850, 19.05737 47.468...</td>\n",
       "    </tr>\n",
       "    <tr>\n",
       "      <th>33</th>\n",
       "      <td>RM00</td>\n",
       "      <td>LINESTRING (19.05921 47.47663, 19.05948 47.476...</td>\n",
       "    </tr>\n",
       "    <tr>\n",
       "      <th>34</th>\n",
       "      <td>RM48</td>\n",
       "      <td>LINESTRING (19.05793 47.46850, 19.05737 47.468...</td>\n",
       "    </tr>\n",
       "    <tr>\n",
       "      <th>35</th>\n",
       "      <td>RM50</td>\n",
       "      <td>LINESTRING (18.99254 47.47332, 18.99258 47.473...</td>\n",
       "    </tr>\n",
       "    <tr>\n",
       "      <th>36</th>\n",
       "      <td>SB36</td>\n",
       "      <td>LINESTRING (19.14204 47.54704, 19.14223 47.546...</td>\n",
       "    </tr>\n",
       "    <tr>\n",
       "      <th>37</th>\n",
       "      <td>SB37</td>\n",
       "      <td>LINESTRING (18.97078 47.38799, 18.97089 47.388...</td>\n",
       "    </tr>\n",
       "    <tr>\n",
       "      <th>38</th>\n",
       "      <td>SB38</td>\n",
       "      <td>LINESTRING (18.97078 47.38799, 18.97089 47.388...</td>\n",
       "    </tr>\n",
       "    <tr>\n",
       "      <th>39</th>\n",
       "      <td>SB39</td>\n",
       "      <td>LINESTRING (19.08131 47.50037, 19.08081 47.500...</td>\n",
       "    </tr>\n",
       "    <tr>\n",
       "      <th>40</th>\n",
       "      <td>TD49</td>\n",
       "      <td>LINESTRING (19.04336 47.46225, 19.04336 47.462...</td>\n",
       "    </tr>\n",
       "    <tr>\n",
       "      <th>41</th>\n",
       "      <td>TD55</td>\n",
       "      <td>LINESTRING (19.10815 47.50039, 19.10813 47.500...</td>\n",
       "    </tr>\n",
       "    <tr>\n",
       "      <th>42</th>\n",
       "      <td>TL38</td>\n",
       "      <td>LINESTRING (19.10815 47.50039, 19.10813 47.500...</td>\n",
       "    </tr>\n",
       "    <tr>\n",
       "      <th>43</th>\n",
       "      <td>TT13</td>\n",
       "      <td>LINESTRING (19.04336 47.46225, 19.04336 47.462...</td>\n",
       "    </tr>\n",
       "    <tr>\n",
       "      <th>44</th>\n",
       "      <td>VN41</td>\n",
       "      <td>LINESTRING (19.04197 47.55013, 19.04204 47.550...</td>\n",
       "    </tr>\n",
       "    <tr>\n",
       "      <th>45</th>\n",
       "      <td>VN42</td>\n",
       "      <td>LINESTRING (19.10785 47.50065, 19.10796 47.500...</td>\n",
       "    </tr>\n",
       "    <tr>\n",
       "      <th>46</th>\n",
       "      <td>XC11</td>\n",
       "      <td>LINESTRING (19.04881 47.47727, 19.04897 47.477...</td>\n",
       "    </tr>\n",
       "    <tr>\n",
       "      <th>47</th>\n",
       "      <td>XC12</td>\n",
       "      <td>LINESTRING (18.95855 47.38888, 18.95851 47.388...</td>\n",
       "    </tr>\n",
       "    <tr>\n",
       "      <th>48</th>\n",
       "      <td>XC13</td>\n",
       "      <td>LINESTRING (19.04912 47.44917, 19.04908 47.449...</td>\n",
       "    </tr>\n",
       "    <tr>\n",
       "      <th>49</th>\n",
       "      <td>XD31</td>\n",
       "      <td>LINESTRING (18.96798 47.50062, 18.96806 47.500...</td>\n",
       "    </tr>\n",
       "    <tr>\n",
       "      <th>50</th>\n",
       "      <td>XD69</td>\n",
       "      <td>LINESTRING (19.06801 47.47952, 19.06792 47.479...</td>\n",
       "    </tr>\n",
       "    <tr>\n",
       "      <th>51</th>\n",
       "      <td>XD70</td>\n",
       "      <td>LINESTRING (18.98954 47.49793, 18.98953 47.497...</td>\n",
       "    </tr>\n",
       "    <tr>\n",
       "      <th>52</th>\n",
       "      <td>XO16</td>\n",
       "      <td>LINESTRING (19.02296 47.46476, 19.02298 47.464...</td>\n",
       "    </tr>\n",
       "    <tr>\n",
       "      <th>53</th>\n",
       "      <td>XO17</td>\n",
       "      <td>LINESTRING (19.02296 47.46476, 19.02298 47.464...</td>\n",
       "    </tr>\n",
       "    <tr>\n",
       "      <th>54</th>\n",
       "      <td>XO18</td>\n",
       "      <td>LINESTRING (19.02296 47.46476, 19.02298 47.464...</td>\n",
       "    </tr>\n",
       "    <tr>\n",
       "      <th>55</th>\n",
       "      <td>XO20</td>\n",
       "      <td>LINESTRING (19.02629 47.56800, 19.02621 47.568...</td>\n",
       "    </tr>\n",
       "    <tr>\n",
       "      <th>56</th>\n",
       "      <td>XS57</td>\n",
       "      <td>LINESTRING (19.06787 47.47950, 19.06801 47.479...</td>\n",
       "    </tr>\n",
       "    <tr>\n",
       "      <th>57</th>\n",
       "      <td>XS63</td>\n",
       "      <td>LINESTRING (18.95484 47.48671, 18.95483 47.486...</td>\n",
       "    </tr>\n",
       "  </tbody>\n",
       "</table>\n",
       "</div>"
      ],
      "text/plain": [
       "   shape_id                                           geometry\n",
       "0      0976  LINESTRING (19.04686 47.47404, 19.04688 47.474...\n",
       "1      0977  LINESTRING (19.02519 47.50723, 19.02518 47.507...\n",
       "2      2064  LINESTRING (19.07132 47.49604, 19.07127 47.496...\n",
       "3      AH19  LINESTRING (19.06299 47.46985, 19.06299 47.469...\n",
       "4      B692  LINESTRING (19.04835 47.47750, 19.04834 47.477...\n",
       "5      B693  LINESTRING (19.02519 47.50723, 19.02518 47.507...\n",
       "6      B824  LINESTRING (19.07134 47.49607, 19.07132 47.496...\n",
       "7      BM08  LINESTRING (19.08126 47.50041, 19.08131 47.500...\n",
       "8      BM09  LINESTRING (19.05793 47.46850, 19.05737 47.468...\n",
       "9      DO19  LINESTRING (19.04686 47.47404, 19.04688 47.474...\n",
       "10     DX77  LINESTRING (18.99254 47.47332, 18.99258 47.473...\n",
       "11     EJ39  LINESTRING (19.04686 47.47404, 19.04688 47.474...\n",
       "12     EJ40  LINESTRING (19.04835 47.47750, 19.04834 47.477...\n",
       "13     IJ60  LINESTRING (19.02339 47.46447, 19.02341 47.464...\n",
       "14     IJ62  LINESTRING (19.10815 47.50039, 19.10813 47.500...\n",
       "15     IL26  LINESTRING (19.14204 47.54704, 19.14223 47.546...\n",
       "16     IL59  LINESTRING (19.05310 47.46442, 19.05302 47.464...\n",
       "17     L755  LINESTRING (19.02339 47.46447, 19.02341 47.464...\n",
       "18     N087  LINESTRING (19.02341 47.46447, 19.02343 47.464...\n",
       "19     N088  LINESTRING (19.02937 47.54877, 19.02937 47.548...\n",
       "20     N092  LINESTRING (19.04336 47.46225, 19.04336 47.462...\n",
       "21     NQ46  LINESTRING (19.10815 47.50039, 19.10813 47.500...\n",
       "22     NU04  LINESTRING (19.06787 47.47950, 19.06801 47.479...\n",
       "23     O350  LINESTRING (19.02937 47.54877, 19.02937 47.548...\n",
       "24     PJ53  LINESTRING (19.11237 47.51975, 19.11207 47.519...\n",
       "25     QH60  LINESTRING (19.03593 47.47628, 19.03596 47.476...\n",
       "26     QZ99  LINESTRING (19.02957 47.54837, 19.02964 47.548...\n",
       "27     RA01  LINESTRING (19.10785 47.50065, 19.10796 47.500...\n",
       "28     RA02  LINESTRING (19.02298 47.46480, 19.02318 47.464...\n",
       "29     RA04  LINESTRING (19.02298 47.46480, 19.02318 47.464...\n",
       "30     RA05  LINESTRING (19.02298 47.46480, 19.02318 47.464...\n",
       "31     RA99  LINESTRING (19.02298 47.46480, 19.02318 47.464...\n",
       "32     RL95  LINESTRING (19.05793 47.46850, 19.05737 47.468...\n",
       "33     RM00  LINESTRING (19.05921 47.47663, 19.05948 47.476...\n",
       "34     RM48  LINESTRING (19.05793 47.46850, 19.05737 47.468...\n",
       "35     RM50  LINESTRING (18.99254 47.47332, 18.99258 47.473...\n",
       "36     SB36  LINESTRING (19.14204 47.54704, 19.14223 47.546...\n",
       "37     SB37  LINESTRING (18.97078 47.38799, 18.97089 47.388...\n",
       "38     SB38  LINESTRING (18.97078 47.38799, 18.97089 47.388...\n",
       "39     SB39  LINESTRING (19.08131 47.50037, 19.08081 47.500...\n",
       "40     TD49  LINESTRING (19.04336 47.46225, 19.04336 47.462...\n",
       "41     TD55  LINESTRING (19.10815 47.50039, 19.10813 47.500...\n",
       "42     TL38  LINESTRING (19.10815 47.50039, 19.10813 47.500...\n",
       "43     TT13  LINESTRING (19.04336 47.46225, 19.04336 47.462...\n",
       "44     VN41  LINESTRING (19.04197 47.55013, 19.04204 47.550...\n",
       "45     VN42  LINESTRING (19.10785 47.50065, 19.10796 47.500...\n",
       "46     XC11  LINESTRING (19.04881 47.47727, 19.04897 47.477...\n",
       "47     XC12  LINESTRING (18.95855 47.38888, 18.95851 47.388...\n",
       "48     XC13  LINESTRING (19.04912 47.44917, 19.04908 47.449...\n",
       "49     XD31  LINESTRING (18.96798 47.50062, 18.96806 47.500...\n",
       "50     XD69  LINESTRING (19.06801 47.47952, 19.06792 47.479...\n",
       "51     XD70  LINESTRING (18.98954 47.49793, 18.98953 47.497...\n",
       "52     XO16  LINESTRING (19.02296 47.46476, 19.02298 47.464...\n",
       "53     XO17  LINESTRING (19.02296 47.46476, 19.02298 47.464...\n",
       "54     XO18  LINESTRING (19.02296 47.46476, 19.02298 47.464...\n",
       "55     XO20  LINESTRING (19.02629 47.56800, 19.02621 47.568...\n",
       "56     XS57  LINESTRING (19.06787 47.47950, 19.06801 47.479...\n",
       "57     XS63  LINESTRING (18.95484 47.48671, 18.95483 47.486..."
      ]
     },
     "execution_count": 18,
     "metadata": {},
     "output_type": "execute_result"
    }
   ],
   "source": [
    "shapes_I=shapes[shapes[\"shape_id\"].isin(shapes_within_i)]\n",
    "shapes_I.reset_index(drop=True, inplace=True)\n",
    "shapes_I"
   ]
  },
  {
   "cell_type": "code",
   "execution_count": 19,
   "metadata": {},
   "outputs": [
    {
     "data": {
      "image/png": "[encoded data removed]",
      "text/plain": [
       "<Figure size 432x288 with 1 Axes>"
      ]
     },
     "metadata": {
      "needs_background": "light"
     },
     "output_type": "display_data"
    }
   ],
   "source": [
    "for i in shapes_I[\"geometry\"]:\n",
    "    x,y=i.coords.xy\n",
    "    plt.plot(x,y)\n",
    "    plt.scatter(I_building[1], I_building[0])\n",
    "plt.show()"
   ]
  },
  {
   "cell_type": "code",
   "execution_count": 20,
   "metadata": {},
   "outputs": [
    {
     "data": {
      "text/html": [
       "<div>\n",
       "<style scoped>\n",
       "    .dataframe tbody tr th:only-of-type {\n",
       "        vertical-align: middle;\n",
       "    }\n",
       "\n",
       "    .dataframe tbody tr th {\n",
       "        vertical-align: top;\n",
       "    }\n",
       "\n",
       "    .dataframe thead th {\n",
       "        text-align: right;\n",
       "    }\n",
       "</style>\n",
       "<table border=\"1\" class=\"dataframe\">\n",
       "  <thead>\n",
       "    <tr style=\"text-align: right;\">\n",
       "      <th></th>\n",
       "      <th>shape_id</th>\n",
       "      <th>geometry</th>\n",
       "    </tr>\n",
       "  </thead>\n",
       "  <tbody>\n",
       "    <tr>\n",
       "      <th>0</th>\n",
       "      <td>0976</td>\n",
       "      <td>LINESTRING (19.04686 47.47404, 19.04688 47.474...</td>\n",
       "    </tr>\n",
       "    <tr>\n",
       "      <th>1</th>\n",
       "      <td>0977</td>\n",
       "      <td>LINESTRING (19.02519 47.50723, 19.02518 47.507...</td>\n",
       "    </tr>\n",
       "    <tr>\n",
       "      <th>2</th>\n",
       "      <td>2064</td>\n",
       "      <td>LINESTRING (19.07132 47.49604, 19.07127 47.496...</td>\n",
       "    </tr>\n",
       "    <tr>\n",
       "      <th>3</th>\n",
       "      <td>AH19</td>\n",
       "      <td>LINESTRING (19.06299 47.46985, 19.06299 47.469...</td>\n",
       "    </tr>\n",
       "    <tr>\n",
       "      <th>4</th>\n",
       "      <td>B692</td>\n",
       "      <td>LINESTRING (19.04835 47.47750, 19.04834 47.477...</td>\n",
       "    </tr>\n",
       "    <tr>\n",
       "      <th>5</th>\n",
       "      <td>B693</td>\n",
       "      <td>LINESTRING (19.02519 47.50723, 19.02518 47.507...</td>\n",
       "    </tr>\n",
       "    <tr>\n",
       "      <th>6</th>\n",
       "      <td>B824</td>\n",
       "      <td>LINESTRING (19.07134 47.49607, 19.07132 47.496...</td>\n",
       "    </tr>\n",
       "    <tr>\n",
       "      <th>7</th>\n",
       "      <td>BM08</td>\n",
       "      <td>LINESTRING (19.08126 47.50041, 19.08131 47.500...</td>\n",
       "    </tr>\n",
       "    <tr>\n",
       "      <th>8</th>\n",
       "      <td>BM09</td>\n",
       "      <td>LINESTRING (19.05793 47.46850, 19.05737 47.468...</td>\n",
       "    </tr>\n",
       "    <tr>\n",
       "      <th>9</th>\n",
       "      <td>DO19</td>\n",
       "      <td>LINESTRING (19.04686 47.47404, 19.04688 47.474...</td>\n",
       "    </tr>\n",
       "    <tr>\n",
       "      <th>10</th>\n",
       "      <td>DX77</td>\n",
       "      <td>LINESTRING (18.99254 47.47332, 18.99258 47.473...</td>\n",
       "    </tr>\n",
       "    <tr>\n",
       "      <th>11</th>\n",
       "      <td>EJ39</td>\n",
       "      <td>LINESTRING (19.04686 47.47404, 19.04688 47.474...</td>\n",
       "    </tr>\n",
       "    <tr>\n",
       "      <th>12</th>\n",
       "      <td>EJ40</td>\n",
       "      <td>LINESTRING (19.04835 47.47750, 19.04834 47.477...</td>\n",
       "    </tr>\n",
       "    <tr>\n",
       "      <th>13</th>\n",
       "      <td>IJ60</td>\n",
       "      <td>LINESTRING (19.02339 47.46447, 19.02341 47.464...</td>\n",
       "    </tr>\n",
       "    <tr>\n",
       "      <th>14</th>\n",
       "      <td>IJ62</td>\n",
       "      <td>LINESTRING (19.10815 47.50039, 19.10813 47.500...</td>\n",
       "    </tr>\n",
       "    <tr>\n",
       "      <th>15</th>\n",
       "      <td>IL26</td>\n",
       "      <td>LINESTRING (19.14204 47.54704, 19.14223 47.546...</td>\n",
       "    </tr>\n",
       "    <tr>\n",
       "      <th>16</th>\n",
       "      <td>IL59</td>\n",
       "      <td>LINESTRING (19.05310 47.46442, 19.05302 47.464...</td>\n",
       "    </tr>\n",
       "    <tr>\n",
       "      <th>17</th>\n",
       "      <td>L755</td>\n",
       "      <td>LINESTRING (19.02339 47.46447, 19.02341 47.464...</td>\n",
       "    </tr>\n",
       "    <tr>\n",
       "      <th>18</th>\n",
       "      <td>N087</td>\n",
       "      <td>LINESTRING (19.02341 47.46447, 19.02343 47.464...</td>\n",
       "    </tr>\n",
       "    <tr>\n",
       "      <th>19</th>\n",
       "      <td>N088</td>\n",
       "      <td>LINESTRING (19.02937 47.54877, 19.02937 47.548...</td>\n",
       "    </tr>\n",
       "    <tr>\n",
       "      <th>20</th>\n",
       "      <td>N092</td>\n",
       "      <td>LINESTRING (19.04336 47.46225, 19.04336 47.462...</td>\n",
       "    </tr>\n",
       "    <tr>\n",
       "      <th>21</th>\n",
       "      <td>NQ46</td>\n",
       "      <td>LINESTRING (19.10815 47.50039, 19.10813 47.500...</td>\n",
       "    </tr>\n",
       "    <tr>\n",
       "      <th>22</th>\n",
       "      <td>NU04</td>\n",
       "      <td>LINESTRING (19.06787 47.47950, 19.06801 47.479...</td>\n",
       "    </tr>\n",
       "    <tr>\n",
       "      <th>23</th>\n",
       "      <td>O350</td>\n",
       "      <td>LINESTRING (19.02937 47.54877, 19.02937 47.548...</td>\n",
       "    </tr>\n",
       "    <tr>\n",
       "      <th>24</th>\n",
       "      <td>PJ53</td>\n",
       "      <td>LINESTRING (19.11237 47.51975, 19.11207 47.519...</td>\n",
       "    </tr>\n",
       "    <tr>\n",
       "      <th>25</th>\n",
       "      <td>QH60</td>\n",
       "      <td>LINESTRING (19.03593 47.47628, 19.03596 47.476...</td>\n",
       "    </tr>\n",
       "    <tr>\n",
       "      <th>26</th>\n",
       "      <td>QZ99</td>\n",
       "      <td>LINESTRING (19.02957 47.54837, 19.02964 47.548...</td>\n",
       "    </tr>\n",
       "    <tr>\n",
       "      <th>27</th>\n",
       "      <td>RA01</td>\n",
       "      <td>LINESTRING (19.10785 47.50065, 19.10796 47.500...</td>\n",
       "    </tr>\n",
       "    <tr>\n",
       "      <th>28</th>\n",
       "      <td>RA02</td>\n",
       "      <td>LINESTRING (19.02298 47.46480, 19.02318 47.464...</td>\n",
       "    </tr>\n",
       "    <tr>\n",
       "      <th>29</th>\n",
       "      <td>RA04</td>\n",
       "      <td>LINESTRING (19.02298 47.46480, 19.02318 47.464...</td>\n",
       "    </tr>\n",
       "    <tr>\n",
       "      <th>30</th>\n",
       "      <td>RA05</td>\n",
       "      <td>LINESTRING (19.02298 47.46480, 19.02318 47.464...</td>\n",
       "    </tr>\n",
       "    <tr>\n",
       "      <th>31</th>\n",
       "      <td>RA99</td>\n",
       "      <td>LINESTRING (19.02298 47.46480, 19.02318 47.464...</td>\n",
       "    </tr>\n",
       "    <tr>\n",
       "      <th>32</th>\n",
       "      <td>RL95</td>\n",
       "      <td>LINESTRING (19.05793 47.46850, 19.05737 47.468...</td>\n",
       "    </tr>\n",
       "    <tr>\n",
       "      <th>33</th>\n",
       "      <td>RM00</td>\n",
       "      <td>LINESTRING (19.05921 47.47663, 19.05948 47.476...</td>\n",
       "    </tr>\n",
       "    <tr>\n",
       "      <th>34</th>\n",
       "      <td>RM48</td>\n",
       "      <td>LINESTRING (19.05793 47.46850, 19.05737 47.468...</td>\n",
       "    </tr>\n",
       "    <tr>\n",
       "      <th>35</th>\n",
       "      <td>RM50</td>\n",
       "      <td>LINESTRING (18.99254 47.47332, 18.99258 47.473...</td>\n",
       "    </tr>\n",
       "    <tr>\n",
       "      <th>36</th>\n",
       "      <td>SB36</td>\n",
       "      <td>LINESTRING (19.14204 47.54704, 19.14223 47.546...</td>\n",
       "    </tr>\n",
       "    <tr>\n",
       "      <th>37</th>\n",
       "      <td>SB37</td>\n",
       "      <td>LINESTRING (18.97078 47.38799, 18.97089 47.388...</td>\n",
       "    </tr>\n",
       "    <tr>\n",
       "      <th>38</th>\n",
       "      <td>SB38</td>\n",
       "      <td>LINESTRING (18.97078 47.38799, 18.97089 47.388...</td>\n",
       "    </tr>\n",
       "    <tr>\n",
       "      <th>39</th>\n",
       "      <td>SB39</td>\n",
       "      <td>LINESTRING (19.08131 47.50037, 19.08081 47.500...</td>\n",
       "    </tr>\n",
       "    <tr>\n",
       "      <th>40</th>\n",
       "      <td>TD49</td>\n",
       "      <td>LINESTRING (19.04336 47.46225, 19.04336 47.462...</td>\n",
       "    </tr>\n",
       "    <tr>\n",
       "      <th>41</th>\n",
       "      <td>TD55</td>\n",
       "      <td>LINESTRING (19.10815 47.50039, 19.10813 47.500...</td>\n",
       "    </tr>\n",
       "    <tr>\n",
       "      <th>42</th>\n",
       "      <td>TL38</td>\n",
       "      <td>LINESTRING (19.10815 47.50039, 19.10813 47.500...</td>\n",
       "    </tr>\n",
       "    <tr>\n",
       "      <th>43</th>\n",
       "      <td>TT13</td>\n",
       "      <td>LINESTRING (19.04336 47.46225, 19.04336 47.462...</td>\n",
       "    </tr>\n",
       "    <tr>\n",
       "      <th>44</th>\n",
       "      <td>VN41</td>\n",
       "      <td>LINESTRING (19.04197 47.55013, 19.04204 47.550...</td>\n",
       "    </tr>\n",
       "    <tr>\n",
       "      <th>45</th>\n",
       "      <td>VN42</td>\n",
       "      <td>LINESTRING (19.10785 47.50065, 19.10796 47.500...</td>\n",
       "    </tr>\n",
       "    <tr>\n",
       "      <th>46</th>\n",
       "      <td>XC11</td>\n",
       "      <td>LINESTRING (19.04881 47.47727, 19.04897 47.477...</td>\n",
       "    </tr>\n",
       "    <tr>\n",
       "      <th>47</th>\n",
       "      <td>XC12</td>\n",
       "      <td>LINESTRING (18.95855 47.38888, 18.95851 47.388...</td>\n",
       "    </tr>\n",
       "    <tr>\n",
       "      <th>48</th>\n",
       "      <td>XC13</td>\n",
       "      <td>LINESTRING (19.04912 47.44917, 19.04908 47.449...</td>\n",
       "    </tr>\n",
       "    <tr>\n",
       "      <th>49</th>\n",
       "      <td>XD31</td>\n",
       "      <td>LINESTRING (18.96798 47.50062, 18.96806 47.500...</td>\n",
       "    </tr>\n",
       "    <tr>\n",
       "      <th>50</th>\n",
       "      <td>XD69</td>\n",
       "      <td>LINESTRING (19.06801 47.47952, 19.06792 47.479...</td>\n",
       "    </tr>\n",
       "    <tr>\n",
       "      <th>51</th>\n",
       "      <td>XD70</td>\n",
       "      <td>LINESTRING (18.98954 47.49793, 18.98953 47.497...</td>\n",
       "    </tr>\n",
       "    <tr>\n",
       "      <th>52</th>\n",
       "      <td>XO16</td>\n",
       "      <td>LINESTRING (19.02296 47.46476, 19.02298 47.464...</td>\n",
       "    </tr>\n",
       "    <tr>\n",
       "      <th>53</th>\n",
       "      <td>XO17</td>\n",
       "      <td>LINESTRING (19.02296 47.46476, 19.02298 47.464...</td>\n",
       "    </tr>\n",
       "    <tr>\n",
       "      <th>54</th>\n",
       "      <td>XO18</td>\n",
       "      <td>LINESTRING (19.02296 47.46476, 19.02298 47.464...</td>\n",
       "    </tr>\n",
       "    <tr>\n",
       "      <th>55</th>\n",
       "      <td>XO20</td>\n",
       "      <td>LINESTRING (19.02629 47.56800, 19.02621 47.568...</td>\n",
       "    </tr>\n",
       "    <tr>\n",
       "      <th>56</th>\n",
       "      <td>XS57</td>\n",
       "      <td>LINESTRING (19.06787 47.47950, 19.06801 47.479...</td>\n",
       "    </tr>\n",
       "    <tr>\n",
       "      <th>57</th>\n",
       "      <td>XS63</td>\n",
       "      <td>LINESTRING (18.95484 47.48671, 18.95483 47.486...</td>\n",
       "    </tr>\n",
       "  </tbody>\n",
       "</table>\n",
       "</div>"
      ],
      "text/plain": [
       "   shape_id                                           geometry\n",
       "0      0976  LINESTRING (19.04686 47.47404, 19.04688 47.474...\n",
       "1      0977  LINESTRING (19.02519 47.50723, 19.02518 47.507...\n",
       "2      2064  LINESTRING (19.07132 47.49604, 19.07127 47.496...\n",
       "3      AH19  LINESTRING (19.06299 47.46985, 19.06299 47.469...\n",
       "4      B692  LINESTRING (19.04835 47.47750, 19.04834 47.477...\n",
       "5      B693  LINESTRING (19.02519 47.50723, 19.02518 47.507...\n",
       "6      B824  LINESTRING (19.07134 47.49607, 19.07132 47.496...\n",
       "7      BM08  LINESTRING (19.08126 47.50041, 19.08131 47.500...\n",
       "8      BM09  LINESTRING (19.05793 47.46850, 19.05737 47.468...\n",
       "9      DO19  LINESTRING (19.04686 47.47404, 19.04688 47.474...\n",
       "10     DX77  LINESTRING (18.99254 47.47332, 18.99258 47.473...\n",
       "11     EJ39  LINESTRING (19.04686 47.47404, 19.04688 47.474...\n",
       "12     EJ40  LINESTRING (19.04835 47.47750, 19.04834 47.477...\n",
       "13     IJ60  LINESTRING (19.02339 47.46447, 19.02341 47.464...\n",
       "14     IJ62  LINESTRING (19.10815 47.50039, 19.10813 47.500...\n",
       "15     IL26  LINESTRING (19.14204 47.54704, 19.14223 47.546...\n",
       "16     IL59  LINESTRING (19.05310 47.46442, 19.05302 47.464...\n",
       "17     L755  LINESTRING (19.02339 47.46447, 19.02341 47.464...\n",
       "18     N087  LINESTRING (19.02341 47.46447, 19.02343 47.464...\n",
       "19     N088  LINESTRING (19.02937 47.54877, 19.02937 47.548...\n",
       "20     N092  LINESTRING (19.04336 47.46225, 19.04336 47.462...\n",
       "21     NQ46  LINESTRING (19.10815 47.50039, 19.10813 47.500...\n",
       "22     NU04  LINESTRING (19.06787 47.47950, 19.06801 47.479...\n",
       "23     O350  LINESTRING (19.02937 47.54877, 19.02937 47.548...\n",
       "24     PJ53  LINESTRING (19.11237 47.51975, 19.11207 47.519...\n",
       "25     QH60  LINESTRING (19.03593 47.47628, 19.03596 47.476...\n",
       "26     QZ99  LINESTRING (19.02957 47.54837, 19.02964 47.548...\n",
       "27     RA01  LINESTRING (19.10785 47.50065, 19.10796 47.500...\n",
       "28     RA02  LINESTRING (19.02298 47.46480, 19.02318 47.464...\n",
       "29     RA04  LINESTRING (19.02298 47.46480, 19.02318 47.464...\n",
       "30     RA05  LINESTRING (19.02298 47.46480, 19.02318 47.464...\n",
       "31     RA99  LINESTRING (19.02298 47.46480, 19.02318 47.464...\n",
       "32     RL95  LINESTRING (19.05793 47.46850, 19.05737 47.468...\n",
       "33     RM00  LINESTRING (19.05921 47.47663, 19.05948 47.476...\n",
       "34     RM48  LINESTRING (19.05793 47.46850, 19.05737 47.468...\n",
       "35     RM50  LINESTRING (18.99254 47.47332, 18.99258 47.473...\n",
       "36     SB36  LINESTRING (19.14204 47.54704, 19.14223 47.546...\n",
       "37     SB37  LINESTRING (18.97078 47.38799, 18.97089 47.388...\n",
       "38     SB38  LINESTRING (18.97078 47.38799, 18.97089 47.388...\n",
       "39     SB39  LINESTRING (19.08131 47.50037, 19.08081 47.500...\n",
       "40     TD49  LINESTRING (19.04336 47.46225, 19.04336 47.462...\n",
       "41     TD55  LINESTRING (19.10815 47.50039, 19.10813 47.500...\n",
       "42     TL38  LINESTRING (19.10815 47.50039, 19.10813 47.500...\n",
       "43     TT13  LINESTRING (19.04336 47.46225, 19.04336 47.462...\n",
       "44     VN41  LINESTRING (19.04197 47.55013, 19.04204 47.550...\n",
       "45     VN42  LINESTRING (19.10785 47.50065, 19.10796 47.500...\n",
       "46     XC11  LINESTRING (19.04881 47.47727, 19.04897 47.477...\n",
       "47     XC12  LINESTRING (18.95855 47.38888, 18.95851 47.388...\n",
       "48     XC13  LINESTRING (19.04912 47.44917, 19.04908 47.449...\n",
       "49     XD31  LINESTRING (18.96798 47.50062, 18.96806 47.500...\n",
       "50     XD69  LINESTRING (19.06801 47.47952, 19.06792 47.479...\n",
       "51     XD70  LINESTRING (18.98954 47.49793, 18.98953 47.497...\n",
       "52     XO16  LINESTRING (19.02296 47.46476, 19.02298 47.464...\n",
       "53     XO17  LINESTRING (19.02296 47.46476, 19.02298 47.464...\n",
       "54     XO18  LINESTRING (19.02296 47.46476, 19.02298 47.464...\n",
       "55     XO20  LINESTRING (19.02629 47.56800, 19.02621 47.568...\n",
       "56     XS57  LINESTRING (19.06787 47.47950, 19.06801 47.479...\n",
       "57     XS63  LINESTRING (18.95484 47.48671, 18.95483 47.486..."
      ]
     },
     "execution_count": 20,
     "metadata": {},
     "output_type": "execute_result"
    }
   ],
   "source": [
    "shapes_I"
   ]
  },
  {
   "cell_type": "code",
   "execution_count": 21,
   "metadata": {},
   "outputs": [
    {
     "data": {
      "text/html": [
       "<div>\n",
       "<style scoped>\n",
       "    .dataframe tbody tr th:only-of-type {\n",
       "        vertical-align: middle;\n",
       "    }\n",
       "\n",
       "    .dataframe tbody tr th {\n",
       "        vertical-align: top;\n",
       "    }\n",
       "\n",
       "    .dataframe thead th {\n",
       "        text-align: right;\n",
       "    }\n",
       "</style>\n",
       "<table border=\"1\" class=\"dataframe\">\n",
       "  <thead>\n",
       "    <tr style=\"text-align: right;\">\n",
       "      <th></th>\n",
       "      <th>trip_id</th>\n",
       "      <th>route_id</th>\n",
       "      <th>service_id</th>\n",
       "      <th>direction_id</th>\n",
       "      <th>shape_id</th>\n",
       "    </tr>\n",
       "  </thead>\n",
       "  <tbody>\n",
       "    <tr>\n",
       "      <th>1446</th>\n",
       "      <td>C34268105116</td>\n",
       "      <td>3060</td>\n",
       "      <td>C34268REHHKMK-011</td>\n",
       "      <td>1</td>\n",
       "      <td>B692</td>\n",
       "    </tr>\n",
       "    <tr>\n",
       "      <th>1484</th>\n",
       "      <td>C34268120869</td>\n",
       "      <td>3040</td>\n",
       "      <td>C34268REHHKMK-011</td>\n",
       "      <td>0</td>\n",
       "      <td>0977</td>\n",
       "    </tr>\n",
       "    <tr>\n",
       "      <th>7436</th>\n",
       "      <td>C50522131</td>\n",
       "      <td>1530</td>\n",
       "      <td>C50522AHCKVA-011</td>\n",
       "      <td>1</td>\n",
       "      <td>DX77</td>\n",
       "    </tr>\n",
       "    <tr>\n",
       "      <th>7440</th>\n",
       "      <td>C505221645</td>\n",
       "      <td>1540</td>\n",
       "      <td>C50522AHCKVA-011</td>\n",
       "      <td>1</td>\n",
       "      <td>RM50</td>\n",
       "    </tr>\n",
       "    <tr>\n",
       "      <th>16250</th>\n",
       "      <td>C530791140</td>\n",
       "      <td>9180</td>\n",
       "      <td>C53079AHPMAA-021</td>\n",
       "      <td>1</td>\n",
       "      <td>VN42</td>\n",
       "    </tr>\n",
       "    <tr>\n",
       "      <th>18201</th>\n",
       "      <td>C537446103J</td>\n",
       "      <td>3410</td>\n",
       "      <td>C53744AHCPJ-0051</td>\n",
       "      <td>1</td>\n",
       "      <td>TL38</td>\n",
       "    </tr>\n",
       "    <tr>\n",
       "      <th>20469</th>\n",
       "      <td>C540151008</td>\n",
       "      <td>1335</td>\n",
       "      <td>C54015TOHCMAA-011</td>\n",
       "      <td>0</td>\n",
       "      <td>SB39</td>\n",
       "    </tr>\n",
       "    <tr>\n",
       "      <th>24651</th>\n",
       "      <td>C5450110</td>\n",
       "      <td>1070</td>\n",
       "      <td>C54501AHCWA-0011</td>\n",
       "      <td>0</td>\n",
       "      <td>BM09</td>\n",
       "    </tr>\n",
       "    <tr>\n",
       "      <th>31736</th>\n",
       "      <td>C547346553</td>\n",
       "      <td>2120</td>\n",
       "      <td>C54734AHCCsZ-031</td>\n",
       "      <td>1</td>\n",
       "      <td>QH60</td>\n",
       "    </tr>\n",
       "    <tr>\n",
       "      <th>31743</th>\n",
       "      <td>C547346581</td>\n",
       "      <td>2121</td>\n",
       "      <td>C54734AHCCsZ-031</td>\n",
       "      <td>0</td>\n",
       "      <td>XD69</td>\n",
       "    </tr>\n",
       "    <tr>\n",
       "      <th>31751</th>\n",
       "      <td>C547346611</td>\n",
       "      <td>2122</td>\n",
       "      <td>C54734AHCCsZ-031</td>\n",
       "      <td>0</td>\n",
       "      <td>XS57</td>\n",
       "    </tr>\n",
       "    <tr>\n",
       "      <th>31958</th>\n",
       "      <td>C54746106</td>\n",
       "      <td>0330</td>\n",
       "      <td>C54746AHCMAA-031</td>\n",
       "      <td>0</td>\n",
       "      <td>XC11</td>\n",
       "    </tr>\n",
       "    <tr>\n",
       "      <th>32099</th>\n",
       "      <td>C547871</td>\n",
       "      <td>3010</td>\n",
       "      <td>C54787RAAHHMAA-021</td>\n",
       "      <td>0</td>\n",
       "      <td>N087</td>\n",
       "    </tr>\n",
       "    <tr>\n",
       "      <th>34332</th>\n",
       "      <td>C5494311793J</td>\n",
       "      <td>3170</td>\n",
       "      <td>C54943RAAHHSZL-031</td>\n",
       "      <td>0</td>\n",
       "      <td>NQ46</td>\n",
       "    </tr>\n",
       "    <tr>\n",
       "      <th>39977</th>\n",
       "      <td>C55600102</td>\n",
       "      <td>9010</td>\n",
       "      <td>C55600AHPSZB-011</td>\n",
       "      <td>0</td>\n",
       "      <td>RA04</td>\n",
       "    </tr>\n",
       "  </tbody>\n",
       "</table>\n",
       "</div>"
      ],
      "text/plain": [
       "            trip_id route_id          service_id  direction_id shape_id\n",
       "1446   C34268105116     3060   C34268REHHKMK-011             1     B692\n",
       "1484   C34268120869     3040   C34268REHHKMK-011             0     0977\n",
       "7436      C50522131     1530    C50522AHCKVA-011             1     DX77\n",
       "7440     C505221645     1540    C50522AHCKVA-011             1     RM50\n",
       "16250    C530791140     9180    C53079AHPMAA-021             1     VN42\n",
       "18201   C537446103J     3410    C53744AHCPJ-0051             1     TL38\n",
       "20469    C540151008     1335   C54015TOHCMAA-011             0     SB39\n",
       "24651      C5450110     1070    C54501AHCWA-0011             0     BM09\n",
       "31736    C547346553     2120    C54734AHCCsZ-031             1     QH60\n",
       "31743    C547346581     2121    C54734AHCCsZ-031             0     XD69\n",
       "31751    C547346611     2122    C54734AHCCsZ-031             0     XS57\n",
       "31958     C54746106     0330    C54746AHCMAA-031             0     XC11\n",
       "32099       C547871     3010  C54787RAAHHMAA-021             0     N087\n",
       "34332  C5494311793J     3170  C54943RAAHHSZL-031             0     NQ46\n",
       "39977     C55600102     9010    C55600AHPSZB-011             0     RA04"
      ]
     },
     "execution_count": 21,
     "metadata": {},
     "output_type": "execute_result"
    }
   ],
   "source": [
    "trips_I=trips[trips[\"shape_id\"].isin(shapes_I[\"shape_id\"])]\n",
    "trips_I.drop_duplicates(subset=[\"route_id\"])"
   ]
  },
  {
   "cell_type": "code",
   "execution_count": 22,
   "metadata": {},
   "outputs": [],
   "source": [
    "routes_I=routes[routes[\"route_id\"].isin(trips_I[\"route_id\"])]\n"
   ]
  },
  {
   "cell_type": "code",
   "execution_count": 23,
   "metadata": {},
   "outputs": [],
   "source": [
    "routes_I=routes_I.iloc[:-2]"
   ]
  },
  {
   "cell_type": "code",
   "execution_count": 24,
   "metadata": {},
   "outputs": [
    {
     "data": {
      "text/html": [
       "<div>\n",
       "<style scoped>\n",
       "    .dataframe tbody tr th:only-of-type {\n",
       "        vertical-align: middle;\n",
       "    }\n",
       "\n",
       "    .dataframe tbody tr th {\n",
       "        vertical-align: top;\n",
       "    }\n",
       "\n",
       "    .dataframe thead th {\n",
       "        text-align: right;\n",
       "    }\n",
       "</style>\n",
       "<table border=\"1\" class=\"dataframe\">\n",
       "  <thead>\n",
       "    <tr style=\"text-align: right;\">\n",
       "      <th></th>\n",
       "      <th>agency_id</th>\n",
       "      <th>route_id</th>\n",
       "      <th>route_short_name</th>\n",
       "      <th>route_long_name</th>\n",
       "      <th>route_type</th>\n",
       "      <th>route_desc</th>\n",
       "      <th>route_color</th>\n",
       "      <th>route_text_color</th>\n",
       "      <th>route_sort_order</th>\n",
       "    </tr>\n",
       "  </thead>\n",
       "  <tbody>\n",
       "    <tr>\n",
       "      <th>28</th>\n",
       "      <td>BKK</td>\n",
       "      <td>0330</td>\n",
       "      <td>33</td>\n",
       "      <td>NaN</td>\n",
       "      <td>3</td>\n",
       "      <td>Móricz Zsigmond körtér M / Nagytétény, ipartelep</td>\n",
       "      <td>009EE3</td>\n",
       "      <td>FFFFFF</td>\n",
       "      <td>59</td>\n",
       "    </tr>\n",
       "    <tr>\n",
       "      <th>85</th>\n",
       "      <td>BKK</td>\n",
       "      <td>1070</td>\n",
       "      <td>107</td>\n",
       "      <td>NaN</td>\n",
       "      <td>3</td>\n",
       "      <td>BudaPart / Keleti pályaudvar M</td>\n",
       "      <td>009EE3</td>\n",
       "      <td>FFFFFF</td>\n",
       "      <td>158</td>\n",
       "    </tr>\n",
       "    <tr>\n",
       "      <th>114</th>\n",
       "      <td>BKK</td>\n",
       "      <td>1335</td>\n",
       "      <td>133E</td>\n",
       "      <td>NaN</td>\n",
       "      <td>3</td>\n",
       "      <td>Újpalota, Nyírpalota út / Nagytétény, Erdélyi ...</td>\n",
       "      <td>009EE3</td>\n",
       "      <td>FFFFFF</td>\n",
       "      <td>188</td>\n",
       "    </tr>\n",
       "    <tr>\n",
       "      <th>135</th>\n",
       "      <td>BKK</td>\n",
       "      <td>1530</td>\n",
       "      <td>153</td>\n",
       "      <td>NaN</td>\n",
       "      <td>3</td>\n",
       "      <td>Infopark (Pázmány Péter sétány) / Gazdagréti tér</td>\n",
       "      <td>009EE3</td>\n",
       "      <td>FFFFFF</td>\n",
       "      <td>209</td>\n",
       "    </tr>\n",
       "    <tr>\n",
       "      <th>136</th>\n",
       "      <td>BKK</td>\n",
       "      <td>1540</td>\n",
       "      <td>154</td>\n",
       "      <td>NaN</td>\n",
       "      <td>3</td>\n",
       "      <td>BudaPart / Gazdagréti tér</td>\n",
       "      <td>009EE3</td>\n",
       "      <td>FFFFFF</td>\n",
       "      <td>210</td>\n",
       "    </tr>\n",
       "    <tr>\n",
       "      <th>184</th>\n",
       "      <td>BKK</td>\n",
       "      <td>2120</td>\n",
       "      <td>212</td>\n",
       "      <td>NaN</td>\n",
       "      <td>3</td>\n",
       "      <td>Boráros tér H / Normafa, látogatóközpont</td>\n",
       "      <td>009EE3</td>\n",
       "      <td>FFFFFF</td>\n",
       "      <td>258</td>\n",
       "    </tr>\n",
       "    <tr>\n",
       "      <th>185</th>\n",
       "      <td>BKK</td>\n",
       "      <td>2121</td>\n",
       "      <td>212A</td>\n",
       "      <td>NaN</td>\n",
       "      <td>3</td>\n",
       "      <td>Boráros tér H / Svábhegy</td>\n",
       "      <td>009EE3</td>\n",
       "      <td>FFFFFF</td>\n",
       "      <td>259</td>\n",
       "    </tr>\n",
       "    <tr>\n",
       "      <th>186</th>\n",
       "      <td>BKK</td>\n",
       "      <td>2122</td>\n",
       "      <td>212B</td>\n",
       "      <td>NaN</td>\n",
       "      <td>3</td>\n",
       "      <td>Boráros tér H / Csillebérc, KFKI</td>\n",
       "      <td>009EE3</td>\n",
       "      <td>FFFFFF</td>\n",
       "      <td>260</td>\n",
       "    </tr>\n",
       "    <tr>\n",
       "      <th>240</th>\n",
       "      <td>BKK</td>\n",
       "      <td>3010</td>\n",
       "      <td>1</td>\n",
       "      <td>NaN</td>\n",
       "      <td>0</td>\n",
       "      <td>Kelenföld vasútállomás M / Bécsi út / Vörösvár...</td>\n",
       "      <td>FFD800</td>\n",
       "      <td>000000</td>\n",
       "      <td>14</td>\n",
       "    </tr>\n",
       "    <tr>\n",
       "      <th>246</th>\n",
       "      <td>BKK</td>\n",
       "      <td>3040</td>\n",
       "      <td>4</td>\n",
       "      <td>NaN</td>\n",
       "      <td>0</td>\n",
       "      <td>Széll Kálmán tér M / Újbuda-központ M</td>\n",
       "      <td>FFD800</td>\n",
       "      <td>000000</td>\n",
       "      <td>22</td>\n",
       "    </tr>\n",
       "    <tr>\n",
       "      <th>247</th>\n",
       "      <td>BKK</td>\n",
       "      <td>3060</td>\n",
       "      <td>6</td>\n",
       "      <td>NaN</td>\n",
       "      <td>0</td>\n",
       "      <td>Széll Kálmán tér M / Móricz Zsigmond körtér M</td>\n",
       "      <td>FFD800</td>\n",
       "      <td>000000</td>\n",
       "      <td>24</td>\n",
       "    </tr>\n",
       "    <tr>\n",
       "      <th>250</th>\n",
       "      <td>BKK</td>\n",
       "      <td>3170</td>\n",
       "      <td>17</td>\n",
       "      <td>NaN</td>\n",
       "      <td>0</td>\n",
       "      <td>Savoya Park / Bécsi út / Vörösvári út</td>\n",
       "      <td>FFD800</td>\n",
       "      <td>000000</td>\n",
       "      <td>39</td>\n",
       "    </tr>\n",
       "    <tr>\n",
       "      <th>257</th>\n",
       "      <td>BKK</td>\n",
       "      <td>3410</td>\n",
       "      <td>41</td>\n",
       "      <td>NaN</td>\n",
       "      <td>0</td>\n",
       "      <td>Bécsi út / Vörösvári út / Budafok kocsiszín</td>\n",
       "      <td>FFD800</td>\n",
       "      <td>000000</td>\n",
       "      <td>72</td>\n",
       "    </tr>\n",
       "  </tbody>\n",
       "</table>\n",
       "</div>"
      ],
      "text/plain": [
       "    agency_id route_id route_short_name route_long_name  route_type  \\\n",
       "28        BKK     0330               33             NaN           3   \n",
       "85        BKK     1070              107             NaN           3   \n",
       "114       BKK     1335             133E             NaN           3   \n",
       "135       BKK     1530              153             NaN           3   \n",
       "136       BKK     1540              154             NaN           3   \n",
       "184       BKK     2120              212             NaN           3   \n",
       "185       BKK     2121             212A             NaN           3   \n",
       "186       BKK     2122             212B             NaN           3   \n",
       "240       BKK     3010                1             NaN           0   \n",
       "246       BKK     3040                4             NaN           0   \n",
       "247       BKK     3060                6             NaN           0   \n",
       "250       BKK     3170               17             NaN           0   \n",
       "257       BKK     3410               41             NaN           0   \n",
       "\n",
       "                                            route_desc route_color  \\\n",
       "28    Móricz Zsigmond körtér M / Nagytétény, ipartelep      009EE3   \n",
       "85                      BudaPart / Keleti pályaudvar M      009EE3   \n",
       "114  Újpalota, Nyírpalota út / Nagytétény, Erdélyi ...      009EE3   \n",
       "135   Infopark (Pázmány Péter sétány) / Gazdagréti tér      009EE3   \n",
       "136                          BudaPart / Gazdagréti tér      009EE3   \n",
       "184           Boráros tér H / Normafa, látogatóközpont      009EE3   \n",
       "185                           Boráros tér H / Svábhegy      009EE3   \n",
       "186                   Boráros tér H / Csillebérc, KFKI      009EE3   \n",
       "240  Kelenföld vasútállomás M / Bécsi út / Vörösvár...      FFD800   \n",
       "246              Széll Kálmán tér M / Újbuda-központ M      FFD800   \n",
       "247      Széll Kálmán tér M / Móricz Zsigmond körtér M      FFD800   \n",
       "250              Savoya Park / Bécsi út / Vörösvári út      FFD800   \n",
       "257        Bécsi út / Vörösvári út / Budafok kocsiszín      FFD800   \n",
       "\n",
       "    route_text_color route_sort_order  \n",
       "28            FFFFFF               59  \n",
       "85            FFFFFF              158  \n",
       "114           FFFFFF              188  \n",
       "135           FFFFFF              209  \n",
       "136           FFFFFF              210  \n",
       "184           FFFFFF              258  \n",
       "185           FFFFFF              259  \n",
       "186           FFFFFF              260  \n",
       "240           000000               14  \n",
       "246           000000               22  \n",
       "247           000000               24  \n",
       "250           000000               39  \n",
       "257           000000               72  "
      ]
     },
     "execution_count": 24,
     "metadata": {},
     "output_type": "execute_result"
    }
   ],
   "source": [
    "routes_I"
   ]
  },
  {
   "cell_type": "code",
   "execution_count": 25,
   "metadata": {},
   "outputs": [],
   "source": [
    "import pandas as pd\n",
    "routes_I.to_csv(\"nappali_utak.csv\",index=False )"
   ]
  },
  {
   "cell_type": "code",
   "execution_count": 26,
   "metadata": {},
   "outputs": [
    {
     "data": {
      "text/plain": [
       "<pandas.core.groupby.generic.DataFrameGroupBy object at 0x0000015CCA023070>"
      ]
     },
     "execution_count": 26,
     "metadata": {},
     "output_type": "execute_result"
    }
   ],
   "source": [
    "routes_I.groupby([\"route_desc\"])"
   ]
  },
  {
   "cell_type": "code",
   "execution_count": 27,
   "metadata": {},
   "outputs": [
    {
     "data": {
      "text/html": [
       "<div>\n",
       "<style scoped>\n",
       "    .dataframe tbody tr th:only-of-type {\n",
       "        vertical-align: middle;\n",
       "    }\n",
       "\n",
       "    .dataframe tbody tr th {\n",
       "        vertical-align: top;\n",
       "    }\n",
       "\n",
       "    .dataframe thead th {\n",
       "        text-align: right;\n",
       "    }\n",
       "</style>\n",
       "<table border=\"1\" class=\"dataframe\">\n",
       "  <thead>\n",
       "    <tr style=\"text-align: right;\">\n",
       "      <th></th>\n",
       "      <th>shape_id</th>\n",
       "      <th>geometry</th>\n",
       "    </tr>\n",
       "  </thead>\n",
       "  <tbody>\n",
       "    <tr>\n",
       "      <th>0</th>\n",
       "      <td>0976</td>\n",
       "      <td>LINESTRING (19.04686 47.47404, 19.04688 47.474...</td>\n",
       "    </tr>\n",
       "    <tr>\n",
       "      <th>1</th>\n",
       "      <td>0977</td>\n",
       "      <td>LINESTRING (19.02519 47.50723, 19.02518 47.507...</td>\n",
       "    </tr>\n",
       "    <tr>\n",
       "      <th>2</th>\n",
       "      <td>2064</td>\n",
       "      <td>LINESTRING (19.07132 47.49604, 19.07127 47.496...</td>\n",
       "    </tr>\n",
       "    <tr>\n",
       "      <th>3</th>\n",
       "      <td>AH19</td>\n",
       "      <td>LINESTRING (19.06299 47.46985, 19.06299 47.469...</td>\n",
       "    </tr>\n",
       "    <tr>\n",
       "      <th>4</th>\n",
       "      <td>B692</td>\n",
       "      <td>LINESTRING (19.04835 47.47750, 19.04834 47.477...</td>\n",
       "    </tr>\n",
       "    <tr>\n",
       "      <th>5</th>\n",
       "      <td>B693</td>\n",
       "      <td>LINESTRING (19.02519 47.50723, 19.02518 47.507...</td>\n",
       "    </tr>\n",
       "    <tr>\n",
       "      <th>6</th>\n",
       "      <td>B824</td>\n",
       "      <td>LINESTRING (19.07134 47.49607, 19.07132 47.496...</td>\n",
       "    </tr>\n",
       "    <tr>\n",
       "      <th>7</th>\n",
       "      <td>BM08</td>\n",
       "      <td>LINESTRING (19.08126 47.50041, 19.08131 47.500...</td>\n",
       "    </tr>\n",
       "    <tr>\n",
       "      <th>8</th>\n",
       "      <td>BM09</td>\n",
       "      <td>LINESTRING (19.05793 47.46850, 19.05737 47.468...</td>\n",
       "    </tr>\n",
       "    <tr>\n",
       "      <th>9</th>\n",
       "      <td>DO19</td>\n",
       "      <td>LINESTRING (19.04686 47.47404, 19.04688 47.474...</td>\n",
       "    </tr>\n",
       "    <tr>\n",
       "      <th>10</th>\n",
       "      <td>DX77</td>\n",
       "      <td>LINESTRING (18.99254 47.47332, 18.99258 47.473...</td>\n",
       "    </tr>\n",
       "    <tr>\n",
       "      <th>11</th>\n",
       "      <td>EJ39</td>\n",
       "      <td>LINESTRING (19.04686 47.47404, 19.04688 47.474...</td>\n",
       "    </tr>\n",
       "    <tr>\n",
       "      <th>12</th>\n",
       "      <td>EJ40</td>\n",
       "      <td>LINESTRING (19.04835 47.47750, 19.04834 47.477...</td>\n",
       "    </tr>\n",
       "    <tr>\n",
       "      <th>13</th>\n",
       "      <td>IJ60</td>\n",
       "      <td>LINESTRING (19.02339 47.46447, 19.02341 47.464...</td>\n",
       "    </tr>\n",
       "    <tr>\n",
       "      <th>14</th>\n",
       "      <td>IJ62</td>\n",
       "      <td>LINESTRING (19.10815 47.50039, 19.10813 47.500...</td>\n",
       "    </tr>\n",
       "    <tr>\n",
       "      <th>15</th>\n",
       "      <td>IL26</td>\n",
       "      <td>LINESTRING (19.14204 47.54704, 19.14223 47.546...</td>\n",
       "    </tr>\n",
       "    <tr>\n",
       "      <th>16</th>\n",
       "      <td>IL59</td>\n",
       "      <td>LINESTRING (19.05310 47.46442, 19.05302 47.464...</td>\n",
       "    </tr>\n",
       "    <tr>\n",
       "      <th>17</th>\n",
       "      <td>L755</td>\n",
       "      <td>LINESTRING (19.02339 47.46447, 19.02341 47.464...</td>\n",
       "    </tr>\n",
       "    <tr>\n",
       "      <th>18</th>\n",
       "      <td>N087</td>\n",
       "      <td>LINESTRING (19.02341 47.46447, 19.02343 47.464...</td>\n",
       "    </tr>\n",
       "    <tr>\n",
       "      <th>19</th>\n",
       "      <td>N088</td>\n",
       "      <td>LINESTRING (19.02937 47.54877, 19.02937 47.548...</td>\n",
       "    </tr>\n",
       "    <tr>\n",
       "      <th>20</th>\n",
       "      <td>N092</td>\n",
       "      <td>LINESTRING (19.04336 47.46225, 19.04336 47.462...</td>\n",
       "    </tr>\n",
       "    <tr>\n",
       "      <th>21</th>\n",
       "      <td>NQ46</td>\n",
       "      <td>LINESTRING (19.10815 47.50039, 19.10813 47.500...</td>\n",
       "    </tr>\n",
       "    <tr>\n",
       "      <th>22</th>\n",
       "      <td>NU04</td>\n",
       "      <td>LINESTRING (19.06787 47.47950, 19.06801 47.479...</td>\n",
       "    </tr>\n",
       "    <tr>\n",
       "      <th>23</th>\n",
       "      <td>O350</td>\n",
       "      <td>LINESTRING (19.02937 47.54877, 19.02937 47.548...</td>\n",
       "    </tr>\n",
       "    <tr>\n",
       "      <th>24</th>\n",
       "      <td>PJ53</td>\n",
       "      <td>LINESTRING (19.11237 47.51975, 19.11207 47.519...</td>\n",
       "    </tr>\n",
       "    <tr>\n",
       "      <th>25</th>\n",
       "      <td>QH60</td>\n",
       "      <td>LINESTRING (19.03593 47.47628, 19.03596 47.476...</td>\n",
       "    </tr>\n",
       "    <tr>\n",
       "      <th>26</th>\n",
       "      <td>QZ99</td>\n",
       "      <td>LINESTRING (19.02957 47.54837, 19.02964 47.548...</td>\n",
       "    </tr>\n",
       "    <tr>\n",
       "      <th>27</th>\n",
       "      <td>RA01</td>\n",
       "      <td>LINESTRING (19.10785 47.50065, 19.10796 47.500...</td>\n",
       "    </tr>\n",
       "    <tr>\n",
       "      <th>28</th>\n",
       "      <td>RA02</td>\n",
       "      <td>LINESTRING (19.02298 47.46480, 19.02318 47.464...</td>\n",
       "    </tr>\n",
       "    <tr>\n",
       "      <th>29</th>\n",
       "      <td>RA04</td>\n",
       "      <td>LINESTRING (19.02298 47.46480, 19.02318 47.464...</td>\n",
       "    </tr>\n",
       "    <tr>\n",
       "      <th>30</th>\n",
       "      <td>RA05</td>\n",
       "      <td>LINESTRING (19.02298 47.46480, 19.02318 47.464...</td>\n",
       "    </tr>\n",
       "    <tr>\n",
       "      <th>31</th>\n",
       "      <td>RA99</td>\n",
       "      <td>LINESTRING (19.02298 47.46480, 19.02318 47.464...</td>\n",
       "    </tr>\n",
       "    <tr>\n",
       "      <th>32</th>\n",
       "      <td>RL95</td>\n",
       "      <td>LINESTRING (19.05793 47.46850, 19.05737 47.468...</td>\n",
       "    </tr>\n",
       "    <tr>\n",
       "      <th>33</th>\n",
       "      <td>RM00</td>\n",
       "      <td>LINESTRING (19.05921 47.47663, 19.05948 47.476...</td>\n",
       "    </tr>\n",
       "    <tr>\n",
       "      <th>34</th>\n",
       "      <td>RM48</td>\n",
       "      <td>LINESTRING (19.05793 47.46850, 19.05737 47.468...</td>\n",
       "    </tr>\n",
       "    <tr>\n",
       "      <th>35</th>\n",
       "      <td>RM50</td>\n",
       "      <td>LINESTRING (18.99254 47.47332, 18.99258 47.473...</td>\n",
       "    </tr>\n",
       "    <tr>\n",
       "      <th>36</th>\n",
       "      <td>SB36</td>\n",
       "      <td>LINESTRING (19.14204 47.54704, 19.14223 47.546...</td>\n",
       "    </tr>\n",
       "    <tr>\n",
       "      <th>37</th>\n",
       "      <td>SB37</td>\n",
       "      <td>LINESTRING (18.97078 47.38799, 18.97089 47.388...</td>\n",
       "    </tr>\n",
       "    <tr>\n",
       "      <th>38</th>\n",
       "      <td>SB38</td>\n",
       "      <td>LINESTRING (18.97078 47.38799, 18.97089 47.388...</td>\n",
       "    </tr>\n",
       "    <tr>\n",
       "      <th>39</th>\n",
       "      <td>SB39</td>\n",
       "      <td>LINESTRING (19.08131 47.50037, 19.08081 47.500...</td>\n",
       "    </tr>\n",
       "    <tr>\n",
       "      <th>40</th>\n",
       "      <td>TD49</td>\n",
       "      <td>LINESTRING (19.04336 47.46225, 19.04336 47.462...</td>\n",
       "    </tr>\n",
       "    <tr>\n",
       "      <th>41</th>\n",
       "      <td>TD55</td>\n",
       "      <td>LINESTRING (19.10815 47.50039, 19.10813 47.500...</td>\n",
       "    </tr>\n",
       "    <tr>\n",
       "      <th>42</th>\n",
       "      <td>TL38</td>\n",
       "      <td>LINESTRING (19.10815 47.50039, 19.10813 47.500...</td>\n",
       "    </tr>\n",
       "    <tr>\n",
       "      <th>43</th>\n",
       "      <td>TT13</td>\n",
       "      <td>LINESTRING (19.04336 47.46225, 19.04336 47.462...</td>\n",
       "    </tr>\n",
       "    <tr>\n",
       "      <th>44</th>\n",
       "      <td>VN41</td>\n",
       "      <td>LINESTRING (19.04197 47.55013, 19.04204 47.550...</td>\n",
       "    </tr>\n",
       "    <tr>\n",
       "      <th>45</th>\n",
       "      <td>VN42</td>\n",
       "      <td>LINESTRING (19.10785 47.50065, 19.10796 47.500...</td>\n",
       "    </tr>\n",
       "    <tr>\n",
       "      <th>46</th>\n",
       "      <td>XC11</td>\n",
       "      <td>LINESTRING (19.04881 47.47727, 19.04897 47.477...</td>\n",
       "    </tr>\n",
       "    <tr>\n",
       "      <th>47</th>\n",
       "      <td>XC12</td>\n",
       "      <td>LINESTRING (18.95855 47.38888, 18.95851 47.388...</td>\n",
       "    </tr>\n",
       "    <tr>\n",
       "      <th>48</th>\n",
       "      <td>XC13</td>\n",
       "      <td>LINESTRING (19.04912 47.44917, 19.04908 47.449...</td>\n",
       "    </tr>\n",
       "    <tr>\n",
       "      <th>49</th>\n",
       "      <td>XD31</td>\n",
       "      <td>LINESTRING (18.96798 47.50062, 18.96806 47.500...</td>\n",
       "    </tr>\n",
       "    <tr>\n",
       "      <th>50</th>\n",
       "      <td>XD69</td>\n",
       "      <td>LINESTRING (19.06801 47.47952, 19.06792 47.479...</td>\n",
       "    </tr>\n",
       "    <tr>\n",
       "      <th>51</th>\n",
       "      <td>XD70</td>\n",
       "      <td>LINESTRING (18.98954 47.49793, 18.98953 47.497...</td>\n",
       "    </tr>\n",
       "    <tr>\n",
       "      <th>52</th>\n",
       "      <td>XO16</td>\n",
       "      <td>LINESTRING (19.02296 47.46476, 19.02298 47.464...</td>\n",
       "    </tr>\n",
       "    <tr>\n",
       "      <th>53</th>\n",
       "      <td>XO17</td>\n",
       "      <td>LINESTRING (19.02296 47.46476, 19.02298 47.464...</td>\n",
       "    </tr>\n",
       "    <tr>\n",
       "      <th>54</th>\n",
       "      <td>XO18</td>\n",
       "      <td>LINESTRING (19.02296 47.46476, 19.02298 47.464...</td>\n",
       "    </tr>\n",
       "    <tr>\n",
       "      <th>55</th>\n",
       "      <td>XO20</td>\n",
       "      <td>LINESTRING (19.02629 47.56800, 19.02621 47.568...</td>\n",
       "    </tr>\n",
       "    <tr>\n",
       "      <th>56</th>\n",
       "      <td>XS57</td>\n",
       "      <td>LINESTRING (19.06787 47.47950, 19.06801 47.479...</td>\n",
       "    </tr>\n",
       "    <tr>\n",
       "      <th>57</th>\n",
       "      <td>XS63</td>\n",
       "      <td>LINESTRING (18.95484 47.48671, 18.95483 47.486...</td>\n",
       "    </tr>\n",
       "  </tbody>\n",
       "</table>\n",
       "</div>"
      ],
      "text/plain": [
       "   shape_id                                           geometry\n",
       "0      0976  LINESTRING (19.04686 47.47404, 19.04688 47.474...\n",
       "1      0977  LINESTRING (19.02519 47.50723, 19.02518 47.507...\n",
       "2      2064  LINESTRING (19.07132 47.49604, 19.07127 47.496...\n",
       "3      AH19  LINESTRING (19.06299 47.46985, 19.06299 47.469...\n",
       "4      B692  LINESTRING (19.04835 47.47750, 19.04834 47.477...\n",
       "5      B693  LINESTRING (19.02519 47.50723, 19.02518 47.507...\n",
       "6      B824  LINESTRING (19.07134 47.49607, 19.07132 47.496...\n",
       "7      BM08  LINESTRING (19.08126 47.50041, 19.08131 47.500...\n",
       "8      BM09  LINESTRING (19.05793 47.46850, 19.05737 47.468...\n",
       "9      DO19  LINESTRING (19.04686 47.47404, 19.04688 47.474...\n",
       "10     DX77  LINESTRING (18.99254 47.47332, 18.99258 47.473...\n",
       "11     EJ39  LINESTRING (19.04686 47.47404, 19.04688 47.474...\n",
       "12     EJ40  LINESTRING (19.04835 47.47750, 19.04834 47.477...\n",
       "13     IJ60  LINESTRING (19.02339 47.46447, 19.02341 47.464...\n",
       "14     IJ62  LINESTRING (19.10815 47.50039, 19.10813 47.500...\n",
       "15     IL26  LINESTRING (19.14204 47.54704, 19.14223 47.546...\n",
       "16     IL59  LINESTRING (19.05310 47.46442, 19.05302 47.464...\n",
       "17     L755  LINESTRING (19.02339 47.46447, 19.02341 47.464...\n",
       "18     N087  LINESTRING (19.02341 47.46447, 19.02343 47.464...\n",
       "19     N088  LINESTRING (19.02937 47.54877, 19.02937 47.548...\n",
       "20     N092  LINESTRING (19.04336 47.46225, 19.04336 47.462...\n",
       "21     NQ46  LINESTRING (19.10815 47.50039, 19.10813 47.500...\n",
       "22     NU04  LINESTRING (19.06787 47.47950, 19.06801 47.479...\n",
       "23     O350  LINESTRING (19.02937 47.54877, 19.02937 47.548...\n",
       "24     PJ53  LINESTRING (19.11237 47.51975, 19.11207 47.519...\n",
       "25     QH60  LINESTRING (19.03593 47.47628, 19.03596 47.476...\n",
       "26     QZ99  LINESTRING (19.02957 47.54837, 19.02964 47.548...\n",
       "27     RA01  LINESTRING (19.10785 47.50065, 19.10796 47.500...\n",
       "28     RA02  LINESTRING (19.02298 47.46480, 19.02318 47.464...\n",
       "29     RA04  LINESTRING (19.02298 47.46480, 19.02318 47.464...\n",
       "30     RA05  LINESTRING (19.02298 47.46480, 19.02318 47.464...\n",
       "31     RA99  LINESTRING (19.02298 47.46480, 19.02318 47.464...\n",
       "32     RL95  LINESTRING (19.05793 47.46850, 19.05737 47.468...\n",
       "33     RM00  LINESTRING (19.05921 47.47663, 19.05948 47.476...\n",
       "34     RM48  LINESTRING (19.05793 47.46850, 19.05737 47.468...\n",
       "35     RM50  LINESTRING (18.99254 47.47332, 18.99258 47.473...\n",
       "36     SB36  LINESTRING (19.14204 47.54704, 19.14223 47.546...\n",
       "37     SB37  LINESTRING (18.97078 47.38799, 18.97089 47.388...\n",
       "38     SB38  LINESTRING (18.97078 47.38799, 18.97089 47.388...\n",
       "39     SB39  LINESTRING (19.08131 47.50037, 19.08081 47.500...\n",
       "40     TD49  LINESTRING (19.04336 47.46225, 19.04336 47.462...\n",
       "41     TD55  LINESTRING (19.10815 47.50039, 19.10813 47.500...\n",
       "42     TL38  LINESTRING (19.10815 47.50039, 19.10813 47.500...\n",
       "43     TT13  LINESTRING (19.04336 47.46225, 19.04336 47.462...\n",
       "44     VN41  LINESTRING (19.04197 47.55013, 19.04204 47.550...\n",
       "45     VN42  LINESTRING (19.10785 47.50065, 19.10796 47.500...\n",
       "46     XC11  LINESTRING (19.04881 47.47727, 19.04897 47.477...\n",
       "47     XC12  LINESTRING (18.95855 47.38888, 18.95851 47.388...\n",
       "48     XC13  LINESTRING (19.04912 47.44917, 19.04908 47.449...\n",
       "49     XD31  LINESTRING (18.96798 47.50062, 18.96806 47.500...\n",
       "50     XD69  LINESTRING (19.06801 47.47952, 19.06792 47.479...\n",
       "51     XD70  LINESTRING (18.98954 47.49793, 18.98953 47.497...\n",
       "52     XO16  LINESTRING (19.02296 47.46476, 19.02298 47.464...\n",
       "53     XO17  LINESTRING (19.02296 47.46476, 19.02298 47.464...\n",
       "54     XO18  LINESTRING (19.02296 47.46476, 19.02298 47.464...\n",
       "55     XO20  LINESTRING (19.02629 47.56800, 19.02621 47.568...\n",
       "56     XS57  LINESTRING (19.06787 47.47950, 19.06801 47.479...\n",
       "57     XS63  LINESTRING (18.95484 47.48671, 18.95483 47.486..."
      ]
     },
     "execution_count": 27,
     "metadata": {},
     "output_type": "execute_result"
    }
   ],
   "source": [
    "shapes_I"
   ]
  },
  {
   "cell_type": "code",
   "execution_count": 28,
   "metadata": {},
   "outputs": [
    {
     "data": {
      "text/html": [
       "<div>\n",
       "<style scoped>\n",
       "    .dataframe tbody tr th:only-of-type {\n",
       "        vertical-align: middle;\n",
       "    }\n",
       "\n",
       "    .dataframe tbody tr th {\n",
       "        vertical-align: top;\n",
       "    }\n",
       "\n",
       "    .dataframe thead th {\n",
       "        text-align: right;\n",
       "    }\n",
       "</style>\n",
       "<table border=\"1\" class=\"dataframe\">\n",
       "  <thead>\n",
       "    <tr style=\"text-align: right;\">\n",
       "      <th></th>\n",
       "      <th>agency_id</th>\n",
       "      <th>route_id</th>\n",
       "      <th>route_short_name</th>\n",
       "      <th>route_long_name</th>\n",
       "      <th>route_type</th>\n",
       "      <th>route_desc</th>\n",
       "      <th>route_color</th>\n",
       "      <th>route_text_color</th>\n",
       "      <th>route_sort_order</th>\n",
       "    </tr>\n",
       "  </thead>\n",
       "  <tbody>\n",
       "    <tr>\n",
       "      <th>28</th>\n",
       "      <td>BKK</td>\n",
       "      <td>0330</td>\n",
       "      <td>33</td>\n",
       "      <td>NaN</td>\n",
       "      <td>3</td>\n",
       "      <td>Móricz Zsigmond körtér M / Nagytétény, ipartelep</td>\n",
       "      <td>009EE3</td>\n",
       "      <td>FFFFFF</td>\n",
       "      <td>59</td>\n",
       "    </tr>\n",
       "    <tr>\n",
       "      <th>85</th>\n",
       "      <td>BKK</td>\n",
       "      <td>1070</td>\n",
       "      <td>107</td>\n",
       "      <td>NaN</td>\n",
       "      <td>3</td>\n",
       "      <td>BudaPart / Keleti pályaudvar M</td>\n",
       "      <td>009EE3</td>\n",
       "      <td>FFFFFF</td>\n",
       "      <td>158</td>\n",
       "    </tr>\n",
       "    <tr>\n",
       "      <th>114</th>\n",
       "      <td>BKK</td>\n",
       "      <td>1335</td>\n",
       "      <td>133E</td>\n",
       "      <td>NaN</td>\n",
       "      <td>3</td>\n",
       "      <td>Újpalota, Nyírpalota út / Nagytétény, Erdélyi ...</td>\n",
       "      <td>009EE3</td>\n",
       "      <td>FFFFFF</td>\n",
       "      <td>188</td>\n",
       "    </tr>\n",
       "    <tr>\n",
       "      <th>135</th>\n",
       "      <td>BKK</td>\n",
       "      <td>1530</td>\n",
       "      <td>153</td>\n",
       "      <td>NaN</td>\n",
       "      <td>3</td>\n",
       "      <td>Infopark (Pázmány Péter sétány) / Gazdagréti tér</td>\n",
       "      <td>009EE3</td>\n",
       "      <td>FFFFFF</td>\n",
       "      <td>209</td>\n",
       "    </tr>\n",
       "    <tr>\n",
       "      <th>136</th>\n",
       "      <td>BKK</td>\n",
       "      <td>1540</td>\n",
       "      <td>154</td>\n",
       "      <td>NaN</td>\n",
       "      <td>3</td>\n",
       "      <td>BudaPart / Gazdagréti tér</td>\n",
       "      <td>009EE3</td>\n",
       "      <td>FFFFFF</td>\n",
       "      <td>210</td>\n",
       "    </tr>\n",
       "    <tr>\n",
       "      <th>184</th>\n",
       "      <td>BKK</td>\n",
       "      <td>2120</td>\n",
       "      <td>212</td>\n",
       "      <td>NaN</td>\n",
       "      <td>3</td>\n",
       "      <td>Boráros tér H / Normafa, látogatóközpont</td>\n",
       "      <td>009EE3</td>\n",
       "      <td>FFFFFF</td>\n",
       "      <td>258</td>\n",
       "    </tr>\n",
       "    <tr>\n",
       "      <th>185</th>\n",
       "      <td>BKK</td>\n",
       "      <td>2121</td>\n",
       "      <td>212A</td>\n",
       "      <td>NaN</td>\n",
       "      <td>3</td>\n",
       "      <td>Boráros tér H / Svábhegy</td>\n",
       "      <td>009EE3</td>\n",
       "      <td>FFFFFF</td>\n",
       "      <td>259</td>\n",
       "    </tr>\n",
       "    <tr>\n",
       "      <th>186</th>\n",
       "      <td>BKK</td>\n",
       "      <td>2122</td>\n",
       "      <td>212B</td>\n",
       "      <td>NaN</td>\n",
       "      <td>3</td>\n",
       "      <td>Boráros tér H / Csillebérc, KFKI</td>\n",
       "      <td>009EE3</td>\n",
       "      <td>FFFFFF</td>\n",
       "      <td>260</td>\n",
       "    </tr>\n",
       "    <tr>\n",
       "      <th>240</th>\n",
       "      <td>BKK</td>\n",
       "      <td>3010</td>\n",
       "      <td>1</td>\n",
       "      <td>NaN</td>\n",
       "      <td>0</td>\n",
       "      <td>Kelenföld vasútállomás M / Bécsi út / Vörösvár...</td>\n",
       "      <td>FFD800</td>\n",
       "      <td>000000</td>\n",
       "      <td>14</td>\n",
       "    </tr>\n",
       "    <tr>\n",
       "      <th>246</th>\n",
       "      <td>BKK</td>\n",
       "      <td>3040</td>\n",
       "      <td>4</td>\n",
       "      <td>NaN</td>\n",
       "      <td>0</td>\n",
       "      <td>Széll Kálmán tér M / Újbuda-központ M</td>\n",
       "      <td>FFD800</td>\n",
       "      <td>000000</td>\n",
       "      <td>22</td>\n",
       "    </tr>\n",
       "    <tr>\n",
       "      <th>247</th>\n",
       "      <td>BKK</td>\n",
       "      <td>3060</td>\n",
       "      <td>6</td>\n",
       "      <td>NaN</td>\n",
       "      <td>0</td>\n",
       "      <td>Széll Kálmán tér M / Móricz Zsigmond körtér M</td>\n",
       "      <td>FFD800</td>\n",
       "      <td>000000</td>\n",
       "      <td>24</td>\n",
       "    </tr>\n",
       "    <tr>\n",
       "      <th>250</th>\n",
       "      <td>BKK</td>\n",
       "      <td>3170</td>\n",
       "      <td>17</td>\n",
       "      <td>NaN</td>\n",
       "      <td>0</td>\n",
       "      <td>Savoya Park / Bécsi út / Vörösvári út</td>\n",
       "      <td>FFD800</td>\n",
       "      <td>000000</td>\n",
       "      <td>39</td>\n",
       "    </tr>\n",
       "    <tr>\n",
       "      <th>257</th>\n",
       "      <td>BKK</td>\n",
       "      <td>3410</td>\n",
       "      <td>41</td>\n",
       "      <td>NaN</td>\n",
       "      <td>0</td>\n",
       "      <td>Bécsi út / Vörösvári út / Budafok kocsiszín</td>\n",
       "      <td>FFD800</td>\n",
       "      <td>000000</td>\n",
       "      <td>72</td>\n",
       "    </tr>\n",
       "  </tbody>\n",
       "</table>\n",
       "</div>"
      ],
      "text/plain": [
       "    agency_id route_id route_short_name route_long_name  route_type  \\\n",
       "28        BKK     0330               33             NaN           3   \n",
       "85        BKK     1070              107             NaN           3   \n",
       "114       BKK     1335             133E             NaN           3   \n",
       "135       BKK     1530              153             NaN           3   \n",
       "136       BKK     1540              154             NaN           3   \n",
       "184       BKK     2120              212             NaN           3   \n",
       "185       BKK     2121             212A             NaN           3   \n",
       "186       BKK     2122             212B             NaN           3   \n",
       "240       BKK     3010                1             NaN           0   \n",
       "246       BKK     3040                4             NaN           0   \n",
       "247       BKK     3060                6             NaN           0   \n",
       "250       BKK     3170               17             NaN           0   \n",
       "257       BKK     3410               41             NaN           0   \n",
       "\n",
       "                                            route_desc route_color  \\\n",
       "28    Móricz Zsigmond körtér M / Nagytétény, ipartelep      009EE3   \n",
       "85                      BudaPart / Keleti pályaudvar M      009EE3   \n",
       "114  Újpalota, Nyírpalota út / Nagytétény, Erdélyi ...      009EE3   \n",
       "135   Infopark (Pázmány Péter sétány) / Gazdagréti tér      009EE3   \n",
       "136                          BudaPart / Gazdagréti tér      009EE3   \n",
       "184           Boráros tér H / Normafa, látogatóközpont      009EE3   \n",
       "185                           Boráros tér H / Svábhegy      009EE3   \n",
       "186                   Boráros tér H / Csillebérc, KFKI      009EE3   \n",
       "240  Kelenföld vasútállomás M / Bécsi út / Vörösvár...      FFD800   \n",
       "246              Széll Kálmán tér M / Újbuda-központ M      FFD800   \n",
       "247      Széll Kálmán tér M / Móricz Zsigmond körtér M      FFD800   \n",
       "250              Savoya Park / Bécsi út / Vörösvári út      FFD800   \n",
       "257        Bécsi út / Vörösvári út / Budafok kocsiszín      FFD800   \n",
       "\n",
       "    route_text_color route_sort_order  \n",
       "28            FFFFFF               59  \n",
       "85            FFFFFF              158  \n",
       "114           FFFFFF              188  \n",
       "135           FFFFFF              209  \n",
       "136           FFFFFF              210  \n",
       "184           FFFFFF              258  \n",
       "185           FFFFFF              259  \n",
       "186           FFFFFF              260  \n",
       "240           000000               14  \n",
       "246           000000               22  \n",
       "247           000000               24  \n",
       "250           000000               39  \n",
       "257           000000               72  "
      ]
     },
     "execution_count": 28,
     "metadata": {},
     "output_type": "execute_result"
    }
   ],
   "source": [
    "routes_I"
   ]
  },
  {
   "cell_type": "code",
   "execution_count": 29,
   "metadata": {},
   "outputs": [],
   "source": [
    "stop_7=stop_times[stop_times[\"arrival_time\"]<28200]\n",
    "stop_7=stop_7[stop_7[\"arrival_time\"]>26100]\n"
   ]
  },
  {
   "cell_type": "code",
   "execution_count": 30,
   "metadata": {},
   "outputs": [
    {
     "data": {
      "text/html": [
       "<div>\n",
       "<style scoped>\n",
       "    .dataframe tbody tr th:only-of-type {\n",
       "        vertical-align: middle;\n",
       "    }\n",
       "\n",
       "    .dataframe tbody tr th {\n",
       "        vertical-align: top;\n",
       "    }\n",
       "\n",
       "    .dataframe thead th {\n",
       "        text-align: right;\n",
       "    }\n",
       "</style>\n",
       "<table border=\"1\" class=\"dataframe\">\n",
       "  <thead>\n",
       "    <tr style=\"text-align: right;\">\n",
       "      <th></th>\n",
       "      <th>trip_id</th>\n",
       "      <th>stop_id</th>\n",
       "      <th>arrival_time</th>\n",
       "      <th>departure_time</th>\n",
       "      <th>stop_sequence</th>\n",
       "      <th>stop_headsign</th>\n",
       "      <th>pickup_type</th>\n",
       "      <th>drop_off_type</th>\n",
       "      <th>shape_dist_traveled</th>\n",
       "      <th>route_id</th>\n",
       "      <th>...</th>\n",
       "      <th>direction_id</th>\n",
       "      <th>shape_id</th>\n",
       "      <th>stop_name</th>\n",
       "      <th>stop_code</th>\n",
       "      <th>location_type</th>\n",
       "      <th>location_sub_type</th>\n",
       "      <th>parent_station</th>\n",
       "      <th>wheelchair_boarding</th>\n",
       "      <th>stop_direction</th>\n",
       "      <th>geometry</th>\n",
       "    </tr>\n",
       "  </thead>\n",
       "  <tbody>\n",
       "    <tr>\n",
       "      <th>102</th>\n",
       "      <td>C041837</td>\n",
       "      <td>F04526</td>\n",
       "      <td>27000.0</td>\n",
       "      <td>27000.0</td>\n",
       "      <td>0</td>\n",
       "      <td>NaN</td>\n",
       "      <td>NaN</td>\n",
       "      <td>NaN</td>\n",
       "      <td>0.0</td>\n",
       "      <td>8140</td>\n",
       "      <td>...</td>\n",
       "      <td>1</td>\n",
       "      <td>Y702</td>\n",
       "      <td>Soroksár, Molnár-sziget</td>\n",
       "      <td>NaN</td>\n",
       "      <td>NaN</td>\n",
       "      <td>NaN</td>\n",
       "      <td>NaN</td>\n",
       "      <td>2.0</td>\n",
       "      <td>NaN</td>\n",
       "      <td>POINT (19.10869 47.39824)</td>\n",
       "    </tr>\n",
       "    <tr>\n",
       "      <th>103</th>\n",
       "      <td>C041837</td>\n",
       "      <td>F04181</td>\n",
       "      <td>27180.0</td>\n",
       "      <td>27180.0</td>\n",
       "      <td>1</td>\n",
       "      <td>NaN</td>\n",
       "      <td>NaN</td>\n",
       "      <td>NaN</td>\n",
       "      <td>160.0</td>\n",
       "      <td>8140</td>\n",
       "      <td>...</td>\n",
       "      <td>1</td>\n",
       "      <td>Y702</td>\n",
       "      <td>Csepel-Királyerdő</td>\n",
       "      <td>NaN</td>\n",
       "      <td>NaN</td>\n",
       "      <td>NaN</td>\n",
       "      <td>NaN</td>\n",
       "      <td>2.0</td>\n",
       "      <td>NaN</td>\n",
       "      <td>POINT (19.10653 47.39789)</td>\n",
       "    </tr>\n",
       "    <tr>\n",
       "      <th>104</th>\n",
       "      <td>C041838</td>\n",
       "      <td>F04181</td>\n",
       "      <td>27180.0</td>\n",
       "      <td>27180.0</td>\n",
       "      <td>0</td>\n",
       "      <td>NaN</td>\n",
       "      <td>NaN</td>\n",
       "      <td>NaN</td>\n",
       "      <td>0.0</td>\n",
       "      <td>8140</td>\n",
       "      <td>...</td>\n",
       "      <td>0</td>\n",
       "      <td>Y701</td>\n",
       "      <td>Csepel-Királyerdő</td>\n",
       "      <td>NaN</td>\n",
       "      <td>NaN</td>\n",
       "      <td>NaN</td>\n",
       "      <td>NaN</td>\n",
       "      <td>2.0</td>\n",
       "      <td>NaN</td>\n",
       "      <td>POINT (19.10653 47.39789)</td>\n",
       "    </tr>\n",
       "    <tr>\n",
       "      <th>105</th>\n",
       "      <td>C041838</td>\n",
       "      <td>F04526</td>\n",
       "      <td>27360.0</td>\n",
       "      <td>27360.0</td>\n",
       "      <td>1</td>\n",
       "      <td>NaN</td>\n",
       "      <td>NaN</td>\n",
       "      <td>NaN</td>\n",
       "      <td>160.0</td>\n",
       "      <td>8140</td>\n",
       "      <td>...</td>\n",
       "      <td>0</td>\n",
       "      <td>Y701</td>\n",
       "      <td>Soroksár, Molnár-sziget</td>\n",
       "      <td>NaN</td>\n",
       "      <td>NaN</td>\n",
       "      <td>NaN</td>\n",
       "      <td>NaN</td>\n",
       "      <td>2.0</td>\n",
       "      <td>NaN</td>\n",
       "      <td>POINT (19.10869 47.39824)</td>\n",
       "    </tr>\n",
       "    <tr>\n",
       "      <th>460</th>\n",
       "      <td>C23867114</td>\n",
       "      <td>F01325</td>\n",
       "      <td>26175.0</td>\n",
       "      <td>26175.0</td>\n",
       "      <td>8</td>\n",
       "      <td>Örs vezér tere</td>\n",
       "      <td>NaN</td>\n",
       "      <td>NaN</td>\n",
       "      <td>7878.0</td>\n",
       "      <td>5200</td>\n",
       "      <td>...</td>\n",
       "      <td>0</td>\n",
       "      <td>1112</td>\n",
       "      <td>Puskás Ferenc Stadion</td>\n",
       "      <td>F01325</td>\n",
       "      <td>NaN</td>\n",
       "      <td>NaN</td>\n",
       "      <td>CSLM2PF1</td>\n",
       "      <td>1.0</td>\n",
       "      <td>80</td>\n",
       "      <td>POINT (19.10638 47.50017)</td>\n",
       "    </tr>\n",
       "    <tr>\n",
       "      <th>...</th>\n",
       "      <td>...</td>\n",
       "      <td>...</td>\n",
       "      <td>...</td>\n",
       "      <td>...</td>\n",
       "      <td>...</td>\n",
       "      <td>...</td>\n",
       "      <td>...</td>\n",
       "      <td>...</td>\n",
       "      <td>...</td>\n",
       "      <td>...</td>\n",
       "      <td>...</td>\n",
       "      <td>...</td>\n",
       "      <td>...</td>\n",
       "      <td>...</td>\n",
       "      <td>...</td>\n",
       "      <td>...</td>\n",
       "      <td>...</td>\n",
       "      <td>...</td>\n",
       "      <td>...</td>\n",
       "      <td>...</td>\n",
       "      <td>...</td>\n",
       "    </tr>\n",
       "    <tr>\n",
       "      <th>810135</th>\n",
       "      <td>H47629_26</td>\n",
       "      <td>F00510</td>\n",
       "      <td>27960.0</td>\n",
       "      <td>27960.0</td>\n",
       "      <td>7</td>\n",
       "      <td>NaN</td>\n",
       "      <td>NaN</td>\n",
       "      <td>NaN</td>\n",
       "      <td>5791.0</td>\n",
       "      <td>H5</td>\n",
       "      <td>...</td>\n",
       "      <td>0</td>\n",
       "      <td>26</td>\n",
       "      <td>Kaszásdűlő</td>\n",
       "      <td>09084_F00510</td>\n",
       "      <td>NaN</td>\n",
       "      <td>NaN</td>\n",
       "      <td>NaN</td>\n",
       "      <td>NaN</td>\n",
       "      <td>NaN</td>\n",
       "      <td>POINT (19.04513 47.55651)</td>\n",
       "    </tr>\n",
       "    <tr>\n",
       "      <th>810136</th>\n",
       "      <td>H47629_26</td>\n",
       "      <td>F00483</td>\n",
       "      <td>28080.0</td>\n",
       "      <td>28080.0</td>\n",
       "      <td>8</td>\n",
       "      <td>NaN</td>\n",
       "      <td>NaN</td>\n",
       "      <td>NaN</td>\n",
       "      <td>7000.0</td>\n",
       "      <td>H5</td>\n",
       "      <td>...</td>\n",
       "      <td>0</td>\n",
       "      <td>26</td>\n",
       "      <td>Aquincum</td>\n",
       "      <td>09100_F00483</td>\n",
       "      <td>NaN</td>\n",
       "      <td>NaN</td>\n",
       "      <td>NaN</td>\n",
       "      <td>NaN</td>\n",
       "      <td>NaN</td>\n",
       "      <td>POINT (19.04864 47.56797)</td>\n",
       "    </tr>\n",
       "    <tr>\n",
       "      <th>810217</th>\n",
       "      <td>H47722_28</td>\n",
       "      <td>F00060</td>\n",
       "      <td>27840.0</td>\n",
       "      <td>27840.0</td>\n",
       "      <td>1</td>\n",
       "      <td>NaN</td>\n",
       "      <td>NaN</td>\n",
       "      <td>1</td>\n",
       "      <td>0.0</td>\n",
       "      <td>H5</td>\n",
       "      <td>...</td>\n",
       "      <td>0</td>\n",
       "      <td>28</td>\n",
       "      <td>Batthyány tér</td>\n",
       "      <td>09001</td>\n",
       "      <td>NaN</td>\n",
       "      <td>NaN</td>\n",
       "      <td>09001</td>\n",
       "      <td>NaN</td>\n",
       "      <td>NaN</td>\n",
       "      <td>POINT (19.03932 47.50678)</td>\n",
       "    </tr>\n",
       "    <tr>\n",
       "      <th>810218</th>\n",
       "      <td>H47722_28</td>\n",
       "      <td>F00185</td>\n",
       "      <td>27960.0</td>\n",
       "      <td>27960.0</td>\n",
       "      <td>2</td>\n",
       "      <td>NaN</td>\n",
       "      <td>NaN</td>\n",
       "      <td>NaN</td>\n",
       "      <td>934.0</td>\n",
       "      <td>H5</td>\n",
       "      <td>...</td>\n",
       "      <td>0</td>\n",
       "      <td>28</td>\n",
       "      <td>Margit híd, budai hídfő</td>\n",
       "      <td>09019_F00185</td>\n",
       "      <td>NaN</td>\n",
       "      <td>NaN</td>\n",
       "      <td>NaN</td>\n",
       "      <td>NaN</td>\n",
       "      <td>NaN</td>\n",
       "      <td>POINT (19.03953 47.51584)</td>\n",
       "    </tr>\n",
       "    <tr>\n",
       "      <th>810219</th>\n",
       "      <td>H47722_28</td>\n",
       "      <td>F00139</td>\n",
       "      <td>28080.0</td>\n",
       "      <td>28080.0</td>\n",
       "      <td>3</td>\n",
       "      <td>NaN</td>\n",
       "      <td>NaN</td>\n",
       "      <td>NaN</td>\n",
       "      <td>2279.0</td>\n",
       "      <td>H5</td>\n",
       "      <td>...</td>\n",
       "      <td>0</td>\n",
       "      <td>28</td>\n",
       "      <td>Szépvölgyi út</td>\n",
       "      <td>09043_F00139</td>\n",
       "      <td>NaN</td>\n",
       "      <td>NaN</td>\n",
       "      <td>NaN</td>\n",
       "      <td>NaN</td>\n",
       "      <td>NaN</td>\n",
       "      <td>POINT (19.04018 47.52719)</td>\n",
       "    </tr>\n",
       "  </tbody>\n",
       "</table>\n",
       "<p>33475 rows × 21 columns</p>\n",
       "</div>"
      ],
      "text/plain": [
       "          trip_id stop_id  arrival_time  departure_time  stop_sequence  \\\n",
       "102       C041837  F04526       27000.0         27000.0              0   \n",
       "103       C041837  F04181       27180.0         27180.0              1   \n",
       "104       C041838  F04181       27180.0         27180.0              0   \n",
       "105       C041838  F04526       27360.0         27360.0              1   \n",
       "460     C23867114  F01325       26175.0         26175.0              8   \n",
       "...           ...     ...           ...             ...            ...   \n",
       "810135  H47629_26  F00510       27960.0         27960.0              7   \n",
       "810136  H47629_26  F00483       28080.0         28080.0              8   \n",
       "810217  H47722_28  F00060       27840.0         27840.0              1   \n",
       "810218  H47722_28  F00185       27960.0         27960.0              2   \n",
       "810219  H47722_28  F00139       28080.0         28080.0              3   \n",
       "\n",
       "         stop_headsign  pickup_type drop_off_type  shape_dist_traveled  \\\n",
       "102                NaN          NaN           NaN                  0.0   \n",
       "103                NaN          NaN           NaN                160.0   \n",
       "104                NaN          NaN           NaN                  0.0   \n",
       "105                NaN          NaN           NaN                160.0   \n",
       "460     Örs vezér tere          NaN           NaN               7878.0   \n",
       "...                ...          ...           ...                  ...   \n",
       "810135             NaN          NaN           NaN               5791.0   \n",
       "810136             NaN          NaN           NaN               7000.0   \n",
       "810217             NaN          NaN             1                  0.0   \n",
       "810218             NaN          NaN           NaN                934.0   \n",
       "810219             NaN          NaN           NaN               2279.0   \n",
       "\n",
       "       route_id  ... direction_id  shape_id                stop_name  \\\n",
       "102        8140  ...            1      Y702  Soroksár, Molnár-sziget   \n",
       "103        8140  ...            1      Y702        Csepel-Királyerdő   \n",
       "104        8140  ...            0      Y701        Csepel-Királyerdő   \n",
       "105        8140  ...            0      Y701  Soroksár, Molnár-sziget   \n",
       "460        5200  ...            0      1112    Puskás Ferenc Stadion   \n",
       "...         ...  ...          ...       ...                      ...   \n",
       "810135       H5  ...            0        26               Kaszásdűlő   \n",
       "810136       H5  ...            0        26                 Aquincum   \n",
       "810217       H5  ...            0        28            Batthyány tér   \n",
       "810218       H5  ...            0        28  Margit híd, budai hídfő   \n",
       "810219       H5  ...            0        28            Szépvölgyi út   \n",
       "\n",
       "           stop_code location_type  location_sub_type parent_station  \\\n",
       "102              NaN           NaN                NaN            NaN   \n",
       "103              NaN           NaN                NaN            NaN   \n",
       "104              NaN           NaN                NaN            NaN   \n",
       "105              NaN           NaN                NaN            NaN   \n",
       "460           F01325           NaN                NaN       CSLM2PF1   \n",
       "...              ...           ...                ...            ...   \n",
       "810135  09084_F00510           NaN                NaN            NaN   \n",
       "810136  09100_F00483           NaN                NaN            NaN   \n",
       "810217         09001           NaN                NaN          09001   \n",
       "810218  09019_F00185           NaN                NaN            NaN   \n",
       "810219  09043_F00139           NaN                NaN            NaN   \n",
       "\n",
       "       wheelchair_boarding  stop_direction                   geometry  \n",
       "102                    2.0             NaN  POINT (19.10869 47.39824)  \n",
       "103                    2.0             NaN  POINT (19.10653 47.39789)  \n",
       "104                    2.0             NaN  POINT (19.10653 47.39789)  \n",
       "105                    2.0             NaN  POINT (19.10869 47.39824)  \n",
       "460                    1.0              80  POINT (19.10638 47.50017)  \n",
       "...                    ...             ...                        ...  \n",
       "810135                 NaN             NaN  POINT (19.04513 47.55651)  \n",
       "810136                 NaN             NaN  POINT (19.04864 47.56797)  \n",
       "810217                 NaN             NaN  POINT (19.03932 47.50678)  \n",
       "810218                 NaN             NaN  POINT (19.03953 47.51584)  \n",
       "810219                 NaN             NaN  POINT (19.04018 47.52719)  \n",
       "\n",
       "[33475 rows x 21 columns]"
      ]
     },
     "execution_count": 30,
     "metadata": {},
     "output_type": "execute_result"
    }
   ],
   "source": [
    "stop_7"
   ]
  },
  {
   "cell_type": "code",
   "execution_count": 31,
   "metadata": {},
   "outputs": [],
   "source": [
    "stop_7.reset_index(drop=True, inplace=True)"
   ]
  },
  {
   "cell_type": "code",
   "execution_count": 32,
   "metadata": {},
   "outputs": [],
   "source": [
    "stop_7_8=stop_7[stop_7[\"stop_id\"].isin(stops_I[\"stop_id\"])]"
   ]
  },
  {
   "cell_type": "code",
   "execution_count": 33,
   "metadata": {},
   "outputs": [],
   "source": [
    "values_dict={\"3060\":\"6\", \"3040\":\"4\", \"1530\":\"153\", \"1540\":\"154\", \"1335\":\"133E\", '1070':'107', '2120':'212', '2121':\"212A\",\n",
    "       '2122':\"212B\", '0330':\"33\", '3010':\"1\"}"
   ]
  },
  {
   "cell_type": "code",
   "execution_count": 34,
   "metadata": {},
   "outputs": [],
   "source": [
    "short_names=[]\n",
    "for i in stop_7_8[\"route_id\"]:\n",
    "    for k in values_dict:\n",
    "        if i==k:\n",
    "            short_names.append(values_dict[k])"
   ]
  },
  {
   "cell_type": "code",
   "execution_count": 35,
   "metadata": {},
   "outputs": [
    {
     "data": {
      "text/html": [
       "<div>\n",
       "<style scoped>\n",
       "    .dataframe tbody tr th:only-of-type {\n",
       "        vertical-align: middle;\n",
       "    }\n",
       "\n",
       "    .dataframe tbody tr th {\n",
       "        vertical-align: top;\n",
       "    }\n",
       "\n",
       "    .dataframe thead th {\n",
       "        text-align: right;\n",
       "    }\n",
       "</style>\n",
       "<table border=\"1\" class=\"dataframe\">\n",
       "  <thead>\n",
       "    <tr style=\"text-align: right;\">\n",
       "      <th></th>\n",
       "      <th>trip_id</th>\n",
       "      <th>stop_id</th>\n",
       "      <th>arrival_time</th>\n",
       "      <th>departure_time</th>\n",
       "      <th>stop_sequence</th>\n",
       "      <th>stop_headsign</th>\n",
       "      <th>pickup_type</th>\n",
       "      <th>drop_off_type</th>\n",
       "      <th>shape_dist_traveled</th>\n",
       "      <th>route_id</th>\n",
       "      <th>...</th>\n",
       "      <th>direction_id</th>\n",
       "      <th>shape_id</th>\n",
       "      <th>stop_name</th>\n",
       "      <th>stop_code</th>\n",
       "      <th>location_type</th>\n",
       "      <th>location_sub_type</th>\n",
       "      <th>parent_station</th>\n",
       "      <th>wheelchair_boarding</th>\n",
       "      <th>stop_direction</th>\n",
       "      <th>geometry</th>\n",
       "    </tr>\n",
       "  </thead>\n",
       "  <tbody>\n",
       "    <tr>\n",
       "      <th>654</th>\n",
       "      <td>C34268106997</td>\n",
       "      <td>F02153</td>\n",
       "      <td>26520.0</td>\n",
       "      <td>26520.0</td>\n",
       "      <td>1</td>\n",
       "      <td>Széll Kálmán tér M</td>\n",
       "      <td>NaN</td>\n",
       "      <td>NaN</td>\n",
       "      <td>477.0</td>\n",
       "      <td>3060</td>\n",
       "      <td>...</td>\n",
       "      <td>1</td>\n",
       "      <td>B692</td>\n",
       "      <td>Budafoki út / Karinthy Frigyes út</td>\n",
       "      <td>NaN</td>\n",
       "      <td>NaN</td>\n",
       "      <td>NaN</td>\n",
       "      <td>NaN</td>\n",
       "      <td>1.0</td>\n",
       "      <td>114</td>\n",
       "      <td>POINT (19.05411 47.47583)</td>\n",
       "    </tr>\n",
       "    <tr>\n",
       "      <th>655</th>\n",
       "      <td>C34268106997</td>\n",
       "      <td>F02225</td>\n",
       "      <td>26580.0</td>\n",
       "      <td>26580.0</td>\n",
       "      <td>2</td>\n",
       "      <td>Széll Kálmán tér M</td>\n",
       "      <td>NaN</td>\n",
       "      <td>NaN</td>\n",
       "      <td>960.0</td>\n",
       "      <td>3060</td>\n",
       "      <td>...</td>\n",
       "      <td>1</td>\n",
       "      <td>B692</td>\n",
       "      <td>Petőfi híd, budai hídfő</td>\n",
       "      <td>NaN</td>\n",
       "      <td>NaN</td>\n",
       "      <td>NaN</td>\n",
       "      <td>NaN</td>\n",
       "      <td>1.0</td>\n",
       "      <td>54</td>\n",
       "      <td>POINT (19.05959 47.47693)</td>\n",
       "    </tr>\n",
       "    <tr>\n",
       "      <th>672</th>\n",
       "      <td>C3426814107</td>\n",
       "      <td>F02153</td>\n",
       "      <td>27480.0</td>\n",
       "      <td>27480.0</td>\n",
       "      <td>1</td>\n",
       "      <td>Széll Kálmán tér M</td>\n",
       "      <td>NaN</td>\n",
       "      <td>NaN</td>\n",
       "      <td>477.0</td>\n",
       "      <td>3060</td>\n",
       "      <td>...</td>\n",
       "      <td>1</td>\n",
       "      <td>B692</td>\n",
       "      <td>Budafoki út / Karinthy Frigyes út</td>\n",
       "      <td>NaN</td>\n",
       "      <td>NaN</td>\n",
       "      <td>NaN</td>\n",
       "      <td>NaN</td>\n",
       "      <td>1.0</td>\n",
       "      <td>114</td>\n",
       "      <td>POINT (19.05411 47.47583)</td>\n",
       "    </tr>\n",
       "    <tr>\n",
       "      <th>673</th>\n",
       "      <td>C3426814107</td>\n",
       "      <td>F02225</td>\n",
       "      <td>27540.0</td>\n",
       "      <td>27540.0</td>\n",
       "      <td>2</td>\n",
       "      <td>Széll Kálmán tér M</td>\n",
       "      <td>NaN</td>\n",
       "      <td>NaN</td>\n",
       "      <td>960.0</td>\n",
       "      <td>3060</td>\n",
       "      <td>...</td>\n",
       "      <td>1</td>\n",
       "      <td>B692</td>\n",
       "      <td>Petőfi híd, budai hídfő</td>\n",
       "      <td>NaN</td>\n",
       "      <td>NaN</td>\n",
       "      <td>NaN</td>\n",
       "      <td>NaN</td>\n",
       "      <td>1.0</td>\n",
       "      <td>54</td>\n",
       "      <td>POINT (19.05959 47.47693)</td>\n",
       "    </tr>\n",
       "    <tr>\n",
       "      <th>766</th>\n",
       "      <td>C342682005</td>\n",
       "      <td>F01992</td>\n",
       "      <td>26160.0</td>\n",
       "      <td>26160.0</td>\n",
       "      <td>1</td>\n",
       "      <td>Széll Kálmán tér M</td>\n",
       "      <td>NaN</td>\n",
       "      <td>NaN</td>\n",
       "      <td>546.0</td>\n",
       "      <td>3040</td>\n",
       "      <td>...</td>\n",
       "      <td>1</td>\n",
       "      <td>0976</td>\n",
       "      <td>Budafoki út / Szerémi sor</td>\n",
       "      <td>NaN</td>\n",
       "      <td>NaN</td>\n",
       "      <td>NaN</td>\n",
       "      <td>NaN</td>\n",
       "      <td>1.0</td>\n",
       "      <td>55</td>\n",
       "      <td>POINT (19.05374 47.47409)</td>\n",
       "    </tr>\n",
       "    <tr>\n",
       "      <th>...</th>\n",
       "      <td>...</td>\n",
       "      <td>...</td>\n",
       "      <td>...</td>\n",
       "      <td>...</td>\n",
       "      <td>...</td>\n",
       "      <td>...</td>\n",
       "      <td>...</td>\n",
       "      <td>...</td>\n",
       "      <td>...</td>\n",
       "      <td>...</td>\n",
       "      <td>...</td>\n",
       "      <td>...</td>\n",
       "      <td>...</td>\n",
       "      <td>...</td>\n",
       "      <td>...</td>\n",
       "      <td>...</td>\n",
       "      <td>...</td>\n",
       "      <td>...</td>\n",
       "      <td>...</td>\n",
       "      <td>...</td>\n",
       "      <td>...</td>\n",
       "    </tr>\n",
       "    <tr>\n",
       "      <th>25147</th>\n",
       "      <td>C5478720734</td>\n",
       "      <td>066452</td>\n",
       "      <td>27840.0</td>\n",
       "      <td>27840.0</td>\n",
       "      <td>7</td>\n",
       "      <td>Bécsi út / Vörösvári út</td>\n",
       "      <td>NaN</td>\n",
       "      <td>NaN</td>\n",
       "      <td>3653.0</td>\n",
       "      <td>3010</td>\n",
       "      <td>...</td>\n",
       "      <td>0</td>\n",
       "      <td>N087</td>\n",
       "      <td>Infopark</td>\n",
       "      <td>NaN</td>\n",
       "      <td>NaN</td>\n",
       "      <td>NaN</td>\n",
       "      <td>NaN</td>\n",
       "      <td>1.0</td>\n",
       "      <td>96</td>\n",
       "      <td>POINT (19.06050 47.46907)</td>\n",
       "    </tr>\n",
       "    <tr>\n",
       "      <th>25186</th>\n",
       "      <td>C5478732343</td>\n",
       "      <td>066451</td>\n",
       "      <td>26220.0</td>\n",
       "      <td>26220.0</td>\n",
       "      <td>24</td>\n",
       "      <td>Kelenföld vasútállomás M</td>\n",
       "      <td>NaN</td>\n",
       "      <td>NaN</td>\n",
       "      <td>14504.0</td>\n",
       "      <td>3010</td>\n",
       "      <td>...</td>\n",
       "      <td>1</td>\n",
       "      <td>N088</td>\n",
       "      <td>Infopark</td>\n",
       "      <td>NaN</td>\n",
       "      <td>NaN</td>\n",
       "      <td>NaN</td>\n",
       "      <td>NaN</td>\n",
       "      <td>1.0</td>\n",
       "      <td>-85</td>\n",
       "      <td>POINT (19.05972 47.46917)</td>\n",
       "    </tr>\n",
       "    <tr>\n",
       "      <th>25187</th>\n",
       "      <td>C5478732343</td>\n",
       "      <td>066453</td>\n",
       "      <td>26280.0</td>\n",
       "      <td>26280.0</td>\n",
       "      <td>25</td>\n",
       "      <td>Kelenföld vasútállomás M</td>\n",
       "      <td>NaN</td>\n",
       "      <td>NaN</td>\n",
       "      <td>14970.0</td>\n",
       "      <td>3010</td>\n",
       "      <td>...</td>\n",
       "      <td>1</td>\n",
       "      <td>N088</td>\n",
       "      <td>Budafoki út / Dombóvári út</td>\n",
       "      <td>NaN</td>\n",
       "      <td>NaN</td>\n",
       "      <td>NaN</td>\n",
       "      <td>NaN</td>\n",
       "      <td>1.0</td>\n",
       "      <td>-75</td>\n",
       "      <td>POINT (19.05365 47.46981)</td>\n",
       "    </tr>\n",
       "    <tr>\n",
       "      <th>25200</th>\n",
       "      <td>C5478732344</td>\n",
       "      <td>066454</td>\n",
       "      <td>27960.0</td>\n",
       "      <td>27960.0</td>\n",
       "      <td>6</td>\n",
       "      <td>Bécsi út / Vörösvári út</td>\n",
       "      <td>NaN</td>\n",
       "      <td>NaN</td>\n",
       "      <td>3181.0</td>\n",
       "      <td>3010</td>\n",
       "      <td>...</td>\n",
       "      <td>0</td>\n",
       "      <td>N087</td>\n",
       "      <td>Budafoki út / Dombóvári út</td>\n",
       "      <td>NaN</td>\n",
       "      <td>NaN</td>\n",
       "      <td>NaN</td>\n",
       "      <td>NaN</td>\n",
       "      <td>1.0</td>\n",
       "      <td>104</td>\n",
       "      <td>POINT (19.05438 47.46965)</td>\n",
       "    </tr>\n",
       "    <tr>\n",
       "      <th>25201</th>\n",
       "      <td>C5478732344</td>\n",
       "      <td>066452</td>\n",
       "      <td>28020.0</td>\n",
       "      <td>28020.0</td>\n",
       "      <td>7</td>\n",
       "      <td>Bécsi út / Vörösvári út</td>\n",
       "      <td>NaN</td>\n",
       "      <td>NaN</td>\n",
       "      <td>3653.0</td>\n",
       "      <td>3010</td>\n",
       "      <td>...</td>\n",
       "      <td>0</td>\n",
       "      <td>N087</td>\n",
       "      <td>Infopark</td>\n",
       "      <td>NaN</td>\n",
       "      <td>NaN</td>\n",
       "      <td>NaN</td>\n",
       "      <td>NaN</td>\n",
       "      <td>1.0</td>\n",
       "      <td>96</td>\n",
       "      <td>POINT (19.06050 47.46907)</td>\n",
       "    </tr>\n",
       "  </tbody>\n",
       "</table>\n",
       "<p>181 rows × 21 columns</p>\n",
       "</div>"
      ],
      "text/plain": [
       "            trip_id stop_id  arrival_time  departure_time  stop_sequence  \\\n",
       "654    C34268106997  F02153       26520.0         26520.0              1   \n",
       "655    C34268106997  F02225       26580.0         26580.0              2   \n",
       "672     C3426814107  F02153       27480.0         27480.0              1   \n",
       "673     C3426814107  F02225       27540.0         27540.0              2   \n",
       "766      C342682005  F01992       26160.0         26160.0              1   \n",
       "...             ...     ...           ...             ...            ...   \n",
       "25147   C5478720734  066452       27840.0         27840.0              7   \n",
       "25186   C5478732343  066451       26220.0         26220.0             24   \n",
       "25187   C5478732343  066453       26280.0         26280.0             25   \n",
       "25200   C5478732344  066454       27960.0         27960.0              6   \n",
       "25201   C5478732344  066452       28020.0         28020.0              7   \n",
       "\n",
       "                  stop_headsign  pickup_type drop_off_type  \\\n",
       "654          Széll Kálmán tér M          NaN           NaN   \n",
       "655          Széll Kálmán tér M          NaN           NaN   \n",
       "672          Széll Kálmán tér M          NaN           NaN   \n",
       "673          Széll Kálmán tér M          NaN           NaN   \n",
       "766          Széll Kálmán tér M          NaN           NaN   \n",
       "...                         ...          ...           ...   \n",
       "25147   Bécsi út / Vörösvári út          NaN           NaN   \n",
       "25186  Kelenföld vasútállomás M          NaN           NaN   \n",
       "25187  Kelenföld vasútállomás M          NaN           NaN   \n",
       "25200   Bécsi út / Vörösvári út          NaN           NaN   \n",
       "25201   Bécsi út / Vörösvári út          NaN           NaN   \n",
       "\n",
       "       shape_dist_traveled route_id  ... direction_id  shape_id  \\\n",
       "654                  477.0     3060  ...            1      B692   \n",
       "655                  960.0     3060  ...            1      B692   \n",
       "672                  477.0     3060  ...            1      B692   \n",
       "673                  960.0     3060  ...            1      B692   \n",
       "766                  546.0     3040  ...            1      0976   \n",
       "...                    ...      ...  ...          ...       ...   \n",
       "25147               3653.0     3010  ...            0      N087   \n",
       "25186              14504.0     3010  ...            1      N088   \n",
       "25187              14970.0     3010  ...            1      N088   \n",
       "25200               3181.0     3010  ...            0      N087   \n",
       "25201               3653.0     3010  ...            0      N087   \n",
       "\n",
       "                               stop_name stop_code location_type  \\\n",
       "654    Budafoki út / Karinthy Frigyes út       NaN           NaN   \n",
       "655              Petőfi híd, budai hídfő       NaN           NaN   \n",
       "672    Budafoki út / Karinthy Frigyes út       NaN           NaN   \n",
       "673              Petőfi híd, budai hídfő       NaN           NaN   \n",
       "766            Budafoki út / Szerémi sor       NaN           NaN   \n",
       "...                                  ...       ...           ...   \n",
       "25147                           Infopark       NaN           NaN   \n",
       "25186                           Infopark       NaN           NaN   \n",
       "25187         Budafoki út / Dombóvári út       NaN           NaN   \n",
       "25200         Budafoki út / Dombóvári út       NaN           NaN   \n",
       "25201                           Infopark       NaN           NaN   \n",
       "\n",
       "       location_sub_type parent_station wheelchair_boarding  stop_direction  \\\n",
       "654                  NaN            NaN                 1.0             114   \n",
       "655                  NaN            NaN                 1.0              54   \n",
       "672                  NaN            NaN                 1.0             114   \n",
       "673                  NaN            NaN                 1.0              54   \n",
       "766                  NaN            NaN                 1.0              55   \n",
       "...                  ...            ...                 ...             ...   \n",
       "25147                NaN            NaN                 1.0              96   \n",
       "25186                NaN            NaN                 1.0             -85   \n",
       "25187                NaN            NaN                 1.0             -75   \n",
       "25200                NaN            NaN                 1.0             104   \n",
       "25201                NaN            NaN                 1.0              96   \n",
       "\n",
       "                        geometry  \n",
       "654    POINT (19.05411 47.47583)  \n",
       "655    POINT (19.05959 47.47693)  \n",
       "672    POINT (19.05411 47.47583)  \n",
       "673    POINT (19.05959 47.47693)  \n",
       "766    POINT (19.05374 47.47409)  \n",
       "...                          ...  \n",
       "25147  POINT (19.06050 47.46907)  \n",
       "25186  POINT (19.05972 47.46917)  \n",
       "25187  POINT (19.05365 47.46981)  \n",
       "25200  POINT (19.05438 47.46965)  \n",
       "25201  POINT (19.06050 47.46907)  \n",
       "\n",
       "[181 rows x 21 columns]"
      ]
     },
     "execution_count": 35,
     "metadata": {},
     "output_type": "execute_result"
    }
   ],
   "source": [
    "stop_7_8"
   ]
  },
  {
   "cell_type": "code",
   "execution_count": 36,
   "metadata": {},
   "outputs": [],
   "source": [
    "stop_7_8[\"short_names\"]=short_names"
   ]
  },
  {
   "cell_type": "code",
   "execution_count": 37,
   "metadata": {},
   "outputs": [],
   "source": [
    "pathways_7_8=stop_times[stop_times[\"trip_id\"].isin(stop_7_8[\"trip_id\"])]\n",
    "#pathways_7_8"
   ]
  },
  {
   "cell_type": "code",
   "execution_count": 38,
   "metadata": {},
   "outputs": [],
   "source": [
    "short_names=[]\n",
    "for i in pathways_7_8[\"route_id\"]:\n",
    "    for k in values_dict:\n",
    "        if i==k:\n",
    "            short_names.append(values_dict[k])"
   ]
  },
  {
   "cell_type": "code",
   "execution_count": 39,
   "metadata": {},
   "outputs": [],
   "source": [
    "pathways_7_8[\"short_names\"]=short_names"
   ]
  },
  {
   "cell_type": "code",
   "execution_count": 40,
   "metadata": {},
   "outputs": [
    {
     "data": {
      "text/html": [
       "<div>\n",
       "<style scoped>\n",
       "    .dataframe tbody tr th:only-of-type {\n",
       "        vertical-align: middle;\n",
       "    }\n",
       "\n",
       "    .dataframe tbody tr th {\n",
       "        vertical-align: top;\n",
       "    }\n",
       "\n",
       "    .dataframe thead th {\n",
       "        text-align: right;\n",
       "    }\n",
       "</style>\n",
       "<table border=\"1\" class=\"dataframe\">\n",
       "  <thead>\n",
       "    <tr style=\"text-align: right;\">\n",
       "      <th></th>\n",
       "      <th>trip_id</th>\n",
       "      <th>stop_id</th>\n",
       "      <th>arrival_time</th>\n",
       "      <th>departure_time</th>\n",
       "      <th>stop_sequence</th>\n",
       "      <th>stop_headsign</th>\n",
       "      <th>pickup_type</th>\n",
       "      <th>drop_off_type</th>\n",
       "      <th>shape_dist_traveled</th>\n",
       "      <th>route_id</th>\n",
       "      <th>...</th>\n",
       "      <th>shape_id</th>\n",
       "      <th>stop_name</th>\n",
       "      <th>stop_code</th>\n",
       "      <th>location_type</th>\n",
       "      <th>location_sub_type</th>\n",
       "      <th>parent_station</th>\n",
       "      <th>wheelchair_boarding</th>\n",
       "      <th>stop_direction</th>\n",
       "      <th>geometry</th>\n",
       "      <th>short_names</th>\n",
       "    </tr>\n",
       "  </thead>\n",
       "  <tbody>\n",
       "    <tr>\n",
       "      <th>15126</th>\n",
       "      <td>C34268106997</td>\n",
       "      <td>009220</td>\n",
       "      <td>26400.0</td>\n",
       "      <td>26400.0</td>\n",
       "      <td>0</td>\n",
       "      <td>Széll Kálmán tér M</td>\n",
       "      <td>NaN</td>\n",
       "      <td>1</td>\n",
       "      <td>0.0</td>\n",
       "      <td>3060</td>\n",
       "      <td>...</td>\n",
       "      <td>B692</td>\n",
       "      <td>Móricz Zsigmond körtér M</td>\n",
       "      <td>NaN</td>\n",
       "      <td>NaN</td>\n",
       "      <td>NaN</td>\n",
       "      <td>NaN</td>\n",
       "      <td>1.0</td>\n",
       "      <td>NaN</td>\n",
       "      <td>POINT (19.04835 47.47750)</td>\n",
       "      <td>6</td>\n",
       "    </tr>\n",
       "    <tr>\n",
       "      <th>15127</th>\n",
       "      <td>C34268106997</td>\n",
       "      <td>F02153</td>\n",
       "      <td>26520.0</td>\n",
       "      <td>26520.0</td>\n",
       "      <td>1</td>\n",
       "      <td>Széll Kálmán tér M</td>\n",
       "      <td>NaN</td>\n",
       "      <td>NaN</td>\n",
       "      <td>477.0</td>\n",
       "      <td>3060</td>\n",
       "      <td>...</td>\n",
       "      <td>B692</td>\n",
       "      <td>Budafoki út / Karinthy Frigyes út</td>\n",
       "      <td>NaN</td>\n",
       "      <td>NaN</td>\n",
       "      <td>NaN</td>\n",
       "      <td>NaN</td>\n",
       "      <td>1.0</td>\n",
       "      <td>114</td>\n",
       "      <td>POINT (19.05411 47.47583)</td>\n",
       "      <td>6</td>\n",
       "    </tr>\n",
       "    <tr>\n",
       "      <th>15128</th>\n",
       "      <td>C34268106997</td>\n",
       "      <td>F02225</td>\n",
       "      <td>26580.0</td>\n",
       "      <td>26580.0</td>\n",
       "      <td>2</td>\n",
       "      <td>Széll Kálmán tér M</td>\n",
       "      <td>NaN</td>\n",
       "      <td>NaN</td>\n",
       "      <td>960.0</td>\n",
       "      <td>3060</td>\n",
       "      <td>...</td>\n",
       "      <td>B692</td>\n",
       "      <td>Petőfi híd, budai hídfő</td>\n",
       "      <td>NaN</td>\n",
       "      <td>NaN</td>\n",
       "      <td>NaN</td>\n",
       "      <td>NaN</td>\n",
       "      <td>1.0</td>\n",
       "      <td>54</td>\n",
       "      <td>POINT (19.05959 47.47693)</td>\n",
       "      <td>6</td>\n",
       "    </tr>\n",
       "    <tr>\n",
       "      <th>15129</th>\n",
       "      <td>C34268106997</td>\n",
       "      <td>F01374</td>\n",
       "      <td>26700.0</td>\n",
       "      <td>26700.0</td>\n",
       "      <td>3</td>\n",
       "      <td>Széll Kálmán tér M</td>\n",
       "      <td>NaN</td>\n",
       "      <td>NaN</td>\n",
       "      <td>1622.0</td>\n",
       "      <td>3060</td>\n",
       "      <td>...</td>\n",
       "      <td>B692</td>\n",
       "      <td>Boráros tér H</td>\n",
       "      <td>NaN</td>\n",
       "      <td>NaN</td>\n",
       "      <td>NaN</td>\n",
       "      <td>NaN</td>\n",
       "      <td>2.0</td>\n",
       "      <td>54</td>\n",
       "      <td>POINT (19.06670 47.48038)</td>\n",
       "      <td>6</td>\n",
       "    </tr>\n",
       "    <tr>\n",
       "      <th>15130</th>\n",
       "      <td>C34268106997</td>\n",
       "      <td>F01380</td>\n",
       "      <td>26820.0</td>\n",
       "      <td>26820.0</td>\n",
       "      <td>4</td>\n",
       "      <td>Széll Kálmán tér M</td>\n",
       "      <td>NaN</td>\n",
       "      <td>NaN</td>\n",
       "      <td>1942.0</td>\n",
       "      <td>3060</td>\n",
       "      <td>...</td>\n",
       "      <td>B692</td>\n",
       "      <td>Mester utca / Ferenc körút</td>\n",
       "      <td>NaN</td>\n",
       "      <td>NaN</td>\n",
       "      <td>NaN</td>\n",
       "      <td>NaN</td>\n",
       "      <td>1.0</td>\n",
       "      <td>14</td>\n",
       "      <td>POINT (19.06885 47.48275)</td>\n",
       "      <td>6</td>\n",
       "    </tr>\n",
       "    <tr>\n",
       "      <th>...</th>\n",
       "      <td>...</td>\n",
       "      <td>...</td>\n",
       "      <td>...</td>\n",
       "      <td>...</td>\n",
       "      <td>...</td>\n",
       "      <td>...</td>\n",
       "      <td>...</td>\n",
       "      <td>...</td>\n",
       "      <td>...</td>\n",
       "      <td>...</td>\n",
       "      <td>...</td>\n",
       "      <td>...</td>\n",
       "      <td>...</td>\n",
       "      <td>...</td>\n",
       "      <td>...</td>\n",
       "      <td>...</td>\n",
       "      <td>...</td>\n",
       "      <td>...</td>\n",
       "      <td>...</td>\n",
       "      <td>...</td>\n",
       "      <td>...</td>\n",
       "    </tr>\n",
       "    <tr>\n",
       "      <th>613364</th>\n",
       "      <td>C5478732344</td>\n",
       "      <td>F02527</td>\n",
       "      <td>30120.0</td>\n",
       "      <td>30120.0</td>\n",
       "      <td>27</td>\n",
       "      <td>Bécsi út / Vörösvári út</td>\n",
       "      <td>NaN</td>\n",
       "      <td>NaN</td>\n",
       "      <td>15414.0</td>\n",
       "      <td>3010</td>\n",
       "      <td>...</td>\n",
       "      <td>N087</td>\n",
       "      <td>Népfürdő utca / Árpád híd</td>\n",
       "      <td>NaN</td>\n",
       "      <td>NaN</td>\n",
       "      <td>NaN</td>\n",
       "      <td>NaN</td>\n",
       "      <td>1.0</td>\n",
       "      <td>-73</td>\n",
       "      <td>POINT (19.05887 47.53629)</td>\n",
       "      <td>1</td>\n",
       "    </tr>\n",
       "    <tr>\n",
       "      <th>613365</th>\n",
       "      <td>C5478732344</td>\n",
       "      <td>F00626</td>\n",
       "      <td>30240.0</td>\n",
       "      <td>30240.0</td>\n",
       "      <td>28</td>\n",
       "      <td>Bécsi út / Vörösvári út</td>\n",
       "      <td>NaN</td>\n",
       "      <td>NaN</td>\n",
       "      <td>16515.0</td>\n",
       "      <td>3010</td>\n",
       "      <td>...</td>\n",
       "      <td>N087</td>\n",
       "      <td>Szentlélek tér H</td>\n",
       "      <td>NaN</td>\n",
       "      <td>NaN</td>\n",
       "      <td>NaN</td>\n",
       "      <td>NaN</td>\n",
       "      <td>1.0</td>\n",
       "      <td>-73</td>\n",
       "      <td>POINT (19.04521 47.53959)</td>\n",
       "      <td>1</td>\n",
       "    </tr>\n",
       "    <tr>\n",
       "      <th>613366</th>\n",
       "      <td>C5478732344</td>\n",
       "      <td>F00614</td>\n",
       "      <td>30360.0</td>\n",
       "      <td>30360.0</td>\n",
       "      <td>29</td>\n",
       "      <td>Bécsi út / Vörösvári út</td>\n",
       "      <td>NaN</td>\n",
       "      <td>NaN</td>\n",
       "      <td>16981.0</td>\n",
       "      <td>3010</td>\n",
       "      <td>...</td>\n",
       "      <td>N087</td>\n",
       "      <td>Flórián tér</td>\n",
       "      <td>NaN</td>\n",
       "      <td>NaN</td>\n",
       "      <td>NaN</td>\n",
       "      <td>NaN</td>\n",
       "      <td>1.0</td>\n",
       "      <td>-50</td>\n",
       "      <td>POINT (19.03996 47.54152)</td>\n",
       "      <td>1</td>\n",
       "    </tr>\n",
       "    <tr>\n",
       "      <th>613367</th>\n",
       "      <td>C5478732344</td>\n",
       "      <td>F00586</td>\n",
       "      <td>30420.0</td>\n",
       "      <td>30420.0</td>\n",
       "      <td>30</td>\n",
       "      <td>Bécsi út / Vörösvári út</td>\n",
       "      <td>NaN</td>\n",
       "      <td>NaN</td>\n",
       "      <td>17680.0</td>\n",
       "      <td>3010</td>\n",
       "      <td>...</td>\n",
       "      <td>N087</td>\n",
       "      <td>Óbudai rendelőintézet</td>\n",
       "      <td>NaN</td>\n",
       "      <td>NaN</td>\n",
       "      <td>NaN</td>\n",
       "      <td>NaN</td>\n",
       "      <td>1.0</td>\n",
       "      <td>-42</td>\n",
       "      <td>POINT (19.03346 47.54596)</td>\n",
       "      <td>1</td>\n",
       "    </tr>\n",
       "    <tr>\n",
       "      <th>613368</th>\n",
       "      <td>C5478732344</td>\n",
       "      <td>F00569</td>\n",
       "      <td>30540.0</td>\n",
       "      <td>30540.0</td>\n",
       "      <td>31</td>\n",
       "      <td>Bécsi út / Vörösvári út</td>\n",
       "      <td>NaN</td>\n",
       "      <td>NaN</td>\n",
       "      <td>18124.0</td>\n",
       "      <td>3010</td>\n",
       "      <td>...</td>\n",
       "      <td>N087</td>\n",
       "      <td>Bécsi út / Vörösvári út</td>\n",
       "      <td>NaN</td>\n",
       "      <td>NaN</td>\n",
       "      <td>NaN</td>\n",
       "      <td>NaN</td>\n",
       "      <td>1.0</td>\n",
       "      <td>NaN</td>\n",
       "      <td>POINT (19.02937 47.54877)</td>\n",
       "      <td>1</td>\n",
       "    </tr>\n",
       "  </tbody>\n",
       "</table>\n",
       "<p>2259 rows × 22 columns</p>\n",
       "</div>"
      ],
      "text/plain": [
       "             trip_id stop_id  arrival_time  departure_time  stop_sequence  \\\n",
       "15126   C34268106997  009220       26400.0         26400.0              0   \n",
       "15127   C34268106997  F02153       26520.0         26520.0              1   \n",
       "15128   C34268106997  F02225       26580.0         26580.0              2   \n",
       "15129   C34268106997  F01374       26700.0         26700.0              3   \n",
       "15130   C34268106997  F01380       26820.0         26820.0              4   \n",
       "...              ...     ...           ...             ...            ...   \n",
       "613364   C5478732344  F02527       30120.0         30120.0             27   \n",
       "613365   C5478732344  F00626       30240.0         30240.0             28   \n",
       "613366   C5478732344  F00614       30360.0         30360.0             29   \n",
       "613367   C5478732344  F00586       30420.0         30420.0             30   \n",
       "613368   C5478732344  F00569       30540.0         30540.0             31   \n",
       "\n",
       "                  stop_headsign  pickup_type drop_off_type  \\\n",
       "15126        Széll Kálmán tér M          NaN             1   \n",
       "15127        Széll Kálmán tér M          NaN           NaN   \n",
       "15128        Széll Kálmán tér M          NaN           NaN   \n",
       "15129        Széll Kálmán tér M          NaN           NaN   \n",
       "15130        Széll Kálmán tér M          NaN           NaN   \n",
       "...                         ...          ...           ...   \n",
       "613364  Bécsi út / Vörösvári út          NaN           NaN   \n",
       "613365  Bécsi út / Vörösvári út          NaN           NaN   \n",
       "613366  Bécsi út / Vörösvári út          NaN           NaN   \n",
       "613367  Bécsi út / Vörösvári út          NaN           NaN   \n",
       "613368  Bécsi út / Vörösvári út          NaN           NaN   \n",
       "\n",
       "        shape_dist_traveled route_id  ... shape_id  \\\n",
       "15126                   0.0     3060  ...     B692   \n",
       "15127                 477.0     3060  ...     B692   \n",
       "15128                 960.0     3060  ...     B692   \n",
       "15129                1622.0     3060  ...     B692   \n",
       "15130                1942.0     3060  ...     B692   \n",
       "...                     ...      ...  ...      ...   \n",
       "613364              15414.0     3010  ...     N087   \n",
       "613365              16515.0     3010  ...     N087   \n",
       "613366              16981.0     3010  ...     N087   \n",
       "613367              17680.0     3010  ...     N087   \n",
       "613368              18124.0     3010  ...     N087   \n",
       "\n",
       "                                stop_name stop_code location_type  \\\n",
       "15126            Móricz Zsigmond körtér M       NaN           NaN   \n",
       "15127   Budafoki út / Karinthy Frigyes út       NaN           NaN   \n",
       "15128             Petőfi híd, budai hídfő       NaN           NaN   \n",
       "15129                       Boráros tér H       NaN           NaN   \n",
       "15130          Mester utca / Ferenc körút       NaN           NaN   \n",
       "...                                   ...       ...           ...   \n",
       "613364          Népfürdő utca / Árpád híd       NaN           NaN   \n",
       "613365                   Szentlélek tér H       NaN           NaN   \n",
       "613366                        Flórián tér       NaN           NaN   \n",
       "613367              Óbudai rendelőintézet       NaN           NaN   \n",
       "613368            Bécsi út / Vörösvári út       NaN           NaN   \n",
       "\n",
       "       location_sub_type  parent_station wheelchair_boarding stop_direction  \\\n",
       "15126                NaN             NaN                 1.0            NaN   \n",
       "15127                NaN             NaN                 1.0            114   \n",
       "15128                NaN             NaN                 1.0             54   \n",
       "15129                NaN             NaN                 2.0             54   \n",
       "15130                NaN             NaN                 1.0             14   \n",
       "...                  ...             ...                 ...            ...   \n",
       "613364               NaN             NaN                 1.0            -73   \n",
       "613365               NaN             NaN                 1.0            -73   \n",
       "613366               NaN             NaN                 1.0            -50   \n",
       "613367               NaN             NaN                 1.0            -42   \n",
       "613368               NaN             NaN                 1.0            NaN   \n",
       "\n",
       "                         geometry short_names  \n",
       "15126   POINT (19.04835 47.47750)           6  \n",
       "15127   POINT (19.05411 47.47583)           6  \n",
       "15128   POINT (19.05959 47.47693)           6  \n",
       "15129   POINT (19.06670 47.48038)           6  \n",
       "15130   POINT (19.06885 47.48275)           6  \n",
       "...                           ...         ...  \n",
       "613364  POINT (19.05887 47.53629)           1  \n",
       "613365  POINT (19.04521 47.53959)           1  \n",
       "613366  POINT (19.03996 47.54152)           1  \n",
       "613367  POINT (19.03346 47.54596)           1  \n",
       "613368  POINT (19.02937 47.54877)           1  \n",
       "\n",
       "[2259 rows x 22 columns]"
      ]
     },
     "execution_count": 40,
     "metadata": {},
     "output_type": "execute_result"
    }
   ],
   "source": [
    "pathways_7_8"
   ]
  },
  {
   "cell_type": "markdown",
   "metadata": {},
   "source": []
  },
  {
   "cell_type": "code",
   "execution_count": 41,
   "metadata": {},
   "outputs": [
    {
     "data": {
      "text/plain": [
       "array('d', [19.148326, 19.148313, 19.148638, 19.15032, 19.150426, 19.150479, 19.150572, 19.150964, 19.151689, 19.152074, 19.15214, 19.152074, 19.152626, 19.1543, 19.155869, 19.15749, 19.157882, 19.157935, 19.157882, 19.159271, 19.159869, 19.161331, 19.161943, 19.161989, 19.161943, 19.162302, 19.163561, 19.16456, 19.16452, 19.164573, 19.164785, 19.166017, 19.166057, 19.167051, 19.166998, 19.167051, 19.167284, 19.168171, 19.168476, 19.169006, 19.169721, 19.170503, 19.170728, 19.170781, 19.170808, 19.170786, 19.170746, 19.170714, 19.170634, 19.170554, 19.170488, 19.170387, 19.170386, 19.170426, 19.170824, 19.17077, 19.170824, 19.171136, 19.17164, 19.172091, 19.172621, 19.173129, 19.173036, 19.173129, 19.173349, 19.174237, 19.175204, 19.176269, 19.176216, 19.176269, 19.176489, 19.179263, 19.17921, 19.179263, 19.179325, 19.179523, 19.179563, 19.179828, 19.180665, 19.181502, 19.18275, 19.183959, 19.185052, 19.185065, 19.185052, 19.1853, 19.186642, 19.187824, 19.190228, 19.190414, 19.190989, 19.191015, 19.190989, 19.19153, 19.192207, 19.192672, 19.193509, 19.193778, 19.193831, 19.193778, 19.194027, 19.194984, 19.195887, 19.197787, 19.20005, 19.200089, 19.20005, 19.200299, 19.202481, 19.202521])"
      ]
     },
     "execution_count": 41,
     "metadata": {},
     "output_type": "execute_result"
    }
   ],
   "source": [
    "shapes[\"geometry\"][0].coords.xy[0]"
   ]
  },
  {
   "cell_type": "code",
   "execution_count": 42,
   "metadata": {},
   "outputs": [
    {
     "name": "stdout",
     "output_type": "stream",
     "text": [
      "array('d', [19.148326, 19.148313, 19.148638, 19.15032, 19.150426, 19.150479, 19.150572, 19.150964, 19.151689, 19.152074, 19.15214, 19.152074, 19.152626, 19.1543, 19.155869, 19.15749, 19.157882, 19.157935, 19.157882, 19.159271, 19.159869, 19.161331, 19.161943, 19.161989, 19.161943, 19.162302, 19.163561, 19.16456, 19.16452, 19.164573, 19.164785, 19.166017, 19.166057, 19.167051, 19.166998, 19.167051, 19.167284, 19.168171, 19.168476, 19.169006, 19.169721, 19.170503, 19.170728, 19.170781, 19.170808, 19.170786, 19.170746, 19.170714, 19.170634, 19.170554, 19.170488, 19.170387, 19.170386, 19.170426, 19.170824, 19.17077, 19.170824, 19.171136, 19.17164, 19.172091, 19.172621, 19.173129, 19.173036, 19.173129, 19.173349, 19.174237, 19.175204, 19.176269, 19.176216, 19.176269, 19.176489, 19.179263, 19.17921, 19.179263, 19.179325, 19.179523, 19.179563, 19.179828, 19.180665, 19.181502, 19.18275, 19.183959, 19.185052, 19.185065, 19.185052, 19.1853, 19.186642, 19.187824, 19.190228, 19.190414, 19.190989, 19.191015, 19.190989, 19.19153, 19.192207, 19.192672, 19.193509, 19.193778, 19.193831, 19.193778, 19.194027, 19.194984, 19.195887, 19.197787, 19.20005, 19.200089, 19.20005, 19.200299, 19.202481, 19.202521])\n",
      "array('d', [47.519648, 47.519666, 47.519839, 47.520618, 47.520681, 47.520726, 47.520807, 47.520988, 47.5213, 47.521489, 47.521426, 47.521489, 47.521778, 47.522523, 47.523259, 47.523986, 47.524137, 47.524083, 47.524137, 47.524803, 47.52509, 47.525745, 47.526024, 47.52594, 47.526024, 47.526194, 47.524916, 47.523842, 47.523824, 47.523851, 47.523635, 47.522402, 47.522366, 47.521375, 47.521348, 47.521375, 47.52117, 47.520297, 47.519973, 47.519396, 47.518712, 47.517947, 47.517739, 47.517649, 47.517604, 47.517459, 47.517378, 47.517344, 47.517254, 47.517164, 47.517101, 47.516938, 47.516866, 47.516794, 47.516479, 47.516452, 47.516479, 47.516264, 47.515886, 47.515471, 47.515057, 47.514587, 47.514543, 47.514587, 47.514436, 47.513661, 47.512806, 47.511895, 47.511868, 47.511895, 47.511752, 47.5094, 47.509373, 47.5094, 47.509383, 47.509212, 47.509005, 47.509032, 47.509174, 47.509317, 47.50955, 47.509773, 47.509924, 47.509879, 47.509924, 47.509997, 47.510238, 47.510434, 47.510872, 47.510908, 47.510978, 47.510906, 47.510978, 47.511095, 47.511211, 47.511319, 47.511525, 47.511586, 47.511514, 47.511586, 47.511686, 47.512, 47.512277, 47.51285, 47.513512, 47.513449, 47.513512, 47.513612, 47.514255, 47.514192])\n"
     ]
    }
   ],
   "source": [
    "for i in shapes[\"geometry\"][0].coords.xy:\n",
    "  print(i)"
   ]
  },
  {
   "cell_type": "code",
   "execution_count": 43,
   "metadata": {},
   "outputs": [
    {
     "data": {
      "image/png": "[encoded data removed]",
      "text/plain": [
       "<Figure size 432x288 with 1 Axes>"
      ]
     },
     "metadata": {
      "needs_background": "light"
     },
     "output_type": "display_data"
    }
   ],
   "source": [
    "%matplotlib inline\n",
    "circle2 = plt.Circle((I_building[1], I_building[0]), 0.00670390766103, color='b', fill=False)\n",
    "\n",
    "ax = plt.gca()\n",
    "ax.cla() # clear things for fresh plot\n",
    "ax.scatter(I_building[1], I_building[0])\n",
    "ax.scatter(y,x)\n",
    "\n",
    "\n",
    "ax.add_patch(circle2)\n",
    "plt.show()"
   ]
  },
  {
   "cell_type": "code",
   "execution_count": 44,
   "metadata": {},
   "outputs": [
    {
     "data": {
      "image/png": "[encoded data removed]",
      "text/plain": [
       "<Figure size 432x288 with 1 Axes>"
      ]
     },
     "metadata": {
      "needs_background": "light"
     },
     "output_type": "display_data"
    }
   ],
   "source": [
    "for i in pathways_7_8[\"geometry\"]:\n",
    "    plt.scatter(i.x,i.y)\n",
    "plt.show()"
   ]
  },
  {
   "cell_type": "code",
   "execution_count": 45,
   "metadata": {},
   "outputs": [],
   "source": [
    "#%pip install bokeh"
   ]
  },
  {
   "cell_type": "code",
   "execution_count": 46,
   "metadata": {},
   "outputs": [],
   "source": [
    "#DATASHADER\n",
    "import datashader as ds\n",
    "from datashader import transfer_functions as tr_fns\n",
    "#from datashader.bokeh_ext import InteractiveImage\n",
    "from functools import partial\n",
    "#from datashader.bokeh_ext import InteractiveImage\n",
    "import colorcet as cc\n",
    "import datashader.transfer_functions as tf"
   ]
  },
  {
   "cell_type": "code",
   "execution_count": 47,
   "metadata": {},
   "outputs": [],
   "source": [
    "#making a df just for the data we need\n",
    "geometry_x=[]\n",
    "geometry_y=[]\n",
    "for i in pathways_7_8[\"geometry\"]:\n",
    "    geometry_x.append(i.x)\n",
    "    geometry_y.append(i.y)\n",
    "              "
   ]
  },
  {
   "cell_type": "code",
   "execution_count": 48,
   "metadata": {},
   "outputs": [],
   "source": [
    "#print(np.min(geometry_x), np.max(geometry_x)) -> for x_range\n",
    "#print(np.min(geometry_y), np.max(geometry_y))\n",
    "BP = x_range, y_range = ((18.954419, 19.142015), (47.387982, 47.548766))\n",
    "plot_width = int(750)\n",
    "plot_height = int(plot_width//1.2)\n",
    "def base_plot(tools='pan, wheel_zoom, reset', plot_width=plot_width, plot_height=plot_height, **plot_args):\n",
    "    p = figure(tools=tools, plot_width=plot_width, plot_height=plot_height,\n",
    "              x_range=x_range, y_range=y_range, outline_line_color=None,\n",
    "              min_border=0, min_border_left=0, min_border_right=0,\n",
    "              min_border_top=0, min_border_bottom=0, **plot_args)\n",
    "    p.xgrid.grid_line_color = None\n",
    "    p.ygrid.grid_line_color = None\n",
    "    return p\n",
    "options = dict(line_color=None, fill_color='blue', size=5)"
   ]
  },
  {
   "cell_type": "code",
   "execution_count": 51,
   "metadata": {},
   "outputs": [],
   "source": [
    "#samples = pathways_7_8.sample(n=1000)\n",
    "#p = base_plot()\n",
    "#p.circle(x=geometry_x, y=geometry_y, **options)\n",
    "#show(p) #really cool interactive scatterplot open in browser\n",
    "geometry_x_tuple=tuple(geometry_x)\n",
    "geometry_y_tuple=tuple(geometry_y)\n",
    "geometry_df=pd.DataFrame({\n",
    "    'x_coor':geometry_x_tuple,\n",
    "    'y_coor':geometry_y_tuple,\n",
    "    'stop_name':pathways_7_8['stop_name']\n",
    "})\n",
    "\n"
   ]
  },
  {
   "cell_type": "code",
   "execution_count": 52,
   "metadata": {},
   "outputs": [],
   "source": [
    "cvs = ds.Canvas(plot_width=plot_width, plot_height=plot_height, x_range=x_range, y_range=y_range)\n",
    "agg = cvs.points(geometry_df, 'x_coor', 'y_coor')\n",
    "img = tr_fns.shade(agg, cmap=[\"white\", 'darkblue'], how='linear')"
   ]
  },
  {
   "cell_type": "code",
   "execution_count": 54,
   "metadata": {},
   "outputs": [],
   "source": [
    "\n",
    "#background = \"black\"\n",
    "#export = partial(export_image, export_path=\"export\", background=background)\n",
    "#cm = partial(colormap_select, reverse=(background==\"black\"))\n",
    "#cvs = ds.Canvas(plot_width=plot_width, plot_height=plot_height, x_range=x_range, y_range=y_range)\n",
    "#agg = cvs.points(geometry_df, 'x_coor', 'y_coor')\n",
    "#img = tr_fns.shade(agg, cmap=[\"white\", 'darkblue'], how='linear')\n",
    "\n",
    "#def create_image(x_range, y_range, w=plot_width, h=plot_height):\n",
    "#    cvs = ds.Canvas(plot_width=plot_width, plot_height=plot_height, x_range=x_range, y_range=y_range)\n",
    "#    agg = cvs.points(geometry_df, 'x_coor', 'y_coor')\n",
    "#    img = tr_fns.shade(agg, cmap=[\"white\", 'darkblue'], how='linear')\n",
    "#   return tr_fns.dynspread(img, threshold=0.5, max_px=4)\n",
    "\n",
    "#p = base_plot(background_fill_color='black', plot_width=2259, plot_height=2259)\n",
    "#export(create_image(*BP), \"BP_hot\")\n",
    "#(p, create_image)\n",
    "#lecci=ds.tf.set_background(ds.tf.shade(agg, cmap=cc.fire))\n",
    "#looks cool: rainbow, coolwarm, bgy\n",
    "#\n",
    "#export(tf.shade(agg, cmap = cm(Greys9,0.01), how='linear'),\"census_gray_linear\")\n",
    "#export(tf.shade(agg, cmap = cm(Greys9,0.01), how='log'),\"census_gray_log\")\n",
    "#export(tf.shade(agg, cmap = cm(Greys9,0.2), how='eq_hist'),\"census_gray_eq_hist\")\n",
    "#export(tf.shade(agg, cmap = cm(cc.fire,0.01), how='eq_hist'),\"census_ds_fire_eq_hist\")"
   ]
  },
  {
   "cell_type": "code",
   "execution_count": 55,
   "metadata": {},
   "outputs": [
    {
     "data": {
      "text/html": [
       "<div>\n",
       "<style scoped>\n",
       "    .dataframe tbody tr th:only-of-type {\n",
       "        vertical-align: middle;\n",
       "    }\n",
       "\n",
       "    .dataframe tbody tr th {\n",
       "        vertical-align: top;\n",
       "    }\n",
       "\n",
       "    .dataframe thead th {\n",
       "        text-align: right;\n",
       "    }\n",
       "</style>\n",
       "<table border=\"1\" class=\"dataframe\">\n",
       "  <thead>\n",
       "    <tr style=\"text-align: right;\">\n",
       "      <th></th>\n",
       "      <th>trip_id</th>\n",
       "      <th>stop_id</th>\n",
       "      <th>arrival_time</th>\n",
       "      <th>departure_time</th>\n",
       "      <th>stop_sequence</th>\n",
       "      <th>stop_headsign</th>\n",
       "      <th>pickup_type</th>\n",
       "      <th>drop_off_type</th>\n",
       "      <th>shape_dist_traveled</th>\n",
       "      <th>route_id</th>\n",
       "      <th>...</th>\n",
       "      <th>shape_id</th>\n",
       "      <th>stop_name</th>\n",
       "      <th>stop_code</th>\n",
       "      <th>location_type</th>\n",
       "      <th>location_sub_type</th>\n",
       "      <th>parent_station</th>\n",
       "      <th>wheelchair_boarding</th>\n",
       "      <th>stop_direction</th>\n",
       "      <th>geometry</th>\n",
       "      <th>short_names</th>\n",
       "    </tr>\n",
       "  </thead>\n",
       "  <tbody>\n",
       "    <tr>\n",
       "      <th>15126</th>\n",
       "      <td>C34268106997</td>\n",
       "      <td>009220</td>\n",
       "      <td>26400.0</td>\n",
       "      <td>26400.0</td>\n",
       "      <td>0</td>\n",
       "      <td>Széll Kálmán tér M</td>\n",
       "      <td>NaN</td>\n",
       "      <td>1</td>\n",
       "      <td>0.0</td>\n",
       "      <td>3060</td>\n",
       "      <td>...</td>\n",
       "      <td>B692</td>\n",
       "      <td>Móricz Zsigmond körtér M</td>\n",
       "      <td>NaN</td>\n",
       "      <td>NaN</td>\n",
       "      <td>NaN</td>\n",
       "      <td>NaN</td>\n",
       "      <td>1.0</td>\n",
       "      <td>NaN</td>\n",
       "      <td>POINT (19.04835 47.47750)</td>\n",
       "      <td>6</td>\n",
       "    </tr>\n",
       "    <tr>\n",
       "      <th>15127</th>\n",
       "      <td>C34268106997</td>\n",
       "      <td>F02153</td>\n",
       "      <td>26520.0</td>\n",
       "      <td>26520.0</td>\n",
       "      <td>1</td>\n",
       "      <td>Széll Kálmán tér M</td>\n",
       "      <td>NaN</td>\n",
       "      <td>NaN</td>\n",
       "      <td>477.0</td>\n",
       "      <td>3060</td>\n",
       "      <td>...</td>\n",
       "      <td>B692</td>\n",
       "      <td>Budafoki út / Karinthy Frigyes út</td>\n",
       "      <td>NaN</td>\n",
       "      <td>NaN</td>\n",
       "      <td>NaN</td>\n",
       "      <td>NaN</td>\n",
       "      <td>1.0</td>\n",
       "      <td>114</td>\n",
       "      <td>POINT (19.05411 47.47583)</td>\n",
       "      <td>6</td>\n",
       "    </tr>\n",
       "    <tr>\n",
       "      <th>15128</th>\n",
       "      <td>C34268106997</td>\n",
       "      <td>F02225</td>\n",
       "      <td>26580.0</td>\n",
       "      <td>26580.0</td>\n",
       "      <td>2</td>\n",
       "      <td>Széll Kálmán tér M</td>\n",
       "      <td>NaN</td>\n",
       "      <td>NaN</td>\n",
       "      <td>960.0</td>\n",
       "      <td>3060</td>\n",
       "      <td>...</td>\n",
       "      <td>B692</td>\n",
       "      <td>Petőfi híd, budai hídfő</td>\n",
       "      <td>NaN</td>\n",
       "      <td>NaN</td>\n",
       "      <td>NaN</td>\n",
       "      <td>NaN</td>\n",
       "      <td>1.0</td>\n",
       "      <td>54</td>\n",
       "      <td>POINT (19.05959 47.47693)</td>\n",
       "      <td>6</td>\n",
       "    </tr>\n",
       "    <tr>\n",
       "      <th>15129</th>\n",
       "      <td>C34268106997</td>\n",
       "      <td>F01374</td>\n",
       "      <td>26700.0</td>\n",
       "      <td>26700.0</td>\n",
       "      <td>3</td>\n",
       "      <td>Széll Kálmán tér M</td>\n",
       "      <td>NaN</td>\n",
       "      <td>NaN</td>\n",
       "      <td>1622.0</td>\n",
       "      <td>3060</td>\n",
       "      <td>...</td>\n",
       "      <td>B692</td>\n",
       "      <td>Boráros tér H</td>\n",
       "      <td>NaN</td>\n",
       "      <td>NaN</td>\n",
       "      <td>NaN</td>\n",
       "      <td>NaN</td>\n",
       "      <td>2.0</td>\n",
       "      <td>54</td>\n",
       "      <td>POINT (19.06670 47.48038)</td>\n",
       "      <td>6</td>\n",
       "    </tr>\n",
       "    <tr>\n",
       "      <th>15130</th>\n",
       "      <td>C34268106997</td>\n",
       "      <td>F01380</td>\n",
       "      <td>26820.0</td>\n",
       "      <td>26820.0</td>\n",
       "      <td>4</td>\n",
       "      <td>Széll Kálmán tér M</td>\n",
       "      <td>NaN</td>\n",
       "      <td>NaN</td>\n",
       "      <td>1942.0</td>\n",
       "      <td>3060</td>\n",
       "      <td>...</td>\n",
       "      <td>B692</td>\n",
       "      <td>Mester utca / Ferenc körút</td>\n",
       "      <td>NaN</td>\n",
       "      <td>NaN</td>\n",
       "      <td>NaN</td>\n",
       "      <td>NaN</td>\n",
       "      <td>1.0</td>\n",
       "      <td>14</td>\n",
       "      <td>POINT (19.06885 47.48275)</td>\n",
       "      <td>6</td>\n",
       "    </tr>\n",
       "    <tr>\n",
       "      <th>...</th>\n",
       "      <td>...</td>\n",
       "      <td>...</td>\n",
       "      <td>...</td>\n",
       "      <td>...</td>\n",
       "      <td>...</td>\n",
       "      <td>...</td>\n",
       "      <td>...</td>\n",
       "      <td>...</td>\n",
       "      <td>...</td>\n",
       "      <td>...</td>\n",
       "      <td>...</td>\n",
       "      <td>...</td>\n",
       "      <td>...</td>\n",
       "      <td>...</td>\n",
       "      <td>...</td>\n",
       "      <td>...</td>\n",
       "      <td>...</td>\n",
       "      <td>...</td>\n",
       "      <td>...</td>\n",
       "      <td>...</td>\n",
       "      <td>...</td>\n",
       "    </tr>\n",
       "    <tr>\n",
       "      <th>613364</th>\n",
       "      <td>C5478732344</td>\n",
       "      <td>F02527</td>\n",
       "      <td>30120.0</td>\n",
       "      <td>30120.0</td>\n",
       "      <td>27</td>\n",
       "      <td>Bécsi út / Vörösvári út</td>\n",
       "      <td>NaN</td>\n",
       "      <td>NaN</td>\n",
       "      <td>15414.0</td>\n",
       "      <td>3010</td>\n",
       "      <td>...</td>\n",
       "      <td>N087</td>\n",
       "      <td>Népfürdő utca / Árpád híd</td>\n",
       "      <td>NaN</td>\n",
       "      <td>NaN</td>\n",
       "      <td>NaN</td>\n",
       "      <td>NaN</td>\n",
       "      <td>1.0</td>\n",
       "      <td>-73</td>\n",
       "      <td>POINT (19.05887 47.53629)</td>\n",
       "      <td>1</td>\n",
       "    </tr>\n",
       "    <tr>\n",
       "      <th>613365</th>\n",
       "      <td>C5478732344</td>\n",
       "      <td>F00626</td>\n",
       "      <td>30240.0</td>\n",
       "      <td>30240.0</td>\n",
       "      <td>28</td>\n",
       "      <td>Bécsi út / Vörösvári út</td>\n",
       "      <td>NaN</td>\n",
       "      <td>NaN</td>\n",
       "      <td>16515.0</td>\n",
       "      <td>3010</td>\n",
       "      <td>...</td>\n",
       "      <td>N087</td>\n",
       "      <td>Szentlélek tér H</td>\n",
       "      <td>NaN</td>\n",
       "      <td>NaN</td>\n",
       "      <td>NaN</td>\n",
       "      <td>NaN</td>\n",
       "      <td>1.0</td>\n",
       "      <td>-73</td>\n",
       "      <td>POINT (19.04521 47.53959)</td>\n",
       "      <td>1</td>\n",
       "    </tr>\n",
       "    <tr>\n",
       "      <th>613366</th>\n",
       "      <td>C5478732344</td>\n",
       "      <td>F00614</td>\n",
       "      <td>30360.0</td>\n",
       "      <td>30360.0</td>\n",
       "      <td>29</td>\n",
       "      <td>Bécsi út / Vörösvári út</td>\n",
       "      <td>NaN</td>\n",
       "      <td>NaN</td>\n",
       "      <td>16981.0</td>\n",
       "      <td>3010</td>\n",
       "      <td>...</td>\n",
       "      <td>N087</td>\n",
       "      <td>Flórián tér</td>\n",
       "      <td>NaN</td>\n",
       "      <td>NaN</td>\n",
       "      <td>NaN</td>\n",
       "      <td>NaN</td>\n",
       "      <td>1.0</td>\n",
       "      <td>-50</td>\n",
       "      <td>POINT (19.03996 47.54152)</td>\n",
       "      <td>1</td>\n",
       "    </tr>\n",
       "    <tr>\n",
       "      <th>613367</th>\n",
       "      <td>C5478732344</td>\n",
       "      <td>F00586</td>\n",
       "      <td>30420.0</td>\n",
       "      <td>30420.0</td>\n",
       "      <td>30</td>\n",
       "      <td>Bécsi út / Vörösvári út</td>\n",
       "      <td>NaN</td>\n",
       "      <td>NaN</td>\n",
       "      <td>17680.0</td>\n",
       "      <td>3010</td>\n",
       "      <td>...</td>\n",
       "      <td>N087</td>\n",
       "      <td>Óbudai rendelőintézet</td>\n",
       "      <td>NaN</td>\n",
       "      <td>NaN</td>\n",
       "      <td>NaN</td>\n",
       "      <td>NaN</td>\n",
       "      <td>1.0</td>\n",
       "      <td>-42</td>\n",
       "      <td>POINT (19.03346 47.54596)</td>\n",
       "      <td>1</td>\n",
       "    </tr>\n",
       "    <tr>\n",
       "      <th>613368</th>\n",
       "      <td>C5478732344</td>\n",
       "      <td>F00569</td>\n",
       "      <td>30540.0</td>\n",
       "      <td>30540.0</td>\n",
       "      <td>31</td>\n",
       "      <td>Bécsi út / Vörösvári út</td>\n",
       "      <td>NaN</td>\n",
       "      <td>NaN</td>\n",
       "      <td>18124.0</td>\n",
       "      <td>3010</td>\n",
       "      <td>...</td>\n",
       "      <td>N087</td>\n",
       "      <td>Bécsi út / Vörösvári út</td>\n",
       "      <td>NaN</td>\n",
       "      <td>NaN</td>\n",
       "      <td>NaN</td>\n",
       "      <td>NaN</td>\n",
       "      <td>1.0</td>\n",
       "      <td>NaN</td>\n",
       "      <td>POINT (19.02937 47.54877)</td>\n",
       "      <td>1</td>\n",
       "    </tr>\n",
       "  </tbody>\n",
       "</table>\n",
       "<p>2259 rows × 22 columns</p>\n",
       "</div>"
      ],
      "text/plain": [
       "             trip_id stop_id  arrival_time  departure_time  stop_sequence  \\\n",
       "15126   C34268106997  009220       26400.0         26400.0              0   \n",
       "15127   C34268106997  F02153       26520.0         26520.0              1   \n",
       "15128   C34268106997  F02225       26580.0         26580.0              2   \n",
       "15129   C34268106997  F01374       26700.0         26700.0              3   \n",
       "15130   C34268106997  F01380       26820.0         26820.0              4   \n",
       "...              ...     ...           ...             ...            ...   \n",
       "613364   C5478732344  F02527       30120.0         30120.0             27   \n",
       "613365   C5478732344  F00626       30240.0         30240.0             28   \n",
       "613366   C5478732344  F00614       30360.0         30360.0             29   \n",
       "613367   C5478732344  F00586       30420.0         30420.0             30   \n",
       "613368   C5478732344  F00569       30540.0         30540.0             31   \n",
       "\n",
       "                  stop_headsign  pickup_type drop_off_type  \\\n",
       "15126        Széll Kálmán tér M          NaN             1   \n",
       "15127        Széll Kálmán tér M          NaN           NaN   \n",
       "15128        Széll Kálmán tér M          NaN           NaN   \n",
       "15129        Széll Kálmán tér M          NaN           NaN   \n",
       "15130        Széll Kálmán tér M          NaN           NaN   \n",
       "...                         ...          ...           ...   \n",
       "613364  Bécsi út / Vörösvári út          NaN           NaN   \n",
       "613365  Bécsi út / Vörösvári út          NaN           NaN   \n",
       "613366  Bécsi út / Vörösvári út          NaN           NaN   \n",
       "613367  Bécsi út / Vörösvári út          NaN           NaN   \n",
       "613368  Bécsi út / Vörösvári út          NaN           NaN   \n",
       "\n",
       "        shape_dist_traveled route_id  ... shape_id  \\\n",
       "15126                   0.0     3060  ...     B692   \n",
       "15127                 477.0     3060  ...     B692   \n",
       "15128                 960.0     3060  ...     B692   \n",
       "15129                1622.0     3060  ...     B692   \n",
       "15130                1942.0     3060  ...     B692   \n",
       "...                     ...      ...  ...      ...   \n",
       "613364              15414.0     3010  ...     N087   \n",
       "613365              16515.0     3010  ...     N087   \n",
       "613366              16981.0     3010  ...     N087   \n",
       "613367              17680.0     3010  ...     N087   \n",
       "613368              18124.0     3010  ...     N087   \n",
       "\n",
       "                                stop_name stop_code location_type  \\\n",
       "15126            Móricz Zsigmond körtér M       NaN           NaN   \n",
       "15127   Budafoki út / Karinthy Frigyes út       NaN           NaN   \n",
       "15128             Petőfi híd, budai hídfő       NaN           NaN   \n",
       "15129                       Boráros tér H       NaN           NaN   \n",
       "15130          Mester utca / Ferenc körút       NaN           NaN   \n",
       "...                                   ...       ...           ...   \n",
       "613364          Népfürdő utca / Árpád híd       NaN           NaN   \n",
       "613365                   Szentlélek tér H       NaN           NaN   \n",
       "613366                        Flórián tér       NaN           NaN   \n",
       "613367              Óbudai rendelőintézet       NaN           NaN   \n",
       "613368            Bécsi út / Vörösvári út       NaN           NaN   \n",
       "\n",
       "       location_sub_type  parent_station wheelchair_boarding stop_direction  \\\n",
       "15126                NaN             NaN                 1.0            NaN   \n",
       "15127                NaN             NaN                 1.0            114   \n",
       "15128                NaN             NaN                 1.0             54   \n",
       "15129                NaN             NaN                 2.0             54   \n",
       "15130                NaN             NaN                 1.0             14   \n",
       "...                  ...             ...                 ...            ...   \n",
       "613364               NaN             NaN                 1.0            -73   \n",
       "613365               NaN             NaN                 1.0            -73   \n",
       "613366               NaN             NaN                 1.0            -50   \n",
       "613367               NaN             NaN                 1.0            -42   \n",
       "613368               NaN             NaN                 1.0            NaN   \n",
       "\n",
       "                         geometry short_names  \n",
       "15126   POINT (19.04835 47.47750)           6  \n",
       "15127   POINT (19.05411 47.47583)           6  \n",
       "15128   POINT (19.05959 47.47693)           6  \n",
       "15129   POINT (19.06670 47.48038)           6  \n",
       "15130   POINT (19.06885 47.48275)           6  \n",
       "...                           ...         ...  \n",
       "613364  POINT (19.05887 47.53629)           1  \n",
       "613365  POINT (19.04521 47.53959)           1  \n",
       "613366  POINT (19.03996 47.54152)           1  \n",
       "613367  POINT (19.03346 47.54596)           1  \n",
       "613368  POINT (19.02937 47.54877)           1  \n",
       "\n",
       "[2259 rows x 22 columns]"
      ]
     },
     "execution_count": 55,
     "metadata": {},
     "output_type": "execute_result"
    }
   ],
   "source": [
    "pathways_7_8"
   ]
  },
  {
   "cell_type": "code",
   "execution_count": 56,
   "metadata": {},
   "outputs": [],
   "source": [
    "#function to make seconds to hours and minutes\n",
    "def convert(seconds):\n",
    "    seconds = seconds % (24 * 3600)\n",
    "    hour = seconds // 3600\n",
    "    seconds %= 3600\n",
    "    minutes = seconds // 60\n",
    "    seconds %= 60\n",
    "     \n",
    "    return \"%d:%02d:%02d\" % (hour, minutes, seconds)\n"
   ]
  },
  {
   "cell_type": "code",
   "execution_count": 57,
   "metadata": {},
   "outputs": [],
   "source": [
    "mmt=[]\n",
    "ido = pathways_7_8['departure_time']\n",
    "for i in ido:\n",
    "    mmt.append(convert(i))\n",
    "geometry_df['get_on'] = mmt"
   ]
  },
  {
   "cell_type": "code",
   "execution_count": 58,
   "metadata": {},
   "outputs": [],
   "source": [
    "#7:50 is 28200 in seconds\n",
    "t_to_school=[]\n",
    "for t in ido:\n",
    "    t_to_school.append(int((28200-t)/60))\n",
    "geometry_df['time_to_school']=t_to_school"
   ]
  },
  {
   "cell_type": "code",
   "execution_count": 59,
   "metadata": {},
   "outputs": [
    {
     "data": {
      "text/html": [
       "<div>\n",
       "<style scoped>\n",
       "    .dataframe tbody tr th:only-of-type {\n",
       "        vertical-align: middle;\n",
       "    }\n",
       "\n",
       "    .dataframe tbody tr th {\n",
       "        vertical-align: top;\n",
       "    }\n",
       "\n",
       "    .dataframe thead th {\n",
       "        text-align: right;\n",
       "    }\n",
       "</style>\n",
       "<table border=\"1\" class=\"dataframe\">\n",
       "  <thead>\n",
       "    <tr style=\"text-align: right;\">\n",
       "      <th></th>\n",
       "      <th>x_coor</th>\n",
       "      <th>y_coor</th>\n",
       "      <th>stop_name</th>\n",
       "      <th>get_on</th>\n",
       "      <th>time_to_school</th>\n",
       "    </tr>\n",
       "  </thead>\n",
       "  <tbody>\n",
       "    <tr>\n",
       "      <th>15126</th>\n",
       "      <td>19.048349</td>\n",
       "      <td>47.477499</td>\n",
       "      <td>Móricz Zsigmond körtér M</td>\n",
       "      <td>7:20:00</td>\n",
       "      <td>30</td>\n",
       "    </tr>\n",
       "    <tr>\n",
       "      <th>15127</th>\n",
       "      <td>19.054107</td>\n",
       "      <td>47.475827</td>\n",
       "      <td>Budafoki út / Karinthy Frigyes út</td>\n",
       "      <td>7:22:00</td>\n",
       "      <td>28</td>\n",
       "    </tr>\n",
       "    <tr>\n",
       "      <th>15128</th>\n",
       "      <td>19.059586</td>\n",
       "      <td>47.476933</td>\n",
       "      <td>Petőfi híd, budai hídfő</td>\n",
       "      <td>7:23:00</td>\n",
       "      <td>27</td>\n",
       "    </tr>\n",
       "    <tr>\n",
       "      <th>15129</th>\n",
       "      <td>19.066698</td>\n",
       "      <td>47.480376</td>\n",
       "      <td>Boráros tér H</td>\n",
       "      <td>7:25:00</td>\n",
       "      <td>25</td>\n",
       "    </tr>\n",
       "    <tr>\n",
       "      <th>15130</th>\n",
       "      <td>19.068848</td>\n",
       "      <td>47.482751</td>\n",
       "      <td>Mester utca / Ferenc körút</td>\n",
       "      <td>7:27:00</td>\n",
       "      <td>23</td>\n",
       "    </tr>\n",
       "    <tr>\n",
       "      <th>...</th>\n",
       "      <td>...</td>\n",
       "      <td>...</td>\n",
       "      <td>...</td>\n",
       "      <td>...</td>\n",
       "      <td>...</td>\n",
       "    </tr>\n",
       "    <tr>\n",
       "      <th>613364</th>\n",
       "      <td>19.058868</td>\n",
       "      <td>47.536294</td>\n",
       "      <td>Népfürdő utca / Árpád híd</td>\n",
       "      <td>8:22:00</td>\n",
       "      <td>-32</td>\n",
       "    </tr>\n",
       "    <tr>\n",
       "      <th>613365</th>\n",
       "      <td>19.045207</td>\n",
       "      <td>47.539593</td>\n",
       "      <td>Szentlélek tér H</td>\n",
       "      <td>8:24:00</td>\n",
       "      <td>-34</td>\n",
       "    </tr>\n",
       "    <tr>\n",
       "      <th>613366</th>\n",
       "      <td>19.039960</td>\n",
       "      <td>47.541517</td>\n",
       "      <td>Flórián tér</td>\n",
       "      <td>8:26:00</td>\n",
       "      <td>-36</td>\n",
       "    </tr>\n",
       "    <tr>\n",
       "      <th>613367</th>\n",
       "      <td>19.033456</td>\n",
       "      <td>47.545957</td>\n",
       "      <td>Óbudai rendelőintézet</td>\n",
       "      <td>8:27:00</td>\n",
       "      <td>-37</td>\n",
       "    </tr>\n",
       "    <tr>\n",
       "      <th>613368</th>\n",
       "      <td>19.029370</td>\n",
       "      <td>47.548766</td>\n",
       "      <td>Bécsi út / Vörösvári út</td>\n",
       "      <td>8:29:00</td>\n",
       "      <td>-39</td>\n",
       "    </tr>\n",
       "  </tbody>\n",
       "</table>\n",
       "<p>2259 rows × 5 columns</p>\n",
       "</div>"
      ],
      "text/plain": [
       "           x_coor     y_coor                          stop_name   get_on  \\\n",
       "15126   19.048349  47.477499           Móricz Zsigmond körtér M  7:20:00   \n",
       "15127   19.054107  47.475827  Budafoki út / Karinthy Frigyes út  7:22:00   \n",
       "15128   19.059586  47.476933            Petőfi híd, budai hídfő  7:23:00   \n",
       "15129   19.066698  47.480376                      Boráros tér H  7:25:00   \n",
       "15130   19.068848  47.482751         Mester utca / Ferenc körút  7:27:00   \n",
       "...           ...        ...                                ...      ...   \n",
       "613364  19.058868  47.536294          Népfürdő utca / Árpád híd  8:22:00   \n",
       "613365  19.045207  47.539593                   Szentlélek tér H  8:24:00   \n",
       "613366  19.039960  47.541517                        Flórián tér  8:26:00   \n",
       "613367  19.033456  47.545957              Óbudai rendelőintézet  8:27:00   \n",
       "613368  19.029370  47.548766            Bécsi út / Vörösvári út  8:29:00   \n",
       "\n",
       "        time_to_school  \n",
       "15126               30  \n",
       "15127               28  \n",
       "15128               27  \n",
       "15129               25  \n",
       "15130               23  \n",
       "...                ...  \n",
       "613364             -32  \n",
       "613365             -34  \n",
       "613366             -36  \n",
       "613367             -37  \n",
       "613368             -39  \n",
       "\n",
       "[2259 rows x 5 columns]"
      ]
     },
     "execution_count": 59,
     "metadata": {},
     "output_type": "execute_result"
    }
   ],
   "source": [
    "geometry_df"
   ]
  },
  {
   "cell_type": "code",
   "execution_count": 77,
   "metadata": {},
   "outputs": [
    {
     "data": {
      "application/vnd.plotly.v1+json": {
       "config": {
        "plotlyServerURL": "https://plot.ly"
       },
       "data": [
        {
         "coloraxis": "coloraxis",
         "customdata": [
          [
           19.048349,
           47.477499,
           30,
           "7:20:00"
          ],
          [
           19.054107,
           47.475827,
           28,
           "7:22:00"
          ],
          [
           19.059586,
           47.476933,
           27,
           "7:23:00"
          ],
          [
           19.066698,
           47.480376,
           25,
           "7:25:00"
          ],
          [
           19.068848,
           47.482751,
           23,
           "7:27:00"
          ],
          [
           19.069898,
           47.485476,
           22,
           "7:28:00"
          ],
          [
           19.070815,
           47.490332,
           20,
           "7:30:00"
          ],
          [
           19.071188,
           47.492851,
           19,
           "7:31:00"
          ],
          [
           19.070699,
           47.496781,
           17,
           "7:33:00"
          ],
          [
           19.068948,
           47.500325,
           16,
           "7:34:00"
          ],
          [
           19.06583,
           47.503249,
           15,
           "7:35:00"
          ],
          [
           19.062406,
           47.505939,
           13,
           "7:37:00"
          ],
          [
           19.056168,
           47.510274,
           11,
           "7:39:00"
          ],
          [
           19.048177,
           47.513099,
           9,
           "7:41:00"
          ],
          [
           19.042521,
           47.514717,
           7,
           "7:43:00"
          ],
          [
           19.038193,
           47.514618,
           6,
           "7:44:00"
          ],
          [
           19.031462,
           47.510778,
           4,
           "7:46:00"
          ],
          [
           19.026739,
           47.508114,
           2,
           "7:48:00"
          ],
          [
           19.024496,
           47.507358,
           0,
           "7:50:00"
          ],
          [
           19.048349,
           47.477499,
           14,
           "7:36:00"
          ],
          [
           19.054107,
           47.475827,
           12,
           "7:38:00"
          ],
          [
           19.059586,
           47.476933,
           11,
           "7:39:00"
          ],
          [
           19.066698,
           47.480376,
           9,
           "7:41:00"
          ],
          [
           19.068848,
           47.482751,
           7,
           "7:43:00"
          ],
          [
           19.069898,
           47.485476,
           6,
           "7:44:00"
          ],
          [
           19.070815,
           47.490332,
           4,
           "7:46:00"
          ],
          [
           19.071188,
           47.492851,
           3,
           "7:47:00"
          ],
          [
           19.070699,
           47.496781,
           1,
           "7:49:00"
          ],
          [
           19.068948,
           47.500325,
           0,
           "7:50:00"
          ],
          [
           19.046863,
           47.474045,
           36,
           "7:14:00"
          ],
          [
           19.053736,
           47.474091,
           34,
           "7:16:00"
          ],
          [
           19.059586,
           47.476933,
           33,
           "7:17:00"
          ],
          [
           19.066698,
           47.480376,
           31,
           "7:19:00"
          ],
          [
           19.068848,
           47.482751,
           29,
           "7:21:00"
          ],
          [
           19.069898,
           47.485476,
           28,
           "7:22:00"
          ],
          [
           19.070815,
           47.490332,
           26,
           "7:24:00"
          ],
          [
           19.071188,
           47.492851,
           25,
           "7:25:00"
          ],
          [
           19.070699,
           47.496781,
           23,
           "7:27:00"
          ],
          [
           19.068948,
           47.500325,
           22,
           "7:28:00"
          ],
          [
           19.06583,
           47.503249,
           21,
           "7:29:00"
          ],
          [
           19.062406,
           47.505939,
           19,
           "7:31:00"
          ],
          [
           19.056168,
           47.510274,
           17,
           "7:33:00"
          ],
          [
           19.048177,
           47.513099,
           15,
           "7:35:00"
          ],
          [
           19.042521,
           47.514717,
           13,
           "7:37:00"
          ],
          [
           19.038193,
           47.514618,
           12,
           "7:38:00"
          ],
          [
           19.031462,
           47.510778,
           10,
           "7:40:00"
          ],
          [
           19.026739,
           47.508114,
           8,
           "7:42:00"
          ],
          [
           19.024496,
           47.507358,
           6,
           "7:44:00"
          ],
          [
           19.048349,
           47.477499,
           34,
           "7:16:00"
          ],
          [
           19.054107,
           47.475827,
           32,
           "7:18:00"
          ],
          [
           19.059586,
           47.476933,
           31,
           "7:19:00"
          ],
          [
           19.066698,
           47.480376,
           29,
           "7:21:00"
          ],
          [
           19.068848,
           47.482751,
           27,
           "7:23:00"
          ],
          [
           19.069898,
           47.485476,
           26,
           "7:24:00"
          ],
          [
           19.070815,
           47.490332,
           24,
           "7:26:00"
          ],
          [
           19.071188,
           47.492851,
           23,
           "7:27:00"
          ],
          [
           19.070699,
           47.496781,
           21,
           "7:29:00"
          ],
          [
           19.068948,
           47.500325,
           20,
           "7:30:00"
          ],
          [
           19.06583,
           47.503249,
           19,
           "7:31:00"
          ],
          [
           19.062406,
           47.505939,
           17,
           "7:33:00"
          ],
          [
           19.056168,
           47.510274,
           15,
           "7:35:00"
          ],
          [
           19.048177,
           47.513099,
           13,
           "7:37:00"
          ],
          [
           19.042521,
           47.514717,
           11,
           "7:39:00"
          ],
          [
           19.038193,
           47.514618,
           10,
           "7:40:00"
          ],
          [
           19.031462,
           47.510778,
           8,
           "7:42:00"
          ],
          [
           19.026739,
           47.508114,
           6,
           "7:44:00"
          ],
          [
           19.024496,
           47.507358,
           4,
           "7:46:00"
          ],
          [
           19.046863,
           47.474045,
           32,
           "7:18:00"
          ],
          [
           19.053736,
           47.474091,
           30,
           "7:20:00"
          ],
          [
           19.059586,
           47.476933,
           29,
           "7:21:00"
          ],
          [
           19.066698,
           47.480376,
           27,
           "7:23:00"
          ],
          [
           19.068848,
           47.482751,
           25,
           "7:25:00"
          ],
          [
           19.069898,
           47.485476,
           24,
           "7:26:00"
          ],
          [
           19.070815,
           47.490332,
           22,
           "7:28:00"
          ],
          [
           19.071188,
           47.492851,
           21,
           "7:29:00"
          ],
          [
           19.070699,
           47.496781,
           19,
           "7:31:00"
          ],
          [
           19.068948,
           47.500325,
           18,
           "7:32:00"
          ],
          [
           19.06583,
           47.503249,
           17,
           "7:33:00"
          ],
          [
           19.062406,
           47.505939,
           15,
           "7:35:00"
          ],
          [
           19.056168,
           47.510274,
           13,
           "7:37:00"
          ],
          [
           19.048177,
           47.513099,
           11,
           "7:39:00"
          ],
          [
           19.042521,
           47.514717,
           9,
           "7:41:00"
          ],
          [
           19.038193,
           47.514618,
           8,
           "7:42:00"
          ],
          [
           19.031462,
           47.510778,
           6,
           "7:44:00"
          ],
          [
           19.026739,
           47.508114,
           4,
           "7:46:00"
          ],
          [
           19.024496,
           47.507358,
           2,
           "7:48:00"
          ],
          [
           19.046863,
           47.474045,
           28,
           "7:22:00"
          ],
          [
           19.053736,
           47.474091,
           26,
           "7:24:00"
          ],
          [
           19.059586,
           47.476933,
           25,
           "7:25:00"
          ],
          [
           19.066698,
           47.480376,
           23,
           "7:27:00"
          ],
          [
           19.068848,
           47.482751,
           21,
           "7:29:00"
          ],
          [
           19.069898,
           47.485476,
           20,
           "7:30:00"
          ],
          [
           19.070815,
           47.490332,
           18,
           "7:32:00"
          ],
          [
           19.071188,
           47.492851,
           17,
           "7:33:00"
          ],
          [
           19.070699,
           47.496781,
           15,
           "7:35:00"
          ],
          [
           19.068948,
           47.500325,
           14,
           "7:36:00"
          ],
          [
           19.06583,
           47.503249,
           13,
           "7:37:00"
          ],
          [
           19.062406,
           47.505939,
           11,
           "7:39:00"
          ],
          [
           19.056168,
           47.510274,
           9,
           "7:41:00"
          ],
          [
           19.048177,
           47.513099,
           7,
           "7:43:00"
          ],
          [
           19.042521,
           47.514717,
           5,
           "7:45:00"
          ],
          [
           19.038193,
           47.514618,
           4,
           "7:46:00"
          ],
          [
           19.031462,
           47.510778,
           2,
           "7:48:00"
          ],
          [
           19.026739,
           47.508114,
           0,
           "7:50:00"
          ],
          [
           19.048349,
           47.477499,
           26,
           "7:24:00"
          ],
          [
           19.054107,
           47.475827,
           24,
           "7:26:00"
          ],
          [
           19.059586,
           47.476933,
           23,
           "7:27:00"
          ],
          [
           19.066698,
           47.480376,
           21,
           "7:29:00"
          ],
          [
           19.068848,
           47.482751,
           19,
           "7:31:00"
          ],
          [
           19.069898,
           47.485476,
           18,
           "7:32:00"
          ],
          [
           19.070815,
           47.490332,
           16,
           "7:34:00"
          ],
          [
           19.071188,
           47.492851,
           15,
           "7:35:00"
          ],
          [
           19.070699,
           47.496781,
           13,
           "7:37:00"
          ],
          [
           19.068948,
           47.500325,
           12,
           "7:38:00"
          ],
          [
           19.06583,
           47.503249,
           11,
           "7:39:00"
          ],
          [
           19.062406,
           47.505939,
           9,
           "7:41:00"
          ],
          [
           19.056168,
           47.510274,
           7,
           "7:43:00"
          ],
          [
           19.048177,
           47.513099,
           5,
           "7:45:00"
          ],
          [
           19.042521,
           47.514717,
           3,
           "7:47:00"
          ],
          [
           19.038193,
           47.514618,
           2,
           "7:48:00"
          ],
          [
           19.031462,
           47.510778,
           0,
           "7:50:00"
          ],
          [
           19.025186,
           47.507232,
           61,
           "6:49:00"
          ],
          [
           19.027323,
           47.508483,
           60,
           "6:50:00"
          ],
          [
           19.032114,
           47.510939,
           59,
           "6:51:00"
          ],
          [
           19.038897,
           47.514546,
           56,
           "6:54:00"
          ],
          [
           19.044327,
           47.514439,
           55,
           "6:55:00"
          ],
          [
           19.048841,
           47.512847,
           53,
           "6:57:00"
          ],
          [
           19.056659,
           47.509896,
           51,
           "6:59:00"
          ],
          [
           19.062871,
           47.505561,
           49,
           "7:01:00"
          ],
          [
           19.066202,
           47.502781,
           48,
           "7:02:00"
          ],
          [
           19.06916,
           47.49983,
           47,
           "7:03:00"
          ],
          [
           19.070672,
           47.496224,
           45,
           "7:05:00"
          ],
          [
           19.071016,
           47.492383,
           44,
           "7:06:00"
          ],
          [
           19.070589,
           47.489559,
           42,
           "7:08:00"
          ],
          [
           19.070057,
           47.486186,
           40,
           "7:10:00"
          ],
          [
           19.068463,
           47.482184,
           39,
           "7:11:00"
          ],
          [
           19.066075,
           47.480125,
           38,
           "7:12:00"
          ],
          [
           19.058963,
           47.476672,
           36,
           "7:14:00"
          ],
          [
           19.052807,
           47.473677,
           34,
           "7:16:00"
          ],
          [
           19.046863,
           47.474045,
           32,
           "7:18:00"
          ],
          [
           19.046863,
           47.474045,
           24,
           "7:26:00"
          ],
          [
           19.053736,
           47.474091,
           22,
           "7:28:00"
          ],
          [
           19.059586,
           47.476933,
           21,
           "7:29:00"
          ],
          [
           19.066698,
           47.480376,
           19,
           "7:31:00"
          ],
          [
           19.068848,
           47.482751,
           17,
           "7:33:00"
          ],
          [
           19.069898,
           47.485476,
           16,
           "7:34:00"
          ],
          [
           19.070815,
           47.490332,
           14,
           "7:36:00"
          ],
          [
           19.071188,
           47.492851,
           13,
           "7:37:00"
          ],
          [
           19.070699,
           47.496781,
           11,
           "7:39:00"
          ],
          [
           19.068948,
           47.500325,
           10,
           "7:40:00"
          ],
          [
           19.06583,
           47.503249,
           9,
           "7:41:00"
          ],
          [
           19.062406,
           47.505939,
           7,
           "7:43:00"
          ],
          [
           19.056168,
           47.510274,
           5,
           "7:45:00"
          ],
          [
           19.048177,
           47.513099,
           3,
           "7:47:00"
          ],
          [
           19.042521,
           47.514717,
           1,
           "7:49:00"
          ],
          [
           19.038193,
           47.514618,
           0,
           "7:50:00"
          ],
          [
           19.025186,
           47.507232,
           58,
           "6:52:00"
          ],
          [
           19.027323,
           47.508483,
           57,
           "6:53:00"
          ],
          [
           19.032114,
           47.510939,
           56,
           "6:54:00"
          ],
          [
           19.038897,
           47.514546,
           53,
           "6:57:00"
          ],
          [
           19.044327,
           47.514439,
           52,
           "6:58:00"
          ],
          [
           19.048841,
           47.512847,
           50,
           "7:00:00"
          ],
          [
           19.056659,
           47.509896,
           48,
           "7:02:00"
          ],
          [
           19.062871,
           47.505561,
           46,
           "7:04:00"
          ],
          [
           19.066202,
           47.502781,
           45,
           "7:05:00"
          ],
          [
           19.06916,
           47.49983,
           44,
           "7:06:00"
          ],
          [
           19.070672,
           47.496224,
           42,
           "7:08:00"
          ],
          [
           19.071016,
           47.492383,
           41,
           "7:09:00"
          ],
          [
           19.070589,
           47.489559,
           39,
           "7:11:00"
          ],
          [
           19.070057,
           47.486186,
           37,
           "7:13:00"
          ],
          [
           19.068463,
           47.482184,
           36,
           "7:14:00"
          ],
          [
           19.066075,
           47.480125,
           35,
           "7:15:00"
          ],
          [
           19.058963,
           47.476672,
           33,
           "7:17:00"
          ],
          [
           19.053457,
           47.476025,
           31,
           "7:19:00"
          ],
          [
           19.048349,
           47.477499,
           29,
           "7:21:00"
          ],
          [
           19.048349,
           47.477499,
           22,
           "7:28:00"
          ],
          [
           19.054107,
           47.475827,
           20,
           "7:30:00"
          ],
          [
           19.059586,
           47.476933,
           19,
           "7:31:00"
          ],
          [
           19.066698,
           47.480376,
           17,
           "7:33:00"
          ],
          [
           19.068848,
           47.482751,
           15,
           "7:35:00"
          ],
          [
           19.069898,
           47.485476,
           14,
           "7:36:00"
          ],
          [
           19.070815,
           47.490332,
           12,
           "7:38:00"
          ],
          [
           19.071188,
           47.492851,
           11,
           "7:39:00"
          ],
          [
           19.070699,
           47.496781,
           9,
           "7:41:00"
          ],
          [
           19.068948,
           47.500325,
           8,
           "7:42:00"
          ],
          [
           19.06583,
           47.503249,
           7,
           "7:43:00"
          ],
          [
           19.062406,
           47.505939,
           5,
           "7:45:00"
          ],
          [
           19.056168,
           47.510274,
           3,
           "7:47:00"
          ],
          [
           19.048177,
           47.513099,
           1,
           "7:49:00"
          ],
          [
           19.025186,
           47.507232,
           56,
           "6:54:00"
          ],
          [
           19.027323,
           47.508483,
           55,
           "6:55:00"
          ],
          [
           19.032114,
           47.510939,
           54,
           "6:56:00"
          ],
          [
           19.038897,
           47.514546,
           51,
           "6:59:00"
          ],
          [
           19.044327,
           47.514439,
           50,
           "7:00:00"
          ],
          [
           19.048841,
           47.512847,
           48,
           "7:02:00"
          ],
          [
           19.056659,
           47.509896,
           46,
           "7:04:00"
          ],
          [
           19.062871,
           47.505561,
           44,
           "7:06:00"
          ],
          [
           19.066202,
           47.502781,
           43,
           "7:07:00"
          ],
          [
           19.06916,
           47.49983,
           42,
           "7:08:00"
          ],
          [
           19.070672,
           47.496224,
           40,
           "7:10:00"
          ],
          [
           19.071016,
           47.492383,
           39,
           "7:11:00"
          ],
          [
           19.070589,
           47.489559,
           37,
           "7:13:00"
          ],
          [
           19.070057,
           47.486186,
           35,
           "7:15:00"
          ],
          [
           19.068463,
           47.482184,
           34,
           "7:16:00"
          ],
          [
           19.066075,
           47.480125,
           33,
           "7:17:00"
          ],
          [
           19.058963,
           47.476672,
           31,
           "7:19:00"
          ],
          [
           19.052807,
           47.473677,
           29,
           "7:21:00"
          ],
          [
           19.046863,
           47.474045,
           27,
           "7:23:00"
          ],
          [
           19.046863,
           47.474045,
           20,
           "7:30:00"
          ],
          [
           19.053736,
           47.474091,
           18,
           "7:32:00"
          ],
          [
           19.059586,
           47.476933,
           17,
           "7:33:00"
          ],
          [
           19.066698,
           47.480376,
           15,
           "7:35:00"
          ],
          [
           19.068848,
           47.482751,
           13,
           "7:37:00"
          ],
          [
           19.069898,
           47.485476,
           12,
           "7:38:00"
          ],
          [
           19.070815,
           47.490332,
           10,
           "7:40:00"
          ],
          [
           19.071188,
           47.492851,
           9,
           "7:41:00"
          ],
          [
           19.070699,
           47.496781,
           7,
           "7:43:00"
          ],
          [
           19.068948,
           47.500325,
           6,
           "7:44:00"
          ],
          [
           19.06583,
           47.503249,
           5,
           "7:45:00"
          ],
          [
           19.062406,
           47.505939,
           3,
           "7:47:00"
          ],
          [
           19.056168,
           47.510274,
           1,
           "7:49:00"
          ],
          [
           19.025186,
           47.507232,
           53,
           "6:57:00"
          ],
          [
           19.027323,
           47.508483,
           52,
           "6:58:00"
          ],
          [
           19.032114,
           47.510939,
           51,
           "6:59:00"
          ],
          [
           19.038897,
           47.514546,
           48,
           "7:02:00"
          ],
          [
           19.044327,
           47.514439,
           47,
           "7:03:00"
          ],
          [
           19.048841,
           47.512847,
           45,
           "7:05:00"
          ],
          [
           19.056659,
           47.509896,
           43,
           "7:07:00"
          ],
          [
           19.062871,
           47.505561,
           41,
           "7:09:00"
          ],
          [
           19.066202,
           47.502781,
           40,
           "7:10:00"
          ],
          [
           19.06916,
           47.49983,
           39,
           "7:11:00"
          ],
          [
           19.070672,
           47.496224,
           37,
           "7:13:00"
          ],
          [
           19.071016,
           47.492383,
           36,
           "7:14:00"
          ],
          [
           19.070589,
           47.489559,
           34,
           "7:16:00"
          ],
          [
           19.070057,
           47.486186,
           32,
           "7:18:00"
          ],
          [
           19.068463,
           47.482184,
           31,
           "7:19:00"
          ],
          [
           19.066075,
           47.480125,
           30,
           "7:20:00"
          ],
          [
           19.058963,
           47.476672,
           28,
           "7:22:00"
          ],
          [
           19.053457,
           47.476025,
           26,
           "7:24:00"
          ],
          [
           19.048349,
           47.477499,
           24,
           "7:26:00"
          ],
          [
           19.048349,
           47.477499,
           18,
           "7:32:00"
          ],
          [
           19.054107,
           47.475827,
           16,
           "7:34:00"
          ],
          [
           19.059586,
           47.476933,
           15,
           "7:35:00"
          ],
          [
           19.066698,
           47.480376,
           13,
           "7:37:00"
          ],
          [
           19.068848,
           47.482751,
           11,
           "7:39:00"
          ],
          [
           19.069898,
           47.485476,
           10,
           "7:40:00"
          ],
          [
           19.070815,
           47.490332,
           8,
           "7:42:00"
          ],
          [
           19.071188,
           47.492851,
           7,
           "7:43:00"
          ],
          [
           19.070699,
           47.496781,
           5,
           "7:45:00"
          ],
          [
           19.068948,
           47.500325,
           4,
           "7:46:00"
          ],
          [
           19.06583,
           47.503249,
           3,
           "7:47:00"
          ],
          [
           19.062406,
           47.505939,
           1,
           "7:49:00"
          ],
          [
           19.046863,
           47.474045,
           16,
           "7:34:00"
          ],
          [
           19.053736,
           47.474091,
           14,
           "7:36:00"
          ],
          [
           19.059586,
           47.476933,
           13,
           "7:37:00"
          ],
          [
           19.066698,
           47.480376,
           11,
           "7:39:00"
          ],
          [
           19.068848,
           47.482751,
           9,
           "7:41:00"
          ],
          [
           19.069898,
           47.485476,
           8,
           "7:42:00"
          ],
          [
           19.070815,
           47.490332,
           6,
           "7:44:00"
          ],
          [
           19.071188,
           47.492851,
           5,
           "7:45:00"
          ],
          [
           19.070699,
           47.496781,
           3,
           "7:47:00"
          ],
          [
           19.068948,
           47.500325,
           2,
           "7:48:00"
          ],
          [
           19.06583,
           47.503249,
           1,
           "7:49:00"
          ],
          [
           19.025186,
           47.507232,
           51,
           "6:59:00"
          ],
          [
           19.027323,
           47.508483,
           50,
           "7:00:00"
          ],
          [
           19.032114,
           47.510939,
           49,
           "7:01:00"
          ],
          [
           19.038897,
           47.514546,
           46,
           "7:04:00"
          ],
          [
           19.044327,
           47.514439,
           45,
           "7:05:00"
          ],
          [
           19.048841,
           47.512847,
           43,
           "7:07:00"
          ],
          [
           19.056659,
           47.509896,
           41,
           "7:09:00"
          ],
          [
           19.062871,
           47.505561,
           39,
           "7:11:00"
          ],
          [
           19.066202,
           47.502781,
           38,
           "7:12:00"
          ],
          [
           19.06916,
           47.49983,
           37,
           "7:13:00"
          ],
          [
           19.070672,
           47.496224,
           35,
           "7:15:00"
          ],
          [
           19.071016,
           47.492383,
           34,
           "7:16:00"
          ],
          [
           19.070589,
           47.489559,
           32,
           "7:18:00"
          ],
          [
           19.070057,
           47.486186,
           30,
           "7:20:00"
          ],
          [
           19.068463,
           47.482184,
           29,
           "7:21:00"
          ],
          [
           19.066075,
           47.480125,
           28,
           "7:22:00"
          ],
          [
           19.058963,
           47.476672,
           26,
           "7:24:00"
          ],
          [
           19.052807,
           47.473677,
           24,
           "7:26:00"
          ],
          [
           19.046863,
           47.474045,
           22,
           "7:28:00"
          ],
          [
           19.046863,
           47.474045,
           12,
           "7:38:00"
          ],
          [
           19.053736,
           47.474091,
           10,
           "7:40:00"
          ],
          [
           19.059586,
           47.476933,
           9,
           "7:41:00"
          ],
          [
           19.066698,
           47.480376,
           7,
           "7:43:00"
          ],
          [
           19.068848,
           47.482751,
           5,
           "7:45:00"
          ],
          [
           19.069898,
           47.485476,
           4,
           "7:46:00"
          ],
          [
           19.070815,
           47.490332,
           2,
           "7:48:00"
          ],
          [
           19.071188,
           47.492851,
           1,
           "7:49:00"
          ],
          [
           19.025186,
           47.507232,
           48,
           "7:02:00"
          ],
          [
           19.027323,
           47.508483,
           47,
           "7:03:00"
          ],
          [
           19.032114,
           47.510939,
           46,
           "7:04:00"
          ],
          [
           19.038897,
           47.514546,
           43,
           "7:07:00"
          ],
          [
           19.044327,
           47.514439,
           42,
           "7:08:00"
          ],
          [
           19.048841,
           47.512847,
           40,
           "7:10:00"
          ],
          [
           19.056659,
           47.509896,
           38,
           "7:12:00"
          ],
          [
           19.062871,
           47.505561,
           36,
           "7:14:00"
          ],
          [
           19.066202,
           47.502781,
           35,
           "7:15:00"
          ],
          [
           19.06916,
           47.49983,
           34,
           "7:16:00"
          ],
          [
           19.070672,
           47.496224,
           32,
           "7:18:00"
          ],
          [
           19.071016,
           47.492383,
           31,
           "7:19:00"
          ],
          [
           19.070589,
           47.489559,
           29,
           "7:21:00"
          ],
          [
           19.070057,
           47.486186,
           27,
           "7:23:00"
          ],
          [
           19.068463,
           47.482184,
           26,
           "7:24:00"
          ],
          [
           19.066075,
           47.480125,
           25,
           "7:25:00"
          ],
          [
           19.058963,
           47.476672,
           23,
           "7:27:00"
          ],
          [
           19.053457,
           47.476025,
           21,
           "7:29:00"
          ],
          [
           19.048349,
           47.477499,
           19,
           "7:31:00"
          ],
          [
           19.048349,
           47.477499,
           10,
           "7:40:00"
          ],
          [
           19.054107,
           47.475827,
           8,
           "7:42:00"
          ],
          [
           19.059586,
           47.476933,
           7,
           "7:43:00"
          ],
          [
           19.066698,
           47.480376,
           5,
           "7:45:00"
          ],
          [
           19.068848,
           47.482751,
           3,
           "7:47:00"
          ],
          [
           19.069898,
           47.485476,
           2,
           "7:48:00"
          ],
          [
           19.070815,
           47.490332,
           0,
           "7:50:00"
          ],
          [
           19.025186,
           47.507232,
           46,
           "7:04:00"
          ],
          [
           19.027323,
           47.508483,
           45,
           "7:05:00"
          ],
          [
           19.032114,
           47.510939,
           44,
           "7:06:00"
          ],
          [
           19.038897,
           47.514546,
           41,
           "7:09:00"
          ],
          [
           19.044327,
           47.514439,
           40,
           "7:10:00"
          ],
          [
           19.048841,
           47.512847,
           38,
           "7:12:00"
          ],
          [
           19.056659,
           47.509896,
           36,
           "7:14:00"
          ],
          [
           19.062871,
           47.505561,
           34,
           "7:16:00"
          ],
          [
           19.066202,
           47.502781,
           33,
           "7:17:00"
          ],
          [
           19.06916,
           47.49983,
           32,
           "7:18:00"
          ],
          [
           19.070672,
           47.496224,
           30,
           "7:20:00"
          ],
          [
           19.071016,
           47.492383,
           29,
           "7:21:00"
          ],
          [
           19.070589,
           47.489559,
           27,
           "7:23:00"
          ],
          [
           19.070057,
           47.486186,
           25,
           "7:25:00"
          ],
          [
           19.068463,
           47.482184,
           24,
           "7:26:00"
          ],
          [
           19.066075,
           47.480125,
           23,
           "7:27:00"
          ],
          [
           19.058963,
           47.476672,
           21,
           "7:29:00"
          ],
          [
           19.052807,
           47.473677,
           19,
           "7:31:00"
          ],
          [
           19.046863,
           47.474045,
           17,
           "7:33:00"
          ],
          [
           19.046863,
           47.474045,
           8,
           "7:42:00"
          ],
          [
           19.053736,
           47.474091,
           6,
           "7:44:00"
          ],
          [
           19.059586,
           47.476933,
           5,
           "7:45:00"
          ],
          [
           19.066698,
           47.480376,
           3,
           "7:47:00"
          ],
          [
           19.068848,
           47.482751,
           1,
           "7:49:00"
          ],
          [
           19.069898,
           47.485476,
           0,
           "7:50:00"
          ],
          [
           19.025186,
           47.507232,
           43,
           "7:07:00"
          ],
          [
           19.027323,
           47.508483,
           42,
           "7:08:00"
          ],
          [
           19.032114,
           47.510939,
           41,
           "7:09:00"
          ],
          [
           19.038897,
           47.514546,
           38,
           "7:12:00"
          ],
          [
           19.044327,
           47.514439,
           37,
           "7:13:00"
          ],
          [
           19.048841,
           47.512847,
           35,
           "7:15:00"
          ],
          [
           19.056659,
           47.509896,
           33,
           "7:17:00"
          ],
          [
           19.062871,
           47.505561,
           31,
           "7:19:00"
          ],
          [
           19.066202,
           47.502781,
           30,
           "7:20:00"
          ],
          [
           19.06916,
           47.49983,
           29,
           "7:21:00"
          ],
          [
           19.070672,
           47.496224,
           27,
           "7:23:00"
          ],
          [
           19.071016,
           47.492383,
           26,
           "7:24:00"
          ],
          [
           19.070589,
           47.489559,
           24,
           "7:26:00"
          ],
          [
           19.070057,
           47.486186,
           22,
           "7:28:00"
          ],
          [
           19.068463,
           47.482184,
           21,
           "7:29:00"
          ],
          [
           19.066075,
           47.480125,
           20,
           "7:30:00"
          ],
          [
           19.058963,
           47.476672,
           18,
           "7:32:00"
          ],
          [
           19.053457,
           47.476025,
           16,
           "7:34:00"
          ],
          [
           19.048349,
           47.477499,
           14,
           "7:36:00"
          ],
          [
           19.048349,
           47.477499,
           6,
           "7:44:00"
          ],
          [
           19.054107,
           47.475827,
           4,
           "7:46:00"
          ],
          [
           19.059586,
           47.476933,
           3,
           "7:47:00"
          ],
          [
           19.066698,
           47.480376,
           1,
           "7:49:00"
          ],
          [
           19.025186,
           47.507232,
           41,
           "7:09:00"
          ],
          [
           19.027323,
           47.508483,
           40,
           "7:10:00"
          ],
          [
           19.032114,
           47.510939,
           39,
           "7:11:00"
          ],
          [
           19.038897,
           47.514546,
           36,
           "7:14:00"
          ],
          [
           19.044327,
           47.514439,
           35,
           "7:15:00"
          ],
          [
           19.048841,
           47.512847,
           33,
           "7:17:00"
          ],
          [
           19.056659,
           47.509896,
           31,
           "7:19:00"
          ],
          [
           19.062871,
           47.505561,
           29,
           "7:21:00"
          ],
          [
           19.066202,
           47.502781,
           28,
           "7:22:00"
          ],
          [
           19.06916,
           47.49983,
           27,
           "7:23:00"
          ],
          [
           19.070672,
           47.496224,
           25,
           "7:25:00"
          ],
          [
           19.071016,
           47.492383,
           24,
           "7:26:00"
          ],
          [
           19.070589,
           47.489559,
           22,
           "7:28:00"
          ],
          [
           19.070057,
           47.486186,
           20,
           "7:30:00"
          ],
          [
           19.068463,
           47.482184,
           19,
           "7:31:00"
          ],
          [
           19.066075,
           47.480125,
           18,
           "7:32:00"
          ],
          [
           19.058963,
           47.476672,
           16,
           "7:34:00"
          ],
          [
           19.052807,
           47.473677,
           14,
           "7:36:00"
          ],
          [
           19.046863,
           47.474045,
           12,
           "7:38:00"
          ],
          [
           19.046863,
           47.474045,
           4,
           "7:46:00"
          ],
          [
           19.053736,
           47.474091,
           2,
           "7:48:00"
          ],
          [
           19.059586,
           47.476933,
           1,
           "7:49:00"
          ],
          [
           19.025186,
           47.507232,
           39,
           "7:11:00"
          ],
          [
           19.027323,
           47.508483,
           38,
           "7:12:00"
          ],
          [
           19.032114,
           47.510939,
           37,
           "7:13:00"
          ],
          [
           19.038897,
           47.514546,
           34,
           "7:16:00"
          ],
          [
           19.044327,
           47.514439,
           33,
           "7:17:00"
          ],
          [
           19.048841,
           47.512847,
           31,
           "7:19:00"
          ],
          [
           19.056659,
           47.509896,
           29,
           "7:21:00"
          ],
          [
           19.062871,
           47.505561,
           27,
           "7:23:00"
          ],
          [
           19.066202,
           47.502781,
           26,
           "7:24:00"
          ],
          [
           19.06916,
           47.49983,
           25,
           "7:25:00"
          ],
          [
           19.070672,
           47.496224,
           23,
           "7:27:00"
          ],
          [
           19.071016,
           47.492383,
           22,
           "7:28:00"
          ],
          [
           19.070589,
           47.489559,
           20,
           "7:30:00"
          ],
          [
           19.070057,
           47.486186,
           18,
           "7:32:00"
          ],
          [
           19.068463,
           47.482184,
           17,
           "7:33:00"
          ],
          [
           19.066075,
           47.480125,
           16,
           "7:34:00"
          ],
          [
           19.058963,
           47.476672,
           14,
           "7:36:00"
          ],
          [
           19.053457,
           47.476025,
           12,
           "7:38:00"
          ],
          [
           19.048349,
           47.477499,
           10,
           "7:40:00"
          ],
          [
           19.025186,
           47.507232,
           37,
           "7:13:00"
          ],
          [
           19.027323,
           47.508483,
           36,
           "7:14:00"
          ],
          [
           19.032114,
           47.510939,
           35,
           "7:15:00"
          ],
          [
           19.038897,
           47.514546,
           32,
           "7:18:00"
          ],
          [
           19.044327,
           47.514439,
           31,
           "7:19:00"
          ],
          [
           19.048841,
           47.512847,
           29,
           "7:21:00"
          ],
          [
           19.056659,
           47.509896,
           27,
           "7:23:00"
          ],
          [
           19.062871,
           47.505561,
           25,
           "7:25:00"
          ],
          [
           19.066202,
           47.502781,
           24,
           "7:26:00"
          ],
          [
           19.06916,
           47.49983,
           23,
           "7:27:00"
          ],
          [
           19.070672,
           47.496224,
           21,
           "7:29:00"
          ],
          [
           19.071016,
           47.492383,
           20,
           "7:30:00"
          ],
          [
           19.070589,
           47.489559,
           18,
           "7:32:00"
          ],
          [
           19.070057,
           47.486186,
           16,
           "7:34:00"
          ],
          [
           19.068463,
           47.482184,
           15,
           "7:35:00"
          ],
          [
           19.066075,
           47.480125,
           14,
           "7:36:00"
          ],
          [
           19.058963,
           47.476672,
           12,
           "7:38:00"
          ],
          [
           19.052807,
           47.473677,
           10,
           "7:40:00"
          ],
          [
           19.046863,
           47.474045,
           8,
           "7:42:00"
          ],
          [
           19.025186,
           47.507232,
           35,
           "7:15:00"
          ],
          [
           19.027323,
           47.508483,
           34,
           "7:16:00"
          ],
          [
           19.032114,
           47.510939,
           33,
           "7:17:00"
          ],
          [
           19.038897,
           47.514546,
           30,
           "7:20:00"
          ],
          [
           19.044327,
           47.514439,
           29,
           "7:21:00"
          ],
          [
           19.048841,
           47.512847,
           27,
           "7:23:00"
          ],
          [
           19.056659,
           47.509896,
           25,
           "7:25:00"
          ],
          [
           19.062871,
           47.505561,
           23,
           "7:27:00"
          ],
          [
           19.066202,
           47.502781,
           22,
           "7:28:00"
          ],
          [
           19.06916,
           47.49983,
           21,
           "7:29:00"
          ],
          [
           19.070672,
           47.496224,
           19,
           "7:31:00"
          ],
          [
           19.071016,
           47.492383,
           18,
           "7:32:00"
          ],
          [
           19.070589,
           47.489559,
           16,
           "7:34:00"
          ],
          [
           19.070057,
           47.486186,
           14,
           "7:36:00"
          ],
          [
           19.068463,
           47.482184,
           13,
           "7:37:00"
          ],
          [
           19.066075,
           47.480125,
           12,
           "7:38:00"
          ],
          [
           19.058963,
           47.476672,
           10,
           "7:40:00"
          ],
          [
           19.053457,
           47.476025,
           8,
           "7:42:00"
          ],
          [
           19.048349,
           47.477499,
           6,
           "7:44:00"
          ],
          [
           19.025186,
           47.507232,
           33,
           "7:17:00"
          ],
          [
           19.027323,
           47.508483,
           32,
           "7:18:00"
          ],
          [
           19.032114,
           47.510939,
           31,
           "7:19:00"
          ],
          [
           19.038897,
           47.514546,
           28,
           "7:22:00"
          ],
          [
           19.044327,
           47.514439,
           27,
           "7:23:00"
          ],
          [
           19.048841,
           47.512847,
           25,
           "7:25:00"
          ],
          [
           19.056659,
           47.509896,
           23,
           "7:27:00"
          ],
          [
           19.062871,
           47.505561,
           21,
           "7:29:00"
          ],
          [
           19.066202,
           47.502781,
           20,
           "7:30:00"
          ],
          [
           19.06916,
           47.49983,
           19,
           "7:31:00"
          ],
          [
           19.070672,
           47.496224,
           17,
           "7:33:00"
          ],
          [
           19.071016,
           47.492383,
           16,
           "7:34:00"
          ],
          [
           19.070589,
           47.489559,
           14,
           "7:36:00"
          ],
          [
           19.070057,
           47.486186,
           12,
           "7:38:00"
          ],
          [
           19.068463,
           47.482184,
           11,
           "7:39:00"
          ],
          [
           19.066075,
           47.480125,
           10,
           "7:40:00"
          ],
          [
           19.058963,
           47.476672,
           8,
           "7:42:00"
          ],
          [
           19.052807,
           47.473677,
           6,
           "7:44:00"
          ],
          [
           19.046863,
           47.474045,
           4,
           "7:46:00"
          ],
          [
           19.025186,
           47.507232,
           31,
           "7:19:00"
          ],
          [
           19.027323,
           47.508483,
           30,
           "7:20:00"
          ],
          [
           19.032114,
           47.510939,
           29,
           "7:21:00"
          ],
          [
           19.038897,
           47.514546,
           26,
           "7:24:00"
          ],
          [
           19.044327,
           47.514439,
           25,
           "7:25:00"
          ],
          [
           19.048841,
           47.512847,
           23,
           "7:27:00"
          ],
          [
           19.056659,
           47.509896,
           21,
           "7:29:00"
          ],
          [
           19.062871,
           47.505561,
           19,
           "7:31:00"
          ],
          [
           19.066202,
           47.502781,
           18,
           "7:32:00"
          ],
          [
           19.06916,
           47.49983,
           17,
           "7:33:00"
          ],
          [
           19.070672,
           47.496224,
           15,
           "7:35:00"
          ],
          [
           19.071016,
           47.492383,
           14,
           "7:36:00"
          ],
          [
           19.070589,
           47.489559,
           12,
           "7:38:00"
          ],
          [
           19.070057,
           47.486186,
           10,
           "7:40:00"
          ],
          [
           19.068463,
           47.482184,
           9,
           "7:41:00"
          ],
          [
           19.066075,
           47.480125,
           8,
           "7:42:00"
          ],
          [
           19.058963,
           47.476672,
           6,
           "7:44:00"
          ],
          [
           19.053457,
           47.476025,
           4,
           "7:46:00"
          ],
          [
           19.048349,
           47.477499,
           2,
           "7:48:00"
          ],
          [
           19.025186,
           47.507232,
           29,
           "7:21:00"
          ],
          [
           19.027323,
           47.508483,
           28,
           "7:22:00"
          ],
          [
           19.032114,
           47.510939,
           27,
           "7:23:00"
          ],
          [
           19.038897,
           47.514546,
           24,
           "7:26:00"
          ],
          [
           19.044327,
           47.514439,
           23,
           "7:27:00"
          ],
          [
           19.048841,
           47.512847,
           21,
           "7:29:00"
          ],
          [
           19.056659,
           47.509896,
           19,
           "7:31:00"
          ],
          [
           19.062871,
           47.505561,
           17,
           "7:33:00"
          ],
          [
           19.066202,
           47.502781,
           16,
           "7:34:00"
          ],
          [
           19.06916,
           47.49983,
           15,
           "7:35:00"
          ],
          [
           19.070672,
           47.496224,
           13,
           "7:37:00"
          ],
          [
           19.071016,
           47.492383,
           12,
           "7:38:00"
          ],
          [
           19.070589,
           47.489559,
           10,
           "7:40:00"
          ],
          [
           19.070057,
           47.486186,
           8,
           "7:42:00"
          ],
          [
           19.068463,
           47.482184,
           7,
           "7:43:00"
          ],
          [
           19.066075,
           47.480125,
           6,
           "7:44:00"
          ],
          [
           19.058963,
           47.476672,
           4,
           "7:46:00"
          ],
          [
           19.052807,
           47.473677,
           2,
           "7:48:00"
          ],
          [
           19.046863,
           47.474045,
           0,
           "7:50:00"
          ],
          [
           19.025186,
           47.507232,
           27,
           "7:23:00"
          ],
          [
           19.027323,
           47.508483,
           26,
           "7:24:00"
          ],
          [
           19.032114,
           47.510939,
           25,
           "7:25:00"
          ],
          [
           19.038897,
           47.514546,
           22,
           "7:28:00"
          ],
          [
           19.044327,
           47.514439,
           21,
           "7:29:00"
          ],
          [
           19.048841,
           47.512847,
           19,
           "7:31:00"
          ],
          [
           19.056659,
           47.509896,
           17,
           "7:33:00"
          ],
          [
           19.062871,
           47.505561,
           15,
           "7:35:00"
          ],
          [
           19.066202,
           47.502781,
           14,
           "7:36:00"
          ],
          [
           19.06916,
           47.49983,
           13,
           "7:37:00"
          ],
          [
           19.070672,
           47.496224,
           11,
           "7:39:00"
          ],
          [
           19.071016,
           47.492383,
           10,
           "7:40:00"
          ],
          [
           19.070589,
           47.489559,
           8,
           "7:42:00"
          ],
          [
           19.070057,
           47.486186,
           6,
           "7:44:00"
          ],
          [
           19.068463,
           47.482184,
           5,
           "7:45:00"
          ],
          [
           19.066075,
           47.480125,
           4,
           "7:46:00"
          ],
          [
           19.058963,
           47.476672,
           2,
           "7:48:00"
          ],
          [
           19.053457,
           47.476025,
           0,
           "7:50:00"
          ],
          [
           19.062994,
           47.469854,
           32,
           "7:18:00"
          ],
          [
           19.063671,
           47.471473,
           31,
           "7:19:00"
          ],
          [
           19.063592,
           47.47373,
           31,
           "7:19:00"
          ],
          [
           19.058923,
           47.476798,
           29,
           "7:21:00"
          ],
          [
           19.052847,
           47.473875,
           27,
           "7:23:00"
          ],
          [
           19.04705,
           47.474163,
           25,
           "7:25:00"
          ],
          [
           19.039382,
           47.47499,
           23,
           "7:27:00"
          ],
          [
           19.033466,
           47.471473,
           21,
           "7:29:00"
          ],
          [
           19.033839,
           47.468064,
           20,
           "7:30:00"
          ],
          [
           19.033866,
           47.466328,
           19,
           "7:31:00"
          ],
          [
           19.033561,
           47.464205,
           19,
           "7:31:00"
          ],
          [
           19.033388,
           47.46038,
           17,
           "7:33:00"
          ],
          [
           19.033324,
           47.458278,
           16,
           "7:34:00"
          ],
          [
           19.029134,
           47.457108,
           15,
           "7:35:00"
          ],
          [
           19.024042,
           47.455281,
           13,
           "7:37:00"
          ],
          [
           19.021537,
           47.45332,
           11,
           "7:39:00"
          ],
          [
           19.019589,
           47.45028,
           10,
           "7:40:00"
          ],
          [
           19.01642,
           47.450899,
           9,
           "7:41:00"
          ],
          [
           19.018844,
           47.454965,
           6,
           "7:44:00"
          ],
          [
           19.02001,
           47.456657,
           5,
           "7:45:00"
          ],
          [
           19.017379,
           47.460251,
           4,
           "7:46:00"
          ],
          [
           19.016317,
           47.46205,
           3,
           "7:47:00"
          ],
          [
           18.992542,
           47.473322,
           64,
           "6:46:00"
          ],
          [
           18.994813,
           47.470121,
           63,
           "6:47:00"
          ],
          [
           18.996605,
           47.468845,
           63,
           "6:47:00"
          ],
          [
           18.998609,
           47.467757,
           62,
           "6:48:00"
          ],
          [
           19.000905,
           47.466526,
           61,
           "6:49:00"
          ],
          [
           19.003718,
           47.465007,
           60,
           "6:50:00"
          ],
          [
           19.005126,
           47.462741,
           59,
           "6:51:00"
          ],
          [
           19.008853,
           47.46223,
           58,
           "6:52:00"
          ],
          [
           19.015035,
           47.460172,
           57,
           "6:53:00"
          ],
          [
           19.01936,
           47.458266,
           56,
           "6:54:00"
          ],
          [
           19.018933,
           47.461423,
           55,
           "6:55:00"
          ],
          [
           19.018308,
           47.464436,
           53,
           "6:57:00"
          ],
          [
           19.016251,
           47.466648,
           52,
           "6:58:00"
          ],
          [
           19.015866,
           47.461924,
           49,
           "7:01:00"
          ],
          [
           19.017273,
           47.459766,
           48,
           "7:02:00"
          ],
          [
           19.019772,
           47.456585,
           47,
           "7:03:00"
          ],
          [
           19.018553,
           47.454767,
           45,
           "7:05:00"
          ],
          [
           19.017984,
           47.451619,
           43,
           "7:07:00"
          ],
          [
           19.019682,
           47.45037,
           42,
           "7:08:00"
          ],
          [
           19.02073,
           47.449183,
           41,
           "7:09:00"
          ],
          [
           19.022625,
           47.451036,
           40,
           "7:10:00"
          ],
          [
           19.023234,
           47.452988,
           39,
           "7:11:00"
          ],
          [
           19.02444,
           47.455362,
           37,
           "7:13:00"
          ],
          [
           19.030513,
           47.456821,
           36,
           "7:14:00"
          ],
          [
           19.033537,
           47.457127,
           34,
           "7:16:00"
          ],
          [
           19.033576,
           47.458413,
           33,
           "7:17:00"
          ],
          [
           19.033642,
           47.460437,
           32,
           "7:18:00"
          ],
          [
           19.033826,
           47.464277,
           31,
           "7:19:00"
          ],
          [
           19.034157,
           47.466355,
           30,
           "7:20:00"
          ],
          [
           19.033719,
           47.469422,
           29,
           "7:21:00"
          ],
          [
           19.035389,
           47.473371,
           27,
           "7:23:00"
          ],
          [
           19.042062,
           47.474864,
           25,
           "7:25:00"
          ],
          [
           19.047395,
           47.473785,
           23,
           "7:27:00"
          ],
          [
           19.053178,
           47.473623,
           21,
           "7:29:00"
          ],
          [
           19.059268,
           47.476573,
           20,
           "7:30:00"
          ],
          [
           19.063539,
           47.47329,
           19,
           "7:31:00"
          ],
          [
           19.063857,
           47.472183,
           19,
           "7:31:00"
          ],
          [
           19.062994,
           47.469854,
           18,
           "7:32:00"
          ],
          [
           19.062994,
           47.469854,
           11,
           "7:39:00"
          ],
          [
           19.063671,
           47.471473,
           10,
           "7:40:00"
          ],
          [
           19.063592,
           47.47373,
           10,
           "7:40:00"
          ],
          [
           19.058923,
           47.476798,
           8,
           "7:42:00"
          ],
          [
           19.052847,
           47.473875,
           6,
           "7:44:00"
          ],
          [
           19.04705,
           47.474163,
           4,
           "7:46:00"
          ],
          [
           19.039382,
           47.47499,
           2,
           "7:48:00"
          ],
          [
           19.033466,
           47.471473,
           0,
           "7:50:00"
          ],
          [
           18.992542,
           47.473322,
           54,
           "6:56:00"
          ],
          [
           18.994813,
           47.470121,
           53,
           "6:57:00"
          ],
          [
           18.996605,
           47.468845,
           53,
           "6:57:00"
          ],
          [
           18.998609,
           47.467757,
           52,
           "6:58:00"
          ],
          [
           19.000905,
           47.466526,
           51,
           "6:59:00"
          ],
          [
           19.003718,
           47.465007,
           50,
           "7:00:00"
          ],
          [
           19.005126,
           47.462741,
           49,
           "7:01:00"
          ],
          [
           19.008853,
           47.46223,
           48,
           "7:02:00"
          ],
          [
           19.015035,
           47.460172,
           47,
           "7:03:00"
          ],
          [
           19.01936,
           47.458266,
           46,
           "7:04:00"
          ],
          [
           19.018933,
           47.461423,
           45,
           "7:05:00"
          ],
          [
           19.018308,
           47.464436,
           43,
           "7:07:00"
          ],
          [
           19.020056,
           47.470427,
           41,
           "7:09:00"
          ],
          [
           19.025042,
           47.47434,
           39,
           "7:11:00"
          ],
          [
           19.02983,
           47.47534,
           38,
           "7:12:00"
          ],
          [
           19.035932,
           47.476285,
           37,
           "7:13:00"
          ],
          [
           19.042062,
           47.474864,
           35,
           "7:15:00"
          ],
          [
           19.047395,
           47.473785,
           33,
           "7:17:00"
          ],
          [
           19.053178,
           47.473623,
           31,
           "7:19:00"
          ],
          [
           19.059268,
           47.476573,
           28,
           "7:22:00"
          ],
          [
           19.063539,
           47.47329,
           27,
           "7:23:00"
          ],
          [
           19.063857,
           47.472183,
           27,
           "7:23:00"
          ],
          [
           19.064333,
           47.469242,
           26,
           "7:24:00"
          ],
          [
           19.05794,
           47.46855,
           24,
           "7:26:00"
          ],
          [
           19.05794,
           47.46855,
           24,
           "7:26:00"
          ],
          [
           19.053311,
           47.469765,
           23,
           "7:27:00"
          ],
          [
           19.052568,
           47.472823,
           21,
           "7:29:00"
          ],
          [
           19.04705,
           47.474163,
           19,
           "7:31:00"
          ],
          [
           19.039952,
           47.475665,
           16,
           "7:34:00"
          ],
          [
           19.03572,
           47.476663,
           15,
           "7:35:00"
          ],
          [
           19.030401,
           47.475655,
           13,
           "7:37:00"
          ],
          [
           19.024776,
           47.474475,
           12,
           "7:38:00"
          ],
          [
           19.019684,
           47.470616,
           11,
           "7:39:00"
          ],
          [
           19.016596,
           47.467215,
           9,
           "7:41:00"
          ],
          [
           19.018494,
           47.464634,
           5,
           "7:45:00"
          ],
          [
           19.018907,
           47.461046,
           4,
           "7:46:00"
          ],
          [
           19.018802,
           47.45859,
           3,
           "7:47:00"
          ],
          [
           19.013881,
           47.460801,
           3,
           "7:47:00"
          ],
          [
           19.011477,
           47.464794,
           1,
           "7:49:00"
          ],
          [
           19.005922,
           47.46275,
           0,
           "7:50:00"
          ],
          [
           18.992542,
           47.473322,
           34,
           "7:16:00"
          ],
          [
           18.994813,
           47.470121,
           33,
           "7:17:00"
          ],
          [
           18.996605,
           47.468845,
           33,
           "7:17:00"
          ],
          [
           18.998609,
           47.467757,
           32,
           "7:18:00"
          ],
          [
           19.000905,
           47.466526,
           31,
           "7:19:00"
          ],
          [
           19.003718,
           47.465007,
           30,
           "7:20:00"
          ],
          [
           19.005126,
           47.462741,
           29,
           "7:21:00"
          ],
          [
           19.008853,
           47.46223,
           28,
           "7:22:00"
          ],
          [
           19.015035,
           47.460172,
           27,
           "7:23:00"
          ],
          [
           19.01936,
           47.458266,
           26,
           "7:24:00"
          ],
          [
           19.018933,
           47.461423,
           25,
           "7:25:00"
          ],
          [
           19.018308,
           47.464436,
           23,
           "7:27:00"
          ],
          [
           19.020056,
           47.470427,
           20,
           "7:30:00"
          ],
          [
           19.025042,
           47.47434,
           18,
           "7:32:00"
          ],
          [
           19.02983,
           47.47534,
           17,
           "7:33:00"
          ],
          [
           19.035932,
           47.476285,
           15,
           "7:35:00"
          ],
          [
           19.042062,
           47.474864,
           13,
           "7:37:00"
          ],
          [
           19.047395,
           47.473785,
           11,
           "7:39:00"
          ],
          [
           19.053178,
           47.473623,
           9,
           "7:41:00"
          ],
          [
           19.059268,
           47.476573,
           7,
           "7:43:00"
          ],
          [
           19.063539,
           47.47329,
           6,
           "7:44:00"
          ],
          [
           19.063857,
           47.472183,
           6,
           "7:44:00"
          ],
          [
           19.064333,
           47.469242,
           5,
           "7:45:00"
          ],
          [
           19.05794,
           47.46855,
           3,
           "7:47:00"
          ],
          [
           19.05794,
           47.46855,
           3,
           "7:47:00"
          ],
          [
           19.053311,
           47.469765,
           2,
           "7:48:00"
          ],
          [
           19.052568,
           47.472823,
           0,
           "7:50:00"
          ],
          [
           19.142015,
           47.547013,
           66,
           "6:44:00"
          ],
          [
           19.139873,
           47.545153,
           64,
           "6:46:00"
          ],
          [
           19.139162,
           47.540945,
           63,
           "6:47:00"
          ],
          [
           19.130251,
           47.533558,
           60,
           "6:50:00"
          ],
          [
           19.12028,
           47.525992,
           58,
           "6:52:00"
          ],
          [
           19.112319,
           47.519782,
           56,
           "6:54:00"
          ],
          [
           19.107097,
           47.516394,
           54,
           "6:56:00"
          ],
          [
           19.099153,
           47.51172,
           52,
           "6:58:00"
          ],
          [
           19.089298,
           47.504241,
           49,
           "7:01:00"
          ],
          [
           19.081265,
           47.500412,
           46,
           "7:04:00"
          ],
          [
           19.071508,
           47.497519,
           43,
           "7:07:00"
          ],
          [
           19.064965,
           47.49564,
           41,
           "7:09:00"
          ],
          [
           19.060718,
           47.494606,
           40,
           "7:10:00"
          ],
          [
           19.054534,
           47.492907,
           38,
           "7:12:00"
          ],
          [
           19.051747,
           47.491881,
           38,
           "7:12:00"
          ],
          [
           19.053776,
           47.482896,
           31,
           "7:19:00"
          ],
          [
           19.053383,
           47.476872,
           29,
           "7:21:00"
          ],
          [
           19.052621,
           47.474361,
           27,
           "7:23:00"
          ],
          [
           19.052979,
           47.468595,
           25,
           "7:25:00"
          ],
          [
           19.052793,
           47.464485,
           24,
           "7:26:00"
          ],
          [
           19.052095,
           47.459233,
           21,
           "7:29:00"
          ],
          [
           19.046334,
           47.448017,
           18,
           "7:32:00"
          ],
          [
           19.036857,
           47.433121,
           14,
           "7:36:00"
          ],
          [
           19.037574,
           47.429065,
           13,
           "7:37:00"
          ],
          [
           19.038303,
           47.426493,
           12,
           "7:38:00"
          ],
          [
           19.032622,
           47.41238,
           9,
           "7:41:00"
          ],
          [
           19.025944,
           47.41147,
           8,
           "7:42:00"
          ],
          [
           19.020207,
           47.410129,
           6,
           "7:44:00"
          ],
          [
           19.015956,
           47.408167,
           5,
           "7:45:00"
          ],
          [
           19.012155,
           47.404901,
           4,
           "7:46:00"
          ],
          [
           19.003827,
           47.399546,
           2,
           "7:48:00"
          ],
          [
           18.998781,
           47.397404,
           1,
           "7:49:00"
          ],
          [
           18.993723,
           47.395225,
           0,
           "7:50:00"
          ],
          [
           19.142015,
           47.547013,
           60,
           "6:50:00"
          ],
          [
           19.139873,
           47.545153,
           58,
           "6:52:00"
          ],
          [
           19.139162,
           47.540945,
           57,
           "6:53:00"
          ],
          [
           19.130251,
           47.533558,
           54,
           "6:56:00"
          ],
          [
           19.12028,
           47.525992,
           51,
           "6:59:00"
          ],
          [
           19.112319,
           47.519782,
           47,
           "7:03:00"
          ],
          [
           19.107097,
           47.516394,
           45,
           "7:05:00"
          ],
          [
           19.099153,
           47.51172,
           43,
           "7:07:00"
          ],
          [
           19.089298,
           47.504241,
           40,
           "7:10:00"
          ],
          [
           19.081265,
           47.500412,
           37,
           "7:13:00"
          ],
          [
           19.071508,
           47.497519,
           34,
           "7:16:00"
          ],
          [
           19.064965,
           47.49564,
           32,
           "7:18:00"
          ],
          [
           19.060718,
           47.494606,
           31,
           "7:19:00"
          ],
          [
           19.054534,
           47.492907,
           29,
           "7:21:00"
          ],
          [
           19.051747,
           47.491881,
           29,
           "7:21:00"
          ],
          [
           19.053776,
           47.482896,
           22,
           "7:28:00"
          ],
          [
           19.053383,
           47.476872,
           20,
           "7:30:00"
          ],
          [
           19.052621,
           47.474361,
           18,
           "7:32:00"
          ],
          [
           19.052979,
           47.468595,
           16,
           "7:34:00"
          ],
          [
           19.052793,
           47.464485,
           15,
           "7:35:00"
          ],
          [
           19.051692,
           47.461274,
           12,
           "7:38:00"
          ],
          [
           19.142015,
           47.547013,
           54,
           "6:56:00"
          ],
          [
           19.139873,
           47.545153,
           52,
           "6:58:00"
          ],
          [
           19.139162,
           47.540945,
           51,
           "6:59:00"
          ],
          [
           19.130251,
           47.533558,
           48,
           "7:02:00"
          ],
          [
           19.12028,
           47.525992,
           45,
           "7:05:00"
          ],
          [
           19.112319,
           47.519782,
           41,
           "7:09:00"
          ],
          [
           19.107097,
           47.516394,
           39,
           "7:11:00"
          ],
          [
           19.099153,
           47.51172,
           37,
           "7:13:00"
          ],
          [
           19.089298,
           47.504241,
           34,
           "7:16:00"
          ],
          [
           19.081265,
           47.500412,
           31,
           "7:19:00"
          ],
          [
           19.071508,
           47.497519,
           28,
           "7:22:00"
          ],
          [
           19.064965,
           47.49564,
           26,
           "7:24:00"
          ],
          [
           19.060718,
           47.494606,
           25,
           "7:25:00"
          ],
          [
           19.054534,
           47.492907,
           23,
           "7:27:00"
          ],
          [
           19.051747,
           47.491881,
           23,
           "7:27:00"
          ],
          [
           19.053776,
           47.482896,
           16,
           "7:34:00"
          ],
          [
           19.053383,
           47.476872,
           14,
           "7:36:00"
          ],
          [
           19.052621,
           47.474361,
           12,
           "7:38:00"
          ],
          [
           19.052979,
           47.468595,
           10,
           "7:40:00"
          ],
          [
           19.052793,
           47.464485,
           9,
           "7:41:00"
          ],
          [
           19.052095,
           47.459233,
           6,
           "7:44:00"
          ],
          [
           19.046334,
           47.448017,
           3,
           "7:47:00"
          ],
          [
           19.142015,
           47.547013,
           48,
           "7:02:00"
          ],
          [
           19.139873,
           47.545153,
           46,
           "7:04:00"
          ],
          [
           19.139162,
           47.540945,
           45,
           "7:05:00"
          ],
          [
           19.130251,
           47.533558,
           42,
           "7:08:00"
          ],
          [
           19.12028,
           47.525992,
           39,
           "7:11:00"
          ],
          [
           19.112319,
           47.519782,
           35,
           "7:15:00"
          ],
          [
           19.107097,
           47.516394,
           33,
           "7:17:00"
          ],
          [
           19.099153,
           47.51172,
           31,
           "7:19:00"
          ],
          [
           19.089298,
           47.504241,
           28,
           "7:22:00"
          ],
          [
           19.081265,
           47.500412,
           25,
           "7:25:00"
          ],
          [
           19.071508,
           47.497519,
           22,
           "7:28:00"
          ],
          [
           19.064965,
           47.49564,
           20,
           "7:30:00"
          ],
          [
           19.060718,
           47.494606,
           19,
           "7:31:00"
          ],
          [
           19.054534,
           47.492907,
           17,
           "7:33:00"
          ],
          [
           19.051747,
           47.491881,
           17,
           "7:33:00"
          ],
          [
           19.053776,
           47.482896,
           10,
           "7:40:00"
          ],
          [
           19.053383,
           47.476872,
           8,
           "7:42:00"
          ],
          [
           19.052621,
           47.474361,
           6,
           "7:44:00"
          ],
          [
           19.052979,
           47.468595,
           4,
           "7:46:00"
          ],
          [
           19.052793,
           47.464485,
           3,
           "7:47:00"
          ],
          [
           19.051692,
           47.461274,
           0,
           "7:50:00"
          ],
          [
           18.970812,
           47.387982,
           71,
           "6:39:00"
          ],
          [
           18.973056,
           47.388224,
           71,
           "6:39:00"
          ],
          [
           18.977889,
           47.389559,
           70,
           "6:40:00"
          ],
          [
           18.981,
           47.390622,
           69,
           "6:41:00"
          ],
          [
           18.984733,
           47.39254,
           68,
           "6:42:00"
          ],
          [
           18.989336,
           47.393237,
           67,
           "6:43:00"
          ],
          [
           18.992863,
           47.394676,
           66,
           "6:44:00"
          ],
          [
           18.997974,
           47.396882,
           65,
           "6:45:00"
          ],
          [
           19.004979,
           47.399862,
           64,
           "6:46:00"
          ],
          [
           19.012791,
           47.405135,
           62,
           "6:48:00"
          ],
          [
           19.016499,
           47.408293,
           60,
           "6:50:00"
          ],
          [
           19.020671,
           47.41003,
           59,
           "6:51:00"
          ],
          [
           19.026236,
           47.411327,
           58,
           "6:52:00"
          ],
          [
           19.033735,
           47.412479,
           56,
           "6:54:00"
          ],
          [
           19.039244,
           47.4267,
           52,
           "6:58:00"
          ],
          [
           19.037773,
           47.429587,
           51,
           "6:59:00"
          ],
          [
           19.037454,
           47.432411,
           50,
           "7:00:00"
          ],
          [
           19.045923,
           47.447081,
           46,
           "7:04:00"
          ],
          [
           19.052474,
           47.45943,
           42,
           "7:08:00"
          ],
          [
           19.053098,
           47.464422,
           40,
           "7:10:00"
          ],
          [
           19.053311,
           47.469765,
           37,
           "7:13:00"
          ],
          [
           19.052568,
           47.472823,
           35,
           "7:15:00"
          ],
          [
           19.053165,
           47.475412,
           33,
           "7:17:00"
          ],
          [
           19.053922,
           47.48286,
           30,
           "7:20:00"
          ],
          [
           19.051335,
           47.49154,
           26,
           "7:24:00"
          ],
          [
           19.055343,
           47.492925,
           25,
           "7:25:00"
          ],
          [
           19.060983,
           47.494408,
           23,
           "7:27:00"
          ],
          [
           19.065257,
           47.495586,
           21,
           "7:29:00"
          ],
          [
           19.071495,
           47.497249,
           20,
           "7:30:00"
          ],
          [
           19.081955,
           47.500466,
           17,
           "7:33:00"
          ],
          [
           19.089802,
           47.504403,
           15,
           "7:35:00"
          ],
          [
           19.098662,
           47.511145,
           11,
           "7:39:00"
          ],
          [
           19.108478,
           47.516951,
           8,
           "7:42:00"
          ],
          [
           19.112956,
           47.519835,
           6,
           "7:44:00"
          ],
          [
           19.122035,
           47.527214,
           4,
           "7:46:00"
          ],
          [
           19.13049,
           47.533531,
           1,
           "7:49:00"
          ],
          [
           18.970812,
           47.387982,
           65,
           "6:45:00"
          ],
          [
           18.973056,
           47.388224,
           65,
           "6:45:00"
          ],
          [
           18.977889,
           47.389559,
           64,
           "6:46:00"
          ],
          [
           18.981,
           47.390622,
           63,
           "6:47:00"
          ],
          [
           18.984733,
           47.39254,
           62,
           "6:48:00"
          ],
          [
           18.989336,
           47.393237,
           61,
           "6:49:00"
          ],
          [
           18.992863,
           47.394676,
           60,
           "6:50:00"
          ],
          [
           18.997974,
           47.396882,
           59,
           "6:51:00"
          ],
          [
           19.004979,
           47.399862,
           58,
           "6:52:00"
          ],
          [
           19.012791,
           47.405135,
           56,
           "6:54:00"
          ],
          [
           19.016499,
           47.408293,
           54,
           "6:56:00"
          ],
          [
           19.020671,
           47.41003,
           53,
           "6:57:00"
          ],
          [
           19.026236,
           47.411327,
           52,
           "6:58:00"
          ],
          [
           19.033735,
           47.412479,
           50,
           "7:00:00"
          ],
          [
           19.039244,
           47.4267,
           46,
           "7:04:00"
          ],
          [
           19.037773,
           47.429587,
           45,
           "7:05:00"
          ],
          [
           19.037454,
           47.432411,
           43,
           "7:07:00"
          ],
          [
           19.045923,
           47.447081,
           39,
           "7:11:00"
          ],
          [
           19.052474,
           47.45943,
           35,
           "7:15:00"
          ],
          [
           19.053098,
           47.464422,
           33,
           "7:17:00"
          ],
          [
           19.053311,
           47.469765,
           30,
           "7:20:00"
          ],
          [
           19.052568,
           47.472823,
           28,
           "7:22:00"
          ],
          [
           19.053165,
           47.475412,
           26,
           "7:24:00"
          ],
          [
           19.053922,
           47.48286,
           23,
           "7:27:00"
          ],
          [
           19.051335,
           47.49154,
           19,
           "7:31:00"
          ],
          [
           19.055343,
           47.492925,
           18,
           "7:32:00"
          ],
          [
           19.060983,
           47.494408,
           16,
           "7:34:00"
          ],
          [
           19.065257,
           47.495586,
           14,
           "7:36:00"
          ],
          [
           19.071495,
           47.497249,
           12,
           "7:38:00"
          ],
          [
           19.081955,
           47.500466,
           9,
           "7:41:00"
          ],
          [
           19.089802,
           47.504403,
           7,
           "7:43:00"
          ],
          [
           19.098662,
           47.511145,
           3,
           "7:47:00"
          ],
          [
           19.108478,
           47.516951,
           0,
           "7:50:00"
          ],
          [
           18.970812,
           47.387982,
           59,
           "6:51:00"
          ],
          [
           18.973056,
           47.388224,
           59,
           "6:51:00"
          ],
          [
           18.977889,
           47.389559,
           58,
           "6:52:00"
          ],
          [
           18.981,
           47.390622,
           57,
           "6:53:00"
          ],
          [
           18.984733,
           47.39254,
           56,
           "6:54:00"
          ],
          [
           18.989336,
           47.393237,
           55,
           "6:55:00"
          ],
          [
           18.992863,
           47.394676,
           54,
           "6:56:00"
          ],
          [
           18.997974,
           47.396882,
           53,
           "6:57:00"
          ],
          [
           19.004979,
           47.399862,
           52,
           "6:58:00"
          ],
          [
           19.012791,
           47.405135,
           50,
           "7:00:00"
          ],
          [
           19.016499,
           47.408293,
           48,
           "7:02:00"
          ],
          [
           19.020671,
           47.41003,
           47,
           "7:03:00"
          ],
          [
           19.026236,
           47.411327,
           46,
           "7:04:00"
          ],
          [
           19.033735,
           47.412479,
           44,
           "7:06:00"
          ],
          [
           19.039244,
           47.4267,
           40,
           "7:10:00"
          ],
          [
           19.037773,
           47.429587,
           39,
           "7:11:00"
          ],
          [
           19.037454,
           47.432411,
           37,
           "7:13:00"
          ],
          [
           19.045923,
           47.447081,
           33,
           "7:17:00"
          ],
          [
           19.052474,
           47.45943,
           29,
           "7:21:00"
          ],
          [
           19.053098,
           47.464422,
           27,
           "7:23:00"
          ],
          [
           19.053311,
           47.469765,
           24,
           "7:26:00"
          ],
          [
           19.052568,
           47.472823,
           22,
           "7:28:00"
          ],
          [
           19.053165,
           47.475412,
           20,
           "7:30:00"
          ],
          [
           19.053922,
           47.48286,
           17,
           "7:33:00"
          ],
          [
           19.051335,
           47.49154,
           13,
           "7:37:00"
          ],
          [
           19.055343,
           47.492925,
           12,
           "7:38:00"
          ],
          [
           19.060983,
           47.494408,
           10,
           "7:40:00"
          ],
          [
           19.065257,
           47.495586,
           8,
           "7:42:00"
          ],
          [
           19.071495,
           47.497249,
           6,
           "7:44:00"
          ],
          [
           19.081955,
           47.500466,
           3,
           "7:47:00"
          ],
          [
           19.089802,
           47.504403,
           1,
           "7:49:00"
          ],
          [
           18.970812,
           47.387982,
           53,
           "6:57:00"
          ],
          [
           18.973056,
           47.388224,
           53,
           "6:57:00"
          ],
          [
           18.977889,
           47.389559,
           52,
           "6:58:00"
          ],
          [
           18.981,
           47.390622,
           51,
           "6:59:00"
          ],
          [
           18.984733,
           47.39254,
           50,
           "7:00:00"
          ],
          [
           18.989336,
           47.393237,
           49,
           "7:01:00"
          ],
          [
           18.992863,
           47.394676,
           48,
           "7:02:00"
          ],
          [
           18.997974,
           47.396882,
           47,
           "7:03:00"
          ],
          [
           19.004979,
           47.399862,
           46,
           "7:04:00"
          ],
          [
           19.012791,
           47.405135,
           44,
           "7:06:00"
          ],
          [
           19.016499,
           47.408293,
           42,
           "7:08:00"
          ],
          [
           19.020671,
           47.41003,
           41,
           "7:09:00"
          ],
          [
           19.026236,
           47.411327,
           40,
           "7:10:00"
          ],
          [
           19.033735,
           47.412479,
           38,
           "7:12:00"
          ],
          [
           19.039244,
           47.4267,
           34,
           "7:16:00"
          ],
          [
           19.037773,
           47.429587,
           33,
           "7:17:00"
          ],
          [
           19.037454,
           47.432411,
           31,
           "7:19:00"
          ],
          [
           19.045923,
           47.447081,
           27,
           "7:23:00"
          ],
          [
           19.052474,
           47.45943,
           23,
           "7:27:00"
          ],
          [
           19.053098,
           47.464422,
           21,
           "7:29:00"
          ],
          [
           19.053311,
           47.469765,
           18,
           "7:32:00"
          ],
          [
           19.052568,
           47.472823,
           16,
           "7:34:00"
          ],
          [
           19.053165,
           47.475412,
           14,
           "7:36:00"
          ],
          [
           19.053922,
           47.48286,
           11,
           "7:39:00"
          ],
          [
           19.051335,
           47.49154,
           7,
           "7:43:00"
          ],
          [
           19.055343,
           47.492925,
           6,
           "7:44:00"
          ],
          [
           19.060983,
           47.494408,
           4,
           "7:46:00"
          ],
          [
           19.065257,
           47.495586,
           2,
           "7:48:00"
          ],
          [
           19.071495,
           47.497249,
           0,
           "7:50:00"
          ],
          [
           18.970812,
           47.387982,
           47,
           "7:03:00"
          ],
          [
           18.973056,
           47.388224,
           47,
           "7:03:00"
          ],
          [
           18.977889,
           47.389559,
           46,
           "7:04:00"
          ],
          [
           18.981,
           47.390622,
           45,
           "7:05:00"
          ],
          [
           18.984733,
           47.39254,
           44,
           "7:06:00"
          ],
          [
           18.989336,
           47.393237,
           43,
           "7:07:00"
          ],
          [
           18.992863,
           47.394676,
           42,
           "7:08:00"
          ],
          [
           18.997974,
           47.396882,
           41,
           "7:09:00"
          ],
          [
           19.004979,
           47.399862,
           40,
           "7:10:00"
          ],
          [
           19.012791,
           47.405135,
           38,
           "7:12:00"
          ],
          [
           19.016499,
           47.408293,
           36,
           "7:14:00"
          ],
          [
           19.020671,
           47.41003,
           35,
           "7:15:00"
          ],
          [
           19.026236,
           47.411327,
           34,
           "7:16:00"
          ],
          [
           19.033735,
           47.412479,
           32,
           "7:18:00"
          ],
          [
           19.039244,
           47.4267,
           28,
           "7:22:00"
          ],
          [
           19.037773,
           47.429587,
           27,
           "7:23:00"
          ],
          [
           19.037454,
           47.432411,
           25,
           "7:25:00"
          ],
          [
           19.045923,
           47.447081,
           21,
           "7:29:00"
          ],
          [
           19.052474,
           47.45943,
           17,
           "7:33:00"
          ],
          [
           19.053098,
           47.464422,
           15,
           "7:35:00"
          ],
          [
           19.053311,
           47.469765,
           12,
           "7:38:00"
          ],
          [
           19.052568,
           47.472823,
           10,
           "7:40:00"
          ],
          [
           19.053165,
           47.475412,
           8,
           "7:42:00"
          ],
          [
           19.053922,
           47.48286,
           5,
           "7:45:00"
          ],
          [
           19.051335,
           47.49154,
           1,
           "7:49:00"
          ],
          [
           19.055343,
           47.492925,
           0,
           "7:50:00"
          ],
          [
           18.970812,
           47.387982,
           41,
           "7:09:00"
          ],
          [
           18.973056,
           47.388224,
           41,
           "7:09:00"
          ],
          [
           18.977889,
           47.389559,
           40,
           "7:10:00"
          ],
          [
           18.981,
           47.390622,
           39,
           "7:11:00"
          ],
          [
           18.984733,
           47.39254,
           38,
           "7:12:00"
          ],
          [
           18.989336,
           47.393237,
           37,
           "7:13:00"
          ],
          [
           18.992863,
           47.394676,
           36,
           "7:14:00"
          ],
          [
           18.997974,
           47.396882,
           35,
           "7:15:00"
          ],
          [
           19.004979,
           47.399862,
           34,
           "7:16:00"
          ],
          [
           19.012791,
           47.405135,
           32,
           "7:18:00"
          ],
          [
           19.016499,
           47.408293,
           30,
           "7:20:00"
          ],
          [
           19.020671,
           47.41003,
           29,
           "7:21:00"
          ],
          [
           19.026236,
           47.411327,
           28,
           "7:22:00"
          ],
          [
           19.033735,
           47.412479,
           26,
           "7:24:00"
          ],
          [
           19.039244,
           47.4267,
           22,
           "7:28:00"
          ],
          [
           19.037773,
           47.429587,
           21,
           "7:29:00"
          ],
          [
           19.037454,
           47.432411,
           19,
           "7:31:00"
          ],
          [
           19.045923,
           47.447081,
           15,
           "7:35:00"
          ],
          [
           19.052474,
           47.45943,
           11,
           "7:39:00"
          ],
          [
           19.053098,
           47.464422,
           9,
           "7:41:00"
          ],
          [
           19.053311,
           47.469765,
           6,
           "7:44:00"
          ],
          [
           19.052568,
           47.472823,
           4,
           "7:46:00"
          ],
          [
           19.053165,
           47.475412,
           2,
           "7:48:00"
          ],
          [
           19.05794,
           47.46855,
           36,
           "7:14:00"
          ],
          [
           19.053311,
           47.469765,
           35,
           "7:15:00"
          ],
          [
           19.052568,
           47.472823,
           33,
           "7:17:00"
          ],
          [
           19.053165,
           47.475412,
           31,
           "7:19:00"
          ],
          [
           19.053922,
           47.48286,
           28,
           "7:22:00"
          ],
          [
           19.046916,
           47.489273,
           25,
           "7:25:00"
          ],
          [
           19.051335,
           47.49154,
           23,
           "7:27:00"
          ],
          [
           19.055343,
           47.492925,
           22,
           "7:28:00"
          ],
          [
           19.060983,
           47.494408,
           20,
           "7:30:00"
          ],
          [
           19.065257,
           47.495586,
           19,
           "7:31:00"
          ],
          [
           19.071495,
           47.497249,
           17,
           "7:33:00"
          ],
          [
           19.078384,
           47.499136,
           16,
           "7:34:00"
          ],
          [
           19.081955,
           47.500466,
           14,
           "7:36:00"
          ],
          [
           19.05794,
           47.46855,
           26,
           "7:24:00"
          ],
          [
           19.053311,
           47.469765,
           25,
           "7:25:00"
          ],
          [
           19.052568,
           47.472823,
           23,
           "7:27:00"
          ],
          [
           19.053165,
           47.475412,
           21,
           "7:29:00"
          ],
          [
           19.053922,
           47.48286,
           18,
           "7:32:00"
          ],
          [
           19.046916,
           47.489273,
           15,
           "7:35:00"
          ],
          [
           19.051335,
           47.49154,
           13,
           "7:37:00"
          ],
          [
           19.055343,
           47.492925,
           12,
           "7:38:00"
          ],
          [
           19.060983,
           47.494408,
           10,
           "7:40:00"
          ],
          [
           19.065257,
           47.495586,
           9,
           "7:41:00"
          ],
          [
           19.071495,
           47.497249,
           7,
           "7:43:00"
          ],
          [
           19.078384,
           47.499136,
           6,
           "7:44:00"
          ],
          [
           19.081955,
           47.500466,
           4,
           "7:46:00"
          ],
          [
           19.081265,
           47.500412,
           42,
           "7:08:00"
          ],
          [
           19.07772,
           47.499199,
           41,
           "7:09:00"
          ],
          [
           19.071508,
           47.497519,
           39,
           "7:11:00"
          ],
          [
           19.064965,
           47.49564,
           37,
           "7:13:00"
          ],
          [
           19.060718,
           47.494606,
           36,
           "7:14:00"
          ],
          [
           19.054534,
           47.492907,
           34,
           "7:16:00"
          ],
          [
           19.051747,
           47.491881,
           34,
           "7:16:00"
          ],
          [
           19.047208,
           47.48984,
           32,
           "7:18:00"
          ],
          [
           19.054984,
           47.482689,
           29,
           "7:21:00"
          ],
          [
           19.059321,
           47.479019,
           27,
           "7:23:00"
          ],
          [
           19.063539,
           47.47329,
           26,
           "7:24:00"
          ],
          [
           19.063857,
           47.472183,
           26,
           "7:24:00"
          ],
          [
           19.064333,
           47.469242,
           25,
           "7:25:00"
          ],
          [
           19.05794,
           47.46855,
           23,
           "7:27:00"
          ],
          [
           19.05794,
           47.46855,
           16,
           "7:34:00"
          ],
          [
           19.053311,
           47.469765,
           15,
           "7:35:00"
          ],
          [
           19.052568,
           47.472823,
           13,
           "7:37:00"
          ],
          [
           19.053165,
           47.475412,
           11,
           "7:39:00"
          ],
          [
           19.053922,
           47.48286,
           8,
           "7:42:00"
          ],
          [
           19.046916,
           47.489273,
           5,
           "7:45:00"
          ],
          [
           19.051335,
           47.49154,
           3,
           "7:47:00"
          ],
          [
           19.055343,
           47.492925,
           2,
           "7:48:00"
          ],
          [
           19.060983,
           47.494408,
           0,
           "7:50:00"
          ],
          [
           19.081265,
           47.500412,
           27,
           "7:23:00"
          ],
          [
           19.07772,
           47.499199,
           26,
           "7:24:00"
          ],
          [
           19.071508,
           47.497519,
           24,
           "7:26:00"
          ],
          [
           19.064965,
           47.49564,
           22,
           "7:28:00"
          ],
          [
           19.060718,
           47.494606,
           21,
           "7:29:00"
          ],
          [
           19.054534,
           47.492907,
           19,
           "7:31:00"
          ],
          [
           19.051747,
           47.491881,
           19,
           "7:31:00"
          ],
          [
           19.047208,
           47.48984,
           17,
           "7:33:00"
          ],
          [
           19.054984,
           47.482689,
           14,
           "7:36:00"
          ],
          [
           19.059321,
           47.479019,
           12,
           "7:38:00"
          ],
          [
           19.063539,
           47.47329,
           11,
           "7:39:00"
          ],
          [
           19.063857,
           47.472183,
           11,
           "7:39:00"
          ],
          [
           19.064333,
           47.469242,
           10,
           "7:40:00"
          ],
          [
           19.05794,
           47.46855,
           8,
           "7:42:00"
          ],
          [
           19.05794,
           47.46855,
           6,
           "7:44:00"
          ],
          [
           19.053311,
           47.469765,
           5,
           "7:45:00"
          ],
          [
           19.052568,
           47.472823,
           3,
           "7:47:00"
          ],
          [
           19.053165,
           47.475412,
           1,
           "7:49:00"
          ],
          [
           19.081265,
           47.500412,
           17,
           "7:33:00"
          ],
          [
           19.07772,
           47.499199,
           16,
           "7:34:00"
          ],
          [
           19.071508,
           47.497519,
           14,
           "7:36:00"
          ],
          [
           19.064965,
           47.49564,
           12,
           "7:38:00"
          ],
          [
           19.060718,
           47.494606,
           11,
           "7:39:00"
          ],
          [
           19.054534,
           47.492907,
           9,
           "7:41:00"
          ],
          [
           19.051747,
           47.491881,
           9,
           "7:41:00"
          ],
          [
           19.047208,
           47.48984,
           7,
           "7:43:00"
          ],
          [
           19.054984,
           47.482689,
           4,
           "7:46:00"
          ],
          [
           19.059321,
           47.479019,
           2,
           "7:48:00"
          ],
          [
           19.063539,
           47.47329,
           1,
           "7:49:00"
          ],
          [
           19.063857,
           47.472183,
           1,
           "7:49:00"
          ],
          [
           19.064333,
           47.469242,
           0,
           "7:50:00"
          ],
          [
           19.067865,
           47.479495,
           33,
           "7:17:00"
          ],
          [
           19.058923,
           47.476798,
           31,
           "7:19:00"
          ],
          [
           19.052847,
           47.473875,
           29,
           "7:21:00"
          ],
          [
           19.04705,
           47.474163,
           27,
           "7:23:00"
          ],
          [
           19.039952,
           47.475665,
           25,
           "7:25:00"
          ],
          [
           19.03572,
           47.476663,
           24,
           "7:26:00"
          ],
          [
           19.031832,
           47.478443,
           22,
           "7:28:00"
          ],
          [
           19.030171,
           47.482184,
           20,
           "7:30:00"
          ],
          [
           19.027041,
           47.4841,
           18,
           "7:32:00"
          ],
          [
           19.024943,
           47.486698,
           16,
           "7:34:00"
          ],
          [
           19.023466,
           47.49017,
           13,
           "7:37:00"
          ],
          [
           19.018489,
           47.490555,
           12,
           "7:38:00"
          ],
          [
           19.016647,
           47.492498,
           10,
           "7:40:00"
          ],
          [
           19.01926,
           47.494972,
           8,
           "7:42:00"
          ],
          [
           19.018994,
           47.495745,
           7,
           "7:43:00"
          ],
          [
           19.014146,
           47.497192,
           6,
           "7:44:00"
          ],
          [
           19.009011,
           47.499223,
           4,
           "7:46:00"
          ],
          [
           19.00585,
           47.502828,
           3,
           "7:47:00"
          ],
          [
           19.002916,
           47.503178,
           2,
           "7:48:00"
          ],
          [
           18.997964,
           47.504642,
           1,
           "7:49:00"
          ],
          [
           18.99268,
           47.505566,
           0,
           "7:50:00"
          ],
          [
           19.067865,
           47.479495,
           26,
           "7:24:00"
          ],
          [
           19.058923,
           47.476798,
           24,
           "7:26:00"
          ],
          [
           19.052847,
           47.473875,
           22,
           "7:28:00"
          ],
          [
           19.04705,
           47.474163,
           20,
           "7:30:00"
          ],
          [
           19.039952,
           47.475665,
           18,
           "7:32:00"
          ],
          [
           19.03572,
           47.476663,
           17,
           "7:33:00"
          ],
          [
           19.031832,
           47.478443,
           15,
           "7:35:00"
          ],
          [
           19.030171,
           47.482184,
           13,
           "7:37:00"
          ],
          [
           19.027041,
           47.4841,
           11,
           "7:39:00"
          ],
          [
           19.024943,
           47.486698,
           9,
           "7:41:00"
          ],
          [
           19.023466,
           47.49017,
           6,
           "7:44:00"
          ],
          [
           19.018489,
           47.490555,
           5,
           "7:45:00"
          ],
          [
           19.016647,
           47.492498,
           3,
           "7:47:00"
          ],
          [
           19.01926,
           47.494972,
           1,
           "7:49:00"
          ],
          [
           19.018994,
           47.495745,
           0,
           "7:50:00"
          ],
          [
           19.067865,
           47.479495,
           19,
           "7:31:00"
          ],
          [
           19.058923,
           47.476798,
           17,
           "7:33:00"
          ],
          [
           19.052847,
           47.473875,
           15,
           "7:35:00"
          ],
          [
           19.04705,
           47.474163,
           13,
           "7:37:00"
          ],
          [
           19.039952,
           47.475665,
           11,
           "7:39:00"
          ],
          [
           19.03572,
           47.476663,
           10,
           "7:40:00"
          ],
          [
           19.031832,
           47.478443,
           8,
           "7:42:00"
          ],
          [
           19.030171,
           47.482184,
           6,
           "7:44:00"
          ],
          [
           19.027041,
           47.4841,
           4,
           "7:46:00"
          ],
          [
           19.024943,
           47.486698,
           2,
           "7:48:00"
          ],
          [
           18.989543,
           47.497928,
           55,
           "6:55:00"
          ],
          [
           18.989659,
           47.500321,
           54,
           "6:56:00"
          ],
          [
           18.990585,
           47.503604,
           53,
           "6:57:00"
          ],
          [
           18.992534,
           47.505485,
           52,
           "6:58:00"
          ],
          [
           18.998004,
           47.504525,
           51,
           "6:59:00"
          ],
          [
           19.002186,
           47.502917,
           50,
           "7:00:00"
          ],
          [
           19.005903,
           47.50228,
           49,
           "7:01:00"
          ],
          [
           19.00864,
           47.49934,
           48,
           "7:02:00"
          ],
          [
           19.01327,
           47.497291,
           47,
           "7:03:00"
          ],
          [
           19.018729,
           47.495421,
           45,
           "7:05:00"
          ],
          [
           19.016461,
           47.492273,
           44,
           "7:06:00"
          ],
          [
           19.019617,
           47.490376,
           42,
           "7:08:00"
          ],
          [
           19.023665,
           47.490044,
           41,
           "7:09:00"
          ],
          [
           19.024345,
           47.488299,
           39,
           "7:11:00"
          ],
          [
           19.027065,
           47.483838,
           37,
           "7:13:00"
          ],
          [
           19.029932,
           47.482031,
           36,
           "7:14:00"
          ],
          [
           19.031448,
           47.478605,
           35,
           "7:15:00"
          ],
          [
           19.035932,
           47.476285,
           34,
           "7:16:00"
          ],
          [
           19.042062,
           47.474864,
           32,
           "7:18:00"
          ],
          [
           19.047395,
           47.473785,
           30,
           "7:20:00"
          ],
          [
           19.053178,
           47.473623,
           29,
           "7:21:00"
          ],
          [
           19.059268,
           47.476573,
           27,
           "7:23:00"
          ],
          [
           19.067865,
           47.479495,
           25,
           "7:25:00"
          ],
          [
           19.067865,
           47.479495,
           11,
           "7:39:00"
          ],
          [
           19.058923,
           47.476798,
           9,
           "7:41:00"
          ],
          [
           19.052847,
           47.473875,
           7,
           "7:43:00"
          ],
          [
           19.04705,
           47.474163,
           5,
           "7:45:00"
          ],
          [
           19.039952,
           47.475665,
           3,
           "7:47:00"
          ],
          [
           19.03572,
           47.476663,
           2,
           "7:48:00"
          ],
          [
           19.031832,
           47.478443,
           0,
           "7:50:00"
          ],
          [
           18.967972,
           47.500578,
           48,
           "7:02:00"
          ],
          [
           18.97084,
           47.500157,
           48,
           "7:02:00"
          ],
          [
           18.973389,
           47.499547,
           47,
           "7:03:00"
          ],
          [
           18.977225,
           47.499423,
           47,
           "7:03:00"
          ],
          [
           18.981367,
           47.49823,
           46,
           "7:04:00"
          ],
          [
           18.989397,
           47.49773,
           45,
           "7:05:00"
          ],
          [
           18.989659,
           47.500321,
           44,
           "7:06:00"
          ],
          [
           18.990585,
           47.503604,
           43,
           "7:07:00"
          ],
          [
           18.992534,
           47.505485,
           42,
           "7:08:00"
          ],
          [
           18.998004,
           47.504525,
           41,
           "7:09:00"
          ],
          [
           19.002186,
           47.502917,
           40,
           "7:10:00"
          ],
          [
           19.005903,
           47.50228,
           39,
           "7:11:00"
          ],
          [
           19.00864,
           47.49934,
           38,
           "7:12:00"
          ],
          [
           19.01327,
           47.497291,
           37,
           "7:13:00"
          ],
          [
           19.018729,
           47.495421,
           35,
           "7:15:00"
          ],
          [
           19.016461,
           47.492273,
           34,
           "7:16:00"
          ],
          [
           19.019617,
           47.490376,
           32,
           "7:18:00"
          ],
          [
           19.023665,
           47.490044,
           31,
           "7:19:00"
          ],
          [
           19.024345,
           47.488299,
           29,
           "7:21:00"
          ],
          [
           19.027065,
           47.483838,
           27,
           "7:23:00"
          ],
          [
           19.029932,
           47.482031,
           26,
           "7:24:00"
          ],
          [
           19.031448,
           47.478605,
           25,
           "7:25:00"
          ],
          [
           19.035932,
           47.476285,
           24,
           "7:26:00"
          ],
          [
           19.042062,
           47.474864,
           22,
           "7:28:00"
          ],
          [
           19.047395,
           47.473785,
           20,
           "7:30:00"
          ],
          [
           19.053178,
           47.473623,
           18,
           "7:32:00"
          ],
          [
           19.059268,
           47.476573,
           16,
           "7:34:00"
          ],
          [
           19.067865,
           47.479495,
           14,
           "7:36:00"
          ],
          [
           19.067865,
           47.479495,
           4,
           "7:46:00"
          ],
          [
           19.058923,
           47.476798,
           2,
           "7:48:00"
          ],
          [
           19.052847,
           47.473875,
           0,
           "7:50:00"
          ],
          [
           18.967972,
           47.500578,
           38,
           "7:12:00"
          ],
          [
           18.97084,
           47.500157,
           38,
           "7:12:00"
          ],
          [
           18.973389,
           47.499547,
           37,
           "7:13:00"
          ],
          [
           18.977225,
           47.499423,
           37,
           "7:13:00"
          ],
          [
           18.981367,
           47.49823,
           36,
           "7:14:00"
          ],
          [
           18.989397,
           47.49773,
           35,
           "7:15:00"
          ],
          [
           18.989659,
           47.500321,
           34,
           "7:16:00"
          ],
          [
           18.990585,
           47.503604,
           33,
           "7:17:00"
          ],
          [
           18.992534,
           47.505485,
           32,
           "7:18:00"
          ],
          [
           18.998004,
           47.504525,
           31,
           "7:19:00"
          ],
          [
           19.002186,
           47.502917,
           30,
           "7:20:00"
          ],
          [
           19.005903,
           47.50228,
           29,
           "7:21:00"
          ],
          [
           19.00864,
           47.49934,
           28,
           "7:22:00"
          ],
          [
           19.01327,
           47.497291,
           27,
           "7:23:00"
          ],
          [
           19.018729,
           47.495421,
           25,
           "7:25:00"
          ],
          [
           19.016461,
           47.492273,
           24,
           "7:26:00"
          ],
          [
           19.019617,
           47.490376,
           22,
           "7:28:00"
          ],
          [
           19.023665,
           47.490044,
           21,
           "7:29:00"
          ],
          [
           19.024345,
           47.488299,
           19,
           "7:31:00"
          ],
          [
           19.027065,
           47.483838,
           17,
           "7:33:00"
          ],
          [
           19.029932,
           47.482031,
           16,
           "7:34:00"
          ],
          [
           19.031448,
           47.478605,
           15,
           "7:35:00"
          ],
          [
           19.035932,
           47.476285,
           14,
           "7:36:00"
          ],
          [
           19.042062,
           47.474864,
           12,
           "7:38:00"
          ],
          [
           19.047395,
           47.473785,
           10,
           "7:40:00"
          ],
          [
           19.053178,
           47.473623,
           8,
           "7:42:00"
          ],
          [
           19.059268,
           47.476573,
           6,
           "7:44:00"
          ],
          [
           19.067865,
           47.479495,
           4,
           "7:46:00"
          ],
          [
           18.958553,
           47.38888,
           67,
           "6:43:00"
          ],
          [
           18.963761,
           47.390378,
           67,
           "6:43:00"
          ],
          [
           18.973056,
           47.388224,
           65,
           "6:45:00"
          ],
          [
           18.977889,
           47.389559,
           64,
           "6:46:00"
          ],
          [
           18.981,
           47.390622,
           63,
           "6:47:00"
          ],
          [
           18.984733,
           47.39254,
           62,
           "6:48:00"
          ],
          [
           18.989336,
           47.393237,
           61,
           "6:49:00"
          ],
          [
           18.992863,
           47.394676,
           60,
           "6:50:00"
          ],
          [
           18.997974,
           47.396882,
           59,
           "6:51:00"
          ],
          [
           19.004979,
           47.399862,
           58,
           "6:52:00"
          ],
          [
           19.012791,
           47.405135,
           56,
           "6:54:00"
          ],
          [
           19.016499,
           47.408293,
           54,
           "6:56:00"
          ],
          [
           19.020671,
           47.41003,
           52,
           "6:58:00"
          ],
          [
           19.026236,
           47.411327,
           51,
           "6:59:00"
          ],
          [
           19.033735,
           47.412479,
           49,
           "7:01:00"
          ],
          [
           19.038478,
           47.414225,
           48,
           "7:02:00"
          ],
          [
           19.041578,
           47.421546,
           46,
           "7:04:00"
          ],
          [
           19.039244,
           47.4267,
           43,
           "7:07:00"
          ],
          [
           19.037773,
           47.429587,
           42,
           "7:08:00"
          ],
          [
           19.037454,
           47.432411,
           41,
           "7:09:00"
          ],
          [
           19.045685,
           47.443025,
           38,
           "7:12:00"
          ],
          [
           19.045923,
           47.447081,
           37,
           "7:13:00"
          ],
          [
           19.049119,
           47.449168,
           36,
           "7:14:00"
          ],
          [
           19.051067,
           47.451944,
           36,
           "7:14:00"
          ],
          [
           19.05197,
           47.455374,
           35,
           "7:15:00"
          ],
          [
           19.052474,
           47.45943,
           33,
           "7:17:00"
          ],
          [
           19.053098,
           47.464422,
           31,
           "7:19:00"
          ],
          [
           19.053311,
           47.469765,
           29,
           "7:21:00"
          ],
          [
           19.052568,
           47.472823,
           27,
           "7:23:00"
          ],
          [
           19.046771,
           47.474649,
           25,
           "7:25:00"
          ],
          [
           19.048786,
           47.477256,
           23,
           "7:27:00"
          ],
          [
           18.958553,
           47.38888,
           51,
           "6:59:00"
          ],
          [
           18.963761,
           47.390378,
           51,
           "6:59:00"
          ],
          [
           18.973056,
           47.388224,
           49,
           "7:01:00"
          ],
          [
           18.977889,
           47.389559,
           48,
           "7:02:00"
          ],
          [
           18.981,
           47.390622,
           47,
           "7:03:00"
          ],
          [
           18.984733,
           47.39254,
           46,
           "7:04:00"
          ],
          [
           18.989336,
           47.393237,
           45,
           "7:05:00"
          ],
          [
           18.992863,
           47.394676,
           44,
           "7:06:00"
          ],
          [
           18.997974,
           47.396882,
           43,
           "7:07:00"
          ],
          [
           19.004979,
           47.399862,
           42,
           "7:08:00"
          ],
          [
           19.012791,
           47.405135,
           40,
           "7:10:00"
          ],
          [
           19.016499,
           47.408293,
           38,
           "7:12:00"
          ],
          [
           19.020671,
           47.41003,
           36,
           "7:14:00"
          ],
          [
           19.026236,
           47.411327,
           35,
           "7:15:00"
          ],
          [
           19.033735,
           47.412479,
           33,
           "7:17:00"
          ],
          [
           19.038478,
           47.414225,
           32,
           "7:18:00"
          ],
          [
           19.041578,
           47.421546,
           30,
           "7:20:00"
          ],
          [
           19.039244,
           47.4267,
           27,
           "7:23:00"
          ],
          [
           19.037773,
           47.429587,
           26,
           "7:24:00"
          ],
          [
           19.037454,
           47.432411,
           25,
           "7:25:00"
          ],
          [
           19.045685,
           47.443025,
           22,
           "7:28:00"
          ],
          [
           19.045923,
           47.447081,
           21,
           "7:29:00"
          ],
          [
           19.049119,
           47.449168,
           20,
           "7:30:00"
          ],
          [
           19.051067,
           47.451944,
           20,
           "7:30:00"
          ],
          [
           19.05197,
           47.455374,
           19,
           "7:31:00"
          ],
          [
           19.052474,
           47.45943,
           17,
           "7:33:00"
          ],
          [
           19.053098,
           47.464422,
           15,
           "7:35:00"
          ],
          [
           19.053311,
           47.469765,
           13,
           "7:37:00"
          ],
          [
           19.052568,
           47.472823,
           11,
           "7:39:00"
          ],
          [
           19.046771,
           47.474649,
           9,
           "7:41:00"
          ],
          [
           19.048786,
           47.477256,
           7,
           "7:43:00"
          ],
          [
           19.048786,
           47.477256,
           22,
           "7:28:00"
          ],
          [
           19.052582,
           47.476169,
           21,
           "7:29:00"
          ],
          [
           19.052621,
           47.474361,
           20,
           "7:30:00"
          ],
          [
           19.052979,
           47.468595,
           18,
           "7:32:00"
          ],
          [
           19.052793,
           47.464485,
           17,
           "7:33:00"
          ],
          [
           19.052095,
           47.459233,
           15,
           "7:35:00"
          ],
          [
           19.051598,
           47.455407,
           13,
           "7:37:00"
          ],
          [
           19.050709,
           47.45189,
           12,
           "7:38:00"
          ],
          [
           19.049052,
           47.449438,
           11,
           "7:39:00"
          ],
          [
           19.046334,
           47.448017,
           10,
           "7:40:00"
          ],
          [
           19.045261,
           47.442548,
           9,
           "7:41:00"
          ],
          [
           19.036857,
           47.433121,
           6,
           "7:44:00"
          ],
          [
           19.037574,
           47.429065,
           5,
           "7:45:00"
          ],
          [
           19.038303,
           47.426493,
           4,
           "7:46:00"
          ],
          [
           19.041101,
           47.421807,
           3,
           "7:47:00"
          ],
          [
           19.038518,
           47.414386,
           2,
           "7:48:00"
          ],
          [
           19.032622,
           47.41238,
           1,
           "7:49:00"
          ],
          [
           19.025944,
           47.41147,
           0,
           "7:50:00"
          ],
          [
           19.048786,
           47.477256,
           10,
           "7:40:00"
          ],
          [
           19.052582,
           47.476169,
           9,
           "7:41:00"
          ],
          [
           19.052621,
           47.474361,
           8,
           "7:42:00"
          ],
          [
           19.052979,
           47.468595,
           6,
           "7:44:00"
          ],
          [
           19.052793,
           47.464485,
           5,
           "7:45:00"
          ],
          [
           19.052095,
           47.459233,
           3,
           "7:47:00"
          ],
          [
           19.051598,
           47.455407,
           1,
           "7:49:00"
          ],
          [
           19.050709,
           47.45189,
           0,
           "7:50:00"
          ],
          [
           19.023388,
           47.464473,
           44,
           "7:06:00"
          ],
          [
           19.029635,
           47.464088,
           43,
           "7:07:00"
          ],
          [
           19.033309,
           47.463603,
           41,
           "7:09:00"
          ],
          [
           19.043363,
           47.462254,
           39,
           "7:11:00"
          ],
          [
           19.048509,
           47.462551,
           38,
           "7:12:00"
          ],
          [
           19.049756,
           47.467013,
           37,
           "7:13:00"
          ],
          [
           19.054384,
           47.469646,
           35,
           "7:15:00"
          ],
          [
           19.0605,
           47.469072,
           34,
           "7:16:00"
          ],
          [
           19.073486,
           47.468737,
           32,
           "7:18:00"
          ],
          [
           19.084482,
           47.469723,
           30,
           "7:20:00"
          ],
          [
           19.089313,
           47.470305,
           28,
           "7:22:00"
          ],
          [
           19.096118,
           47.472723,
           26,
           "7:24:00"
          ],
          [
           19.099288,
           47.476294,
           24,
           "7:26:00"
          ],
          [
           19.103619,
           47.48177,
           23,
           "7:27:00"
          ],
          [
           19.107515,
           47.486236,
           21,
           "7:29:00"
          ],
          [
           19.108967,
           47.491164,
           19,
           "7:31:00"
          ],
          [
           19.109135,
           47.496282,
           17,
           "7:33:00"
          ],
          [
           19.108089,
           47.50095,
           14,
           "7:36:00"
          ],
          [
           19.10405,
           47.507177,
           13,
           "7:37:00"
          ],
          [
           19.099156,
           47.511344,
           11,
           "7:39:00"
          ],
          [
           19.095757,
           47.513809,
           10,
           "7:40:00"
          ],
          [
           19.091387,
           47.51681,
           8,
           "7:42:00"
          ],
          [
           19.088114,
           47.519064,
           7,
           "7:43:00"
          ],
          [
           19.080987,
           47.523617,
           5,
           "7:45:00"
          ],
          [
           19.076952,
           47.5262,
           3,
           "7:47:00"
          ],
          [
           19.070169,
           47.530449,
           2,
           "7:48:00"
          ],
          [
           19.0673,
           47.532219,
           0,
           "7:50:00"
          ],
          [
           19.02937,
           47.548766,
           53,
           "6:57:00"
          ],
          [
           19.034772,
           47.544878,
           51,
           "6:59:00"
          ],
          [
           19.040538,
           47.541109,
           50,
           "7:00:00"
          ],
          [
           19.045937,
           47.539377,
           49,
           "7:01:00"
          ],
          [
           19.059532,
           47.536087,
           47,
           "7:03:00"
          ],
          [
           19.066119,
           47.532974,
           45,
           "7:05:00"
          ],
          [
           19.070699,
           47.530041,
           44,
           "7:06:00"
          ],
          [
           19.077524,
           47.525797,
           42,
           "7:08:00"
          ],
          [
           19.081478,
           47.52323,
           41,
           "7:09:00"
          ],
          [
           19.088565,
           47.518677,
           39,
           "7:11:00"
          ],
          [
           19.091909,
           47.5164,
           38,
           "7:12:00"
          ],
          [
           19.096261,
           47.513431,
           36,
           "7:14:00"
          ],
          [
           19.09958,
           47.510921,
           35,
           "7:15:00"
          ],
          [
           19.104445,
           47.506744,
           33,
           "7:17:00"
          ],
          [
           19.108151,
           47.500387,
           30,
           "7:20:00"
          ],
          [
           19.109078,
           47.495706,
           29,
           "7:21:00"
          ],
          [
           19.10891,
           47.49069,
           27,
           "7:23:00"
          ],
          [
           19.107077,
           47.485742,
           25,
           "7:25:00"
          ],
          [
           19.103174,
           47.481389,
           24,
           "7:26:00"
          ],
          [
           19.098907,
           47.475879,
           22,
           "7:28:00"
          ],
          [
           19.095534,
           47.47239,
           21,
           "7:29:00"
          ],
          [
           19.088529,
           47.470172,
           19,
           "7:31:00"
          ],
          [
           19.083728,
           47.469596,
           17,
           "7:33:00"
          ],
          [
           19.072756,
           47.468737,
           15,
           "7:35:00"
          ],
          [
           19.059717,
           47.469171,
           13,
           "7:37:00"
          ],
          [
           19.053655,
           47.469808,
           12,
           "7:38:00"
          ],
          [
           19.04957,
           47.466536,
           10,
           "7:40:00"
          ],
          [
           19.048336,
           47.462066,
           8,
           "7:42:00"
          ],
          [
           19.042594,
           47.462389,
           6,
           "7:44:00"
          ],
          [
           19.032434,
           47.463737,
           4,
           "7:46:00"
          ],
          [
           19.028906,
           47.464205,
           3,
           "7:47:00"
          ],
          [
           19.02311,
           47.463988,
           1,
           "7:49:00"
          ],
          [
           19.02937,
           47.548766,
           49,
           "7:01:00"
          ],
          [
           19.034772,
           47.544878,
           47,
           "7:03:00"
          ],
          [
           19.040538,
           47.541109,
           46,
           "7:04:00"
          ],
          [
           19.045937,
           47.539377,
           45,
           "7:05:00"
          ],
          [
           19.059532,
           47.536087,
           43,
           "7:07:00"
          ],
          [
           19.066119,
           47.532974,
           41,
           "7:09:00"
          ],
          [
           19.070699,
           47.530041,
           40,
           "7:10:00"
          ],
          [
           19.077524,
           47.525797,
           38,
           "7:12:00"
          ],
          [
           19.081478,
           47.52323,
           37,
           "7:13:00"
          ],
          [
           19.088565,
           47.518677,
           35,
           "7:15:00"
          ],
          [
           19.091909,
           47.5164,
           34,
           "7:16:00"
          ],
          [
           19.096261,
           47.513431,
           32,
           "7:18:00"
          ],
          [
           19.09958,
           47.510921,
           31,
           "7:19:00"
          ],
          [
           19.104445,
           47.506744,
           29,
           "7:21:00"
          ],
          [
           19.108151,
           47.500387,
           26,
           "7:24:00"
          ],
          [
           19.109078,
           47.495706,
           25,
           "7:25:00"
          ],
          [
           19.10891,
           47.49069,
           23,
           "7:27:00"
          ],
          [
           19.107077,
           47.485742,
           21,
           "7:29:00"
          ],
          [
           19.103174,
           47.481389,
           20,
           "7:30:00"
          ],
          [
           19.098907,
           47.475879,
           18,
           "7:32:00"
          ],
          [
           19.095534,
           47.47239,
           17,
           "7:33:00"
          ],
          [
           19.088529,
           47.470172,
           15,
           "7:35:00"
          ],
          [
           19.083728,
           47.469596,
           13,
           "7:37:00"
          ],
          [
           19.072756,
           47.468737,
           11,
           "7:39:00"
          ],
          [
           19.059717,
           47.469171,
           9,
           "7:41:00"
          ],
          [
           19.053655,
           47.469808,
           8,
           "7:42:00"
          ],
          [
           19.04957,
           47.466536,
           6,
           "7:44:00"
          ],
          [
           19.048336,
           47.462066,
           4,
           "7:46:00"
          ],
          [
           19.042594,
           47.462389,
           2,
           "7:48:00"
          ],
          [
           19.032434,
           47.463737,
           0,
           "7:50:00"
          ],
          [
           19.02937,
           47.548766,
           47,
           "7:03:00"
          ],
          [
           19.034772,
           47.544878,
           45,
           "7:05:00"
          ],
          [
           19.040538,
           47.541109,
           44,
           "7:06:00"
          ],
          [
           19.045937,
           47.539377,
           43,
           "7:07:00"
          ],
          [
           19.059532,
           47.536087,
           41,
           "7:09:00"
          ],
          [
           19.066119,
           47.532974,
           39,
           "7:11:00"
          ],
          [
           19.070699,
           47.530041,
           38,
           "7:12:00"
          ],
          [
           19.077524,
           47.525797,
           36,
           "7:14:00"
          ],
          [
           19.081478,
           47.52323,
           35,
           "7:15:00"
          ],
          [
           19.088565,
           47.518677,
           33,
           "7:17:00"
          ],
          [
           19.091909,
           47.5164,
           32,
           "7:18:00"
          ],
          [
           19.096261,
           47.513431,
           30,
           "7:20:00"
          ],
          [
           19.09958,
           47.510921,
           29,
           "7:21:00"
          ],
          [
           19.104445,
           47.506744,
           27,
           "7:23:00"
          ],
          [
           19.108151,
           47.500387,
           24,
           "7:26:00"
          ],
          [
           19.109078,
           47.495706,
           23,
           "7:27:00"
          ],
          [
           19.10891,
           47.49069,
           21,
           "7:29:00"
          ],
          [
           19.107077,
           47.485742,
           19,
           "7:31:00"
          ],
          [
           19.103174,
           47.481389,
           18,
           "7:32:00"
          ],
          [
           19.098907,
           47.475879,
           16,
           "7:34:00"
          ],
          [
           19.095534,
           47.47239,
           15,
           "7:35:00"
          ],
          [
           19.088529,
           47.470172,
           13,
           "7:37:00"
          ],
          [
           19.083728,
           47.469596,
           11,
           "7:39:00"
          ],
          [
           19.072756,
           47.468737,
           9,
           "7:41:00"
          ],
          [
           19.059717,
           47.469171,
           7,
           "7:43:00"
          ],
          [
           19.053655,
           47.469808,
           6,
           "7:44:00"
          ],
          [
           19.04957,
           47.466536,
           4,
           "7:46:00"
          ],
          [
           19.048336,
           47.462066,
           2,
           "7:48:00"
          ],
          [
           19.042594,
           47.462389,
           0,
           "7:50:00"
          ],
          [
           19.02937,
           47.548766,
           43,
           "7:07:00"
          ],
          [
           19.034772,
           47.544878,
           41,
           "7:09:00"
          ],
          [
           19.040538,
           47.541109,
           40,
           "7:10:00"
          ],
          [
           19.045937,
           47.539377,
           39,
           "7:11:00"
          ],
          [
           19.059532,
           47.536087,
           37,
           "7:13:00"
          ],
          [
           19.066119,
           47.532974,
           35,
           "7:15:00"
          ],
          [
           19.070699,
           47.530041,
           34,
           "7:16:00"
          ],
          [
           19.077524,
           47.525797,
           32,
           "7:18:00"
          ],
          [
           19.081478,
           47.52323,
           31,
           "7:19:00"
          ],
          [
           19.088565,
           47.518677,
           29,
           "7:21:00"
          ],
          [
           19.091909,
           47.5164,
           28,
           "7:22:00"
          ],
          [
           19.096261,
           47.513431,
           26,
           "7:24:00"
          ],
          [
           19.09958,
           47.510921,
           25,
           "7:25:00"
          ],
          [
           19.104445,
           47.506744,
           23,
           "7:27:00"
          ],
          [
           19.108151,
           47.500387,
           20,
           "7:30:00"
          ],
          [
           19.109078,
           47.495706,
           19,
           "7:31:00"
          ],
          [
           19.10891,
           47.49069,
           17,
           "7:33:00"
          ],
          [
           19.107077,
           47.485742,
           15,
           "7:35:00"
          ],
          [
           19.103174,
           47.481389,
           14,
           "7:36:00"
          ],
          [
           19.098907,
           47.475879,
           12,
           "7:38:00"
          ],
          [
           19.095534,
           47.47239,
           11,
           "7:39:00"
          ],
          [
           19.088529,
           47.470172,
           9,
           "7:41:00"
          ],
          [
           19.083728,
           47.469596,
           7,
           "7:43:00"
          ],
          [
           19.072756,
           47.468737,
           5,
           "7:45:00"
          ],
          [
           19.059717,
           47.469171,
           3,
           "7:47:00"
          ],
          [
           19.053655,
           47.469808,
           2,
           "7:48:00"
          ],
          [
           19.04957,
           47.466536,
           0,
           "7:50:00"
          ],
          [
           19.023388,
           47.464473,
           41,
           "7:09:00"
          ],
          [
           19.029635,
           47.464088,
           40,
           "7:10:00"
          ],
          [
           19.033309,
           47.463603,
           38,
           "7:12:00"
          ],
          [
           19.043363,
           47.462254,
           36,
           "7:14:00"
          ],
          [
           19.048509,
           47.462551,
           35,
           "7:15:00"
          ],
          [
           19.049756,
           47.467013,
           34,
           "7:16:00"
          ],
          [
           19.054384,
           47.469646,
           32,
           "7:18:00"
          ],
          [
           19.0605,
           47.469072,
           31,
           "7:19:00"
          ],
          [
           19.073486,
           47.468737,
           29,
           "7:21:00"
          ],
          [
           19.084482,
           47.469723,
           27,
           "7:23:00"
          ],
          [
           19.089313,
           47.470305,
           25,
           "7:25:00"
          ],
          [
           19.096118,
           47.472723,
           23,
           "7:27:00"
          ],
          [
           19.099288,
           47.476294,
           21,
           "7:29:00"
          ],
          [
           19.103619,
           47.48177,
           20,
           "7:30:00"
          ],
          [
           19.107515,
           47.486236,
           18,
           "7:32:00"
          ],
          [
           19.108967,
           47.491164,
           16,
           "7:34:00"
          ],
          [
           19.109135,
           47.496282,
           14,
           "7:36:00"
          ],
          [
           19.108089,
           47.50095,
           11,
           "7:39:00"
          ],
          [
           19.10405,
           47.507177,
           10,
           "7:40:00"
          ],
          [
           19.099156,
           47.511344,
           8,
           "7:42:00"
          ],
          [
           19.095757,
           47.513809,
           7,
           "7:43:00"
          ],
          [
           19.091387,
           47.51681,
           5,
           "7:45:00"
          ],
          [
           19.088114,
           47.519064,
           4,
           "7:46:00"
          ],
          [
           19.080987,
           47.523617,
           2,
           "7:48:00"
          ],
          [
           19.076952,
           47.5262,
           0,
           "7:50:00"
          ],
          [
           19.023388,
           47.464473,
           37,
           "7:13:00"
          ],
          [
           19.029635,
           47.464088,
           36,
           "7:14:00"
          ],
          [
           19.033309,
           47.463603,
           34,
           "7:16:00"
          ],
          [
           19.043363,
           47.462254,
           32,
           "7:18:00"
          ],
          [
           19.048509,
           47.462551,
           31,
           "7:19:00"
          ],
          [
           19.049756,
           47.467013,
           30,
           "7:20:00"
          ],
          [
           19.054384,
           47.469646,
           28,
           "7:22:00"
          ],
          [
           19.0605,
           47.469072,
           27,
           "7:23:00"
          ],
          [
           19.073486,
           47.468737,
           25,
           "7:25:00"
          ],
          [
           19.084482,
           47.469723,
           23,
           "7:27:00"
          ],
          [
           19.089313,
           47.470305,
           21,
           "7:29:00"
          ],
          [
           19.096118,
           47.472723,
           19,
           "7:31:00"
          ],
          [
           19.099288,
           47.476294,
           17,
           "7:33:00"
          ],
          [
           19.103619,
           47.48177,
           16,
           "7:34:00"
          ],
          [
           19.107515,
           47.486236,
           14,
           "7:36:00"
          ],
          [
           19.108967,
           47.491164,
           12,
           "7:38:00"
          ],
          [
           19.109135,
           47.496282,
           10,
           "7:40:00"
          ],
          [
           19.108089,
           47.50095,
           7,
           "7:43:00"
          ],
          [
           19.10405,
           47.507177,
           6,
           "7:44:00"
          ],
          [
           19.099156,
           47.511344,
           4,
           "7:46:00"
          ],
          [
           19.095757,
           47.513809,
           3,
           "7:47:00"
          ],
          [
           19.091387,
           47.51681,
           1,
           "7:49:00"
          ],
          [
           19.088114,
           47.519064,
           0,
           "7:50:00"
          ],
          [
           19.023388,
           47.464473,
           34,
           "7:16:00"
          ],
          [
           19.029635,
           47.464088,
           33,
           "7:17:00"
          ],
          [
           19.033309,
           47.463603,
           31,
           "7:19:00"
          ],
          [
           19.043363,
           47.462254,
           29,
           "7:21:00"
          ],
          [
           19.048509,
           47.462551,
           28,
           "7:22:00"
          ],
          [
           19.049756,
           47.467013,
           27,
           "7:23:00"
          ],
          [
           19.054384,
           47.469646,
           25,
           "7:25:00"
          ],
          [
           19.0605,
           47.469072,
           24,
           "7:26:00"
          ],
          [
           19.073486,
           47.468737,
           22,
           "7:28:00"
          ],
          [
           19.084482,
           47.469723,
           20,
           "7:30:00"
          ],
          [
           19.089313,
           47.470305,
           18,
           "7:32:00"
          ],
          [
           19.096118,
           47.472723,
           16,
           "7:34:00"
          ],
          [
           19.099288,
           47.476294,
           14,
           "7:36:00"
          ],
          [
           19.103619,
           47.48177,
           13,
           "7:37:00"
          ],
          [
           19.107515,
           47.486236,
           11,
           "7:39:00"
          ],
          [
           19.108967,
           47.491164,
           9,
           "7:41:00"
          ],
          [
           19.109135,
           47.496282,
           7,
           "7:43:00"
          ],
          [
           19.108089,
           47.50095,
           4,
           "7:46:00"
          ],
          [
           19.10405,
           47.507177,
           3,
           "7:47:00"
          ],
          [
           19.099156,
           47.511344,
           1,
           "7:49:00"
          ],
          [
           19.095757,
           47.513809,
           0,
           "7:50:00"
          ],
          [
           19.023388,
           47.464473,
           30,
           "7:20:00"
          ],
          [
           19.029635,
           47.464088,
           29,
           "7:21:00"
          ],
          [
           19.033309,
           47.463603,
           27,
           "7:23:00"
          ],
          [
           19.043363,
           47.462254,
           25,
           "7:25:00"
          ],
          [
           19.048509,
           47.462551,
           24,
           "7:26:00"
          ],
          [
           19.049756,
           47.467013,
           23,
           "7:27:00"
          ],
          [
           19.054384,
           47.469646,
           21,
           "7:29:00"
          ],
          [
           19.0605,
           47.469072,
           20,
           "7:30:00"
          ],
          [
           19.073486,
           47.468737,
           18,
           "7:32:00"
          ],
          [
           19.084482,
           47.469723,
           16,
           "7:34:00"
          ],
          [
           19.089313,
           47.470305,
           14,
           "7:36:00"
          ],
          [
           19.096118,
           47.472723,
           12,
           "7:38:00"
          ],
          [
           19.099288,
           47.476294,
           10,
           "7:40:00"
          ],
          [
           19.103619,
           47.48177,
           9,
           "7:41:00"
          ],
          [
           19.107515,
           47.486236,
           7,
           "7:43:00"
          ],
          [
           19.108967,
           47.491164,
           5,
           "7:45:00"
          ],
          [
           19.109135,
           47.496282,
           3,
           "7:47:00"
          ],
          [
           19.108089,
           47.50095,
           0,
           "7:50:00"
          ],
          [
           19.023388,
           47.464473,
           27,
           "7:23:00"
          ],
          [
           19.029635,
           47.464088,
           26,
           "7:24:00"
          ],
          [
           19.033309,
           47.463603,
           24,
           "7:26:00"
          ],
          [
           19.043363,
           47.462254,
           22,
           "7:28:00"
          ],
          [
           19.048509,
           47.462551,
           21,
           "7:29:00"
          ],
          [
           19.049756,
           47.467013,
           20,
           "7:30:00"
          ],
          [
           19.054384,
           47.469646,
           18,
           "7:32:00"
          ],
          [
           19.0605,
           47.469072,
           17,
           "7:33:00"
          ],
          [
           19.073486,
           47.468737,
           15,
           "7:35:00"
          ],
          [
           19.084482,
           47.469723,
           13,
           "7:37:00"
          ],
          [
           19.089313,
           47.470305,
           11,
           "7:39:00"
          ],
          [
           19.096118,
           47.472723,
           9,
           "7:41:00"
          ],
          [
           19.099288,
           47.476294,
           7,
           "7:43:00"
          ],
          [
           19.103619,
           47.48177,
           6,
           "7:44:00"
          ],
          [
           19.107515,
           47.486236,
           4,
           "7:46:00"
          ],
          [
           19.108967,
           47.491164,
           2,
           "7:48:00"
          ],
          [
           19.109135,
           47.496282,
           0,
           "7:50:00"
          ],
          [
           19.02937,
           47.548766,
           70,
           "6:40:00"
          ],
          [
           19.034772,
           47.544878,
           68,
           "6:42:00"
          ],
          [
           19.040538,
           47.541109,
           67,
           "6:43:00"
          ],
          [
           19.045937,
           47.539377,
           66,
           "6:44:00"
          ],
          [
           19.059532,
           47.536087,
           64,
           "6:46:00"
          ],
          [
           19.066119,
           47.532974,
           62,
           "6:48:00"
          ],
          [
           19.070699,
           47.530041,
           61,
           "6:49:00"
          ],
          [
           19.077524,
           47.525797,
           59,
           "6:51:00"
          ],
          [
           19.081478,
           47.52323,
           58,
           "6:52:00"
          ],
          [
           19.088565,
           47.518677,
           56,
           "6:54:00"
          ],
          [
           19.091909,
           47.5164,
           55,
           "6:55:00"
          ],
          [
           19.096261,
           47.513431,
           53,
           "6:57:00"
          ],
          [
           19.09958,
           47.510921,
           52,
           "6:58:00"
          ],
          [
           19.104445,
           47.506744,
           50,
           "7:00:00"
          ],
          [
           19.108151,
           47.500387,
           47,
           "7:03:00"
          ],
          [
           19.109078,
           47.495706,
           46,
           "7:04:00"
          ],
          [
           19.10891,
           47.49069,
           44,
           "7:06:00"
          ],
          [
           19.107077,
           47.485742,
           42,
           "7:08:00"
          ],
          [
           19.103174,
           47.481389,
           41,
           "7:09:00"
          ],
          [
           19.098907,
           47.475879,
           39,
           "7:11:00"
          ],
          [
           19.095534,
           47.47239,
           38,
           "7:12:00"
          ],
          [
           19.088529,
           47.470172,
           36,
           "7:14:00"
          ],
          [
           19.083728,
           47.469596,
           34,
           "7:16:00"
          ],
          [
           19.072756,
           47.468737,
           32,
           "7:18:00"
          ],
          [
           19.059717,
           47.469171,
           30,
           "7:20:00"
          ],
          [
           19.053655,
           47.469808,
           29,
           "7:21:00"
          ],
          [
           19.04957,
           47.466536,
           27,
           "7:23:00"
          ],
          [
           19.048336,
           47.462066,
           25,
           "7:25:00"
          ],
          [
           19.042594,
           47.462389,
           23,
           "7:27:00"
          ],
          [
           19.032434,
           47.463737,
           21,
           "7:29:00"
          ],
          [
           19.028906,
           47.464205,
           20,
           "7:30:00"
          ],
          [
           19.02311,
           47.463988,
           18,
           "7:32:00"
          ],
          [
           19.02937,
           47.548766,
           67,
           "6:43:00"
          ],
          [
           19.034772,
           47.544878,
           65,
           "6:45:00"
          ],
          [
           19.040538,
           47.541109,
           64,
           "6:46:00"
          ],
          [
           19.045937,
           47.539377,
           63,
           "6:47:00"
          ],
          [
           19.059532,
           47.536087,
           61,
           "6:49:00"
          ],
          [
           19.066119,
           47.532974,
           59,
           "6:51:00"
          ],
          [
           19.070699,
           47.530041,
           58,
           "6:52:00"
          ],
          [
           19.077524,
           47.525797,
           56,
           "6:54:00"
          ],
          [
           19.081478,
           47.52323,
           55,
           "6:55:00"
          ],
          [
           19.088565,
           47.518677,
           53,
           "6:57:00"
          ],
          [
           19.091909,
           47.5164,
           52,
           "6:58:00"
          ],
          [
           19.096261,
           47.513431,
           50,
           "7:00:00"
          ],
          [
           19.09958,
           47.510921,
           49,
           "7:01:00"
          ],
          [
           19.104445,
           47.506744,
           47,
           "7:03:00"
          ],
          [
           19.108151,
           47.500387,
           44,
           "7:06:00"
          ],
          [
           19.109078,
           47.495706,
           43,
           "7:07:00"
          ],
          [
           19.10891,
           47.49069,
           41,
           "7:09:00"
          ],
          [
           19.107077,
           47.485742,
           39,
           "7:11:00"
          ],
          [
           19.103174,
           47.481389,
           38,
           "7:12:00"
          ],
          [
           19.098907,
           47.475879,
           36,
           "7:14:00"
          ],
          [
           19.095534,
           47.47239,
           35,
           "7:15:00"
          ],
          [
           19.088529,
           47.470172,
           33,
           "7:17:00"
          ],
          [
           19.083728,
           47.469596,
           31,
           "7:19:00"
          ],
          [
           19.072756,
           47.468737,
           29,
           "7:21:00"
          ],
          [
           19.059717,
           47.469171,
           27,
           "7:23:00"
          ],
          [
           19.053655,
           47.469808,
           26,
           "7:24:00"
          ],
          [
           19.04957,
           47.466536,
           24,
           "7:26:00"
          ],
          [
           19.048336,
           47.462066,
           22,
           "7:28:00"
          ],
          [
           19.042594,
           47.462389,
           20,
           "7:30:00"
          ],
          [
           19.032434,
           47.463737,
           18,
           "7:32:00"
          ],
          [
           19.028906,
           47.464205,
           17,
           "7:33:00"
          ],
          [
           19.02311,
           47.463988,
           15,
           "7:35:00"
          ],
          [
           19.02937,
           47.548766,
           63,
           "6:47:00"
          ],
          [
           19.034772,
           47.544878,
           61,
           "6:49:00"
          ],
          [
           19.040538,
           47.541109,
           60,
           "6:50:00"
          ],
          [
           19.045937,
           47.539377,
           59,
           "6:51:00"
          ],
          [
           19.059532,
           47.536087,
           57,
           "6:53:00"
          ],
          [
           19.066119,
           47.532974,
           55,
           "6:55:00"
          ],
          [
           19.070699,
           47.530041,
           54,
           "6:56:00"
          ],
          [
           19.077524,
           47.525797,
           52,
           "6:58:00"
          ],
          [
           19.081478,
           47.52323,
           51,
           "6:59:00"
          ],
          [
           19.088565,
           47.518677,
           49,
           "7:01:00"
          ],
          [
           19.091909,
           47.5164,
           48,
           "7:02:00"
          ],
          [
           19.096261,
           47.513431,
           46,
           "7:04:00"
          ],
          [
           19.09958,
           47.510921,
           45,
           "7:05:00"
          ],
          [
           19.104445,
           47.506744,
           43,
           "7:07:00"
          ],
          [
           19.108151,
           47.500387,
           40,
           "7:10:00"
          ],
          [
           19.109078,
           47.495706,
           39,
           "7:11:00"
          ],
          [
           19.10891,
           47.49069,
           37,
           "7:13:00"
          ],
          [
           19.107077,
           47.485742,
           35,
           "7:15:00"
          ],
          [
           19.103174,
           47.481389,
           34,
           "7:16:00"
          ],
          [
           19.098907,
           47.475879,
           32,
           "7:18:00"
          ],
          [
           19.095534,
           47.47239,
           31,
           "7:19:00"
          ],
          [
           19.088529,
           47.470172,
           29,
           "7:21:00"
          ],
          [
           19.083728,
           47.469596,
           27,
           "7:23:00"
          ],
          [
           19.072756,
           47.468737,
           25,
           "7:25:00"
          ],
          [
           19.059717,
           47.469171,
           23,
           "7:27:00"
          ],
          [
           19.053655,
           47.469808,
           22,
           "7:28:00"
          ],
          [
           19.04957,
           47.466536,
           20,
           "7:30:00"
          ],
          [
           19.048336,
           47.462066,
           18,
           "7:32:00"
          ],
          [
           19.042594,
           47.462389,
           16,
           "7:34:00"
          ],
          [
           19.032434,
           47.463737,
           14,
           "7:36:00"
          ],
          [
           19.028906,
           47.464205,
           13,
           "7:37:00"
          ],
          [
           19.02311,
           47.463988,
           11,
           "7:39:00"
          ],
          [
           19.02937,
           47.548766,
           60,
           "6:50:00"
          ],
          [
           19.034772,
           47.544878,
           58,
           "6:52:00"
          ],
          [
           19.040538,
           47.541109,
           57,
           "6:53:00"
          ],
          [
           19.045937,
           47.539377,
           56,
           "6:54:00"
          ],
          [
           19.059532,
           47.536087,
           54,
           "6:56:00"
          ],
          [
           19.066119,
           47.532974,
           52,
           "6:58:00"
          ],
          [
           19.070699,
           47.530041,
           51,
           "6:59:00"
          ],
          [
           19.077524,
           47.525797,
           49,
           "7:01:00"
          ],
          [
           19.081478,
           47.52323,
           48,
           "7:02:00"
          ],
          [
           19.088565,
           47.518677,
           46,
           "7:04:00"
          ],
          [
           19.091909,
           47.5164,
           45,
           "7:05:00"
          ],
          [
           19.096261,
           47.513431,
           43,
           "7:07:00"
          ],
          [
           19.09958,
           47.510921,
           42,
           "7:08:00"
          ],
          [
           19.104445,
           47.506744,
           40,
           "7:10:00"
          ],
          [
           19.108151,
           47.500387,
           37,
           "7:13:00"
          ],
          [
           19.109078,
           47.495706,
           36,
           "7:14:00"
          ],
          [
           19.10891,
           47.49069,
           34,
           "7:16:00"
          ],
          [
           19.107077,
           47.485742,
           32,
           "7:18:00"
          ],
          [
           19.103174,
           47.481389,
           31,
           "7:19:00"
          ],
          [
           19.098907,
           47.475879,
           29,
           "7:21:00"
          ],
          [
           19.095534,
           47.47239,
           28,
           "7:22:00"
          ],
          [
           19.088529,
           47.470172,
           26,
           "7:24:00"
          ],
          [
           19.083728,
           47.469596,
           24,
           "7:26:00"
          ],
          [
           19.072756,
           47.468737,
           22,
           "7:28:00"
          ],
          [
           19.059717,
           47.469171,
           20,
           "7:30:00"
          ],
          [
           19.053655,
           47.469808,
           19,
           "7:31:00"
          ],
          [
           19.04957,
           47.466536,
           17,
           "7:33:00"
          ],
          [
           19.048336,
           47.462066,
           15,
           "7:35:00"
          ],
          [
           19.042594,
           47.462389,
           13,
           "7:37:00"
          ],
          [
           19.032434,
           47.463737,
           11,
           "7:39:00"
          ],
          [
           19.028906,
           47.464205,
           10,
           "7:40:00"
          ],
          [
           19.02311,
           47.463988,
           8,
           "7:42:00"
          ],
          [
           19.02937,
           47.548766,
           56,
           "6:54:00"
          ],
          [
           19.034772,
           47.544878,
           54,
           "6:56:00"
          ],
          [
           19.040538,
           47.541109,
           53,
           "6:57:00"
          ],
          [
           19.045937,
           47.539377,
           52,
           "6:58:00"
          ],
          [
           19.059532,
           47.536087,
           50,
           "7:00:00"
          ],
          [
           19.066119,
           47.532974,
           48,
           "7:02:00"
          ],
          [
           19.070699,
           47.530041,
           47,
           "7:03:00"
          ],
          [
           19.077524,
           47.525797,
           45,
           "7:05:00"
          ],
          [
           19.081478,
           47.52323,
           44,
           "7:06:00"
          ],
          [
           19.088565,
           47.518677,
           42,
           "7:08:00"
          ],
          [
           19.091909,
           47.5164,
           41,
           "7:09:00"
          ],
          [
           19.096261,
           47.513431,
           39,
           "7:11:00"
          ],
          [
           19.09958,
           47.510921,
           38,
           "7:12:00"
          ],
          [
           19.104445,
           47.506744,
           36,
           "7:14:00"
          ],
          [
           19.108151,
           47.500387,
           33,
           "7:17:00"
          ],
          [
           19.109078,
           47.495706,
           32,
           "7:18:00"
          ],
          [
           19.10891,
           47.49069,
           30,
           "7:20:00"
          ],
          [
           19.107077,
           47.485742,
           28,
           "7:22:00"
          ],
          [
           19.103174,
           47.481389,
           27,
           "7:23:00"
          ],
          [
           19.098907,
           47.475879,
           25,
           "7:25:00"
          ],
          [
           19.095534,
           47.47239,
           24,
           "7:26:00"
          ],
          [
           19.088529,
           47.470172,
           22,
           "7:28:00"
          ],
          [
           19.083728,
           47.469596,
           20,
           "7:30:00"
          ],
          [
           19.072756,
           47.468737,
           18,
           "7:32:00"
          ],
          [
           19.059717,
           47.469171,
           16,
           "7:34:00"
          ],
          [
           19.053655,
           47.469808,
           15,
           "7:35:00"
          ],
          [
           19.04957,
           47.466536,
           13,
           "7:37:00"
          ],
          [
           19.048336,
           47.462066,
           11,
           "7:39:00"
          ],
          [
           19.042594,
           47.462389,
           9,
           "7:41:00"
          ],
          [
           19.032434,
           47.463737,
           7,
           "7:43:00"
          ],
          [
           19.028906,
           47.464205,
           6,
           "7:44:00"
          ],
          [
           19.02311,
           47.463988,
           4,
           "7:46:00"
          ],
          [
           19.023388,
           47.464473,
           23,
           "7:27:00"
          ],
          [
           19.029635,
           47.464088,
           22,
           "7:28:00"
          ],
          [
           19.033309,
           47.463603,
           20,
           "7:30:00"
          ],
          [
           19.043363,
           47.462254,
           18,
           "7:32:00"
          ],
          [
           19.048509,
           47.462551,
           17,
           "7:33:00"
          ],
          [
           19.049756,
           47.467013,
           16,
           "7:34:00"
          ],
          [
           19.054384,
           47.469646,
           14,
           "7:36:00"
          ],
          [
           19.0605,
           47.469072,
           13,
           "7:37:00"
          ],
          [
           19.073486,
           47.468737,
           11,
           "7:39:00"
          ],
          [
           19.084482,
           47.469723,
           9,
           "7:41:00"
          ],
          [
           19.089313,
           47.470305,
           7,
           "7:43:00"
          ],
          [
           19.096118,
           47.472723,
           5,
           "7:45:00"
          ],
          [
           19.099288,
           47.476294,
           3,
           "7:47:00"
          ],
          [
           19.103619,
           47.48177,
           2,
           "7:48:00"
          ],
          [
           19.107515,
           47.486236,
           0,
           "7:50:00"
          ],
          [
           19.023388,
           47.464473,
           20,
           "7:30:00"
          ],
          [
           19.029635,
           47.464088,
           19,
           "7:31:00"
          ],
          [
           19.033309,
           47.463603,
           17,
           "7:33:00"
          ],
          [
           19.043363,
           47.462254,
           15,
           "7:35:00"
          ],
          [
           19.048509,
           47.462551,
           14,
           "7:36:00"
          ],
          [
           19.049756,
           47.467013,
           13,
           "7:37:00"
          ],
          [
           19.054384,
           47.469646,
           11,
           "7:39:00"
          ],
          [
           19.0605,
           47.469072,
           10,
           "7:40:00"
          ],
          [
           19.073486,
           47.468737,
           8,
           "7:42:00"
          ],
          [
           19.084482,
           47.469723,
           6,
           "7:44:00"
          ],
          [
           19.089313,
           47.470305,
           4,
           "7:46:00"
          ],
          [
           19.096118,
           47.472723,
           2,
           "7:48:00"
          ],
          [
           19.099288,
           47.476294,
           0,
           "7:50:00"
          ],
          [
           19.023388,
           47.464473,
           16,
           "7:34:00"
          ],
          [
           19.029635,
           47.464088,
           15,
           "7:35:00"
          ],
          [
           19.033309,
           47.463603,
           13,
           "7:37:00"
          ],
          [
           19.043363,
           47.462254,
           11,
           "7:39:00"
          ],
          [
           19.048509,
           47.462551,
           10,
           "7:40:00"
          ],
          [
           19.049756,
           47.467013,
           9,
           "7:41:00"
          ],
          [
           19.054384,
           47.469646,
           7,
           "7:43:00"
          ],
          [
           19.0605,
           47.469072,
           6,
           "7:44:00"
          ],
          [
           19.073486,
           47.468737,
           4,
           "7:46:00"
          ],
          [
           19.084482,
           47.469723,
           2,
           "7:48:00"
          ],
          [
           19.089313,
           47.470305,
           0,
           "7:50:00"
          ],
          [
           19.02937,
           47.548766,
           73,
           "6:37:00"
          ],
          [
           19.034772,
           47.544878,
           71,
           "6:39:00"
          ],
          [
           19.040538,
           47.541109,
           70,
           "6:40:00"
          ],
          [
           19.045937,
           47.539377,
           69,
           "6:41:00"
          ],
          [
           19.059532,
           47.536087,
           67,
           "6:43:00"
          ],
          [
           19.066119,
           47.532974,
           65,
           "6:45:00"
          ],
          [
           19.070699,
           47.530041,
           64,
           "6:46:00"
          ],
          [
           19.077524,
           47.525797,
           62,
           "6:48:00"
          ],
          [
           19.081478,
           47.52323,
           61,
           "6:49:00"
          ],
          [
           19.088565,
           47.518677,
           59,
           "6:51:00"
          ],
          [
           19.091909,
           47.5164,
           58,
           "6:52:00"
          ],
          [
           19.096261,
           47.513431,
           56,
           "6:54:00"
          ],
          [
           19.09958,
           47.510921,
           55,
           "6:55:00"
          ],
          [
           19.104445,
           47.506744,
           53,
           "6:57:00"
          ],
          [
           19.108151,
           47.500387,
           50,
           "7:00:00"
          ],
          [
           19.109078,
           47.495706,
           49,
           "7:01:00"
          ],
          [
           19.10891,
           47.49069,
           47,
           "7:03:00"
          ],
          [
           19.107077,
           47.485742,
           45,
           "7:05:00"
          ],
          [
           19.103174,
           47.481389,
           44,
           "7:06:00"
          ],
          [
           19.098907,
           47.475879,
           42,
           "7:08:00"
          ],
          [
           19.095534,
           47.47239,
           41,
           "7:09:00"
          ],
          [
           19.088529,
           47.470172,
           39,
           "7:11:00"
          ],
          [
           19.083728,
           47.469596,
           37,
           "7:13:00"
          ],
          [
           19.072756,
           47.468737,
           35,
           "7:15:00"
          ],
          [
           19.059717,
           47.469171,
           33,
           "7:17:00"
          ],
          [
           19.053655,
           47.469808,
           32,
           "7:18:00"
          ],
          [
           19.04957,
           47.466536,
           30,
           "7:20:00"
          ],
          [
           19.048336,
           47.462066,
           28,
           "7:22:00"
          ],
          [
           19.042594,
           47.462389,
           26,
           "7:24:00"
          ],
          [
           19.032434,
           47.463737,
           24,
           "7:26:00"
          ],
          [
           19.028906,
           47.464205,
           23,
           "7:27:00"
          ],
          [
           19.02311,
           47.463988,
           21,
           "7:29:00"
          ],
          [
           19.023388,
           47.464473,
           13,
           "7:37:00"
          ],
          [
           19.029635,
           47.464088,
           12,
           "7:38:00"
          ],
          [
           19.033309,
           47.463603,
           10,
           "7:40:00"
          ],
          [
           19.043363,
           47.462254,
           8,
           "7:42:00"
          ],
          [
           19.048509,
           47.462551,
           7,
           "7:43:00"
          ],
          [
           19.049756,
           47.467013,
           6,
           "7:44:00"
          ],
          [
           19.054384,
           47.469646,
           4,
           "7:46:00"
          ],
          [
           19.0605,
           47.469072,
           3,
           "7:47:00"
          ],
          [
           19.073486,
           47.468737,
           1,
           "7:49:00"
          ]
         ],
         "hovertemplate": "<b>%{hovertext}</b><br><br>y_coor=%{customdata[1]}<br>x_coor=%{customdata[0]}<br>time_to_school=%{customdata[2]}<br>get_on=%{customdata[3]}<extra></extra>",
         "hovertext": [
          "Móricz Zsigmond körtér M",
          "Budafoki út / Karinthy Frigyes út",
          "Petőfi híd, budai hídfő",
          "Boráros tér H",
          "Mester utca / Ferenc körút",
          "Corvin-negyed M",
          "Harminckettesek tere",
          "Rákóczi tér M",
          "Blaha Lujza tér M",
          "Wesselényi utca / Erzsébet körút",
          "Király utca / Erzsébet körút",
          "Oktogon M",
          "Nyugati pályaudvar M",
          "Jászai Mari tér",
          "Margitsziget / Margit híd",
          "Margit híd, budai hídfő H",
          "Mechwart liget",
          "Széna tér",
          "Széll Kálmán tér M",
          "Móricz Zsigmond körtér M",
          "Budafoki út / Karinthy Frigyes út",
          "Petőfi híd, budai hídfő",
          "Boráros tér H",
          "Mester utca / Ferenc körút",
          "Corvin-negyed M",
          "Harminckettesek tere",
          "Rákóczi tér M",
          "Blaha Lujza tér M",
          "Wesselényi utca / Erzsébet körút",
          "Újbuda-központ M",
          "Budafoki út / Szerémi sor",
          "Petőfi híd, budai hídfő",
          "Boráros tér H",
          "Mester utca / Ferenc körút",
          "Corvin-negyed M",
          "Harminckettesek tere",
          "Rákóczi tér M",
          "Blaha Lujza tér M",
          "Wesselényi utca / Erzsébet körút",
          "Király utca / Erzsébet körút",
          "Oktogon M",
          "Nyugati pályaudvar M",
          "Jászai Mari tér",
          "Margitsziget / Margit híd",
          "Margit híd, budai hídfő H",
          "Mechwart liget",
          "Széna tér",
          "Széll Kálmán tér M",
          "Móricz Zsigmond körtér M",
          "Budafoki út / Karinthy Frigyes út",
          "Petőfi híd, budai hídfő",
          "Boráros tér H",
          "Mester utca / Ferenc körút",
          "Corvin-negyed M",
          "Harminckettesek tere",
          "Rákóczi tér M",
          "Blaha Lujza tér M",
          "Wesselényi utca / Erzsébet körút",
          "Király utca / Erzsébet körút",
          "Oktogon M",
          "Nyugati pályaudvar M",
          "Jászai Mari tér",
          "Margitsziget / Margit híd",
          "Margit híd, budai hídfő H",
          "Mechwart liget",
          "Széna tér",
          "Széll Kálmán tér M",
          "Újbuda-központ M",
          "Budafoki út / Szerémi sor",
          "Petőfi híd, budai hídfő",
          "Boráros tér H",
          "Mester utca / Ferenc körút",
          "Corvin-negyed M",
          "Harminckettesek tere",
          "Rákóczi tér M",
          "Blaha Lujza tér M",
          "Wesselényi utca / Erzsébet körút",
          "Király utca / Erzsébet körút",
          "Oktogon M",
          "Nyugati pályaudvar M",
          "Jászai Mari tér",
          "Margitsziget / Margit híd",
          "Margit híd, budai hídfő H",
          "Mechwart liget",
          "Széna tér",
          "Széll Kálmán tér M",
          "Újbuda-központ M",
          "Budafoki út / Szerémi sor",
          "Petőfi híd, budai hídfő",
          "Boráros tér H",
          "Mester utca / Ferenc körút",
          "Corvin-negyed M",
          "Harminckettesek tere",
          "Rákóczi tér M",
          "Blaha Lujza tér M",
          "Wesselényi utca / Erzsébet körút",
          "Király utca / Erzsébet körút",
          "Oktogon M",
          "Nyugati pályaudvar M",
          "Jászai Mari tér",
          "Margitsziget / Margit híd",
          "Margit híd, budai hídfő H",
          "Mechwart liget",
          "Széna tér",
          "Móricz Zsigmond körtér M",
          "Budafoki út / Karinthy Frigyes út",
          "Petőfi híd, budai hídfő",
          "Boráros tér H",
          "Mester utca / Ferenc körút",
          "Corvin-negyed M",
          "Harminckettesek tere",
          "Rákóczi tér M",
          "Blaha Lujza tér M",
          "Wesselényi utca / Erzsébet körút",
          "Király utca / Erzsébet körút",
          "Oktogon M",
          "Nyugati pályaudvar M",
          "Jászai Mari tér",
          "Margitsziget / Margit híd",
          "Margit híd, budai hídfő H",
          "Mechwart liget",
          "Széll Kálmán tér M",
          "Széna tér",
          "Mechwart liget",
          "Margit híd, budai hídfő H",
          "Margitsziget / Margit híd",
          "Jászai Mari tér",
          "Nyugati pályaudvar M",
          "Oktogon M",
          "Király utca / Erzsébet körút",
          "Wesselényi utca / Erzsébet körút",
          "Blaha Lujza tér M",
          "Rákóczi tér M",
          "Harminckettesek tere",
          "Corvin-negyed M",
          "Mester utca / Ferenc körút",
          "Boráros tér H",
          "Petőfi híd, budai hídfő",
          "Budafoki út / Szerémi sor",
          "Újbuda-központ M",
          "Újbuda-központ M",
          "Budafoki út / Szerémi sor",
          "Petőfi híd, budai hídfő",
          "Boráros tér H",
          "Mester utca / Ferenc körút",
          "Corvin-negyed M",
          "Harminckettesek tere",
          "Rákóczi tér M",
          "Blaha Lujza tér M",
          "Wesselényi utca / Erzsébet körút",
          "Király utca / Erzsébet körút",
          "Oktogon M",
          "Nyugati pályaudvar M",
          "Jászai Mari tér",
          "Margitsziget / Margit híd",
          "Margit híd, budai hídfő H",
          "Széll Kálmán tér M",
          "Széna tér",
          "Mechwart liget",
          "Margit híd, budai hídfő H",
          "Margitsziget / Margit híd",
          "Jászai Mari tér",
          "Nyugati pályaudvar M",
          "Oktogon M",
          "Király utca / Erzsébet körút",
          "Wesselényi utca / Erzsébet körút",
          "Blaha Lujza tér M",
          "Rákóczi tér M",
          "Harminckettesek tere",
          "Corvin-negyed M",
          "Mester utca / Ferenc körút",
          "Boráros tér H",
          "Petőfi híd, budai hídfő",
          "Budafoki út / Karinthy Frigyes út",
          "Móricz Zsigmond körtér M",
          "Móricz Zsigmond körtér M",
          "Budafoki út / Karinthy Frigyes út",
          "Petőfi híd, budai hídfő",
          "Boráros tér H",
          "Mester utca / Ferenc körút",
          "Corvin-negyed M",
          "Harminckettesek tere",
          "Rákóczi tér M",
          "Blaha Lujza tér M",
          "Wesselényi utca / Erzsébet körút",
          "Király utca / Erzsébet körút",
          "Oktogon M",
          "Nyugati pályaudvar M",
          "Jászai Mari tér",
          "Széll Kálmán tér M",
          "Széna tér",
          "Mechwart liget",
          "Margit híd, budai hídfő H",
          "Margitsziget / Margit híd",
          "Jászai Mari tér",
          "Nyugati pályaudvar M",
          "Oktogon M",
          "Király utca / Erzsébet körút",
          "Wesselényi utca / Erzsébet körút",
          "Blaha Lujza tér M",
          "Rákóczi tér M",
          "Harminckettesek tere",
          "Corvin-negyed M",
          "Mester utca / Ferenc körút",
          "Boráros tér H",
          "Petőfi híd, budai hídfő",
          "Budafoki út / Szerémi sor",
          "Újbuda-központ M",
          "Újbuda-központ M",
          "Budafoki út / Szerémi sor",
          "Petőfi híd, budai hídfő",
          "Boráros tér H",
          "Mester utca / Ferenc körút",
          "Corvin-negyed M",
          "Harminckettesek tere",
          "Rákóczi tér M",
          "Blaha Lujza tér M",
          "Wesselényi utca / Erzsébet körút",
          "Király utca / Erzsébet körút",
          "Oktogon M",
          "Nyugati pályaudvar M",
          "Széll Kálmán tér M",
          "Széna tér",
          "Mechwart liget",
          "Margit híd, budai hídfő H",
          "Margitsziget / Margit híd",
          "Jászai Mari tér",
          "Nyugati pályaudvar M",
          "Oktogon M",
          "Király utca / Erzsébet körút",
          "Wesselényi utca / Erzsébet körút",
          "Blaha Lujza tér M",
          "Rákóczi tér M",
          "Harminckettesek tere",
          "Corvin-negyed M",
          "Mester utca / Ferenc körút",
          "Boráros tér H",
          "Petőfi híd, budai hídfő",
          "Budafoki út / Karinthy Frigyes út",
          "Móricz Zsigmond körtér M",
          "Móricz Zsigmond körtér M",
          "Budafoki út / Karinthy Frigyes út",
          "Petőfi híd, budai hídfő",
          "Boráros tér H",
          "Mester utca / Ferenc körút",
          "Corvin-negyed M",
          "Harminckettesek tere",
          "Rákóczi tér M",
          "Blaha Lujza tér M",
          "Wesselényi utca / Erzsébet körút",
          "Király utca / Erzsébet körút",
          "Oktogon M",
          "Újbuda-központ M",
          "Budafoki út / Szerémi sor",
          "Petőfi híd, budai hídfő",
          "Boráros tér H",
          "Mester utca / Ferenc körút",
          "Corvin-negyed M",
          "Harminckettesek tere",
          "Rákóczi tér M",
          "Blaha Lujza tér M",
          "Wesselényi utca / Erzsébet körút",
          "Király utca / Erzsébet körút",
          "Széll Kálmán tér M",
          "Széna tér",
          "Mechwart liget",
          "Margit híd, budai hídfő H",
          "Margitsziget / Margit híd",
          "Jászai Mari tér",
          "Nyugati pályaudvar M",
          "Oktogon M",
          "Király utca / Erzsébet körút",
          "Wesselényi utca / Erzsébet körút",
          "Blaha Lujza tér M",
          "Rákóczi tér M",
          "Harminckettesek tere",
          "Corvin-negyed M",
          "Mester utca / Ferenc körút",
          "Boráros tér H",
          "Petőfi híd, budai hídfő",
          "Budafoki út / Szerémi sor",
          "Újbuda-központ M",
          "Újbuda-központ M",
          "Budafoki út / Szerémi sor",
          "Petőfi híd, budai hídfő",
          "Boráros tér H",
          "Mester utca / Ferenc körút",
          "Corvin-negyed M",
          "Harminckettesek tere",
          "Rákóczi tér M",
          "Széll Kálmán tér M",
          "Széna tér",
          "Mechwart liget",
          "Margit híd, budai hídfő H",
          "Margitsziget / Margit híd",
          "Jászai Mari tér",
          "Nyugati pályaudvar M",
          "Oktogon M",
          "Király utca / Erzsébet körút",
          "Wesselényi utca / Erzsébet körút",
          "Blaha Lujza tér M",
          "Rákóczi tér M",
          "Harminckettesek tere",
          "Corvin-negyed M",
          "Mester utca / Ferenc körút",
          "Boráros tér H",
          "Petőfi híd, budai hídfő",
          "Budafoki út / Karinthy Frigyes út",
          "Móricz Zsigmond körtér M",
          "Móricz Zsigmond körtér M",
          "Budafoki út / Karinthy Frigyes út",
          "Petőfi híd, budai hídfő",
          "Boráros tér H",
          "Mester utca / Ferenc körút",
          "Corvin-negyed M",
          "Harminckettesek tere",
          "Széll Kálmán tér M",
          "Széna tér",
          "Mechwart liget",
          "Margit híd, budai hídfő H",
          "Margitsziget / Margit híd",
          "Jászai Mari tér",
          "Nyugati pályaudvar M",
          "Oktogon M",
          "Király utca / Erzsébet körút",
          "Wesselényi utca / Erzsébet körút",
          "Blaha Lujza tér M",
          "Rákóczi tér M",
          "Harminckettesek tere",
          "Corvin-negyed M",
          "Mester utca / Ferenc körút",
          "Boráros tér H",
          "Petőfi híd, budai hídfő",
          "Budafoki út / Szerémi sor",
          "Újbuda-központ M",
          "Újbuda-központ M",
          "Budafoki út / Szerémi sor",
          "Petőfi híd, budai hídfő",
          "Boráros tér H",
          "Mester utca / Ferenc körút",
          "Corvin-negyed M",
          "Széll Kálmán tér M",
          "Széna tér",
          "Mechwart liget",
          "Margit híd, budai hídfő H",
          "Margitsziget / Margit híd",
          "Jászai Mari tér",
          "Nyugati pályaudvar M",
          "Oktogon M",
          "Király utca / Erzsébet körút",
          "Wesselényi utca / Erzsébet körút",
          "Blaha Lujza tér M",
          "Rákóczi tér M",
          "Harminckettesek tere",
          "Corvin-negyed M",
          "Mester utca / Ferenc körút",
          "Boráros tér H",
          "Petőfi híd, budai hídfő",
          "Budafoki út / Karinthy Frigyes út",
          "Móricz Zsigmond körtér M",
          "Móricz Zsigmond körtér M",
          "Budafoki út / Karinthy Frigyes út",
          "Petőfi híd, budai hídfő",
          "Boráros tér H",
          "Széll Kálmán tér M",
          "Széna tér",
          "Mechwart liget",
          "Margit híd, budai hídfő H",
          "Margitsziget / Margit híd",
          "Jászai Mari tér",
          "Nyugati pályaudvar M",
          "Oktogon M",
          "Király utca / Erzsébet körút",
          "Wesselényi utca / Erzsébet körút",
          "Blaha Lujza tér M",
          "Rákóczi tér M",
          "Harminckettesek tere",
          "Corvin-negyed M",
          "Mester utca / Ferenc körút",
          "Boráros tér H",
          "Petőfi híd, budai hídfő",
          "Budafoki út / Szerémi sor",
          "Újbuda-központ M",
          "Újbuda-központ M",
          "Budafoki út / Szerémi sor",
          "Petőfi híd, budai hídfő",
          "Széll Kálmán tér M",
          "Széna tér",
          "Mechwart liget",
          "Margit híd, budai hídfő H",
          "Margitsziget / Margit híd",
          "Jászai Mari tér",
          "Nyugati pályaudvar M",
          "Oktogon M",
          "Király utca / Erzsébet körút",
          "Wesselényi utca / Erzsébet körút",
          "Blaha Lujza tér M",
          "Rákóczi tér M",
          "Harminckettesek tere",
          "Corvin-negyed M",
          "Mester utca / Ferenc körút",
          "Boráros tér H",
          "Petőfi híd, budai hídfő",
          "Budafoki út / Karinthy Frigyes út",
          "Móricz Zsigmond körtér M",
          "Széll Kálmán tér M",
          "Széna tér",
          "Mechwart liget",
          "Margit híd, budai hídfő H",
          "Margitsziget / Margit híd",
          "Jászai Mari tér",
          "Nyugati pályaudvar M",
          "Oktogon M",
          "Király utca / Erzsébet körút",
          "Wesselényi utca / Erzsébet körút",
          "Blaha Lujza tér M",
          "Rákóczi tér M",
          "Harminckettesek tere",
          "Corvin-negyed M",
          "Mester utca / Ferenc körút",
          "Boráros tér H",
          "Petőfi híd, budai hídfő",
          "Budafoki út / Szerémi sor",
          "Újbuda-központ M",
          "Széll Kálmán tér M",
          "Széna tér",
          "Mechwart liget",
          "Margit híd, budai hídfő H",
          "Margitsziget / Margit híd",
          "Jászai Mari tér",
          "Nyugati pályaudvar M",
          "Oktogon M",
          "Király utca / Erzsébet körút",
          "Wesselényi utca / Erzsébet körút",
          "Blaha Lujza tér M",
          "Rákóczi tér M",
          "Harminckettesek tere",
          "Corvin-negyed M",
          "Mester utca / Ferenc körút",
          "Boráros tér H",
          "Petőfi híd, budai hídfő",
          "Budafoki út / Karinthy Frigyes út",
          "Móricz Zsigmond körtér M",
          "Széll Kálmán tér M",
          "Széna tér",
          "Mechwart liget",
          "Margit híd, budai hídfő H",
          "Margitsziget / Margit híd",
          "Jászai Mari tér",
          "Nyugati pályaudvar M",
          "Oktogon M",
          "Király utca / Erzsébet körút",
          "Wesselényi utca / Erzsébet körút",
          "Blaha Lujza tér M",
          "Rákóczi tér M",
          "Harminckettesek tere",
          "Corvin-negyed M",
          "Mester utca / Ferenc körút",
          "Boráros tér H",
          "Petőfi híd, budai hídfő",
          "Budafoki út / Szerémi sor",
          "Újbuda-központ M",
          "Széll Kálmán tér M",
          "Széna tér",
          "Mechwart liget",
          "Margit híd, budai hídfő H",
          "Margitsziget / Margit híd",
          "Jászai Mari tér",
          "Nyugati pályaudvar M",
          "Oktogon M",
          "Király utca / Erzsébet körút",
          "Wesselényi utca / Erzsébet körút",
          "Blaha Lujza tér M",
          "Rákóczi tér M",
          "Harminckettesek tere",
          "Corvin-negyed M",
          "Mester utca / Ferenc körút",
          "Boráros tér H",
          "Petőfi híd, budai hídfő",
          "Budafoki út / Karinthy Frigyes út",
          "Móricz Zsigmond körtér M",
          "Széll Kálmán tér M",
          "Széna tér",
          "Mechwart liget",
          "Margit híd, budai hídfő H",
          "Margitsziget / Margit híd",
          "Jászai Mari tér",
          "Nyugati pályaudvar M",
          "Oktogon M",
          "Király utca / Erzsébet körút",
          "Wesselényi utca / Erzsébet körút",
          "Blaha Lujza tér M",
          "Rákóczi tér M",
          "Harminckettesek tere",
          "Corvin-negyed M",
          "Mester utca / Ferenc körút",
          "Boráros tér H",
          "Petőfi híd, budai hídfő",
          "Budafoki út / Szerémi sor",
          "Újbuda-központ M",
          "Széll Kálmán tér M",
          "Széna tér",
          "Mechwart liget",
          "Margit híd, budai hídfő H",
          "Margitsziget / Margit híd",
          "Jászai Mari tér",
          "Nyugati pályaudvar M",
          "Oktogon M",
          "Király utca / Erzsébet körút",
          "Wesselényi utca / Erzsébet körút",
          "Blaha Lujza tér M",
          "Rákóczi tér M",
          "Harminckettesek tere",
          "Corvin-negyed M",
          "Mester utca / Ferenc körút",
          "Boráros tér H",
          "Petőfi híd, budai hídfő",
          "Budafoki út / Karinthy Frigyes út",
          "Infopark (Pázmány Péter sétány)",
          "Magyar tudósok körútja",
          "Egyetemváros - A38 hajóállomás",
          "Petőfi híd, budai hídfő",
          "Budafoki út / Szerémi sor",
          "Újbuda-központ M",
          "Kosztolányi Dezső tér",
          "Karolina út",
          "Szent Imre Kórház",
          "Tétényi út 30.",
          "Bikás park M",
          "Puskás Tivadar utca",
          "Bornemissza tér",
          "Pajkos utca",
          "Hajtány sor",
          "Gépész utca",
          "Torma utca",
          "Bolygó utca",
          "Őrmezei út",
          "Igmándi utca",
          "Menyecske utca",
          "Kérő utca",
          "Gazdagréti tér",
          "Tűzkő utca",
          "Szent Angyalok-templom",
          "Torbágy utca",
          "Törökugrató utca",
          "Regős utca",
          "Gazdagréti út",
          "Jégvirág utca",
          "Neszmélyi út",
          "Zelk Zoltán út / Neszmélyi út",
          "Zelk Zoltán út (Menyecske utca)",
          "Kelenföld vasútállomás M",
          "Sasadi út",
          "Kérő utca",
          "Menyecske utca",
          "Igmándi utca",
          "Őrmezei út",
          "Alabástrom utca",
          "Torma utca",
          "Kecskeméti József utca",
          "Duránci utca",
          "Gépész utca",
          "Hajtány sor",
          "Pajkos utca",
          "Andor utca / Tétényi út",
          "Bornemissza tér",
          "Puskás Tivadar utca",
          "Bikás park M",
          "Tétényi út 30.",
          "Szent Imre Kórház",
          "Karolina út",
          "Kosztolányi Dezső tér",
          "Újbuda-központ M",
          "Budafoki út / Szerémi sor",
          "Petőfi híd, budai hídfő",
          "Egyetemváros - A38 hajóállomás",
          "Magyar tudósok körútja",
          "Infopark (Pázmány Péter sétány)",
          "Infopark (Pázmány Péter sétány)",
          "Magyar tudósok körútja",
          "Egyetemváros - A38 hajóállomás",
          "Petőfi híd, budai hídfő",
          "Budafoki út / Szerémi sor",
          "Újbuda-központ M",
          "Kosztolányi Dezső tér",
          "Karolina út",
          "Gazdagréti tér",
          "Tűzkő utca",
          "Szent Angyalok-templom",
          "Torbágy utca",
          "Törökugrató utca",
          "Regős utca",
          "Gazdagréti út",
          "Jégvirág utca",
          "Neszmélyi út",
          "Zelk Zoltán út / Neszmélyi út",
          "Zelk Zoltán út (Menyecske utca)",
          "Kelenföld vasútállomás M",
          "Dayka Gábor utca",
          "Ajnácskő utca",
          "Hollókő utca",
          "Vincellér utca",
          "Kosztolányi Dezső tér",
          "Újbuda-központ M",
          "Budafoki út / Szerémi sor",
          "Petőfi híd, budai hídfő",
          "Egyetemváros - A38 hajóállomás",
          "Magyar tudósok körútja",
          "Infopark (Pázmány Péter sétány)",
          "BudaPart",
          "BudaPart",
          "Budafoki út / Dombóvári út",
          "Budafoki út / Szerémi sor",
          "Újbuda-központ M",
          "Kosztolányi Dezső tér",
          "Vincellér utca",
          "Hollókő utca",
          "Ajnácskő utca",
          "Dayka Gábor utca",
          "Sasadi út",
          "Kelenföld vasútállomás M",
          "Zelk Zoltán út (Menyecske utca)",
          "Zelk Zoltán út / Neszmélyi út",
          "Neszmélyi út",
          "Nagyszeben út",
          "Gazdagréti út",
          "Gazdagréti tér",
          "Tűzkő utca",
          "Szent Angyalok-templom",
          "Torbágy utca",
          "Törökugrató utca",
          "Regős utca",
          "Gazdagréti út",
          "Jégvirág utca",
          "Neszmélyi út",
          "Zelk Zoltán út / Neszmélyi út",
          "Zelk Zoltán út (Menyecske utca)",
          "Kelenföld vasútállomás M",
          "Dayka Gábor utca",
          "Ajnácskő utca",
          "Hollókő utca",
          "Vincellér utca",
          "Kosztolányi Dezső tér",
          "Újbuda-központ M",
          "Budafoki út / Szerémi sor",
          "Petőfi híd, budai hídfő",
          "Egyetemváros - A38 hajóállomás",
          "Magyar tudósok körútja",
          "Infopark (Pázmány Péter sétány)",
          "BudaPart",
          "BudaPart",
          "Budafoki út / Dombóvári út",
          "Budafoki út / Szerémi sor",
          "Újpalota, Nyírpalota út",
          "Vásárcsarnok",
          "Fő tér",
          "Molnár Viktor utca",
          "Miskolci utca / Csömöri út",
          "Bosnyák tér",
          "Tisza István tér",
          "Zugló vasútállomás",
          "Reiner Frigyes park",
          "Keleti pályaudvar M",
          "Blaha Lujza tér M",
          "Uránia",
          "Astoria M",
          "Ferenciek tere M",
          "Március 15. tér",
          "Szent Gellért tér - Műegyetem M",
          "Budafoki út / Karinthy Frigyes út",
          "Budafoki út / Szerémi sor",
          "Budafoki út / Dombóvári út",
          "Kelenföldi Erőmű",
          "Hengermalom út",
          "Építész utca",
          "Leányka utcai lakótelep",
          "Savoyai Jenő tér",
          "Városház tér",
          "Háros vasútállomás",
          "Háros utca",
          "Jókai Mór utca",
          "Lépcsős utca",
          "Budatétény vasútállomás (Növény utca)",
          "Dózsa György út",
          "Tenkes utca",
          "Bartók Béla út",
          "Újpalota, Nyírpalota út",
          "Vásárcsarnok",
          "Fő tér",
          "Molnár Viktor utca",
          "Miskolci utca / Csömöri út",
          "Bosnyák tér",
          "Tisza István tér",
          "Zugló vasútállomás",
          "Reiner Frigyes park",
          "Keleti pályaudvar M",
          "Blaha Lujza tér M",
          "Uránia",
          "Astoria M",
          "Ferenciek tere M",
          "Március 15. tér",
          "Szent Gellért tér - Műegyetem M",
          "Budafoki út / Karinthy Frigyes út",
          "Budafoki út / Szerémi sor",
          "Budafoki út / Dombóvári út",
          "Kelenföldi Erőmű",
          "Hengermalom út",
          "Újpalota, Nyírpalota út",
          "Vásárcsarnok",
          "Fő tér",
          "Molnár Viktor utca",
          "Miskolci utca / Csömöri út",
          "Bosnyák tér",
          "Tisza István tér",
          "Zugló vasútállomás",
          "Reiner Frigyes park",
          "Keleti pályaudvar M",
          "Blaha Lujza tér M",
          "Uránia",
          "Astoria M",
          "Ferenciek tere M",
          "Március 15. tér",
          "Szent Gellért tér - Műegyetem M",
          "Budafoki út / Karinthy Frigyes út",
          "Budafoki út / Szerémi sor",
          "Budafoki út / Dombóvári út",
          "Kelenföldi Erőmű",
          "Hengermalom út",
          "Építész utca",
          "Újpalota, Nyírpalota út",
          "Vásárcsarnok",
          "Fő tér",
          "Molnár Viktor utca",
          "Miskolci utca / Csömöri út",
          "Bosnyák tér",
          "Tisza István tér",
          "Zugló vasútállomás",
          "Reiner Frigyes park",
          "Keleti pályaudvar M",
          "Blaha Lujza tér M",
          "Uránia",
          "Astoria M",
          "Ferenciek tere M",
          "Március 15. tér",
          "Szent Gellért tér - Műegyetem M",
          "Budafoki út / Karinthy Frigyes út",
          "Budafoki út / Szerémi sor",
          "Budafoki út / Dombóvári út",
          "Kelenföldi Erőmű",
          "Hengermalom út",
          "Nagytétény, Erdélyi utca",
          "Nagytétény, Erdélyi utca",
          "Akó utca",
          "Angeli utca / Nagytétényi út",
          "Szabadság utca",
          "Petőfi Sándor utca (Kastélymúzeum)",
          "Bartók Béla út",
          "Tenkes utca",
          "Dózsa György út",
          "Budatétény vasútállomás (Növény utca)",
          "Lépcsős utca",
          "Jókai Mór utca",
          "Háros utca",
          "Háros vasútállomás",
          "Városház tér",
          "Savoyai Jenő tér",
          "Leányka utcai lakótelep",
          "Építész utca",
          "Hengermalom út",
          "Kelenföldi Erőmű",
          "Budafoki út / Dombóvári út",
          "Budafoki út / Szerémi sor",
          "Budafoki út / Karinthy Frigyes út",
          "Szent Gellért tér - Műegyetem M",
          "Március 15. tér",
          "Ferenciek tere M",
          "Astoria M",
          "Uránia",
          "Blaha Lujza tér M",
          "Keleti pályaudvar M",
          "Reiner Frigyes park",
          "Zugló vasútállomás",
          "Tisza István tér",
          "Bosnyák tér",
          "Miskolci utca / Csömöri út",
          "Molnár Viktor utca",
          "Nagytétény, Erdélyi utca",
          "Nagytétény, Erdélyi utca",
          "Akó utca",
          "Angeli utca / Nagytétényi út",
          "Szabadság utca",
          "Petőfi Sándor utca (Kastélymúzeum)",
          "Bartók Béla út",
          "Tenkes utca",
          "Dózsa György út",
          "Budatétény vasútállomás (Növény utca)",
          "Lépcsős utca",
          "Jókai Mór utca",
          "Háros utca",
          "Háros vasútállomás",
          "Városház tér",
          "Savoyai Jenő tér",
          "Leányka utcai lakótelep",
          "Építész utca",
          "Hengermalom út",
          "Kelenföldi Erőmű",
          "Budafoki út / Dombóvári út",
          "Budafoki út / Szerémi sor",
          "Budafoki út / Karinthy Frigyes út",
          "Szent Gellért tér - Műegyetem M",
          "Március 15. tér",
          "Ferenciek tere M",
          "Astoria M",
          "Uránia",
          "Blaha Lujza tér M",
          "Keleti pályaudvar M",
          "Reiner Frigyes park",
          "Zugló vasútállomás",
          "Tisza István tér",
          "Nagytétény, Erdélyi utca",
          "Nagytétény, Erdélyi utca",
          "Akó utca",
          "Angeli utca / Nagytétényi út",
          "Szabadság utca",
          "Petőfi Sándor utca (Kastélymúzeum)",
          "Bartók Béla út",
          "Tenkes utca",
          "Dózsa György út",
          "Budatétény vasútállomás (Növény utca)",
          "Lépcsős utca",
          "Jókai Mór utca",
          "Háros utca",
          "Háros vasútállomás",
          "Városház tér",
          "Savoyai Jenő tér",
          "Leányka utcai lakótelep",
          "Építész utca",
          "Hengermalom út",
          "Kelenföldi Erőmű",
          "Budafoki út / Dombóvári út",
          "Budafoki út / Szerémi sor",
          "Budafoki út / Karinthy Frigyes út",
          "Szent Gellért tér - Műegyetem M",
          "Március 15. tér",
          "Ferenciek tere M",
          "Astoria M",
          "Uránia",
          "Blaha Lujza tér M",
          "Keleti pályaudvar M",
          "Reiner Frigyes park",
          "Nagytétény, Erdélyi utca",
          "Nagytétény, Erdélyi utca",
          "Akó utca",
          "Angeli utca / Nagytétényi út",
          "Szabadság utca",
          "Petőfi Sándor utca (Kastélymúzeum)",
          "Bartók Béla út",
          "Tenkes utca",
          "Dózsa György út",
          "Budatétény vasútállomás (Növény utca)",
          "Lépcsős utca",
          "Jókai Mór utca",
          "Háros utca",
          "Háros vasútállomás",
          "Városház tér",
          "Savoyai Jenő tér",
          "Leányka utcai lakótelep",
          "Építész utca",
          "Hengermalom út",
          "Kelenföldi Erőmű",
          "Budafoki út / Dombóvári út",
          "Budafoki út / Szerémi sor",
          "Budafoki út / Karinthy Frigyes út",
          "Szent Gellért tér - Műegyetem M",
          "Március 15. tér",
          "Ferenciek tere M",
          "Astoria M",
          "Uránia",
          "Blaha Lujza tér M",
          "Nagytétény, Erdélyi utca",
          "Nagytétény, Erdélyi utca",
          "Akó utca",
          "Angeli utca / Nagytétényi út",
          "Szabadság utca",
          "Petőfi Sándor utca (Kastélymúzeum)",
          "Bartók Béla út",
          "Tenkes utca",
          "Dózsa György út",
          "Budatétény vasútállomás (Növény utca)",
          "Lépcsős utca",
          "Jókai Mór utca",
          "Háros utca",
          "Háros vasútállomás",
          "Városház tér",
          "Savoyai Jenő tér",
          "Leányka utcai lakótelep",
          "Építész utca",
          "Hengermalom út",
          "Kelenföldi Erőmű",
          "Budafoki út / Dombóvári út",
          "Budafoki út / Szerémi sor",
          "Budafoki út / Karinthy Frigyes út",
          "Szent Gellért tér - Műegyetem M",
          "Március 15. tér",
          "Ferenciek tere M",
          "Nagytétény, Erdélyi utca",
          "Nagytétény, Erdélyi utca",
          "Akó utca",
          "Angeli utca / Nagytétényi út",
          "Szabadság utca",
          "Petőfi Sándor utca (Kastélymúzeum)",
          "Bartók Béla út",
          "Tenkes utca",
          "Dózsa György út",
          "Budatétény vasútállomás (Növény utca)",
          "Lépcsős utca",
          "Jókai Mór utca",
          "Háros utca",
          "Háros vasútállomás",
          "Városház tér",
          "Savoyai Jenő tér",
          "Leányka utcai lakótelep",
          "Építész utca",
          "Hengermalom út",
          "Kelenföldi Erőmű",
          "Budafoki út / Dombóvári út",
          "Budafoki út / Szerémi sor",
          "Budafoki út / Karinthy Frigyes út",
          "BudaPart",
          "Budafoki út / Dombóvári út",
          "Budafoki út / Szerémi sor",
          "Budafoki út / Karinthy Frigyes út",
          "Szent Gellért tér - Műegyetem M",
          "Rudas Gyógyfürdő",
          "Március 15. tér",
          "Ferenciek tere M",
          "Astoria M",
          "Uránia",
          "Blaha Lujza tér M",
          "Huszár utca",
          "Keleti pályaudvar M",
          "BudaPart",
          "Budafoki út / Dombóvári út",
          "Budafoki út / Szerémi sor",
          "Budafoki út / Karinthy Frigyes út",
          "Szent Gellért tér - Műegyetem M",
          "Rudas Gyógyfürdő",
          "Március 15. tér",
          "Ferenciek tere M",
          "Astoria M",
          "Uránia",
          "Blaha Lujza tér M",
          "Huszár utca",
          "Keleti pályaudvar M",
          "Keleti pályaudvar M",
          "Huszár utca",
          "Blaha Lujza tér M",
          "Uránia",
          "Astoria M",
          "Ferenciek tere M",
          "Március 15. tér",
          "Rudas Gyógyfürdő",
          "Szent Gellért tér - Műegyetem M",
          "Petőfi híd, budai hídfő",
          "Egyetemváros - A38 hajóállomás",
          "Magyar tudósok körútja",
          "Infopark (Pázmány Péter sétány)",
          "BudaPart",
          "BudaPart",
          "Budafoki út / Dombóvári út",
          "Budafoki út / Szerémi sor",
          "Budafoki út / Karinthy Frigyes út",
          "Szent Gellért tér - Műegyetem M",
          "Rudas Gyógyfürdő",
          "Március 15. tér",
          "Ferenciek tere M",
          "Astoria M",
          "Keleti pályaudvar M",
          "Huszár utca",
          "Blaha Lujza tér M",
          "Uránia",
          "Astoria M",
          "Ferenciek tere M",
          "Március 15. tér",
          "Rudas Gyógyfürdő",
          "Szent Gellért tér - Műegyetem M",
          "Petőfi híd, budai hídfő",
          "Egyetemváros - A38 hajóállomás",
          "Magyar tudósok körútja",
          "Infopark (Pázmány Péter sétány)",
          "BudaPart",
          "BudaPart",
          "Budafoki út / Dombóvári út",
          "Budafoki út / Szerémi sor",
          "Budafoki út / Karinthy Frigyes út",
          "Keleti pályaudvar M",
          "Huszár utca",
          "Blaha Lujza tér M",
          "Uránia",
          "Astoria M",
          "Ferenciek tere M",
          "Március 15. tér",
          "Rudas Gyógyfürdő",
          "Szent Gellért tér - Műegyetem M",
          "Petőfi híd, budai hídfő",
          "Egyetemváros - A38 hajóállomás",
          "Magyar tudósok körútja",
          "Infopark (Pázmány Péter sétány)",
          "Boráros tér H",
          "Petőfi híd, budai hídfő",
          "Budafoki út / Szerémi sor",
          "Újbuda-központ M",
          "Kosztolányi Dezső tér",
          "Vincellér utca",
          "Diószegi út (Vérellátó Szolgálat)",
          "Alsóhegy utca",
          "Budaörsi út / Villányi út",
          "BAH-csomópont",
          "Csörsz utca",
          "Sirály utca",
          "Kiss János altábornagy utca",
          "Királyhágó tér",
          "Királyhágó tér",
          "Galántai utca",
          "Szent Orbán tér",
          "Pethényi út",
          "Nógrádi utca",
          "Óra út",
          "Istenhegyi lejtő",
          "Boráros tér H",
          "Petőfi híd, budai hídfő",
          "Budafoki út / Szerémi sor",
          "Újbuda-központ M",
          "Kosztolányi Dezső tér",
          "Vincellér utca",
          "Diószegi út (Vérellátó Szolgálat)",
          "Alsóhegy utca",
          "Budaörsi út / Villányi út",
          "BAH-csomópont",
          "Csörsz utca",
          "Sirály utca",
          "Kiss János altábornagy utca",
          "Királyhágó tér",
          "Királyhágó tér",
          "Boráros tér H",
          "Petőfi híd, budai hídfő",
          "Budafoki út / Szerémi sor",
          "Újbuda-központ M",
          "Kosztolányi Dezső tér",
          "Vincellér utca",
          "Diószegi út (Vérellátó Szolgálat)",
          "Alsóhegy utca",
          "Budaörsi út / Villányi út",
          "BAH-csomópont",
          "Svábhegy",
          "Városkút",
          "Adonis utca",
          "Istenhegyi lejtő",
          "Óra út",
          "Nógrádi utca",
          "Pethényi út",
          "Szent Orbán tér",
          "Galántai utca",
          "Királyhágó tér",
          "Kiss János altábornagy utca",
          "Sirály utca",
          "Csörsz utca",
          "BAH-csomópont",
          "Budaörsi út / Villányi út",
          "Alsóhegy utca",
          "Diószegi út (Vérellátó Szolgálat)",
          "Vincellér utca",
          "Kosztolányi Dezső tér",
          "Újbuda-központ M",
          "Budafoki út / Szerémi sor",
          "Petőfi híd, budai hídfő",
          "Boráros tér H",
          "Boráros tér H",
          "Petőfi híd, budai hídfő",
          "Budafoki út / Szerémi sor",
          "Újbuda-központ M",
          "Kosztolányi Dezső tér",
          "Vincellér utca",
          "Diószegi út (Vérellátó Szolgálat)",
          "Normafa, látogatóközpont",
          "Normafa, Gyermekvasút",
          "Fülemile út",
          "Őzike köz",
          "Ordas út",
          "Svábhegy",
          "Városkút",
          "Adonis utca",
          "Istenhegyi lejtő",
          "Óra út",
          "Nógrádi utca",
          "Pethényi út",
          "Szent Orbán tér",
          "Galántai utca",
          "Királyhágó tér",
          "Kiss János altábornagy utca",
          "Sirály utca",
          "Csörsz utca",
          "BAH-csomópont",
          "Budaörsi út / Villányi út",
          "Alsóhegy utca",
          "Diószegi út (Vérellátó Szolgálat)",
          "Vincellér utca",
          "Kosztolányi Dezső tér",
          "Újbuda-központ M",
          "Budafoki út / Szerémi sor",
          "Petőfi híd, budai hídfő",
          "Boráros tér H",
          "Boráros tér H",
          "Petőfi híd, budai hídfő",
          "Budafoki út / Szerémi sor",
          "Normafa, látogatóközpont",
          "Normafa, Gyermekvasút",
          "Fülemile út",
          "Őzike köz",
          "Ordas út",
          "Svábhegy",
          "Városkút",
          "Adonis utca",
          "Istenhegyi lejtő",
          "Óra út",
          "Nógrádi utca",
          "Pethényi út",
          "Szent Orbán tér",
          "Galántai utca",
          "Királyhágó tér",
          "Kiss János altábornagy utca",
          "Sirály utca",
          "Csörsz utca",
          "BAH-csomópont",
          "Budaörsi út / Villányi út",
          "Alsóhegy utca",
          "Diószegi út (Vérellátó Szolgálat)",
          "Vincellér utca",
          "Kosztolányi Dezső tér",
          "Újbuda-központ M",
          "Budafoki út / Szerémi sor",
          "Petőfi híd, budai hídfő",
          "Boráros tér H",
          "Nagytétény, ipartelep",
          "Bányalég utca",
          "Nagytétény, Erdélyi utca",
          "Akó utca",
          "Angeli utca / Nagytétényi út",
          "Szabadság utca",
          "Petőfi Sándor utca (Kastélymúzeum)",
          "Bartók Béla út",
          "Tenkes utca",
          "Dózsa György út",
          "Budatétény vasútállomás (Növény utca)",
          "Lépcsős utca",
          "Jókai Mór utca",
          "Háros utca",
          "Háros vasútállomás",
          "Vágóhíd utca",
          "Tóth József utca",
          "Városház tér",
          "Savoyai Jenő tér",
          "Leányka utcai lakótelep",
          "Vegyész utca",
          "Építész utca",
          "Kondorosi út",
          "Lőportorony utca",
          "Galvani utca",
          "Hengermalom út",
          "Kelenföldi Erőmű",
          "Budafoki út / Dombóvári út",
          "Budafoki út / Szerémi sor",
          "Újbuda-központ M",
          "Móricz Zsigmond körtér M",
          "Nagytétény, ipartelep",
          "Bányalég utca",
          "Nagytétény, Erdélyi utca",
          "Akó utca",
          "Angeli utca / Nagytétényi út",
          "Szabadság utca",
          "Petőfi Sándor utca (Kastélymúzeum)",
          "Bartók Béla út",
          "Tenkes utca",
          "Dózsa György út",
          "Budatétény vasútállomás (Növény utca)",
          "Lépcsős utca",
          "Jókai Mór utca",
          "Háros utca",
          "Háros vasútállomás",
          "Vágóhíd utca",
          "Tóth József utca",
          "Városház tér",
          "Savoyai Jenő tér",
          "Leányka utcai lakótelep",
          "Vegyész utca",
          "Építész utca",
          "Kondorosi út",
          "Lőportorony utca",
          "Galvani utca",
          "Hengermalom út",
          "Kelenföldi Erőmű",
          "Budafoki út / Dombóvári út",
          "Budafoki út / Szerémi sor",
          "Újbuda-központ M",
          "Móricz Zsigmond körtér M",
          "Móricz Zsigmond körtér M",
          "Budafoki út / Karinthy Frigyes út",
          "Budafoki út / Szerémi sor",
          "Budafoki út / Dombóvári út",
          "Kelenföldi Erőmű",
          "Hengermalom út",
          "Galvani utca",
          "Lőportorony utca",
          "Kondorosi út",
          "Építész utca",
          "Vegyész utca",
          "Leányka utcai lakótelep",
          "Savoyai Jenő tér",
          "Városház tér",
          "Tóth József utca",
          "Vágóhíd utca",
          "Háros vasútállomás",
          "Háros utca",
          "Móricz Zsigmond körtér M",
          "Budafoki út / Karinthy Frigyes út",
          "Budafoki út / Szerémi sor",
          "Budafoki út / Dombóvári út",
          "Kelenföldi Erőmű",
          "Hengermalom út",
          "Galvani utca",
          "Lőportorony utca",
          "Kelenföld vasútállomás M",
          "Bártfai utca",
          "Bikás park M",
          "Etele út / Fehérvári út",
          "Hengermalom út / Szerémi út",
          "Hauszmann Alajos utca / Szerémi út",
          "Budafoki út / Dombóvári út",
          "Infopark",
          "Közvágóhíd H",
          "Mester utca / Könyves Kálmán körút",
          "Ferencváros vá. - Málenkij Robot Eh.",
          "Albert Flórián út",
          "Népliget M",
          "Vajda Péter utca",
          "Kőbányai út / Könyves Kálmán körút",
          "Hidegkuti Nándor Stadion",
          "Hős utca",
          "Puskás Ferenc Stadion M",
          "Egressy út / Hungária körút",
          "Zugló vasútállomás",
          "Ajtósi Dürer sor",
          "Erzsébet királyné útja, aluljáró",
          "Kacsóh Pongrác út",
          "Vágány utca / Róbert Károly körút",
          "Lehel utca / Róbert Károly körút",
          "Honvédkórház",
          "Göncz Árpád városközpont M",
          "Bécsi út / Vörösvári út",
          "Óbudai rendelőintézet",
          "Flórián tér",
          "Szentlélek tér H",
          "Népfürdő utca / Árpád híd",
          "Göncz Árpád városközpont M",
          "Honvédkórház",
          "Lehel utca / Róbert Károly körút",
          "Vágány utca / Róbert Károly körút",
          "Kacsóh Pongrác út",
          "Erzsébet királyné útja, aluljáró",
          "Ajtósi Dürer sor",
          "Zugló vasútállomás",
          "Egressy út / Hungária körút",
          "Puskás Ferenc Stadion M",
          "Hős utca",
          "Hidegkuti Nándor Stadion",
          "Kőbányai út / Könyves Kálmán körút",
          "Vajda Péter utca",
          "Népliget M",
          "Albert Flórián út",
          "Ferencváros vá. - Málenkij Robot Eh.",
          "Mester utca / Könyves Kálmán körút",
          "Közvágóhíd H",
          "Infopark",
          "Budafoki út / Dombóvári út",
          "Hauszmann Alajos utca / Szerémi út",
          "Hengermalom út / Szerémi út",
          "Etele út / Fehérvári út",
          "Bikás park M",
          "Bártfai utca",
          "Kelenföld vasútállomás M",
          "Bécsi út / Vörösvári út",
          "Óbudai rendelőintézet",
          "Flórián tér",
          "Szentlélek tér H",
          "Népfürdő utca / Árpád híd",
          "Göncz Árpád városközpont M",
          "Honvédkórház",
          "Lehel utca / Róbert Károly körút",
          "Vágány utca / Róbert Károly körút",
          "Kacsóh Pongrác út",
          "Erzsébet királyné útja, aluljáró",
          "Ajtósi Dürer sor",
          "Zugló vasútállomás",
          "Egressy út / Hungária körút",
          "Puskás Ferenc Stadion M",
          "Hős utca",
          "Hidegkuti Nándor Stadion",
          "Kőbányai út / Könyves Kálmán körút",
          "Vajda Péter utca",
          "Népliget M",
          "Albert Flórián út",
          "Ferencváros vá. - Málenkij Robot Eh.",
          "Mester utca / Könyves Kálmán körút",
          "Közvágóhíd H",
          "Infopark",
          "Budafoki út / Dombóvári út",
          "Hauszmann Alajos utca / Szerémi út",
          "Hengermalom út / Szerémi út",
          "Etele út / Fehérvári út",
          "Bikás park M",
          "Bécsi út / Vörösvári út",
          "Óbudai rendelőintézet",
          "Flórián tér",
          "Szentlélek tér H",
          "Népfürdő utca / Árpád híd",
          "Göncz Árpád városközpont M",
          "Honvédkórház",
          "Lehel utca / Róbert Károly körút",
          "Vágány utca / Róbert Károly körút",
          "Kacsóh Pongrác út",
          "Erzsébet királyné útja, aluljáró",
          "Ajtósi Dürer sor",
          "Zugló vasútállomás",
          "Egressy út / Hungária körút",
          "Puskás Ferenc Stadion M",
          "Hős utca",
          "Hidegkuti Nándor Stadion",
          "Kőbányai út / Könyves Kálmán körút",
          "Vajda Péter utca",
          "Népliget M",
          "Albert Flórián út",
          "Ferencváros vá. - Málenkij Robot Eh.",
          "Mester utca / Könyves Kálmán körút",
          "Közvágóhíd H",
          "Infopark",
          "Budafoki út / Dombóvári út",
          "Hauszmann Alajos utca / Szerémi út",
          "Hengermalom út / Szerémi út",
          "Etele út / Fehérvári út",
          "Bécsi út / Vörösvári út",
          "Óbudai rendelőintézet",
          "Flórián tér",
          "Szentlélek tér H",
          "Népfürdő utca / Árpád híd",
          "Göncz Árpád városközpont M",
          "Honvédkórház",
          "Lehel utca / Róbert Károly körút",
          "Vágány utca / Róbert Károly körút",
          "Kacsóh Pongrác út",
          "Erzsébet királyné útja, aluljáró",
          "Ajtósi Dürer sor",
          "Zugló vasútállomás",
          "Egressy út / Hungária körút",
          "Puskás Ferenc Stadion M",
          "Hős utca",
          "Hidegkuti Nándor Stadion",
          "Kőbányai út / Könyves Kálmán körút",
          "Vajda Péter utca",
          "Népliget M",
          "Albert Flórián út",
          "Ferencváros vá. - Málenkij Robot Eh.",
          "Mester utca / Könyves Kálmán körút",
          "Közvágóhíd H",
          "Infopark",
          "Budafoki út / Dombóvári út",
          "Hauszmann Alajos utca / Szerémi út",
          "Kelenföld vasútállomás M",
          "Bártfai utca",
          "Bikás park M",
          "Etele út / Fehérvári út",
          "Hengermalom út / Szerémi út",
          "Hauszmann Alajos utca / Szerémi út",
          "Budafoki út / Dombóvári út",
          "Infopark",
          "Közvágóhíd H",
          "Mester utca / Könyves Kálmán körút",
          "Ferencváros vá. - Málenkij Robot Eh.",
          "Albert Flórián út",
          "Népliget M",
          "Vajda Péter utca",
          "Kőbányai út / Könyves Kálmán körút",
          "Hidegkuti Nándor Stadion",
          "Hős utca",
          "Puskás Ferenc Stadion M",
          "Egressy út / Hungária körút",
          "Zugló vasútállomás",
          "Ajtósi Dürer sor",
          "Erzsébet királyné útja, aluljáró",
          "Kacsóh Pongrác út",
          "Vágány utca / Róbert Károly körút",
          "Lehel utca / Róbert Károly körút",
          "Kelenföld vasútállomás M",
          "Bártfai utca",
          "Bikás park M",
          "Etele út / Fehérvári út",
          "Hengermalom út / Szerémi út",
          "Hauszmann Alajos utca / Szerémi út",
          "Budafoki út / Dombóvári út",
          "Infopark",
          "Közvágóhíd H",
          "Mester utca / Könyves Kálmán körút",
          "Ferencváros vá. - Málenkij Robot Eh.",
          "Albert Flórián út",
          "Népliget M",
          "Vajda Péter utca",
          "Kőbányai út / Könyves Kálmán körút",
          "Hidegkuti Nándor Stadion",
          "Hős utca",
          "Puskás Ferenc Stadion M",
          "Egressy út / Hungária körút",
          "Zugló vasútállomás",
          "Ajtósi Dürer sor",
          "Erzsébet királyné útja, aluljáró",
          "Kacsóh Pongrác út",
          "Kelenföld vasútállomás M",
          "Bártfai utca",
          "Bikás park M",
          "Etele út / Fehérvári út",
          "Hengermalom út / Szerémi út",
          "Hauszmann Alajos utca / Szerémi út",
          "Budafoki út / Dombóvári út",
          "Infopark",
          "Közvágóhíd H",
          "Mester utca / Könyves Kálmán körút",
          "Ferencváros vá. - Málenkij Robot Eh.",
          "Albert Flórián út",
          "Népliget M",
          "Vajda Péter utca",
          "Kőbányai út / Könyves Kálmán körút",
          "Hidegkuti Nándor Stadion",
          "Hős utca",
          "Puskás Ferenc Stadion M",
          "Egressy út / Hungária körút",
          "Zugló vasútállomás",
          "Ajtósi Dürer sor",
          "Kelenföld vasútállomás M",
          "Bártfai utca",
          "Bikás park M",
          "Etele út / Fehérvári út",
          "Hengermalom út / Szerémi út",
          "Hauszmann Alajos utca / Szerémi út",
          "Budafoki út / Dombóvári út",
          "Infopark",
          "Közvágóhíd H",
          "Mester utca / Könyves Kálmán körút",
          "Ferencváros vá. - Málenkij Robot Eh.",
          "Albert Flórián út",
          "Népliget M",
          "Vajda Péter utca",
          "Kőbányai út / Könyves Kálmán körút",
          "Hidegkuti Nándor Stadion",
          "Hős utca",
          "Puskás Ferenc Stadion M",
          "Kelenföld vasútállomás M",
          "Bártfai utca",
          "Bikás park M",
          "Etele út / Fehérvári út",
          "Hengermalom út / Szerémi út",
          "Hauszmann Alajos utca / Szerémi út",
          "Budafoki út / Dombóvári út",
          "Infopark",
          "Közvágóhíd H",
          "Mester utca / Könyves Kálmán körút",
          "Ferencváros vá. - Málenkij Robot Eh.",
          "Albert Flórián út",
          "Népliget M",
          "Vajda Péter utca",
          "Kőbányai út / Könyves Kálmán körút",
          "Hidegkuti Nándor Stadion",
          "Hős utca",
          "Bécsi út / Vörösvári út",
          "Óbudai rendelőintézet",
          "Flórián tér",
          "Szentlélek tér H",
          "Népfürdő utca / Árpád híd",
          "Göncz Árpád városközpont M",
          "Honvédkórház",
          "Lehel utca / Róbert Károly körút",
          "Vágány utca / Róbert Károly körút",
          "Kacsóh Pongrác út",
          "Erzsébet királyné útja, aluljáró",
          "Ajtósi Dürer sor",
          "Zugló vasútállomás",
          "Egressy út / Hungária körút",
          "Puskás Ferenc Stadion M",
          "Hős utca",
          "Hidegkuti Nándor Stadion",
          "Kőbányai út / Könyves Kálmán körút",
          "Vajda Péter utca",
          "Népliget M",
          "Albert Flórián út",
          "Ferencváros vá. - Málenkij Robot Eh.",
          "Mester utca / Könyves Kálmán körút",
          "Közvágóhíd H",
          "Infopark",
          "Budafoki út / Dombóvári út",
          "Hauszmann Alajos utca / Szerémi út",
          "Hengermalom út / Szerémi út",
          "Etele út / Fehérvári út",
          "Bikás park M",
          "Bártfai utca",
          "Kelenföld vasútállomás M",
          "Bécsi út / Vörösvári út",
          "Óbudai rendelőintézet",
          "Flórián tér",
          "Szentlélek tér H",
          "Népfürdő utca / Árpád híd",
          "Göncz Árpád városközpont M",
          "Honvédkórház",
          "Lehel utca / Róbert Károly körút",
          "Vágány utca / Róbert Károly körút",
          "Kacsóh Pongrác út",
          "Erzsébet királyné útja, aluljáró",
          "Ajtósi Dürer sor",
          "Zugló vasútállomás",
          "Egressy út / Hungária körút",
          "Puskás Ferenc Stadion M",
          "Hős utca",
          "Hidegkuti Nándor Stadion",
          "Kőbányai út / Könyves Kálmán körút",
          "Vajda Péter utca",
          "Népliget M",
          "Albert Flórián út",
          "Ferencváros vá. - Málenkij Robot Eh.",
          "Mester utca / Könyves Kálmán körút",
          "Közvágóhíd H",
          "Infopark",
          "Budafoki út / Dombóvári út",
          "Hauszmann Alajos utca / Szerémi út",
          "Hengermalom út / Szerémi út",
          "Etele út / Fehérvári út",
          "Bikás park M",
          "Bártfai utca",
          "Kelenföld vasútállomás M",
          "Bécsi út / Vörösvári út",
          "Óbudai rendelőintézet",
          "Flórián tér",
          "Szentlélek tér H",
          "Népfürdő utca / Árpád híd",
          "Göncz Árpád városközpont M",
          "Honvédkórház",
          "Lehel utca / Róbert Károly körút",
          "Vágány utca / Róbert Károly körút",
          "Kacsóh Pongrác út",
          "Erzsébet királyné útja, aluljáró",
          "Ajtósi Dürer sor",
          "Zugló vasútállomás",
          "Egressy út / Hungária körút",
          "Puskás Ferenc Stadion M",
          "Hős utca",
          "Hidegkuti Nándor Stadion",
          "Kőbányai út / Könyves Kálmán körút",
          "Vajda Péter utca",
          "Népliget M",
          "Albert Flórián út",
          "Ferencváros vá. - Málenkij Robot Eh.",
          "Mester utca / Könyves Kálmán körút",
          "Közvágóhíd H",
          "Infopark",
          "Budafoki út / Dombóvári út",
          "Hauszmann Alajos utca / Szerémi út",
          "Hengermalom út / Szerémi út",
          "Etele út / Fehérvári út",
          "Bikás park M",
          "Bártfai utca",
          "Kelenföld vasútállomás M",
          "Bécsi út / Vörösvári út",
          "Óbudai rendelőintézet",
          "Flórián tér",
          "Szentlélek tér H",
          "Népfürdő utca / Árpád híd",
          "Göncz Árpád városközpont M",
          "Honvédkórház",
          "Lehel utca / Róbert Károly körút",
          "Vágány utca / Róbert Károly körút",
          "Kacsóh Pongrác út",
          "Erzsébet királyné útja, aluljáró",
          "Ajtósi Dürer sor",
          "Zugló vasútállomás",
          "Egressy út / Hungária körút",
          "Puskás Ferenc Stadion M",
          "Hős utca",
          "Hidegkuti Nándor Stadion",
          "Kőbányai út / Könyves Kálmán körút",
          "Vajda Péter utca",
          "Népliget M",
          "Albert Flórián út",
          "Ferencváros vá. - Málenkij Robot Eh.",
          "Mester utca / Könyves Kálmán körút",
          "Közvágóhíd H",
          "Infopark",
          "Budafoki út / Dombóvári út",
          "Hauszmann Alajos utca / Szerémi út",
          "Hengermalom út / Szerémi út",
          "Etele út / Fehérvári út",
          "Bikás park M",
          "Bártfai utca",
          "Kelenföld vasútállomás M",
          "Bécsi út / Vörösvári út",
          "Óbudai rendelőintézet",
          "Flórián tér",
          "Szentlélek tér H",
          "Népfürdő utca / Árpád híd",
          "Göncz Árpád városközpont M",
          "Honvédkórház",
          "Lehel utca / Róbert Károly körút",
          "Vágány utca / Róbert Károly körút",
          "Kacsóh Pongrác út",
          "Erzsébet királyné útja, aluljáró",
          "Ajtósi Dürer sor",
          "Zugló vasútállomás",
          "Egressy út / Hungária körút",
          "Puskás Ferenc Stadion M",
          "Hős utca",
          "Hidegkuti Nándor Stadion",
          "Kőbányai út / Könyves Kálmán körút",
          "Vajda Péter utca",
          "Népliget M",
          "Albert Flórián út",
          "Ferencváros vá. - Málenkij Robot Eh.",
          "Mester utca / Könyves Kálmán körút",
          "Közvágóhíd H",
          "Infopark",
          "Budafoki út / Dombóvári út",
          "Hauszmann Alajos utca / Szerémi út",
          "Hengermalom út / Szerémi út",
          "Etele út / Fehérvári út",
          "Bikás park M",
          "Bártfai utca",
          "Kelenföld vasútállomás M",
          "Kelenföld vasútállomás M",
          "Bártfai utca",
          "Bikás park M",
          "Etele út / Fehérvári út",
          "Hengermalom út / Szerémi út",
          "Hauszmann Alajos utca / Szerémi út",
          "Budafoki út / Dombóvári út",
          "Infopark",
          "Közvágóhíd H",
          "Mester utca / Könyves Kálmán körút",
          "Ferencváros vá. - Málenkij Robot Eh.",
          "Albert Flórián út",
          "Népliget M",
          "Vajda Péter utca",
          "Kőbányai út / Könyves Kálmán körút",
          "Kelenföld vasútállomás M",
          "Bártfai utca",
          "Bikás park M",
          "Etele út / Fehérvári út",
          "Hengermalom út / Szerémi út",
          "Hauszmann Alajos utca / Szerémi út",
          "Budafoki út / Dombóvári út",
          "Infopark",
          "Közvágóhíd H",
          "Mester utca / Könyves Kálmán körút",
          "Ferencváros vá. - Málenkij Robot Eh.",
          "Albert Flórián út",
          "Népliget M",
          "Kelenföld vasútállomás M",
          "Bártfai utca",
          "Bikás park M",
          "Etele út / Fehérvári út",
          "Hengermalom út / Szerémi út",
          "Hauszmann Alajos utca / Szerémi út",
          "Budafoki út / Dombóvári út",
          "Infopark",
          "Közvágóhíd H",
          "Mester utca / Könyves Kálmán körút",
          "Ferencváros vá. - Málenkij Robot Eh.",
          "Bécsi út / Vörösvári út",
          "Óbudai rendelőintézet",
          "Flórián tér",
          "Szentlélek tér H",
          "Népfürdő utca / Árpád híd",
          "Göncz Árpád városközpont M",
          "Honvédkórház",
          "Lehel utca / Róbert Károly körút",
          "Vágány utca / Róbert Károly körút",
          "Kacsóh Pongrác út",
          "Erzsébet királyné útja, aluljáró",
          "Ajtósi Dürer sor",
          "Zugló vasútállomás",
          "Egressy út / Hungária körút",
          "Puskás Ferenc Stadion M",
          "Hős utca",
          "Hidegkuti Nándor Stadion",
          "Kőbányai út / Könyves Kálmán körút",
          "Vajda Péter utca",
          "Népliget M",
          "Albert Flórián út",
          "Ferencváros vá. - Málenkij Robot Eh.",
          "Mester utca / Könyves Kálmán körút",
          "Közvágóhíd H",
          "Infopark",
          "Budafoki út / Dombóvári út",
          "Hauszmann Alajos utca / Szerémi út",
          "Hengermalom út / Szerémi út",
          "Etele út / Fehérvári út",
          "Bikás park M",
          "Bártfai utca",
          "Kelenföld vasútállomás M",
          "Kelenföld vasútállomás M",
          "Bártfai utca",
          "Bikás park M",
          "Etele út / Fehérvári út",
          "Hengermalom út / Szerémi út",
          "Hauszmann Alajos utca / Szerémi út",
          "Budafoki út / Dombóvári út",
          "Infopark",
          "Közvágóhíd H"
         ],
         "lat": [
          47.477499,
          47.475827,
          47.476933,
          47.480376,
          47.482751,
          47.485476,
          47.490332,
          47.492851,
          47.496781,
          47.500325,
          47.503249,
          47.505939,
          47.510274,
          47.513099,
          47.514717,
          47.514618,
          47.510778,
          47.508114,
          47.507358,
          47.477499,
          47.475827,
          47.476933,
          47.480376,
          47.482751,
          47.485476,
          47.490332,
          47.492851,
          47.496781,
          47.500325,
          47.474045,
          47.474091,
          47.476933,
          47.480376,
          47.482751,
          47.485476,
          47.490332,
          47.492851,
          47.496781,
          47.500325,
          47.503249,
          47.505939,
          47.510274,
          47.513099,
          47.514717,
          47.514618,
          47.510778,
          47.508114,
          47.507358,
          47.477499,
          47.475827,
          47.476933,
          47.480376,
          47.482751,
          47.485476,
          47.490332,
          47.492851,
          47.496781,
          47.500325,
          47.503249,
          47.505939,
          47.510274,
          47.513099,
          47.514717,
          47.514618,
          47.510778,
          47.508114,
          47.507358,
          47.474045,
          47.474091,
          47.476933,
          47.480376,
          47.482751,
          47.485476,
          47.490332,
          47.492851,
          47.496781,
          47.500325,
          47.503249,
          47.505939,
          47.510274,
          47.513099,
          47.514717,
          47.514618,
          47.510778,
          47.508114,
          47.507358,
          47.474045,
          47.474091,
          47.476933,
          47.480376,
          47.482751,
          47.485476,
          47.490332,
          47.492851,
          47.496781,
          47.500325,
          47.503249,
          47.505939,
          47.510274,
          47.513099,
          47.514717,
          47.514618,
          47.510778,
          47.508114,
          47.477499,
          47.475827,
          47.476933,
          47.480376,
          47.482751,
          47.485476,
          47.490332,
          47.492851,
          47.496781,
          47.500325,
          47.503249,
          47.505939,
          47.510274,
          47.513099,
          47.514717,
          47.514618,
          47.510778,
          47.507232,
          47.508483,
          47.510939,
          47.514546,
          47.514439,
          47.512847,
          47.509896,
          47.505561,
          47.502781,
          47.49983,
          47.496224,
          47.492383,
          47.489559,
          47.486186,
          47.482184,
          47.480125,
          47.476672,
          47.473677,
          47.474045,
          47.474045,
          47.474091,
          47.476933,
          47.480376,
          47.482751,
          47.485476,
          47.490332,
          47.492851,
          47.496781,
          47.500325,
          47.503249,
          47.505939,
          47.510274,
          47.513099,
          47.514717,
          47.514618,
          47.507232,
          47.508483,
          47.510939,
          47.514546,
          47.514439,
          47.512847,
          47.509896,
          47.505561,
          47.502781,
          47.49983,
          47.496224,
          47.492383,
          47.489559,
          47.486186,
          47.482184,
          47.480125,
          47.476672,
          47.476025,
          47.477499,
          47.477499,
          47.475827,
          47.476933,
          47.480376,
          47.482751,
          47.485476,
          47.490332,
          47.492851,
          47.496781,
          47.500325,
          47.503249,
          47.505939,
          47.510274,
          47.513099,
          47.507232,
          47.508483,
          47.510939,
          47.514546,
          47.514439,
          47.512847,
          47.509896,
          47.505561,
          47.502781,
          47.49983,
          47.496224,
          47.492383,
          47.489559,
          47.486186,
          47.482184,
          47.480125,
          47.476672,
          47.473677,
          47.474045,
          47.474045,
          47.474091,
          47.476933,
          47.480376,
          47.482751,
          47.485476,
          47.490332,
          47.492851,
          47.496781,
          47.500325,
          47.503249,
          47.505939,
          47.510274,
          47.507232,
          47.508483,
          47.510939,
          47.514546,
          47.514439,
          47.512847,
          47.509896,
          47.505561,
          47.502781,
          47.49983,
          47.496224,
          47.492383,
          47.489559,
          47.486186,
          47.482184,
          47.480125,
          47.476672,
          47.476025,
          47.477499,
          47.477499,
          47.475827,
          47.476933,
          47.480376,
          47.482751,
          47.485476,
          47.490332,
          47.492851,
          47.496781,
          47.500325,
          47.503249,
          47.505939,
          47.474045,
          47.474091,
          47.476933,
          47.480376,
          47.482751,
          47.485476,
          47.490332,
          47.492851,
          47.496781,
          47.500325,
          47.503249,
          47.507232,
          47.508483,
          47.510939,
          47.514546,
          47.514439,
          47.512847,
          47.509896,
          47.505561,
          47.502781,
          47.49983,
          47.496224,
          47.492383,
          47.489559,
          47.486186,
          47.482184,
          47.480125,
          47.476672,
          47.473677,
          47.474045,
          47.474045,
          47.474091,
          47.476933,
          47.480376,
          47.482751,
          47.485476,
          47.490332,
          47.492851,
          47.507232,
          47.508483,
          47.510939,
          47.514546,
          47.514439,
          47.512847,
          47.509896,
          47.505561,
          47.502781,
          47.49983,
          47.496224,
          47.492383,
          47.489559,
          47.486186,
          47.482184,
          47.480125,
          47.476672,
          47.476025,
          47.477499,
          47.477499,
          47.475827,
          47.476933,
          47.480376,
          47.482751,
          47.485476,
          47.490332,
          47.507232,
          47.508483,
          47.510939,
          47.514546,
          47.514439,
          47.512847,
          47.509896,
          47.505561,
          47.502781,
          47.49983,
          47.496224,
          47.492383,
          47.489559,
          47.486186,
          47.482184,
          47.480125,
          47.476672,
          47.473677,
          47.474045,
          47.474045,
          47.474091,
          47.476933,
          47.480376,
          47.482751,
          47.485476,
          47.507232,
          47.508483,
          47.510939,
          47.514546,
          47.514439,
          47.512847,
          47.509896,
          47.505561,
          47.502781,
          47.49983,
          47.496224,
          47.492383,
          47.489559,
          47.486186,
          47.482184,
          47.480125,
          47.476672,
          47.476025,
          47.477499,
          47.477499,
          47.475827,
          47.476933,
          47.480376,
          47.507232,
          47.508483,
          47.510939,
          47.514546,
          47.514439,
          47.512847,
          47.509896,
          47.505561,
          47.502781,
          47.49983,
          47.496224,
          47.492383,
          47.489559,
          47.486186,
          47.482184,
          47.480125,
          47.476672,
          47.473677,
          47.474045,
          47.474045,
          47.474091,
          47.476933,
          47.507232,
          47.508483,
          47.510939,
          47.514546,
          47.514439,
          47.512847,
          47.509896,
          47.505561,
          47.502781,
          47.49983,
          47.496224,
          47.492383,
          47.489559,
          47.486186,
          47.482184,
          47.480125,
          47.476672,
          47.476025,
          47.477499,
          47.507232,
          47.508483,
          47.510939,
          47.514546,
          47.514439,
          47.512847,
          47.509896,
          47.505561,
          47.502781,
          47.49983,
          47.496224,
          47.492383,
          47.489559,
          47.486186,
          47.482184,
          47.480125,
          47.476672,
          47.473677,
          47.474045,
          47.507232,
          47.508483,
          47.510939,
          47.514546,
          47.514439,
          47.512847,
          47.509896,
          47.505561,
          47.502781,
          47.49983,
          47.496224,
          47.492383,
          47.489559,
          47.486186,
          47.482184,
          47.480125,
          47.476672,
          47.476025,
          47.477499,
          47.507232,
          47.508483,
          47.510939,
          47.514546,
          47.514439,
          47.512847,
          47.509896,
          47.505561,
          47.502781,
          47.49983,
          47.496224,
          47.492383,
          47.489559,
          47.486186,
          47.482184,
          47.480125,
          47.476672,
          47.473677,
          47.474045,
          47.507232,
          47.508483,
          47.510939,
          47.514546,
          47.514439,
          47.512847,
          47.509896,
          47.505561,
          47.502781,
          47.49983,
          47.496224,
          47.492383,
          47.489559,
          47.486186,
          47.482184,
          47.480125,
          47.476672,
          47.476025,
          47.477499,
          47.507232,
          47.508483,
          47.510939,
          47.514546,
          47.514439,
          47.512847,
          47.509896,
          47.505561,
          47.502781,
          47.49983,
          47.496224,
          47.492383,
          47.489559,
          47.486186,
          47.482184,
          47.480125,
          47.476672,
          47.473677,
          47.474045,
          47.507232,
          47.508483,
          47.510939,
          47.514546,
          47.514439,
          47.512847,
          47.509896,
          47.505561,
          47.502781,
          47.49983,
          47.496224,
          47.492383,
          47.489559,
          47.486186,
          47.482184,
          47.480125,
          47.476672,
          47.476025,
          47.469854,
          47.471473,
          47.47373,
          47.476798,
          47.473875,
          47.474163,
          47.47499,
          47.471473,
          47.468064,
          47.466328,
          47.464205,
          47.46038,
          47.458278,
          47.457108,
          47.455281,
          47.45332,
          47.45028,
          47.450899,
          47.454965,
          47.456657,
          47.460251,
          47.46205,
          47.473322,
          47.470121,
          47.468845,
          47.467757,
          47.466526,
          47.465007,
          47.462741,
          47.46223,
          47.460172,
          47.458266,
          47.461423,
          47.464436,
          47.466648,
          47.461924,
          47.459766,
          47.456585,
          47.454767,
          47.451619,
          47.45037,
          47.449183,
          47.451036,
          47.452988,
          47.455362,
          47.456821,
          47.457127,
          47.458413,
          47.460437,
          47.464277,
          47.466355,
          47.469422,
          47.473371,
          47.474864,
          47.473785,
          47.473623,
          47.476573,
          47.47329,
          47.472183,
          47.469854,
          47.469854,
          47.471473,
          47.47373,
          47.476798,
          47.473875,
          47.474163,
          47.47499,
          47.471473,
          47.473322,
          47.470121,
          47.468845,
          47.467757,
          47.466526,
          47.465007,
          47.462741,
          47.46223,
          47.460172,
          47.458266,
          47.461423,
          47.464436,
          47.470427,
          47.47434,
          47.47534,
          47.476285,
          47.474864,
          47.473785,
          47.473623,
          47.476573,
          47.47329,
          47.472183,
          47.469242,
          47.46855,
          47.46855,
          47.469765,
          47.472823,
          47.474163,
          47.475665,
          47.476663,
          47.475655,
          47.474475,
          47.470616,
          47.467215,
          47.464634,
          47.461046,
          47.45859,
          47.460801,
          47.464794,
          47.46275,
          47.473322,
          47.470121,
          47.468845,
          47.467757,
          47.466526,
          47.465007,
          47.462741,
          47.46223,
          47.460172,
          47.458266,
          47.461423,
          47.464436,
          47.470427,
          47.47434,
          47.47534,
          47.476285,
          47.474864,
          47.473785,
          47.473623,
          47.476573,
          47.47329,
          47.472183,
          47.469242,
          47.46855,
          47.46855,
          47.469765,
          47.472823,
          47.547013,
          47.545153,
          47.540945,
          47.533558,
          47.525992,
          47.519782,
          47.516394,
          47.51172,
          47.504241,
          47.500412,
          47.497519,
          47.49564,
          47.494606,
          47.492907,
          47.491881,
          47.482896,
          47.476872,
          47.474361,
          47.468595,
          47.464485,
          47.459233,
          47.448017,
          47.433121,
          47.429065,
          47.426493,
          47.41238,
          47.41147,
          47.410129,
          47.408167,
          47.404901,
          47.399546,
          47.397404,
          47.395225,
          47.547013,
          47.545153,
          47.540945,
          47.533558,
          47.525992,
          47.519782,
          47.516394,
          47.51172,
          47.504241,
          47.500412,
          47.497519,
          47.49564,
          47.494606,
          47.492907,
          47.491881,
          47.482896,
          47.476872,
          47.474361,
          47.468595,
          47.464485,
          47.461274,
          47.547013,
          47.545153,
          47.540945,
          47.533558,
          47.525992,
          47.519782,
          47.516394,
          47.51172,
          47.504241,
          47.500412,
          47.497519,
          47.49564,
          47.494606,
          47.492907,
          47.491881,
          47.482896,
          47.476872,
          47.474361,
          47.468595,
          47.464485,
          47.459233,
          47.448017,
          47.547013,
          47.545153,
          47.540945,
          47.533558,
          47.525992,
          47.519782,
          47.516394,
          47.51172,
          47.504241,
          47.500412,
          47.497519,
          47.49564,
          47.494606,
          47.492907,
          47.491881,
          47.482896,
          47.476872,
          47.474361,
          47.468595,
          47.464485,
          47.461274,
          47.387982,
          47.388224,
          47.389559,
          47.390622,
          47.39254,
          47.393237,
          47.394676,
          47.396882,
          47.399862,
          47.405135,
          47.408293,
          47.41003,
          47.411327,
          47.412479,
          47.4267,
          47.429587,
          47.432411,
          47.447081,
          47.45943,
          47.464422,
          47.469765,
          47.472823,
          47.475412,
          47.48286,
          47.49154,
          47.492925,
          47.494408,
          47.495586,
          47.497249,
          47.500466,
          47.504403,
          47.511145,
          47.516951,
          47.519835,
          47.527214,
          47.533531,
          47.387982,
          47.388224,
          47.389559,
          47.390622,
          47.39254,
          47.393237,
          47.394676,
          47.396882,
          47.399862,
          47.405135,
          47.408293,
          47.41003,
          47.411327,
          47.412479,
          47.4267,
          47.429587,
          47.432411,
          47.447081,
          47.45943,
          47.464422,
          47.469765,
          47.472823,
          47.475412,
          47.48286,
          47.49154,
          47.492925,
          47.494408,
          47.495586,
          47.497249,
          47.500466,
          47.504403,
          47.511145,
          47.516951,
          47.387982,
          47.388224,
          47.389559,
          47.390622,
          47.39254,
          47.393237,
          47.394676,
          47.396882,
          47.399862,
          47.405135,
          47.408293,
          47.41003,
          47.411327,
          47.412479,
          47.4267,
          47.429587,
          47.432411,
          47.447081,
          47.45943,
          47.464422,
          47.469765,
          47.472823,
          47.475412,
          47.48286,
          47.49154,
          47.492925,
          47.494408,
          47.495586,
          47.497249,
          47.500466,
          47.504403,
          47.387982,
          47.388224,
          47.389559,
          47.390622,
          47.39254,
          47.393237,
          47.394676,
          47.396882,
          47.399862,
          47.405135,
          47.408293,
          47.41003,
          47.411327,
          47.412479,
          47.4267,
          47.429587,
          47.432411,
          47.447081,
          47.45943,
          47.464422,
          47.469765,
          47.472823,
          47.475412,
          47.48286,
          47.49154,
          47.492925,
          47.494408,
          47.495586,
          47.497249,
          47.387982,
          47.388224,
          47.389559,
          47.390622,
          47.39254,
          47.393237,
          47.394676,
          47.396882,
          47.399862,
          47.405135,
          47.408293,
          47.41003,
          47.411327,
          47.412479,
          47.4267,
          47.429587,
          47.432411,
          47.447081,
          47.45943,
          47.464422,
          47.469765,
          47.472823,
          47.475412,
          47.48286,
          47.49154,
          47.492925,
          47.387982,
          47.388224,
          47.389559,
          47.390622,
          47.39254,
          47.393237,
          47.394676,
          47.396882,
          47.399862,
          47.405135,
          47.408293,
          47.41003,
          47.411327,
          47.412479,
          47.4267,
          47.429587,
          47.432411,
          47.447081,
          47.45943,
          47.464422,
          47.469765,
          47.472823,
          47.475412,
          47.46855,
          47.469765,
          47.472823,
          47.475412,
          47.48286,
          47.489273,
          47.49154,
          47.492925,
          47.494408,
          47.495586,
          47.497249,
          47.499136,
          47.500466,
          47.46855,
          47.469765,
          47.472823,
          47.475412,
          47.48286,
          47.489273,
          47.49154,
          47.492925,
          47.494408,
          47.495586,
          47.497249,
          47.499136,
          47.500466,
          47.500412,
          47.499199,
          47.497519,
          47.49564,
          47.494606,
          47.492907,
          47.491881,
          47.48984,
          47.482689,
          47.479019,
          47.47329,
          47.472183,
          47.469242,
          47.46855,
          47.46855,
          47.469765,
          47.472823,
          47.475412,
          47.48286,
          47.489273,
          47.49154,
          47.492925,
          47.494408,
          47.500412,
          47.499199,
          47.497519,
          47.49564,
          47.494606,
          47.492907,
          47.491881,
          47.48984,
          47.482689,
          47.479019,
          47.47329,
          47.472183,
          47.469242,
          47.46855,
          47.46855,
          47.469765,
          47.472823,
          47.475412,
          47.500412,
          47.499199,
          47.497519,
          47.49564,
          47.494606,
          47.492907,
          47.491881,
          47.48984,
          47.482689,
          47.479019,
          47.47329,
          47.472183,
          47.469242,
          47.479495,
          47.476798,
          47.473875,
          47.474163,
          47.475665,
          47.476663,
          47.478443,
          47.482184,
          47.4841,
          47.486698,
          47.49017,
          47.490555,
          47.492498,
          47.494972,
          47.495745,
          47.497192,
          47.499223,
          47.502828,
          47.503178,
          47.504642,
          47.505566,
          47.479495,
          47.476798,
          47.473875,
          47.474163,
          47.475665,
          47.476663,
          47.478443,
          47.482184,
          47.4841,
          47.486698,
          47.49017,
          47.490555,
          47.492498,
          47.494972,
          47.495745,
          47.479495,
          47.476798,
          47.473875,
          47.474163,
          47.475665,
          47.476663,
          47.478443,
          47.482184,
          47.4841,
          47.486698,
          47.497928,
          47.500321,
          47.503604,
          47.505485,
          47.504525,
          47.502917,
          47.50228,
          47.49934,
          47.497291,
          47.495421,
          47.492273,
          47.490376,
          47.490044,
          47.488299,
          47.483838,
          47.482031,
          47.478605,
          47.476285,
          47.474864,
          47.473785,
          47.473623,
          47.476573,
          47.479495,
          47.479495,
          47.476798,
          47.473875,
          47.474163,
          47.475665,
          47.476663,
          47.478443,
          47.500578,
          47.500157,
          47.499547,
          47.499423,
          47.49823,
          47.49773,
          47.500321,
          47.503604,
          47.505485,
          47.504525,
          47.502917,
          47.50228,
          47.49934,
          47.497291,
          47.495421,
          47.492273,
          47.490376,
          47.490044,
          47.488299,
          47.483838,
          47.482031,
          47.478605,
          47.476285,
          47.474864,
          47.473785,
          47.473623,
          47.476573,
          47.479495,
          47.479495,
          47.476798,
          47.473875,
          47.500578,
          47.500157,
          47.499547,
          47.499423,
          47.49823,
          47.49773,
          47.500321,
          47.503604,
          47.505485,
          47.504525,
          47.502917,
          47.50228,
          47.49934,
          47.497291,
          47.495421,
          47.492273,
          47.490376,
          47.490044,
          47.488299,
          47.483838,
          47.482031,
          47.478605,
          47.476285,
          47.474864,
          47.473785,
          47.473623,
          47.476573,
          47.479495,
          47.38888,
          47.390378,
          47.388224,
          47.389559,
          47.390622,
          47.39254,
          47.393237,
          47.394676,
          47.396882,
          47.399862,
          47.405135,
          47.408293,
          47.41003,
          47.411327,
          47.412479,
          47.414225,
          47.421546,
          47.4267,
          47.429587,
          47.432411,
          47.443025,
          47.447081,
          47.449168,
          47.451944,
          47.455374,
          47.45943,
          47.464422,
          47.469765,
          47.472823,
          47.474649,
          47.477256,
          47.38888,
          47.390378,
          47.388224,
          47.389559,
          47.390622,
          47.39254,
          47.393237,
          47.394676,
          47.396882,
          47.399862,
          47.405135,
          47.408293,
          47.41003,
          47.411327,
          47.412479,
          47.414225,
          47.421546,
          47.4267,
          47.429587,
          47.432411,
          47.443025,
          47.447081,
          47.449168,
          47.451944,
          47.455374,
          47.45943,
          47.464422,
          47.469765,
          47.472823,
          47.474649,
          47.477256,
          47.477256,
          47.476169,
          47.474361,
          47.468595,
          47.464485,
          47.459233,
          47.455407,
          47.45189,
          47.449438,
          47.448017,
          47.442548,
          47.433121,
          47.429065,
          47.426493,
          47.421807,
          47.414386,
          47.41238,
          47.41147,
          47.477256,
          47.476169,
          47.474361,
          47.468595,
          47.464485,
          47.459233,
          47.455407,
          47.45189,
          47.464473,
          47.464088,
          47.463603,
          47.462254,
          47.462551,
          47.467013,
          47.469646,
          47.469072,
          47.468737,
          47.469723,
          47.470305,
          47.472723,
          47.476294,
          47.48177,
          47.486236,
          47.491164,
          47.496282,
          47.50095,
          47.507177,
          47.511344,
          47.513809,
          47.51681,
          47.519064,
          47.523617,
          47.5262,
          47.530449,
          47.532219,
          47.548766,
          47.544878,
          47.541109,
          47.539377,
          47.536087,
          47.532974,
          47.530041,
          47.525797,
          47.52323,
          47.518677,
          47.5164,
          47.513431,
          47.510921,
          47.506744,
          47.500387,
          47.495706,
          47.49069,
          47.485742,
          47.481389,
          47.475879,
          47.47239,
          47.470172,
          47.469596,
          47.468737,
          47.469171,
          47.469808,
          47.466536,
          47.462066,
          47.462389,
          47.463737,
          47.464205,
          47.463988,
          47.548766,
          47.544878,
          47.541109,
          47.539377,
          47.536087,
          47.532974,
          47.530041,
          47.525797,
          47.52323,
          47.518677,
          47.5164,
          47.513431,
          47.510921,
          47.506744,
          47.500387,
          47.495706,
          47.49069,
          47.485742,
          47.481389,
          47.475879,
          47.47239,
          47.470172,
          47.469596,
          47.468737,
          47.469171,
          47.469808,
          47.466536,
          47.462066,
          47.462389,
          47.463737,
          47.548766,
          47.544878,
          47.541109,
          47.539377,
          47.536087,
          47.532974,
          47.530041,
          47.525797,
          47.52323,
          47.518677,
          47.5164,
          47.513431,
          47.510921,
          47.506744,
          47.500387,
          47.495706,
          47.49069,
          47.485742,
          47.481389,
          47.475879,
          47.47239,
          47.470172,
          47.469596,
          47.468737,
          47.469171,
          47.469808,
          47.466536,
          47.462066,
          47.462389,
          47.548766,
          47.544878,
          47.541109,
          47.539377,
          47.536087,
          47.532974,
          47.530041,
          47.525797,
          47.52323,
          47.518677,
          47.5164,
          47.513431,
          47.510921,
          47.506744,
          47.500387,
          47.495706,
          47.49069,
          47.485742,
          47.481389,
          47.475879,
          47.47239,
          47.470172,
          47.469596,
          47.468737,
          47.469171,
          47.469808,
          47.466536,
          47.464473,
          47.464088,
          47.463603,
          47.462254,
          47.462551,
          47.467013,
          47.469646,
          47.469072,
          47.468737,
          47.469723,
          47.470305,
          47.472723,
          47.476294,
          47.48177,
          47.486236,
          47.491164,
          47.496282,
          47.50095,
          47.507177,
          47.511344,
          47.513809,
          47.51681,
          47.519064,
          47.523617,
          47.5262,
          47.464473,
          47.464088,
          47.463603,
          47.462254,
          47.462551,
          47.467013,
          47.469646,
          47.469072,
          47.468737,
          47.469723,
          47.470305,
          47.472723,
          47.476294,
          47.48177,
          47.486236,
          47.491164,
          47.496282,
          47.50095,
          47.507177,
          47.511344,
          47.513809,
          47.51681,
          47.519064,
          47.464473,
          47.464088,
          47.463603,
          47.462254,
          47.462551,
          47.467013,
          47.469646,
          47.469072,
          47.468737,
          47.469723,
          47.470305,
          47.472723,
          47.476294,
          47.48177,
          47.486236,
          47.491164,
          47.496282,
          47.50095,
          47.507177,
          47.511344,
          47.513809,
          47.464473,
          47.464088,
          47.463603,
          47.462254,
          47.462551,
          47.467013,
          47.469646,
          47.469072,
          47.468737,
          47.469723,
          47.470305,
          47.472723,
          47.476294,
          47.48177,
          47.486236,
          47.491164,
          47.496282,
          47.50095,
          47.464473,
          47.464088,
          47.463603,
          47.462254,
          47.462551,
          47.467013,
          47.469646,
          47.469072,
          47.468737,
          47.469723,
          47.470305,
          47.472723,
          47.476294,
          47.48177,
          47.486236,
          47.491164,
          47.496282,
          47.548766,
          47.544878,
          47.541109,
          47.539377,
          47.536087,
          47.532974,
          47.530041,
          47.525797,
          47.52323,
          47.518677,
          47.5164,
          47.513431,
          47.510921,
          47.506744,
          47.500387,
          47.495706,
          47.49069,
          47.485742,
          47.481389,
          47.475879,
          47.47239,
          47.470172,
          47.469596,
          47.468737,
          47.469171,
          47.469808,
          47.466536,
          47.462066,
          47.462389,
          47.463737,
          47.464205,
          47.463988,
          47.548766,
          47.544878,
          47.541109,
          47.539377,
          47.536087,
          47.532974,
          47.530041,
          47.525797,
          47.52323,
          47.518677,
          47.5164,
          47.513431,
          47.510921,
          47.506744,
          47.500387,
          47.495706,
          47.49069,
          47.485742,
          47.481389,
          47.475879,
          47.47239,
          47.470172,
          47.469596,
          47.468737,
          47.469171,
          47.469808,
          47.466536,
          47.462066,
          47.462389,
          47.463737,
          47.464205,
          47.463988,
          47.548766,
          47.544878,
          47.541109,
          47.539377,
          47.536087,
          47.532974,
          47.530041,
          47.525797,
          47.52323,
          47.518677,
          47.5164,
          47.513431,
          47.510921,
          47.506744,
          47.500387,
          47.495706,
          47.49069,
          47.485742,
          47.481389,
          47.475879,
          47.47239,
          47.470172,
          47.469596,
          47.468737,
          47.469171,
          47.469808,
          47.466536,
          47.462066,
          47.462389,
          47.463737,
          47.464205,
          47.463988,
          47.548766,
          47.544878,
          47.541109,
          47.539377,
          47.536087,
          47.532974,
          47.530041,
          47.525797,
          47.52323,
          47.518677,
          47.5164,
          47.513431,
          47.510921,
          47.506744,
          47.500387,
          47.495706,
          47.49069,
          47.485742,
          47.481389,
          47.475879,
          47.47239,
          47.470172,
          47.469596,
          47.468737,
          47.469171,
          47.469808,
          47.466536,
          47.462066,
          47.462389,
          47.463737,
          47.464205,
          47.463988,
          47.548766,
          47.544878,
          47.541109,
          47.539377,
          47.536087,
          47.532974,
          47.530041,
          47.525797,
          47.52323,
          47.518677,
          47.5164,
          47.513431,
          47.510921,
          47.506744,
          47.500387,
          47.495706,
          47.49069,
          47.485742,
          47.481389,
          47.475879,
          47.47239,
          47.470172,
          47.469596,
          47.468737,
          47.469171,
          47.469808,
          47.466536,
          47.462066,
          47.462389,
          47.463737,
          47.464205,
          47.463988,
          47.464473,
          47.464088,
          47.463603,
          47.462254,
          47.462551,
          47.467013,
          47.469646,
          47.469072,
          47.468737,
          47.469723,
          47.470305,
          47.472723,
          47.476294,
          47.48177,
          47.486236,
          47.464473,
          47.464088,
          47.463603,
          47.462254,
          47.462551,
          47.467013,
          47.469646,
          47.469072,
          47.468737,
          47.469723,
          47.470305,
          47.472723,
          47.476294,
          47.464473,
          47.464088,
          47.463603,
          47.462254,
          47.462551,
          47.467013,
          47.469646,
          47.469072,
          47.468737,
          47.469723,
          47.470305,
          47.548766,
          47.544878,
          47.541109,
          47.539377,
          47.536087,
          47.532974,
          47.530041,
          47.525797,
          47.52323,
          47.518677,
          47.5164,
          47.513431,
          47.510921,
          47.506744,
          47.500387,
          47.495706,
          47.49069,
          47.485742,
          47.481389,
          47.475879,
          47.47239,
          47.470172,
          47.469596,
          47.468737,
          47.469171,
          47.469808,
          47.466536,
          47.462066,
          47.462389,
          47.463737,
          47.464205,
          47.463988,
          47.464473,
          47.464088,
          47.463603,
          47.462254,
          47.462551,
          47.467013,
          47.469646,
          47.469072,
          47.468737
         ],
         "lon": [
          19.048349,
          19.054107,
          19.059586,
          19.066698,
          19.068848,
          19.069898,
          19.070815,
          19.071188,
          19.070699,
          19.068948,
          19.06583,
          19.062406,
          19.056168,
          19.048177,
          19.042521,
          19.038193,
          19.031462,
          19.026739,
          19.024496,
          19.048349,
          19.054107,
          19.059586,
          19.066698,
          19.068848,
          19.069898,
          19.070815,
          19.071188,
          19.070699,
          19.068948,
          19.046863,
          19.053736,
          19.059586,
          19.066698,
          19.068848,
          19.069898,
          19.070815,
          19.071188,
          19.070699,
          19.068948,
          19.06583,
          19.062406,
          19.056168,
          19.048177,
          19.042521,
          19.038193,
          19.031462,
          19.026739,
          19.024496,
          19.048349,
          19.054107,
          19.059586,
          19.066698,
          19.068848,
          19.069898,
          19.070815,
          19.071188,
          19.070699,
          19.068948,
          19.06583,
          19.062406,
          19.056168,
          19.048177,
          19.042521,
          19.038193,
          19.031462,
          19.026739,
          19.024496,
          19.046863,
          19.053736,
          19.059586,
          19.066698,
          19.068848,
          19.069898,
          19.070815,
          19.071188,
          19.070699,
          19.068948,
          19.06583,
          19.062406,
          19.056168,
          19.048177,
          19.042521,
          19.038193,
          19.031462,
          19.026739,
          19.024496,
          19.046863,
          19.053736,
          19.059586,
          19.066698,
          19.068848,
          19.069898,
          19.070815,
          19.071188,
          19.070699,
          19.068948,
          19.06583,
          19.062406,
          19.056168,
          19.048177,
          19.042521,
          19.038193,
          19.031462,
          19.026739,
          19.048349,
          19.054107,
          19.059586,
          19.066698,
          19.068848,
          19.069898,
          19.070815,
          19.071188,
          19.070699,
          19.068948,
          19.06583,
          19.062406,
          19.056168,
          19.048177,
          19.042521,
          19.038193,
          19.031462,
          19.025186,
          19.027323,
          19.032114,
          19.038897,
          19.044327,
          19.048841,
          19.056659,
          19.062871,
          19.066202,
          19.06916,
          19.070672,
          19.071016,
          19.070589,
          19.070057,
          19.068463,
          19.066075,
          19.058963,
          19.052807,
          19.046863,
          19.046863,
          19.053736,
          19.059586,
          19.066698,
          19.068848,
          19.069898,
          19.070815,
          19.071188,
          19.070699,
          19.068948,
          19.06583,
          19.062406,
          19.056168,
          19.048177,
          19.042521,
          19.038193,
          19.025186,
          19.027323,
          19.032114,
          19.038897,
          19.044327,
          19.048841,
          19.056659,
          19.062871,
          19.066202,
          19.06916,
          19.070672,
          19.071016,
          19.070589,
          19.070057,
          19.068463,
          19.066075,
          19.058963,
          19.053457,
          19.048349,
          19.048349,
          19.054107,
          19.059586,
          19.066698,
          19.068848,
          19.069898,
          19.070815,
          19.071188,
          19.070699,
          19.068948,
          19.06583,
          19.062406,
          19.056168,
          19.048177,
          19.025186,
          19.027323,
          19.032114,
          19.038897,
          19.044327,
          19.048841,
          19.056659,
          19.062871,
          19.066202,
          19.06916,
          19.070672,
          19.071016,
          19.070589,
          19.070057,
          19.068463,
          19.066075,
          19.058963,
          19.052807,
          19.046863,
          19.046863,
          19.053736,
          19.059586,
          19.066698,
          19.068848,
          19.069898,
          19.070815,
          19.071188,
          19.070699,
          19.068948,
          19.06583,
          19.062406,
          19.056168,
          19.025186,
          19.027323,
          19.032114,
          19.038897,
          19.044327,
          19.048841,
          19.056659,
          19.062871,
          19.066202,
          19.06916,
          19.070672,
          19.071016,
          19.070589,
          19.070057,
          19.068463,
          19.066075,
          19.058963,
          19.053457,
          19.048349,
          19.048349,
          19.054107,
          19.059586,
          19.066698,
          19.068848,
          19.069898,
          19.070815,
          19.071188,
          19.070699,
          19.068948,
          19.06583,
          19.062406,
          19.046863,
          19.053736,
          19.059586,
          19.066698,
          19.068848,
          19.069898,
          19.070815,
          19.071188,
          19.070699,
          19.068948,
          19.06583,
          19.025186,
          19.027323,
          19.032114,
          19.038897,
          19.044327,
          19.048841,
          19.056659,
          19.062871,
          19.066202,
          19.06916,
          19.070672,
          19.071016,
          19.070589,
          19.070057,
          19.068463,
          19.066075,
          19.058963,
          19.052807,
          19.046863,
          19.046863,
          19.053736,
          19.059586,
          19.066698,
          19.068848,
          19.069898,
          19.070815,
          19.071188,
          19.025186,
          19.027323,
          19.032114,
          19.038897,
          19.044327,
          19.048841,
          19.056659,
          19.062871,
          19.066202,
          19.06916,
          19.070672,
          19.071016,
          19.070589,
          19.070057,
          19.068463,
          19.066075,
          19.058963,
          19.053457,
          19.048349,
          19.048349,
          19.054107,
          19.059586,
          19.066698,
          19.068848,
          19.069898,
          19.070815,
          19.025186,
          19.027323,
          19.032114,
          19.038897,
          19.044327,
          19.048841,
          19.056659,
          19.062871,
          19.066202,
          19.06916,
          19.070672,
          19.071016,
          19.070589,
          19.070057,
          19.068463,
          19.066075,
          19.058963,
          19.052807,
          19.046863,
          19.046863,
          19.053736,
          19.059586,
          19.066698,
          19.068848,
          19.069898,
          19.025186,
          19.027323,
          19.032114,
          19.038897,
          19.044327,
          19.048841,
          19.056659,
          19.062871,
          19.066202,
          19.06916,
          19.070672,
          19.071016,
          19.070589,
          19.070057,
          19.068463,
          19.066075,
          19.058963,
          19.053457,
          19.048349,
          19.048349,
          19.054107,
          19.059586,
          19.066698,
          19.025186,
          19.027323,
          19.032114,
          19.038897,
          19.044327,
          19.048841,
          19.056659,
          19.062871,
          19.066202,
          19.06916,
          19.070672,
          19.071016,
          19.070589,
          19.070057,
          19.068463,
          19.066075,
          19.058963,
          19.052807,
          19.046863,
          19.046863,
          19.053736,
          19.059586,
          19.025186,
          19.027323,
          19.032114,
          19.038897,
          19.044327,
          19.048841,
          19.056659,
          19.062871,
          19.066202,
          19.06916,
          19.070672,
          19.071016,
          19.070589,
          19.070057,
          19.068463,
          19.066075,
          19.058963,
          19.053457,
          19.048349,
          19.025186,
          19.027323,
          19.032114,
          19.038897,
          19.044327,
          19.048841,
          19.056659,
          19.062871,
          19.066202,
          19.06916,
          19.070672,
          19.071016,
          19.070589,
          19.070057,
          19.068463,
          19.066075,
          19.058963,
          19.052807,
          19.046863,
          19.025186,
          19.027323,
          19.032114,
          19.038897,
          19.044327,
          19.048841,
          19.056659,
          19.062871,
          19.066202,
          19.06916,
          19.070672,
          19.071016,
          19.070589,
          19.070057,
          19.068463,
          19.066075,
          19.058963,
          19.053457,
          19.048349,
          19.025186,
          19.027323,
          19.032114,
          19.038897,
          19.044327,
          19.048841,
          19.056659,
          19.062871,
          19.066202,
          19.06916,
          19.070672,
          19.071016,
          19.070589,
          19.070057,
          19.068463,
          19.066075,
          19.058963,
          19.052807,
          19.046863,
          19.025186,
          19.027323,
          19.032114,
          19.038897,
          19.044327,
          19.048841,
          19.056659,
          19.062871,
          19.066202,
          19.06916,
          19.070672,
          19.071016,
          19.070589,
          19.070057,
          19.068463,
          19.066075,
          19.058963,
          19.053457,
          19.048349,
          19.025186,
          19.027323,
          19.032114,
          19.038897,
          19.044327,
          19.048841,
          19.056659,
          19.062871,
          19.066202,
          19.06916,
          19.070672,
          19.071016,
          19.070589,
          19.070057,
          19.068463,
          19.066075,
          19.058963,
          19.052807,
          19.046863,
          19.025186,
          19.027323,
          19.032114,
          19.038897,
          19.044327,
          19.048841,
          19.056659,
          19.062871,
          19.066202,
          19.06916,
          19.070672,
          19.071016,
          19.070589,
          19.070057,
          19.068463,
          19.066075,
          19.058963,
          19.053457,
          19.062994,
          19.063671,
          19.063592,
          19.058923,
          19.052847,
          19.04705,
          19.039382,
          19.033466,
          19.033839,
          19.033866,
          19.033561,
          19.033388,
          19.033324,
          19.029134,
          19.024042,
          19.021537,
          19.019589,
          19.01642,
          19.018844,
          19.02001,
          19.017379,
          19.016317,
          18.992542,
          18.994813,
          18.996605,
          18.998609,
          19.000905,
          19.003718,
          19.005126,
          19.008853,
          19.015035,
          19.01936,
          19.018933,
          19.018308,
          19.016251,
          19.015866,
          19.017273,
          19.019772,
          19.018553,
          19.017984,
          19.019682,
          19.02073,
          19.022625,
          19.023234,
          19.02444,
          19.030513,
          19.033537,
          19.033576,
          19.033642,
          19.033826,
          19.034157,
          19.033719,
          19.035389,
          19.042062,
          19.047395,
          19.053178,
          19.059268,
          19.063539,
          19.063857,
          19.062994,
          19.062994,
          19.063671,
          19.063592,
          19.058923,
          19.052847,
          19.04705,
          19.039382,
          19.033466,
          18.992542,
          18.994813,
          18.996605,
          18.998609,
          19.000905,
          19.003718,
          19.005126,
          19.008853,
          19.015035,
          19.01936,
          19.018933,
          19.018308,
          19.020056,
          19.025042,
          19.02983,
          19.035932,
          19.042062,
          19.047395,
          19.053178,
          19.059268,
          19.063539,
          19.063857,
          19.064333,
          19.05794,
          19.05794,
          19.053311,
          19.052568,
          19.04705,
          19.039952,
          19.03572,
          19.030401,
          19.024776,
          19.019684,
          19.016596,
          19.018494,
          19.018907,
          19.018802,
          19.013881,
          19.011477,
          19.005922,
          18.992542,
          18.994813,
          18.996605,
          18.998609,
          19.000905,
          19.003718,
          19.005126,
          19.008853,
          19.015035,
          19.01936,
          19.018933,
          19.018308,
          19.020056,
          19.025042,
          19.02983,
          19.035932,
          19.042062,
          19.047395,
          19.053178,
          19.059268,
          19.063539,
          19.063857,
          19.064333,
          19.05794,
          19.05794,
          19.053311,
          19.052568,
          19.142015,
          19.139873,
          19.139162,
          19.130251,
          19.12028,
          19.112319,
          19.107097,
          19.099153,
          19.089298,
          19.081265,
          19.071508,
          19.064965,
          19.060718,
          19.054534,
          19.051747,
          19.053776,
          19.053383,
          19.052621,
          19.052979,
          19.052793,
          19.052095,
          19.046334,
          19.036857,
          19.037574,
          19.038303,
          19.032622,
          19.025944,
          19.020207,
          19.015956,
          19.012155,
          19.003827,
          18.998781,
          18.993723,
          19.142015,
          19.139873,
          19.139162,
          19.130251,
          19.12028,
          19.112319,
          19.107097,
          19.099153,
          19.089298,
          19.081265,
          19.071508,
          19.064965,
          19.060718,
          19.054534,
          19.051747,
          19.053776,
          19.053383,
          19.052621,
          19.052979,
          19.052793,
          19.051692,
          19.142015,
          19.139873,
          19.139162,
          19.130251,
          19.12028,
          19.112319,
          19.107097,
          19.099153,
          19.089298,
          19.081265,
          19.071508,
          19.064965,
          19.060718,
          19.054534,
          19.051747,
          19.053776,
          19.053383,
          19.052621,
          19.052979,
          19.052793,
          19.052095,
          19.046334,
          19.142015,
          19.139873,
          19.139162,
          19.130251,
          19.12028,
          19.112319,
          19.107097,
          19.099153,
          19.089298,
          19.081265,
          19.071508,
          19.064965,
          19.060718,
          19.054534,
          19.051747,
          19.053776,
          19.053383,
          19.052621,
          19.052979,
          19.052793,
          19.051692,
          18.970812,
          18.973056,
          18.977889,
          18.981,
          18.984733,
          18.989336,
          18.992863,
          18.997974,
          19.004979,
          19.012791,
          19.016499,
          19.020671,
          19.026236,
          19.033735,
          19.039244,
          19.037773,
          19.037454,
          19.045923,
          19.052474,
          19.053098,
          19.053311,
          19.052568,
          19.053165,
          19.053922,
          19.051335,
          19.055343,
          19.060983,
          19.065257,
          19.071495,
          19.081955,
          19.089802,
          19.098662,
          19.108478,
          19.112956,
          19.122035,
          19.13049,
          18.970812,
          18.973056,
          18.977889,
          18.981,
          18.984733,
          18.989336,
          18.992863,
          18.997974,
          19.004979,
          19.012791,
          19.016499,
          19.020671,
          19.026236,
          19.033735,
          19.039244,
          19.037773,
          19.037454,
          19.045923,
          19.052474,
          19.053098,
          19.053311,
          19.052568,
          19.053165,
          19.053922,
          19.051335,
          19.055343,
          19.060983,
          19.065257,
          19.071495,
          19.081955,
          19.089802,
          19.098662,
          19.108478,
          18.970812,
          18.973056,
          18.977889,
          18.981,
          18.984733,
          18.989336,
          18.992863,
          18.997974,
          19.004979,
          19.012791,
          19.016499,
          19.020671,
          19.026236,
          19.033735,
          19.039244,
          19.037773,
          19.037454,
          19.045923,
          19.052474,
          19.053098,
          19.053311,
          19.052568,
          19.053165,
          19.053922,
          19.051335,
          19.055343,
          19.060983,
          19.065257,
          19.071495,
          19.081955,
          19.089802,
          18.970812,
          18.973056,
          18.977889,
          18.981,
          18.984733,
          18.989336,
          18.992863,
          18.997974,
          19.004979,
          19.012791,
          19.016499,
          19.020671,
          19.026236,
          19.033735,
          19.039244,
          19.037773,
          19.037454,
          19.045923,
          19.052474,
          19.053098,
          19.053311,
          19.052568,
          19.053165,
          19.053922,
          19.051335,
          19.055343,
          19.060983,
          19.065257,
          19.071495,
          18.970812,
          18.973056,
          18.977889,
          18.981,
          18.984733,
          18.989336,
          18.992863,
          18.997974,
          19.004979,
          19.012791,
          19.016499,
          19.020671,
          19.026236,
          19.033735,
          19.039244,
          19.037773,
          19.037454,
          19.045923,
          19.052474,
          19.053098,
          19.053311,
          19.052568,
          19.053165,
          19.053922,
          19.051335,
          19.055343,
          18.970812,
          18.973056,
          18.977889,
          18.981,
          18.984733,
          18.989336,
          18.992863,
          18.997974,
          19.004979,
          19.012791,
          19.016499,
          19.020671,
          19.026236,
          19.033735,
          19.039244,
          19.037773,
          19.037454,
          19.045923,
          19.052474,
          19.053098,
          19.053311,
          19.052568,
          19.053165,
          19.05794,
          19.053311,
          19.052568,
          19.053165,
          19.053922,
          19.046916,
          19.051335,
          19.055343,
          19.060983,
          19.065257,
          19.071495,
          19.078384,
          19.081955,
          19.05794,
          19.053311,
          19.052568,
          19.053165,
          19.053922,
          19.046916,
          19.051335,
          19.055343,
          19.060983,
          19.065257,
          19.071495,
          19.078384,
          19.081955,
          19.081265,
          19.07772,
          19.071508,
          19.064965,
          19.060718,
          19.054534,
          19.051747,
          19.047208,
          19.054984,
          19.059321,
          19.063539,
          19.063857,
          19.064333,
          19.05794,
          19.05794,
          19.053311,
          19.052568,
          19.053165,
          19.053922,
          19.046916,
          19.051335,
          19.055343,
          19.060983,
          19.081265,
          19.07772,
          19.071508,
          19.064965,
          19.060718,
          19.054534,
          19.051747,
          19.047208,
          19.054984,
          19.059321,
          19.063539,
          19.063857,
          19.064333,
          19.05794,
          19.05794,
          19.053311,
          19.052568,
          19.053165,
          19.081265,
          19.07772,
          19.071508,
          19.064965,
          19.060718,
          19.054534,
          19.051747,
          19.047208,
          19.054984,
          19.059321,
          19.063539,
          19.063857,
          19.064333,
          19.067865,
          19.058923,
          19.052847,
          19.04705,
          19.039952,
          19.03572,
          19.031832,
          19.030171,
          19.027041,
          19.024943,
          19.023466,
          19.018489,
          19.016647,
          19.01926,
          19.018994,
          19.014146,
          19.009011,
          19.00585,
          19.002916,
          18.997964,
          18.99268,
          19.067865,
          19.058923,
          19.052847,
          19.04705,
          19.039952,
          19.03572,
          19.031832,
          19.030171,
          19.027041,
          19.024943,
          19.023466,
          19.018489,
          19.016647,
          19.01926,
          19.018994,
          19.067865,
          19.058923,
          19.052847,
          19.04705,
          19.039952,
          19.03572,
          19.031832,
          19.030171,
          19.027041,
          19.024943,
          18.989543,
          18.989659,
          18.990585,
          18.992534,
          18.998004,
          19.002186,
          19.005903,
          19.00864,
          19.01327,
          19.018729,
          19.016461,
          19.019617,
          19.023665,
          19.024345,
          19.027065,
          19.029932,
          19.031448,
          19.035932,
          19.042062,
          19.047395,
          19.053178,
          19.059268,
          19.067865,
          19.067865,
          19.058923,
          19.052847,
          19.04705,
          19.039952,
          19.03572,
          19.031832,
          18.967972,
          18.97084,
          18.973389,
          18.977225,
          18.981367,
          18.989397,
          18.989659,
          18.990585,
          18.992534,
          18.998004,
          19.002186,
          19.005903,
          19.00864,
          19.01327,
          19.018729,
          19.016461,
          19.019617,
          19.023665,
          19.024345,
          19.027065,
          19.029932,
          19.031448,
          19.035932,
          19.042062,
          19.047395,
          19.053178,
          19.059268,
          19.067865,
          19.067865,
          19.058923,
          19.052847,
          18.967972,
          18.97084,
          18.973389,
          18.977225,
          18.981367,
          18.989397,
          18.989659,
          18.990585,
          18.992534,
          18.998004,
          19.002186,
          19.005903,
          19.00864,
          19.01327,
          19.018729,
          19.016461,
          19.019617,
          19.023665,
          19.024345,
          19.027065,
          19.029932,
          19.031448,
          19.035932,
          19.042062,
          19.047395,
          19.053178,
          19.059268,
          19.067865,
          18.958553,
          18.963761,
          18.973056,
          18.977889,
          18.981,
          18.984733,
          18.989336,
          18.992863,
          18.997974,
          19.004979,
          19.012791,
          19.016499,
          19.020671,
          19.026236,
          19.033735,
          19.038478,
          19.041578,
          19.039244,
          19.037773,
          19.037454,
          19.045685,
          19.045923,
          19.049119,
          19.051067,
          19.05197,
          19.052474,
          19.053098,
          19.053311,
          19.052568,
          19.046771,
          19.048786,
          18.958553,
          18.963761,
          18.973056,
          18.977889,
          18.981,
          18.984733,
          18.989336,
          18.992863,
          18.997974,
          19.004979,
          19.012791,
          19.016499,
          19.020671,
          19.026236,
          19.033735,
          19.038478,
          19.041578,
          19.039244,
          19.037773,
          19.037454,
          19.045685,
          19.045923,
          19.049119,
          19.051067,
          19.05197,
          19.052474,
          19.053098,
          19.053311,
          19.052568,
          19.046771,
          19.048786,
          19.048786,
          19.052582,
          19.052621,
          19.052979,
          19.052793,
          19.052095,
          19.051598,
          19.050709,
          19.049052,
          19.046334,
          19.045261,
          19.036857,
          19.037574,
          19.038303,
          19.041101,
          19.038518,
          19.032622,
          19.025944,
          19.048786,
          19.052582,
          19.052621,
          19.052979,
          19.052793,
          19.052095,
          19.051598,
          19.050709,
          19.023388,
          19.029635,
          19.033309,
          19.043363,
          19.048509,
          19.049756,
          19.054384,
          19.0605,
          19.073486,
          19.084482,
          19.089313,
          19.096118,
          19.099288,
          19.103619,
          19.107515,
          19.108967,
          19.109135,
          19.108089,
          19.10405,
          19.099156,
          19.095757,
          19.091387,
          19.088114,
          19.080987,
          19.076952,
          19.070169,
          19.0673,
          19.02937,
          19.034772,
          19.040538,
          19.045937,
          19.059532,
          19.066119,
          19.070699,
          19.077524,
          19.081478,
          19.088565,
          19.091909,
          19.096261,
          19.09958,
          19.104445,
          19.108151,
          19.109078,
          19.10891,
          19.107077,
          19.103174,
          19.098907,
          19.095534,
          19.088529,
          19.083728,
          19.072756,
          19.059717,
          19.053655,
          19.04957,
          19.048336,
          19.042594,
          19.032434,
          19.028906,
          19.02311,
          19.02937,
          19.034772,
          19.040538,
          19.045937,
          19.059532,
          19.066119,
          19.070699,
          19.077524,
          19.081478,
          19.088565,
          19.091909,
          19.096261,
          19.09958,
          19.104445,
          19.108151,
          19.109078,
          19.10891,
          19.107077,
          19.103174,
          19.098907,
          19.095534,
          19.088529,
          19.083728,
          19.072756,
          19.059717,
          19.053655,
          19.04957,
          19.048336,
          19.042594,
          19.032434,
          19.02937,
          19.034772,
          19.040538,
          19.045937,
          19.059532,
          19.066119,
          19.070699,
          19.077524,
          19.081478,
          19.088565,
          19.091909,
          19.096261,
          19.09958,
          19.104445,
          19.108151,
          19.109078,
          19.10891,
          19.107077,
          19.103174,
          19.098907,
          19.095534,
          19.088529,
          19.083728,
          19.072756,
          19.059717,
          19.053655,
          19.04957,
          19.048336,
          19.042594,
          19.02937,
          19.034772,
          19.040538,
          19.045937,
          19.059532,
          19.066119,
          19.070699,
          19.077524,
          19.081478,
          19.088565,
          19.091909,
          19.096261,
          19.09958,
          19.104445,
          19.108151,
          19.109078,
          19.10891,
          19.107077,
          19.103174,
          19.098907,
          19.095534,
          19.088529,
          19.083728,
          19.072756,
          19.059717,
          19.053655,
          19.04957,
          19.023388,
          19.029635,
          19.033309,
          19.043363,
          19.048509,
          19.049756,
          19.054384,
          19.0605,
          19.073486,
          19.084482,
          19.089313,
          19.096118,
          19.099288,
          19.103619,
          19.107515,
          19.108967,
          19.109135,
          19.108089,
          19.10405,
          19.099156,
          19.095757,
          19.091387,
          19.088114,
          19.080987,
          19.076952,
          19.023388,
          19.029635,
          19.033309,
          19.043363,
          19.048509,
          19.049756,
          19.054384,
          19.0605,
          19.073486,
          19.084482,
          19.089313,
          19.096118,
          19.099288,
          19.103619,
          19.107515,
          19.108967,
          19.109135,
          19.108089,
          19.10405,
          19.099156,
          19.095757,
          19.091387,
          19.088114,
          19.023388,
          19.029635,
          19.033309,
          19.043363,
          19.048509,
          19.049756,
          19.054384,
          19.0605,
          19.073486,
          19.084482,
          19.089313,
          19.096118,
          19.099288,
          19.103619,
          19.107515,
          19.108967,
          19.109135,
          19.108089,
          19.10405,
          19.099156,
          19.095757,
          19.023388,
          19.029635,
          19.033309,
          19.043363,
          19.048509,
          19.049756,
          19.054384,
          19.0605,
          19.073486,
          19.084482,
          19.089313,
          19.096118,
          19.099288,
          19.103619,
          19.107515,
          19.108967,
          19.109135,
          19.108089,
          19.023388,
          19.029635,
          19.033309,
          19.043363,
          19.048509,
          19.049756,
          19.054384,
          19.0605,
          19.073486,
          19.084482,
          19.089313,
          19.096118,
          19.099288,
          19.103619,
          19.107515,
          19.108967,
          19.109135,
          19.02937,
          19.034772,
          19.040538,
          19.045937,
          19.059532,
          19.066119,
          19.070699,
          19.077524,
          19.081478,
          19.088565,
          19.091909,
          19.096261,
          19.09958,
          19.104445,
          19.108151,
          19.109078,
          19.10891,
          19.107077,
          19.103174,
          19.098907,
          19.095534,
          19.088529,
          19.083728,
          19.072756,
          19.059717,
          19.053655,
          19.04957,
          19.048336,
          19.042594,
          19.032434,
          19.028906,
          19.02311,
          19.02937,
          19.034772,
          19.040538,
          19.045937,
          19.059532,
          19.066119,
          19.070699,
          19.077524,
          19.081478,
          19.088565,
          19.091909,
          19.096261,
          19.09958,
          19.104445,
          19.108151,
          19.109078,
          19.10891,
          19.107077,
          19.103174,
          19.098907,
          19.095534,
          19.088529,
          19.083728,
          19.072756,
          19.059717,
          19.053655,
          19.04957,
          19.048336,
          19.042594,
          19.032434,
          19.028906,
          19.02311,
          19.02937,
          19.034772,
          19.040538,
          19.045937,
          19.059532,
          19.066119,
          19.070699,
          19.077524,
          19.081478,
          19.088565,
          19.091909,
          19.096261,
          19.09958,
          19.104445,
          19.108151,
          19.109078,
          19.10891,
          19.107077,
          19.103174,
          19.098907,
          19.095534,
          19.088529,
          19.083728,
          19.072756,
          19.059717,
          19.053655,
          19.04957,
          19.048336,
          19.042594,
          19.032434,
          19.028906,
          19.02311,
          19.02937,
          19.034772,
          19.040538,
          19.045937,
          19.059532,
          19.066119,
          19.070699,
          19.077524,
          19.081478,
          19.088565,
          19.091909,
          19.096261,
          19.09958,
          19.104445,
          19.108151,
          19.109078,
          19.10891,
          19.107077,
          19.103174,
          19.098907,
          19.095534,
          19.088529,
          19.083728,
          19.072756,
          19.059717,
          19.053655,
          19.04957,
          19.048336,
          19.042594,
          19.032434,
          19.028906,
          19.02311,
          19.02937,
          19.034772,
          19.040538,
          19.045937,
          19.059532,
          19.066119,
          19.070699,
          19.077524,
          19.081478,
          19.088565,
          19.091909,
          19.096261,
          19.09958,
          19.104445,
          19.108151,
          19.109078,
          19.10891,
          19.107077,
          19.103174,
          19.098907,
          19.095534,
          19.088529,
          19.083728,
          19.072756,
          19.059717,
          19.053655,
          19.04957,
          19.048336,
          19.042594,
          19.032434,
          19.028906,
          19.02311,
          19.023388,
          19.029635,
          19.033309,
          19.043363,
          19.048509,
          19.049756,
          19.054384,
          19.0605,
          19.073486,
          19.084482,
          19.089313,
          19.096118,
          19.099288,
          19.103619,
          19.107515,
          19.023388,
          19.029635,
          19.033309,
          19.043363,
          19.048509,
          19.049756,
          19.054384,
          19.0605,
          19.073486,
          19.084482,
          19.089313,
          19.096118,
          19.099288,
          19.023388,
          19.029635,
          19.033309,
          19.043363,
          19.048509,
          19.049756,
          19.054384,
          19.0605,
          19.073486,
          19.084482,
          19.089313,
          19.02937,
          19.034772,
          19.040538,
          19.045937,
          19.059532,
          19.066119,
          19.070699,
          19.077524,
          19.081478,
          19.088565,
          19.091909,
          19.096261,
          19.09958,
          19.104445,
          19.108151,
          19.109078,
          19.10891,
          19.107077,
          19.103174,
          19.098907,
          19.095534,
          19.088529,
          19.083728,
          19.072756,
          19.059717,
          19.053655,
          19.04957,
          19.048336,
          19.042594,
          19.032434,
          19.028906,
          19.02311,
          19.023388,
          19.029635,
          19.033309,
          19.043363,
          19.048509,
          19.049756,
          19.054384,
          19.0605,
          19.073486
         ],
         "name": "",
         "radius": 5,
         "subplot": "mapbox",
         "type": "densitymapbox"
        },
        {
         "lat": [
          47.47277215114886
         ],
         "lon": [
          19.060034103922074
         ],
         "marker": {
          "color": "rgb(0, 144, 144)",
          "opacity": 0.7,
          "size": 10
         },
         "text": [
          "BME I Epulet"
         ],
         "type": "scattermapbox"
        }
       ],
       "layout": {
        "coloraxis": {
         "colorscale": [
          [
           0,
           "#0d0887"
          ],
          [
           0.1111111111111111,
           "#46039f"
          ],
          [
           0.2222222222222222,
           "#7201a8"
          ],
          [
           0.3333333333333333,
           "#9c179e"
          ],
          [
           0.4444444444444444,
           "#bd3786"
          ],
          [
           0.5555555555555556,
           "#d8576b"
          ],
          [
           0.6666666666666666,
           "#ed7953"
          ],
          [
           0.7777777777777778,
           "#fb9f3a"
          ],
          [
           0.8888888888888888,
           "#fdca26"
          ],
          [
           1,
           "#f0f921"
          ]
         ]
        },
        "legend": {
         "tracegroupgap": 0
        },
        "mapbox": {
         "center": {
          "lat": 47.48131481337209,
          "lon": 19.053682575581394
         },
         "domain": {
          "x": [
           0,
           1
          ],
          "y": [
           0,
           1
          ]
         },
         "layers": [
          {
           "coordinates": [
            [
             18.95864366,
             47.3883024645
            ],
            [
             19.13978234,
             47.3883024645
            ],
            [
             19.13978234,
             47.5450745355
            ],
            [
             18.95864366,
             47.5450745355
            ]
           ],
           "source": "data:image/png;base64,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",
           "sourcetype": "image"
          }
         ],
         "style": "carto-darkmatter",
         "zoom": 12
        },
        "margin": {
         "t": 60
        },
        "template": {
         "data": {
          "bar": [
           {
            "error_x": {
             "color": "#2a3f5f"
            },
            "error_y": {
             "color": "#2a3f5f"
            },
            "marker": {
             "line": {
              "color": "#E5ECF6",
              "width": 0.5
             },
             "pattern": {
              "fillmode": "overlay",
              "size": 10,
              "solidity": 0.2
             }
            },
            "type": "bar"
           }
          ],
          "barpolar": [
           {
            "marker": {
             "line": {
              "color": "#E5ECF6",
              "width": 0.5
             },
             "pattern": {
              "fillmode": "overlay",
              "size": 10,
              "solidity": 0.2
             }
            },
            "type": "barpolar"
           }
          ],
          "carpet": [
           {
            "aaxis": {
             "endlinecolor": "#2a3f5f",
             "gridcolor": "white",
             "linecolor": "white",
             "minorgridcolor": "white",
             "startlinecolor": "#2a3f5f"
            },
            "baxis": {
             "endlinecolor": "#2a3f5f",
             "gridcolor": "white",
             "linecolor": "white",
             "minorgridcolor": "white",
             "startlinecolor": "#2a3f5f"
            },
            "type": "carpet"
           }
          ],
          "choropleth": [
           {
            "colorbar": {
             "outlinewidth": 0,
             "ticks": ""
            },
            "type": "choropleth"
           }
          ],
          "contour": [
           {
            "colorbar": {
             "outlinewidth": 0,
             "ticks": ""
            },
            "colorscale": [
             [
              0,
              "#0d0887"
             ],
             [
              0.1111111111111111,
              "#46039f"
             ],
             [
              0.2222222222222222,
              "#7201a8"
             ],
             [
              0.3333333333333333,
              "#9c179e"
             ],
             [
              0.4444444444444444,
              "#bd3786"
             ],
             [
              0.5555555555555556,
              "#d8576b"
             ],
             [
              0.6666666666666666,
              "#ed7953"
             ],
             [
              0.7777777777777778,
              "#fb9f3a"
             ],
             [
              0.8888888888888888,
              "#fdca26"
             ],
             [
              1,
              "#f0f921"
             ]
            ],
            "type": "contour"
           }
          ],
          "contourcarpet": [
           {
            "colorbar": {
             "outlinewidth": 0,
             "ticks": ""
            },
            "type": "contourcarpet"
           }
          ],
          "heatmap": [
           {
            "colorbar": {
             "outlinewidth": 0,
             "ticks": ""
            },
            "colorscale": [
             [
              0,
              "#0d0887"
             ],
             [
              0.1111111111111111,
              "#46039f"
             ],
             [
              0.2222222222222222,
              "#7201a8"
             ],
             [
              0.3333333333333333,
              "#9c179e"
             ],
             [
              0.4444444444444444,
              "#bd3786"
             ],
             [
              0.5555555555555556,
              "#d8576b"
             ],
             [
              0.6666666666666666,
              "#ed7953"
             ],
             [
              0.7777777777777778,
              "#fb9f3a"
             ],
             [
              0.8888888888888888,
              "#fdca26"
             ],
             [
              1,
              "#f0f921"
             ]
            ],
            "type": "heatmap"
           }
          ],
          "heatmapgl": [
           {
            "colorbar": {
             "outlinewidth": 0,
             "ticks": ""
            },
            "colorscale": [
             [
              0,
              "#0d0887"
             ],
             [
              0.1111111111111111,
              "#46039f"
             ],
             [
              0.2222222222222222,
              "#7201a8"
             ],
             [
              0.3333333333333333,
              "#9c179e"
             ],
             [
              0.4444444444444444,
              "#bd3786"
             ],
             [
              0.5555555555555556,
              "#d8576b"
             ],
             [
              0.6666666666666666,
              "#ed7953"
             ],
             [
              0.7777777777777778,
              "#fb9f3a"
             ],
             [
              0.8888888888888888,
              "#fdca26"
             ],
             [
              1,
              "#f0f921"
             ]
            ],
            "type": "heatmapgl"
           }
          ],
          "histogram": [
           {
            "marker": {
             "pattern": {
              "fillmode": "overlay",
              "size": 10,
              "solidity": 0.2
             }
            },
            "type": "histogram"
           }
          ],
          "histogram2d": [
           {
            "colorbar": {
             "outlinewidth": 0,
             "ticks": ""
            },
            "colorscale": [
             [
              0,
              "#0d0887"
             ],
             [
              0.1111111111111111,
              "#46039f"
             ],
             [
              0.2222222222222222,
              "#7201a8"
             ],
             [
              0.3333333333333333,
              "#9c179e"
             ],
             [
              0.4444444444444444,
              "#bd3786"
             ],
             [
              0.5555555555555556,
              "#d8576b"
             ],
             [
              0.6666666666666666,
              "#ed7953"
             ],
             [
              0.7777777777777778,
              "#fb9f3a"
             ],
             [
              0.8888888888888888,
              "#fdca26"
             ],
             [
              1,
              "#f0f921"
             ]
            ],
            "type": "histogram2d"
           }
          ],
          "histogram2dcontour": [
           {
            "colorbar": {
             "outlinewidth": 0,
             "ticks": ""
            },
            "colorscale": [
             [
              0,
              "#0d0887"
             ],
             [
              0.1111111111111111,
              "#46039f"
             ],
             [
              0.2222222222222222,
              "#7201a8"
             ],
             [
              0.3333333333333333,
              "#9c179e"
             ],
             [
              0.4444444444444444,
              "#bd3786"
             ],
             [
              0.5555555555555556,
              "#d8576b"
             ],
             [
              0.6666666666666666,
              "#ed7953"
             ],
             [
              0.7777777777777778,
              "#fb9f3a"
             ],
             [
              0.8888888888888888,
              "#fdca26"
             ],
             [
              1,
              "#f0f921"
             ]
            ],
            "type": "histogram2dcontour"
           }
          ],
          "mesh3d": [
           {
            "colorbar": {
             "outlinewidth": 0,
             "ticks": ""
            },
            "type": "mesh3d"
           }
          ],
          "parcoords": [
           {
            "line": {
             "colorbar": {
              "outlinewidth": 0,
              "ticks": ""
             }
            },
            "type": "parcoords"
           }
          ],
          "pie": [
           {
            "automargin": true,
            "type": "pie"
           }
          ],
          "scatter": [
           {
            "fillpattern": {
             "fillmode": "overlay",
             "size": 10,
             "solidity": 0.2
            },
            "type": "scatter"
           }
          ],
          "scatter3d": [
           {
            "line": {
             "colorbar": {
              "outlinewidth": 0,
              "ticks": ""
             }
            },
            "marker": {
             "colorbar": {
              "outlinewidth": 0,
              "ticks": ""
             }
            },
            "type": "scatter3d"
           }
          ],
          "scattercarpet": [
           {
            "marker": {
             "colorbar": {
              "outlinewidth": 0,
              "ticks": ""
             }
            },
            "type": "scattercarpet"
           }
          ],
          "scattergeo": [
           {
            "marker": {
             "colorbar": {
              "outlinewidth": 0,
              "ticks": ""
             }
            },
            "type": "scattergeo"
           }
          ],
          "scattergl": [
           {
            "marker": {
             "colorbar": {
              "outlinewidth": 0,
              "ticks": ""
             }
            },
            "type": "scattergl"
           }
          ],
          "scattermapbox": [
           {
            "marker": {
             "colorbar": {
              "outlinewidth": 0,
              "ticks": ""
             }
            },
            "type": "scattermapbox"
           }
          ],
          "scatterpolar": [
           {
            "marker": {
             "colorbar": {
              "outlinewidth": 0,
              "ticks": ""
             }
            },
            "type": "scatterpolar"
           }
          ],
          "scatterpolargl": [
           {
            "marker": {
             "colorbar": {
              "outlinewidth": 0,
              "ticks": ""
             }
            },
            "type": "scatterpolargl"
           }
          ],
          "scatterternary": [
           {
            "marker": {
             "colorbar": {
              "outlinewidth": 0,
              "ticks": ""
             }
            },
            "type": "scatterternary"
           }
          ],
          "surface": [
           {
            "colorbar": {
             "outlinewidth": 0,
             "ticks": ""
            },
            "colorscale": [
             [
              0,
              "#0d0887"
             ],
             [
              0.1111111111111111,
              "#46039f"
             ],
             [
              0.2222222222222222,
              "#7201a8"
             ],
             [
              0.3333333333333333,
              "#9c179e"
             ],
             [
              0.4444444444444444,
              "#bd3786"
             ],
             [
              0.5555555555555556,
              "#d8576b"
             ],
             [
              0.6666666666666666,
              "#ed7953"
             ],
             [
              0.7777777777777778,
              "#fb9f3a"
             ],
             [
              0.8888888888888888,
              "#fdca26"
             ],
             [
              1,
              "#f0f921"
             ]
            ],
            "type": "surface"
           }
          ],
          "table": [
           {
            "cells": {
             "fill": {
              "color": "#EBF0F8"
             },
             "line": {
              "color": "white"
             }
            },
            "header": {
             "fill": {
              "color": "#C8D4E3"
             },
             "line": {
              "color": "white"
             }
            },
            "type": "table"
           }
          ]
         },
         "layout": {
          "annotationdefaults": {
           "arrowcolor": "#2a3f5f",
           "arrowhead": 0,
           "arrowwidth": 1
          },
          "autotypenumbers": "strict",
          "coloraxis": {
           "colorbar": {
            "outlinewidth": 0,
            "ticks": ""
           }
          },
          "colorscale": {
           "diverging": [
            [
             0,
             "#8e0152"
            ],
            [
             0.1,
             "#c51b7d"
            ],
            [
             0.2,
             "#de77ae"
            ],
            [
             0.3,
             "#f1b6da"
            ],
            [
             0.4,
             "#fde0ef"
            ],
            [
             0.5,
             "#f7f7f7"
            ],
            [
             0.6,
             "#e6f5d0"
            ],
            [
             0.7,
             "#b8e186"
            ],
            [
             0.8,
             "#7fbc41"
            ],
            [
             0.9,
             "#4d9221"
            ],
            [
             1,
             "#276419"
            ]
           ],
           "sequential": [
            [
             0,
             "#0d0887"
            ],
            [
             0.1111111111111111,
             "#46039f"
            ],
            [
             0.2222222222222222,
             "#7201a8"
            ],
            [
             0.3333333333333333,
             "#9c179e"
            ],
            [
             0.4444444444444444,
             "#bd3786"
            ],
            [
             0.5555555555555556,
             "#d8576b"
            ],
            [
             0.6666666666666666,
             "#ed7953"
            ],
            [
             0.7777777777777778,
             "#fb9f3a"
            ],
            [
             0.8888888888888888,
             "#fdca26"
            ],
            [
             1,
             "#f0f921"
            ]
           ],
           "sequentialminus": [
            [
             0,
             "#0d0887"
            ],
            [
             0.1111111111111111,
             "#46039f"
            ],
            [
             0.2222222222222222,
             "#7201a8"
            ],
            [
             0.3333333333333333,
             "#9c179e"
            ],
            [
             0.4444444444444444,
             "#bd3786"
            ],
            [
             0.5555555555555556,
             "#d8576b"
            ],
            [
             0.6666666666666666,
             "#ed7953"
            ],
            [
             0.7777777777777778,
             "#fb9f3a"
            ],
            [
             0.8888888888888888,
             "#fdca26"
            ],
            [
             1,
             "#f0f921"
            ]
           ]
          },
          "colorway": [
           "#636efa",
           "#EF553B",
           "#00cc96",
           "#ab63fa",
           "#FFA15A",
           "#19d3f3",
           "#FF6692",
           "#B6E880",
           "#FF97FF",
           "#FECB52"
          ],
          "font": {
           "color": "#2a3f5f"
          },
          "geo": {
           "bgcolor": "white",
           "lakecolor": "white",
           "landcolor": "#E5ECF6",
           "showlakes": true,
           "showland": true,
           "subunitcolor": "white"
          },
          "hoverlabel": {
           "align": "left"
          },
          "hovermode": "closest",
          "mapbox": {
           "style": "light"
          },
          "paper_bgcolor": "white",
          "plot_bgcolor": "#E5ECF6",
          "polar": {
           "angularaxis": {
            "gridcolor": "white",
            "linecolor": "white",
            "ticks": ""
           },
           "bgcolor": "#E5ECF6",
           "radialaxis": {
            "gridcolor": "white",
            "linecolor": "white",
            "ticks": ""
           }
          },
          "scene": {
           "xaxis": {
            "backgroundcolor": "#E5ECF6",
            "gridcolor": "white",
            "gridwidth": 2,
            "linecolor": "white",
            "showbackground": true,
            "ticks": "",
            "zerolinecolor": "white"
           },
           "yaxis": {
            "backgroundcolor": "#E5ECF6",
            "gridcolor": "white",
            "gridwidth": 2,
            "linecolor": "white",
            "showbackground": true,
            "ticks": "",
            "zerolinecolor": "white"
           },
           "zaxis": {
            "backgroundcolor": "#E5ECF6",
            "gridcolor": "white",
            "gridwidth": 2,
            "linecolor": "white",
            "showbackground": true,
            "ticks": "",
            "zerolinecolor": "white"
           }
          },
          "shapedefaults": {
           "line": {
            "color": "#2a3f5f"
           }
          },
          "ternary": {
           "aaxis": {
            "gridcolor": "white",
            "linecolor": "white",
            "ticks": ""
           },
           "baxis": {
            "gridcolor": "white",
            "linecolor": "white",
            "ticks": ""
           },
           "bgcolor": "#E5ECF6",
           "caxis": {
            "gridcolor": "white",
            "linecolor": "white",
            "ticks": ""
           }
          },
          "title": {
           "x": 0.05
          },
          "xaxis": {
           "automargin": true,
           "gridcolor": "white",
           "linecolor": "white",
           "ticks": "",
           "title": {
            "standoff": 15
           },
           "zerolinecolor": "white",
           "zerolinewidth": 2
          },
          "yaxis": {
           "automargin": true,
           "gridcolor": "white",
           "linecolor": "white",
           "ticks": "",
           "title": {
            "standoff": 15
           },
           "zerolinecolor": "white",
           "zerolinewidth": 2
          }
         }
        }
       }
      }
     },
     "metadata": {},
     "output_type": "display_data"
    }
   ],
   "source": [
    "#import pandas as pd\n",
    "#!pip install plotly\n",
    "import plotly.express as px\n",
    "geometry_df=geometry_df.query('time_to_school>=0')\n",
    "dff = geometry_df.query('y_coor < 47.548766').query('y_coor > 47.387982').query('x_coor > 18.954419').query('x_coor < 19.142015').query('time_to_school>10')\n",
    "#bme_i = 47.47277215114886, 19.060034103922074\n",
    "import plotly\n",
    "#datashader steps\n",
    "cvs = ds.Canvas(plot_width=1000, plot_height=1000)\n",
    "agg = cvs.points(dff, x='x_coor', y='y_coor')\n",
    "# agg is an xarray object, see http://xarray.pydata.org/en/stable/ for more details\n",
    "coords_lat, coords_lon = agg.coords['y_coor'].values, agg.coords['x_coor'].values\n",
    "# Corners of the image, which need to be passed to mapbox\n",
    "coordinates = [[coords_lon[0], coords_lat[0]],\n",
    "               [coords_lon[-1], coords_lat[0]],\n",
    "               [coords_lon[-1], coords_lat[-1]],\n",
    "               [coords_lon[0], coords_lat[-1]]]\n",
    "\n",
    "from colorcet import fire\n",
    "import plotly.graph_objects as go\n",
    "import datashader.transfer_functions as tf\n",
    "img = tf.shade(agg, cmap=fire)[::-1].to_pil()\n",
    "\n",
    "import plotly.express as px\n",
    "# Trick to create rapidly a figure with mapbox axes\n",
    "fig = px.density_mapbox(geometry_df, lat=geometry_df.y_coor, lon= geometry_df.x_coor,zoom=12, hover_name='stop_name', \n",
    "                        hover_data=[\"x_coor\", \"y_coor\",'time_to_school','get_on'], radius=5 )\n",
    "#labels={'get_on':'get_on', 'time_to_school':'time_to_school'}\n",
    "'''\n",
    "fig = go.Densitymapbox(geometry_df, lat=geometry_df.y_coor, long= geometry_df.x_coor, hover_name='stop_name', \n",
    "                        hover_data=[\"x_coor\", \"y_coor\"], labels={'get_on':'get on', 'time_to_school':'time to school'})\n",
    "'''\n",
    "#point to BME\n",
    "fig.add_trace(go.Scattermapbox(\n",
    "        lat=[47.47277215114886],\n",
    "        lon=[19.060034103922074],\n",
    "        marker=go.scattermapbox.Marker(\n",
    "            size=10,\n",
    "            color='rgb(0, 144, 144)',\n",
    "            opacity=0.7\n",
    "        ),\n",
    "        text=[\"BME I Epulet\"],\n",
    "    ) )\n",
    "# Add the datashader image as a mapbox layer image\n",
    "fig.update_layout(mapbox_style=\"carto-darkmatter\",\n",
    "                 mapbox_layers = [\n",
    "                {\n",
    "                    \"sourcetype\": \"image\",\n",
    "                    \"source\": img,\n",
    "                    \"coordinates\": coordinates\n",
    "                }]\n",
    ")\n",
    "fig.show()"
   ]
  },
  {
   "cell_type": "code",
   "execution_count": 63,
   "metadata": {},
   "outputs": [],
   "source": [
    "#almost works, just leave it here just in case\n",
    "#import zipfile\n",
    "#with zipfile.ZipFile('map.zip', 'r') as zip_ref:\n",
    "#    zip_ref.extractall()\n",
    "#xml = pd.read_xml('map.xml')\n",
    "#background = 'black'\n",
    "#export = partial(export_image, export_path=\"export\", background=background)\n",
    "#cm = partial(colormap_select)\n",
    "#reverse=(background=='black')\n",
    "#cvs_bp = ds.Canvas(plot_width=plot_width, plot_height=plot_height, x_range=x_range, y_range=y_range)\n",
    "#agg_bp = cvs_bp.points(xml, 'lon', 'lat')\n",
    "#img_bp = tr_fns.shade(agg, cmap=[\"white\", 'darkblue'], how='linear')\n",
    "#tiles = \"BP_grey.png\"\n",
    "\n",
    "#export(create_image(*BP), \"BP_hot\")\n",
    "#(p, create_image)\n",
    "#bp=ds.tf.set_background(ds.tf.shade(agg_bp, cmap=cm(cc.gray,0.2)), \"black\")\n",
    "#lines=ds.tf.set_background(ds.tf.shade(agg, cmap=cm(cc.fire,0.1)),)\n",
    "#\n",
    "#pls=np.multiply(bp,lines)\n",
    "#bp*lines\n",
    "#looks cool: rainbow, coolwarm, bgy\n",
    "#\n",
    "#export(tf.shade(agg, cmap = cm(Greys9,0.01), how='linear'),\"census_gray_linear\")\n",
    "#export(tf.shade(agg, cmap = cm(Greys9,0.01), how='log'),\"census_gray_log\")\n",
    "#export(tf.shade(agg, cmap = cm(Greys9,0.2), how='eq_hist'),\"census_gray_eq_hist\")\n",
    "#export(tf.shade(agg, cmap = cm(cc.fire,0.01), how='linear'),\"lines_fire\")\n",
    "#tf.Images(tf.shade(agg, name=\"lines\"), \n",
    "#          tf.shade(agg_bp, name=\"bp\"))\n"
   ]
  }
 ],
 "metadata": {
  "kernelspec": {
   "display_name": "Python 3.9.7 ('normal')",
   "language": "python",
   "name": "python3"
  },
  "language_info": {
   "codemirror_mode": {
    "name": "ipython",
    "version": 3
   },
   "file_extension": ".py",
   "mimetype": "text/x-python",
   "name": "python",
   "nbconvert_exporter": "python",
   "pygments_lexer": "ipython3",
   "version": "3.9.7"
  },
  "orig_nbformat": 4,
  "vscode": {
   "interpreter": {
    "hash": "8038cdc23f41cee8615fd8842763c2512c73bc7422dce11a29daf2d2b007f171"
   }
  }
 },
 "nbformat": 4,
 "nbformat_minor": 2
}
