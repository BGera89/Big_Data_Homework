{
 "cells": [
  {
   "cell_type": "code",
   "execution_count": 4,
   "metadata": {},
   "outputs": [],
   "source": [
    "import matplotlib.pyplot as plt\n",
    "import numpy as np\n",
    "import math\n",
    "import geopy.distance\n",
    "import pandas as pd\n",
    "\n",
    "import pandas_profiling"
   ]
  },
  {
   "cell_type": "code",
   "execution_count": 2,
   "metadata": {},
   "outputs": [
    {
     "name": "stderr",
     "output_type": "stream",
     "text": [
      "WARNING: You are using pip version 21.3.1; however, version 22.3.1 is available.\n",
      "You should consider upgrading via the 'C:\\Users\\User\\anaconda3\\envs\\normal\\python.exe -m pip install --upgrade pip' command.\n"
     ]
    },
    {
     "name": "stdout",
     "output_type": "stream",
     "text": [
      "Collecting pandas_profiling\n",
      "  Downloading pandas_profiling-3.5.0-py2.py3-none-any.whl (325 kB)\n",
      "Requirement already satisfied: numpy<1.24,>=1.16.0 in c:\\users\\user\\anaconda3\\envs\\normal\\lib\\site-packages (from pandas_profiling) (1.21.3)\n",
      "Collecting phik<0.13,>=0.11.1\n",
      "  Downloading phik-0.12.2-cp39-cp39-win_amd64.whl (685 kB)\n",
      "Collecting typeguard<2.14,>=2.13.2\n",
      "  Downloading typeguard-2.13.3-py3-none-any.whl (17 kB)\n",
      "Collecting pydantic<1.11,>=1.8.1\n",
      "  Downloading pydantic-1.10.2-cp39-cp39-win_amd64.whl (2.1 MB)\n",
      "Requirement already satisfied: pandas!=1.4.0,<1.6,>1.1 in c:\\users\\user\\anaconda3\\envs\\normal\\lib\\site-packages (from pandas_profiling) (1.3.4)\n",
      "Requirement already satisfied: matplotlib<3.7,>=3.2 in c:\\users\\user\\anaconda3\\envs\\normal\\lib\\site-packages (from pandas_profiling) (3.4.3)\n",
      "Requirement already satisfied: seaborn<0.13,>=0.10.1 in c:\\users\\user\\anaconda3\\envs\\normal\\lib\\site-packages (from pandas_profiling) (0.11.2)\n",
      "Requirement already satisfied: requests<2.29,>=2.24.0 in c:\\users\\user\\anaconda3\\envs\\normal\\lib\\site-packages (from pandas_profiling) (2.27.1)\n",
      "Requirement already satisfied: scipy<1.10,>=1.4.1 in c:\\users\\user\\anaconda3\\envs\\normal\\lib\\site-packages (from pandas_profiling) (1.7.2)\n",
      "Requirement already satisfied: statsmodels<0.14,>=0.13.2 in c:\\users\\user\\anaconda3\\envs\\normal\\lib\\site-packages (from pandas_profiling) (0.13.5)\n",
      "Collecting htmlmin==0.1.12\n",
      "  Downloading htmlmin-0.1.12.tar.gz (19 kB)\n",
      "  Preparing metadata (setup.py): started\n",
      "  Preparing metadata (setup.py): finished with status 'done'\n",
      "Requirement already satisfied: PyYAML<6.1,>=5.0.0 in c:\\users\\user\\anaconda3\\envs\\normal\\lib\\site-packages (from pandas_profiling) (6.0)\n",
      "Collecting multimethod<1.10,>=1.4\n",
      "  Downloading multimethod-1.9-py3-none-any.whl (10 kB)\n",
      "Requirement already satisfied: jinja2<3.2,>=2.11.1 in c:\\users\\user\\anaconda3\\envs\\normal\\lib\\site-packages (from pandas_profiling) (3.0.1)\n",
      "Requirement already satisfied: tqdm<4.65,>=4.48.2 in c:\\users\\user\\anaconda3\\envs\\normal\\lib\\site-packages (from pandas_profiling) (4.62.3)\n",
      "Collecting visions[type_image_path]==0.7.5\n",
      "  Downloading visions-0.7.5-py3-none-any.whl (102 kB)\n",
      "Collecting tangled-up-in-unicode>=0.0.4\n",
      "  Downloading tangled_up_in_unicode-0.2.0-py3-none-any.whl (4.7 MB)\n",
      "Requirement already satisfied: attrs>=19.3.0 in c:\\users\\user\\anaconda3\\envs\\normal\\lib\\site-packages (from visions[type_image_path]==0.7.5->pandas_profiling) (21.2.0)\n",
      "Requirement already satisfied: networkx>=2.4 in c:\\users\\user\\anaconda3\\envs\\normal\\lib\\site-packages (from visions[type_image_path]==0.7.5->pandas_profiling) (2.8.8)\n",
      "Requirement already satisfied: Pillow in c:\\users\\user\\anaconda3\\envs\\normal\\lib\\site-packages (from visions[type_image_path]==0.7.5->pandas_profiling) (8.4.0)\n",
      "Collecting imagehash\n",
      "  Downloading ImageHash-4.3.1-py2.py3-none-any.whl (296 kB)\n",
      "Requirement already satisfied: MarkupSafe>=2.0 in c:\\users\\user\\anaconda3\\envs\\normal\\lib\\site-packages (from jinja2<3.2,>=2.11.1->pandas_profiling) (2.0.1)\n",
      "Requirement already satisfied: cycler>=0.10 in c:\\users\\user\\anaconda3\\envs\\normal\\lib\\site-packages (from matplotlib<3.7,>=3.2->pandas_profiling) (0.11.0)\n",
      "Requirement already satisfied: kiwisolver>=1.0.1 in c:\\users\\user\\anaconda3\\envs\\normal\\lib\\site-packages (from matplotlib<3.7,>=3.2->pandas_profiling) (1.3.2)\n",
      "Requirement already satisfied: python-dateutil>=2.7 in c:\\users\\user\\anaconda3\\envs\\normal\\lib\\site-packages (from matplotlib<3.7,>=3.2->pandas_profiling) (2.8.2)\n",
      "Requirement already satisfied: pyparsing>=2.2.1 in c:\\users\\user\\anaconda3\\envs\\normal\\lib\\site-packages (from matplotlib<3.7,>=3.2->pandas_profiling) (2.4.7)\n",
      "Requirement already satisfied: pytz>=2017.3 in c:\\users\\user\\anaconda3\\envs\\normal\\lib\\site-packages (from pandas!=1.4.0,<1.6,>1.1->pandas_profiling) (2021.3)\n",
      "Requirement already satisfied: joblib>=0.14.1 in c:\\users\\user\\anaconda3\\envs\\normal\\lib\\site-packages (from phik<0.13,>=0.11.1->pandas_profiling) (1.1.0)\n",
      "Requirement already satisfied: typing-extensions>=4.1.0 in c:\\users\\user\\anaconda3\\envs\\normal\\lib\\site-packages (from pydantic<1.11,>=1.8.1->pandas_profiling) (4.4.0)\n",
      "Requirement already satisfied: idna<4,>=2.5 in c:\\users\\user\\anaconda3\\envs\\normal\\lib\\site-packages (from requests<2.29,>=2.24.0->pandas_profiling) (3.3)\n",
      "Requirement already satisfied: certifi>=2017.4.17 in c:\\users\\user\\anaconda3\\envs\\normal\\lib\\site-packages (from requests<2.29,>=2.24.0->pandas_profiling) (2021.10.8)\n",
      "Requirement already satisfied: charset-normalizer~=2.0.0 in c:\\users\\user\\anaconda3\\envs\\normal\\lib\\site-packages (from requests<2.29,>=2.24.0->pandas_profiling) (2.0.10)\n",
      "Requirement already satisfied: urllib3<1.27,>=1.21.1 in c:\\users\\user\\anaconda3\\envs\\normal\\lib\\site-packages (from requests<2.29,>=2.24.0->pandas_profiling) (1.26.8)\n",
      "Requirement already satisfied: patsy>=0.5.2 in c:\\users\\user\\anaconda3\\envs\\normal\\lib\\site-packages (from statsmodels<0.14,>=0.13.2->pandas_profiling) (0.5.2)\n",
      "Requirement already satisfied: packaging>=21.3 in c:\\users\\user\\anaconda3\\envs\\normal\\lib\\site-packages (from statsmodels<0.14,>=0.13.2->pandas_profiling) (21.3)\n",
      "Requirement already satisfied: colorama in c:\\users\\user\\anaconda3\\envs\\normal\\lib\\site-packages (from tqdm<4.65,>=4.48.2->pandas_profiling) (0.4.4)\n",
      "Requirement already satisfied: six in c:\\users\\user\\anaconda3\\envs\\normal\\lib\\site-packages (from patsy>=0.5.2->statsmodels<0.14,>=0.13.2->pandas_profiling) (1.16.0)\n",
      "Collecting PyWavelets\n",
      "  Downloading PyWavelets-1.4.1-cp39-cp39-win_amd64.whl (4.2 MB)\n",
      "Building wheels for collected packages: htmlmin\n",
      "  Building wheel for htmlmin (setup.py): started\n",
      "  Building wheel for htmlmin (setup.py): finished with status 'done'\n",
      "  Created wheel for htmlmin: filename=htmlmin-0.1.12-py3-none-any.whl size=27098 sha256=9e69d153e9be7ad1c84789ab3f0c01b2030d164683609c3c8c094c36986a489f\n",
      "  Stored in directory: c:\\users\\user\\appdata\\local\\pip\\cache\\wheels\\1d\\05\\04\\c6d7d3b66539d9e659ac6dfe81e2d0fd4c1a8316cc5a403300\n",
      "Successfully built htmlmin\n",
      "Installing collected packages: tangled-up-in-unicode, PyWavelets, multimethod, visions, imagehash, typeguard, pydantic, phik, htmlmin, pandas-profiling\n",
      "Successfully installed PyWavelets-1.4.1 htmlmin-0.1.12 imagehash-4.3.1 multimethod-1.9 pandas-profiling-3.5.0 phik-0.12.2 pydantic-1.10.2 tangled-up-in-unicode-0.2.0 typeguard-2.13.3 visions-0.7.5\n",
      "Collecting pandas-profiling\n",
      "  Using cached pandas_profiling-3.5.0-py2.py3-none-any.whl (325 kB)\n",
      "Requirement already satisfied: matplotlib<3.7,>=3.2 in c:\\users\\user\\anaconda3\\envs\\normal\\lib\\site-packages (from pandas-profiling) (3.4.3)\n",
      "Collecting htmlmin==0.1.12\n",
      "  Using cached htmlmin-0.1.12-py3-none-any.whl\n",
      "Collecting pydantic<1.11,>=1.8.1\n",
      "  Using cached pydantic-1.10.2-cp39-cp39-win_amd64.whl (2.1 MB)\n",
      "Requirement already satisfied: scipy<1.10,>=1.4.1 in c:\\users\\user\\anaconda3\\envs\\normal\\lib\\site-packages (from pandas-profiling) (1.7.2)\n",
      "Requirement already satisfied: pandas!=1.4.0,<1.6,>1.1 in c:\\users\\user\\anaconda3\\envs\\normal\\lib\\site-packages (from pandas-profiling) (1.3.4)\n",
      "Requirement already satisfied: statsmodels<0.14,>=0.13.2 in c:\\users\\user\\anaconda3\\envs\\normal\\lib\\site-packages (from pandas-profiling) (0.13.5)\n",
      "Collecting visions[type_image_path]==0.7.5\n",
      "  Using cached visions-0.7.5-py3-none-any.whl (102 kB)\n",
      "Requirement already satisfied: PyYAML<6.1,>=5.0.0 in c:\\users\\user\\anaconda3\\envs\\normal\\lib\\site-packages (from pandas-profiling) (6.0)\n",
      "Requirement already satisfied: tqdm<4.65,>=4.48.2 in c:\\users\\user\\anaconda3\\envs\\normal\\lib\\site-packages (from pandas-profiling) (4.62.3)\n",
      "Requirement already satisfied: jinja2<3.2,>=2.11.1 in c:\\users\\user\\anaconda3\\envs\\normal\\lib\\site-packages (from pandas-profiling) (3.0.1)\n",
      "Requirement already satisfied: numpy<1.24,>=1.16.0 in c:\\users\\user\\anaconda3\\envs\\normal\\lib\\site-packages (from pandas-profiling) (1.21.3)\n",
      "Collecting typeguard<2.14,>=2.13.2\n",
      "  Using cached typeguard-2.13.3-py3-none-any.whl (17 kB)\n",
      "Requirement already satisfied: seaborn<0.13,>=0.10.1 in c:\\users\\user\\anaconda3\\envs\\normal\\lib\\site-packages (from pandas-profiling) (0.11.2)\n",
      "Collecting phik<0.13,>=0.11.1\n",
      "  Using cached phik-0.12.2-cp39-cp39-win_amd64.whl (685 kB)\n",
      "Collecting multimethod<1.10,>=1.4\n",
      "  Using cached multimethod-1.9-py3-none-any.whl (10 kB)\n",
      "Requirement already satisfied: requests<2.29,>=2.24.0 in c:\\users\\user\\anaconda3\\envs\\normal\\lib\\site-packages (from pandas-profiling) (2.27.1)\n",
      "Requirement already satisfied: tangled-up-in-unicode>=0.0.4 in c:\\users\\user\\anaconda3\\envs\\normal\\lib\\site-packages (from visions[type_image_path]==0.7.5->pandas-profiling) (0.2.0)\n",
      "Requirement already satisfied: attrs>=19.3.0 in c:\\users\\user\\anaconda3\\envs\\normal\\lib\\site-packages (from visions[type_image_path]==0.7.5->pandas-profiling) (21.2.0)\n",
      "Requirement already satisfied: networkx>=2.4 in c:\\users\\user\\anaconda3\\envs\\normal\\lib\\site-packages (from visions[type_image_path]==0.7.5->pandas-profiling) (2.8.8)\n",
      "Requirement already satisfied: Pillow in c:\\users\\user\\anaconda3\\envs\\normal\\lib\\site-packages (from visions[type_image_path]==0.7.5->pandas-profiling) (8.4.0)\n",
      "Collecting imagehash\n",
      "  Using cached ImageHash-4.3.1-py2.py3-none-any.whl (296 kB)\n",
      "Requirement already satisfied: MarkupSafe>=2.0 in c:\\users\\user\\anaconda3\\envs\\normal\\lib\\site-packages (from jinja2<3.2,>=2.11.1->pandas-profiling) (2.0.1)\n",
      "Requirement already satisfied: pyparsing>=2.2.1 in c:\\users\\user\\anaconda3\\envs\\normal\\lib\\site-packages (from matplotlib<3.7,>=3.2->pandas-profiling) (2.4.7)\n",
      "Requirement already satisfied: kiwisolver>=1.0.1 in c:\\users\\user\\anaconda3\\envs\\normal\\lib\\site-packages (from matplotlib<3.7,>=3.2->pandas-profiling) (1.3.2)\n",
      "Requirement already satisfied: cycler>=0.10 in c:\\users\\user\\anaconda3\\envs\\normal\\lib\\site-packages (from matplotlib<3.7,>=3.2->pandas-profiling) (0.11.0)\n",
      "Requirement already satisfied: python-dateutil>=2.7 in c:\\users\\user\\anaconda3\\envs\\normal\\lib\\site-packages (from matplotlib<3.7,>=3.2->pandas-profiling) (2.8.2)\n",
      "Requirement already satisfied: pytz>=2017.3 in c:\\users\\user\\anaconda3\\envs\\normal\\lib\\site-packages (from pandas!=1.4.0,<1.6,>1.1->pandas-profiling) (2021.3)\n",
      "Requirement already satisfied: joblib>=0.14.1 in c:\\users\\user\\anaconda3\\envs\\normal\\lib\\site-packages (from phik<0.13,>=0.11.1->pandas-profiling) (1.1.0)\n",
      "Requirement already satisfied: typing-extensions>=4.1.0 in c:\\users\\user\\anaconda3\\envs\\normal\\lib\\site-packages (from pydantic<1.11,>=1.8.1->pandas-profiling) (4.4.0)\n",
      "Requirement already satisfied: urllib3<1.27,>=1.21.1 in c:\\users\\user\\anaconda3\\envs\\normal\\lib\\site-packages (from requests<2.29,>=2.24.0->pandas-profiling) (1.26.8)\n",
      "Requirement already satisfied: certifi>=2017.4.17 in c:\\users\\user\\anaconda3\\envs\\normal\\lib\\site-packages (from requests<2.29,>=2.24.0->pandas-profiling) (2021.10.8)\n",
      "Requirement already satisfied: charset-normalizer~=2.0.0 in c:\\users\\user\\anaconda3\\envs\\normal\\lib\\site-packages (from requests<2.29,>=2.24.0->pandas-profiling) (2.0.10)\n",
      "Requirement already satisfied: idna<4,>=2.5 in c:\\users\\user\\anaconda3\\envs\\normal\\lib\\site-packages (from requests<2.29,>=2.24.0->pandas-profiling) (3.3)\n",
      "Requirement already satisfied: patsy>=0.5.2 in c:\\users\\user\\anaconda3\\envs\\normal\\lib\\site-packages (from statsmodels<0.14,>=0.13.2->pandas-profiling) (0.5.2)\n",
      "Requirement already satisfied: packaging>=21.3 in c:\\users\\user\\anaconda3\\envs\\normal\\lib\\site-packages (from statsmodels<0.14,>=0.13.2->pandas-profiling) (21.3)\n",
      "Requirement already satisfied: colorama in c:\\users\\user\\anaconda3\\envs\\normal\\lib\\site-packages (from tqdm<4.65,>=4.48.2->pandas-profiling) (0.4.4)\n",
      "Requirement already satisfied: six in c:\\users\\user\\anaconda3\\envs\\normal\\lib\\site-packages (from patsy>=0.5.2->statsmodels<0.14,>=0.13.2->pandas-profiling) (1.16.0)\n",
      "Collecting PyWavelets\n",
      "  Using cached PyWavelets-1.4.1-cp39-cp39-win_amd64.whl (4.2 MB)\n",
      "Installing collected packages: PyWavelets, multimethod, visions, imagehash, typeguard, pydantic, phik, htmlmin, pandas-profiling\n",
      "Successfully installed PyWavelets-1.4.1 htmlmin-0.1.12 imagehash-4.3.1 multimethod-1.9 pandas-profiling-3.5.0 phik-0.12.2 pydantic-1.10.2 typeguard-2.13.3 visions-0.7.5\n"
     ]
    },
    {
     "name": "stderr",
     "output_type": "stream",
     "text": [
      "WARNING: You are using pip version 21.3.1; however, version 22.3.1 is available.\n",
      "You should consider upgrading via the 'C:\\Users\\User\\anaconda3\\envs\\normal\\python.exe -m pip install --upgrade pip' command.\n"
     ]
    }
   ],
   "source": [
    "!pip install pandas-profiling"
   ]
  },
  {
   "cell_type": "code",
   "execution_count": null,
   "metadata": {},
   "outputs": [],
   "source": [
    "lines=pd.read_csv(\"stops_that_intercept_7_8.csv\")\n",
    "\n",
    "profile = lines.profile_report(title=\"<Stops that intercept>\")\n",
    "profile.to_file(output_file=\"<kérlek>.html\")"
   ]
  }
 ],
 "metadata": {
  "kernelspec": {
   "display_name": "big_data",
   "language": "python",
   "name": "python3"
  },
  "language_info": {
   "codemirror_mode": {
    "name": "ipython",
    "version": 3
   },
   "file_extension": ".py",
   "mimetype": "text/x-python",
   "name": "python",
   "nbconvert_exporter": "python",
   "pygments_lexer": "ipython3",
   "version": "3.8.15 (default, Nov 24 2022, 14:38:14) [MSC v.1916 64 bit (AMD64)]"
  },
  "orig_nbformat": 4,
  "vscode": {
   "interpreter": {
    "hash": "9c66590c49899dd7f09d7143b5a8c4d8de5d441384fa672e6232cc9959455d45"
   }
  }
 },
 "nbformat": 4,
 "nbformat_minor": 2
}
